{
  "nbformat": 4,
  "nbformat_minor": 0,
  "metadata": {
    "colab": {
      "private_outputs": true,
      "provenance": [],
      "include_colab_link": true
    },
    "kernelspec": {
      "name": "python3",
      "display_name": "Python 3"
    },
    "language_info": {
      "name": "python"
    }
  },
  "cells": [
    {
      "cell_type": "markdown",
      "metadata": {
        "id": "view-in-github",
        "colab_type": "text"
      },
      "source": [
        "<a href=\"https://colab.research.google.com/github/orin00/colab/blob/main/Pandas_%EC%8B%A4%EC%8A%B5_%EB%AC%B8%EC%A0%9C_1.ipynb\" target=\"_parent\"><img src=\"https://colab.research.google.com/assets/colab-badge.svg\" alt=\"Open In Colab\"/></a>"
      ]
    },
    {
      "cell_type": "markdown",
      "source": [
        "# 데이터 프레임 인덱싱 & 슬라이싱"
      ],
      "metadata": {
        "id": "xSnQJsxF-JSY"
      }
    },
    {
      "cell_type": "markdown",
      "source": [
        "### 1. 다음 데이터를 DataFrame으로 만드시오.\n"
      ],
      "metadata": {
        "id": "_wiCDxyT-RJn"
      }
    },
    {
      "cell_type": "code",
      "execution_count": null,
      "metadata": {
        "id": "gZO42COg-C2z"
      },
      "outputs": [],
      "source": [
        "data = [\n",
        "    [\"037730\", \"3R\", 1510, 7.36],\n",
        "    [\"036360\", \"3SOFT\", 1790, 1.65],\n",
        "    [\"005760\", \"ACTS\", 1185, 1.28],\n",
        "]"
      ]
    },
    {
      "cell_type": "code",
      "source": [],
      "metadata": {
        "id": "PVNN0wr9-b0k"
      },
      "execution_count": null,
      "outputs": []
    },
    {
      "cell_type": "markdown",
      "source": [
        "### 2. 위에서 생성한 데이터의 컬럼을 \"종목코드\", \"종목명\", \"현재가\", \"등락률\" 로 변경하고 \"종목코드\"를 인덱스로 변경하시오.\n"
      ],
      "metadata": {
        "id": "6scFqNFf-cqA"
      }
    },
    {
      "cell_type": "code",
      "source": [],
      "metadata": {
        "id": "tJsb0PEx-9fN"
      },
      "execution_count": null,
      "outputs": []
    },
    {
      "cell_type": "markdown",
      "source": [
        "### 3. \"현재가\" 컬럼을 시리즈 형식으로 출력하고 데이터프레임 형식으로 출력하는 두개의 변수를 만드시오."
      ],
      "metadata": {
        "id": "B0O3zWJx_A63"
      }
    },
    {
      "cell_type": "code",
      "source": [],
      "metadata": {
        "id": "gNlPetNS_OCO"
      },
      "execution_count": null,
      "outputs": []
    },
    {
      "cell_type": "markdown",
      "source": [
        "### 4. 2번에서 생성한 데이터프레임의 첫번째 행과 두번째 행을 슬라이싱 하시오.(iloc)"
      ],
      "metadata": {
        "id": "BGm-HaTh_Oqd"
      }
    },
    {
      "cell_type": "code",
      "source": [],
      "metadata": {
        "id": "1ZShtWnk_p3n"
      },
      "execution_count": null,
      "outputs": []
    },
    {
      "cell_type": "markdown",
      "source": [
        "### 5. 4번과 같은 결과가 출력되도록 loc를 사용하여 슬라이싱 하시오."
      ],
      "metadata": {
        "id": "9OVIxBMg_qW4"
      }
    },
    {
      "cell_type": "code",
      "source": [],
      "metadata": {
        "id": "39UhLMgo_0w-"
      },
      "execution_count": null,
      "outputs": []
    },
    {
      "cell_type": "markdown",
      "source": [
        "### 6. 데이터프레임에서 종목코드가 '037730'인 종목의 종목명, 현재가를 가져오시오.(iloc)"
      ],
      "metadata": {
        "id": "9SxWsHbz_1Il"
      }
    },
    {
      "cell_type": "code",
      "source": [],
      "metadata": {
        "id": "E7Xw1lTrDG5B"
      },
      "execution_count": null,
      "outputs": []
    },
    {
      "cell_type": "markdown",
      "source": [
        "### 7. 위와 같은 결과가 나오도록 loc를 사용하여 인덱싱 하시오."
      ],
      "metadata": {
        "id": "FSswMca-DHei"
      }
    },
    {
      "cell_type": "code",
      "source": [],
      "metadata": {
        "id": "C_PGnqUzDNtK"
      },
      "execution_count": null,
      "outputs": []
    },
    {
      "cell_type": "markdown",
      "source": [
        "### 8. 그림에서 표시한 결과를 가져오도록 iloc와 loc를 사용한 슬라이싱을 하시오."
      ],
      "metadata": {
        "id": "ayBiUdeXDjUm"
      }
    },
    {
      "cell_type": "markdown",
      "source": [
        "![image.png](data:image/png;base64,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)"
      ],
      "metadata": {
        "id": "8-90vzkgDhYy"
      }
    },
    {
      "cell_type": "code",
      "source": [],
      "metadata": {
        "id": "blShapWBDXkL"
      },
      "execution_count": null,
      "outputs": []
    },
    {
      "cell_type": "markdown",
      "source": [
        "### 9. 컬럼추가 다음 데이터 프레임에 \"목표가\" 컬럼을 추가하시오. (목표가는 현재가의 10% 상승된 금액입니다.)"
      ],
      "metadata": {
        "id": "ibABRlSwD_ST"
      }
    },
    {
      "cell_type": "code",
      "source": [],
      "metadata": {
        "id": "juAAyZjNDvvj"
      },
      "execution_count": null,
      "outputs": []
    },
    {
      "cell_type": "markdown",
      "source": [
        "### 10. 다음 데이터를 row에 추가하시오."
      ],
      "metadata": {
        "id": "wJAcRkxBEMEt"
      }
    },
    {
      "cell_type": "code",
      "source": [],
      "metadata": {
        "id": "_i6zp4TdEKzs"
      },
      "execution_count": null,
      "outputs": []
    },
    {
      "cell_type": "markdown",
      "source": [
        "## 비디오게임 데이터"
      ],
      "metadata": {
        "id": "PreE22HpQlBH"
      }
    },
    {
      "cell_type": "markdown",
      "source": [
        "### 'vgsales.csv'파일을 데이터프레임으로 만들고 'Rank'컬럼을 인덱스로 설정하시오."
      ],
      "metadata": {
        "id": "WGvlr-EHFJsR"
      }
    },
    {
      "cell_type": "code",
      "source": [
        "import pandas as pd\n",
        "import numpy as np\n",
        "df = pd.read_csv('vgsales.csv', index_col=('Rank'))\n",
        "df"
      ],
      "metadata": {
        "id": "I4j1rSw5EXoL"
      },
      "execution_count": null,
      "outputs": []
    },
    {
      "cell_type": "markdown",
      "source": [
        "### shape과 head를 확인하고 info 정보를 확인하시오"
      ],
      "metadata": {
        "id": "jeJzOgqjI78-"
      }
    },
    {
      "cell_type": "code",
      "source": [
        "df.shape"
      ],
      "metadata": {
        "id": "gCJJLNBKJDr5"
      },
      "execution_count": null,
      "outputs": []
    },
    {
      "cell_type": "code",
      "source": [
        "df.head()"
      ],
      "metadata": {
        "id": "dnoyWL2ubjei"
      },
      "execution_count": null,
      "outputs": []
    },
    {
      "cell_type": "code",
      "source": [
        "df.info()"
      ],
      "metadata": {
        "id": "omTh7FXJbrWJ"
      },
      "execution_count": null,
      "outputs": []
    },
    {
      "cell_type": "markdown",
      "source": [
        "### describe를 사용해 수치자료와 object 자료의 요약값을 확인하시오."
      ],
      "metadata": {
        "id": "R_n2FAV4JDNc"
      }
    },
    {
      "cell_type": "code",
      "source": [
        "df.describe()"
      ],
      "metadata": {
        "id": "9YSgY0MLJOFi"
      },
      "execution_count": null,
      "outputs": []
    },
    {
      "cell_type": "code",
      "source": [
        "df.describe(include='O')"
      ],
      "metadata": {
        "id": "_5J1-tC8b8ii"
      },
      "execution_count": null,
      "outputs": []
    },
    {
      "cell_type": "code",
      "source": [
        "df.describe(include='all')"
      ],
      "metadata": {
        "id": "z50GtoiwcHC7"
      },
      "execution_count": null,
      "outputs": []
    },
    {
      "cell_type": "markdown",
      "source": [
        "### Global_Sales 컬럼을 기준으로 내림차순 정렬하시오."
      ],
      "metadata": {
        "id": "vEktnek1FvO9"
      }
    },
    {
      "cell_type": "code",
      "source": [
        "df.sort_values('Global_Sales', ascending=False)"
      ],
      "metadata": {
        "id": "uqK1hIBnF1iO"
      },
      "execution_count": null,
      "outputs": []
    },
    {
      "cell_type": "markdown",
      "source": [
        "### Platform과 Global_Sales 컬럼을 기준으로 정렬하고, Platform은 오름차순, Global_Sales는 내림차순 정렬하시오."
      ],
      "metadata": {
        "id": "_clK3TP-F31b"
      }
    },
    {
      "cell_type": "code",
      "source": [
        "df.sort_values(['Platform', 'Global_Sales'], ascending=[True, False])"
      ],
      "metadata": {
        "id": "uUeTZb1LGzn1"
      },
      "execution_count": null,
      "outputs": []
    },
    {
      "cell_type": "markdown",
      "source": [
        "### Year 컬럼의 Null값의 갯수를 확인하고 Null값의 비율을 구하시오."
      ],
      "metadata": {
        "id": "ReLt7IgPGl6p"
      }
    },
    {
      "cell_type": "code",
      "source": [
        "df['Year'].isnull().sum()"
      ],
      "metadata": {
        "id": "I_dPqCpaGID-"
      },
      "execution_count": null,
      "outputs": []
    },
    {
      "cell_type": "code",
      "source": [
        "df['Year'].isnull().mean()"
      ],
      "metadata": {
        "id": "s3DEXtscdxVC"
      },
      "execution_count": null,
      "outputs": []
    },
    {
      "cell_type": "markdown",
      "source": [
        "### Year 컬럼의 값이 NaN인 행을 제거하시오."
      ],
      "metadata": {
        "id": "aNEfqA-UGIqa"
      }
    },
    {
      "cell_type": "code",
      "source": [
        "df.dropna(subset=['Year'], inplace=True)"
      ],
      "metadata": {
        "id": "rryvU7ofGSRm"
      },
      "execution_count": null,
      "outputs": []
    },
    {
      "cell_type": "markdown",
      "source": [
        "### Year 컬럼의 데이터 타입을 int로 변경하시오."
      ],
      "metadata": {
        "id": "Tvcf7sF6GTM9"
      }
    },
    {
      "cell_type": "code",
      "source": [
        "df['Year'] = df['Year'].astype('int')\n",
        "df.dtypes"
      ],
      "metadata": {
        "id": "SYwDtVcoGbzu"
      },
      "execution_count": null,
      "outputs": []
    },
    {
      "cell_type": "markdown",
      "source": [
        "### Genre 컬럼의 각 장르별 개수를 출력하시오."
      ],
      "metadata": {
        "id": "rFMCmyLtGcNJ"
      }
    },
    {
      "cell_type": "code",
      "source": [
        "df['Genre'].value_counts()"
      ],
      "metadata": {
        "id": "PxtTm9ybGiVu"
      },
      "execution_count": null,
      "outputs": []
    },
    {
      "cell_type": "markdown",
      "source": [
        "### 데이터프레임에서 게임 이름(Name)에 'Super Mario'가 포함된 게임들만 선택하시오."
      ],
      "metadata": {
        "id": "PWT9jWTrGi9r"
      }
    },
    {
      "cell_type": "code",
      "source": [
        "cond = df['Name'].str.contains('Super Mario')\n",
        "df[cond]"
      ],
      "metadata": {
        "id": "vWk_WPyqHB2u"
      },
      "execution_count": null,
      "outputs": []
    },
    {
      "cell_type": "markdown",
      "source": [
        "### Platform과 Genre를 그룹화하여 Global_Sales의 합을 구하시오."
      ],
      "metadata": {
        "id": "aKvg3mFvHCaZ"
      }
    },
    {
      "cell_type": "code",
      "source": [
        "df.groupby(['Platform', 'Genre'])[['Global_Sales']].sum()"
      ],
      "metadata": {
        "id": "0BAr8VAJHPpv"
      },
      "execution_count": null,
      "outputs": []
    },
    {
      "cell_type": "markdown",
      "source": [
        "## 주가데이터"
      ],
      "metadata": {
        "id": "5RJvGDZ4Qgz6"
      }
    },
    {
      "cell_type": "code",
      "source": [
        "pip install -U finance-datareader"
      ],
      "metadata": {
        "id": "CssvF6wEIrW4"
      },
      "execution_count": null,
      "outputs": []
    },
    {
      "cell_type": "code",
      "source": [
        "import FinanceDataReader as fdr\n",
        "\n",
        "kospi = fdr.DataReader(\"KS11\", \"2001\")"
      ],
      "metadata": {
        "id": "i6nl16ZVIbIY"
      },
      "execution_count": null,
      "outputs": []
    },
    {
      "cell_type": "markdown",
      "source": [
        "### shape과 head를 확인하고 info 정보를 확인하고 describe를 통해 요약값을 확인하시오."
      ],
      "metadata": {
        "id": "2VAuTXmrJVyO"
      }
    },
    {
      "cell_type": "code",
      "source": [
        "shape"
      ],
      "metadata": {
        "id": "_zkP08vSIfLQ"
      },
      "execution_count": null,
      "outputs": []
    },
    {
      "cell_type": "markdown",
      "source": [
        "### High 컬럼의 최고가를 기록한 날을 출력하시오."
      ],
      "metadata": {
        "id": "Of251saGJg2B"
      }
    },
    {
      "cell_type": "code",
      "source": [],
      "metadata": {
        "id": "uRAKAEUVJSZZ"
      },
      "execution_count": null,
      "outputs": []
    },
    {
      "cell_type": "markdown",
      "source": [
        "### Low 컬럼의 최저가를 기록한 날을 출력하시오."
      ],
      "metadata": {
        "id": "jJGKf-15KAqt"
      }
    },
    {
      "cell_type": "code",
      "source": [],
      "metadata": {
        "id": "pEuN9r-kJsTJ"
      },
      "execution_count": null,
      "outputs": []
    },
    {
      "cell_type": "markdown",
      "source": [
        "### Change라는 컬럼을 만들어 추가하시오. Change 컬럼의 데이터값은 : Close - Open"
      ],
      "metadata": {
        "id": "gdw1IiWBLoMl"
      }
    },
    {
      "cell_type": "code",
      "source": [],
      "metadata": {
        "id": "4MqB6LXNMOnV"
      },
      "execution_count": null,
      "outputs": []
    },
    {
      "cell_type": "code",
      "source": [],
      "metadata": {
        "id": "K5NLZ-c4MmJ6"
      },
      "execution_count": null,
      "outputs": []
    },
    {
      "cell_type": "markdown",
      "source": [
        "### 종가 기준(Close 컬럼)으로 코스피 지수가 3000 포인트를 돌파한 날짜를 구하세요."
      ],
      "metadata": {
        "id": "DldZ3rNwKLOQ"
      }
    },
    {
      "cell_type": "code",
      "source": [],
      "metadata": {
        "id": "J5E9YwkFKJ7S"
      },
      "execution_count": null,
      "outputs": []
    },
    {
      "cell_type": "markdown",
      "source": [
        "### 코스피 지수가 5% 이상 상승한 날의 데이터만 필터링 하시오."
      ],
      "metadata": {
        "id": "qYhte7ObM9Co"
      }
    },
    {
      "cell_type": "code",
      "source": [],
      "metadata": {
        "id": "WXFYFbiZKNby"
      },
      "execution_count": null,
      "outputs": []
    },
    {
      "cell_type": "markdown",
      "source": [
        "### 2001년 이후의 코스피지수 데이터에서 최다 연속 상승일수를 구하세요."
      ],
      "metadata": {
        "id": "xMtm95bsN7L7"
      }
    },
    {
      "cell_type": "code",
      "source": [],
      "metadata": {
        "id": "ZGB_tl5gNQd2"
      },
      "execution_count": null,
      "outputs": []
    },
    {
      "cell_type": "code",
      "source": [],
      "metadata": {
        "id": "5-3NL2yMOOKe"
      },
      "execution_count": null,
      "outputs": []
    }
  ]
}