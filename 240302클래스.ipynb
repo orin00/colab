{
  "nbformat": 4,
  "nbformat_minor": 0,
  "metadata": {
    "colab": {
      "provenance": [],
      "authorship_tag": "ABX9TyNdybgKBw8SI8Hzb16oXcUp",
      "include_colab_link": true
    },
    "kernelspec": {
      "name": "python3",
      "display_name": "Python 3"
    },
    "language_info": {
      "name": "python"
    }
  },
  "cells": [
    {
      "cell_type": "markdown",
      "metadata": {
        "id": "view-in-github",
        "colab_type": "text"
      },
      "source": [
        "<a href=\"https://colab.research.google.com/github/orin00/colab/blob/main/240302%ED%81%B4%EB%9E%98%EC%8A%A4.ipynb\" target=\"_parent\"><img src=\"https://colab.research.google.com/assets/colab-badge.svg\" alt=\"Open In Colab\"/></a>"
      ]
    },
    {
      "cell_type": "code",
      "execution_count": 2,
      "metadata": {
        "id": "KMXs7lWXsXYO"
      },
      "outputs": [],
      "source": [
        "class Bank: # 은행 클래스\n",
        "  def __init__(self): # 클래스에서\n",
        "    self.balance = 0  # 사용할 변수\n",
        "\n",
        "  def deposit(self, money):\n",
        "    self.balance += money # 계좌에 금액 입금\n",
        "    return self.balance # 계좌 금액 update"
      ]
    },
    {
      "cell_type": "code",
      "source": [
        "bank_1 = Bank() # 1번 계좌 객체 생성\n",
        "print(bank_1.deposit(1000)) # 1000원 입금\n",
        "print(bank_1.deposit(500)) # 500원 추가 입금"
      ],
      "metadata": {
        "colab": {
          "base_uri": "https://localhost:8080/"
        },
        "id": "wNObIy8QsjCR",
        "outputId": "4f5ac554-aa53-4b44-fdd6-be3e5d9ce4d1"
      },
      "execution_count": 3,
      "outputs": [
        {
          "output_type": "stream",
          "name": "stdout",
          "text": [
            "1000\n",
            "1500\n"
          ]
        }
      ]
    },
    {
      "cell_type": "code",
      "source": [
        "bank_2 = Bank() # 2번 계좌 객체 생성\n",
        "print(bank_2.deposit(100)) # 100원 입금\n",
        "print(bank_2.deposit(-50)) # 50원 출금"
      ],
      "metadata": {
        "colab": {
          "base_uri": "https://localhost:8080/"
        },
        "id": "9tisndlos4fp",
        "outputId": "7ccc5ae7-b5fa-488b-ed43-45375fd051dd"
      },
      "execution_count": 4,
      "outputs": [
        {
          "output_type": "stream",
          "name": "stdout",
          "text": [
            "100\n",
            "50\n"
          ]
        }
      ]
    },
    {
      "cell_type": "code",
      "source": [
        "class Drink:\n",
        "  # 초기값 설정(생성자)\n",
        "  # 생성자 메서드 내에서 self를 통해 객체의 속성을 설정하고 초기값을 할당\n",
        "  def __init__(self,name,price):\n",
        "    self.name = name\n",
        "    self.price = price\n",
        "  def order(self, quantity):\n",
        "    self.price *= quantity\n",
        "    print(f\"{self.name}, {quantity}의 가격은 {self.price}입니다.\")\n",
        "    # return self.price\n",
        "\n",
        "drunken_1 = Drink('처음처럼',3000)\n",
        "drunken_1 .order(5)"
      ],
      "metadata": {
        "colab": {
          "base_uri": "https://localhost:8080/"
        },
        "id": "PM5bt4jXs5xq",
        "outputId": "6d404939-4b76-43f1-c692-2cdaf19fb503"
      },
      "execution_count": 5,
      "outputs": [
        {
          "output_type": "stream",
          "name": "stdout",
          "text": [
            "처음처럼, 5의 가격은 15000입니다.\n"
          ]
        }
      ]
    },
    {
      "cell_type": "code",
      "source": [
        "# self의 인덱스 값 호출\n",
        "# self란 객체 자신을 지칭하는 것, 인덱스 값이 일치하는 것을 확인 했으면 self 인자가 지 자신을 지칭하는 걸 알 수 있다.\n",
        "class CheckSelf:\n",
        "\tdef __init__(self):\n",
        "\t\tprint('self:',id(self))\n",
        "\n",
        "inst = CheckSelf()\n",
        "print('instance:',id(inst))"
      ],
      "metadata": {
        "colab": {
          "base_uri": "https://localhost:8080/"
        },
        "id": "4KsSlQ2Es90J",
        "outputId": "9397cb78-9fc2-45e8-928b-91e141a00c1c"
      },
      "execution_count": 6,
      "outputs": [
        {
          "output_type": "stream",
          "name": "stdout",
          "text": [
            "self: 139344426346976\n",
            "instance: 139344426346976\n"
          ]
        }
      ]
    },
    {
      "cell_type": "code",
      "source": [
        "# 클래스로 계산기 만들기\n",
        "class Calculator:\n",
        "\tdef __init__(self,first,second):\n",
        "\t\tself.first = first\n",
        "\t\tself.second = second\n",
        "\tdef plus(self):\n",
        "\t\treturn self.first + self.second\n",
        "\tdef minus(self):\n",
        "\t\treturn self.first - self.second\n",
        "\tdef multi(self):\n",
        "\t\treturn self.first * self.second\n",
        "\tdef divide(self):\n",
        "\t\treturn round(self.first / self.second,2)"
      ],
      "metadata": {
        "id": "9LfW6uAsu2uu"
      },
      "execution_count": 7,
      "outputs": []
    },
    {
      "cell_type": "code",
      "source": [
        "cal_1 = Calculator(6,2)\n",
        "print(cal_1.plus())\n",
        "print(cal_1.minus())\n",
        "print(cal_1.multi())\n",
        "print(cal_1.divide())"
      ],
      "metadata": {
        "colab": {
          "base_uri": "https://localhost:8080/"
        },
        "id": "Z4mxuVW0u6dJ",
        "outputId": "21ebfe4e-232d-4595-9fc0-8fbe9247170e"
      },
      "execution_count": 8,
      "outputs": [
        {
          "output_type": "stream",
          "name": "stdout",
          "text": [
            "8\n",
            "4\n",
            "12\n",
            "3.0\n"
          ]
        }
      ]
    },
    {
      "cell_type": "code",
      "source": [
        "# 클래스 상속(Inheritance)\n",
        "# 클래스의 상속이란 말 그대로 부모(Parents: Super Class) 클래스로부터 자식(Child: Sub Class) 클래스가 속성과 메서드를 물려받는 것을 말합니다.\n",
        "# 상속을 사용하는 이유는 확장성을 높이기 위해서입니다.\n",
        "class Calculator:\n",
        "\tdef __init__(self,first,second):\n",
        "\t\tself.first = first\n",
        "\t\tself.second = second\n",
        "\tdef plus(self):\n",
        "\t\treturn self.first + self.second\n",
        "\tdef minus(self):\n",
        "\t\treturn self.first - self.second\n",
        "\tdef multi(self):\n",
        "\t\treturn self.first * self.second\n",
        "\tdef divide(self):\n",
        "\t\treturn round(self.first / self.second,2)\n",
        "\n",
        "\n",
        "class Calculator2(Calculator):\n",
        "  pi = 3.141592\n",
        "  def modulus(self):\n",
        "    return self.first % self.second\n",
        "  def circle(self):\n",
        "    return self.first**2 * self.pi\n",
        "\n",
        "cal_2 = Calculator2(6,2)\n",
        "print(cal_2.modulus()) # 부모 클래스를 상속받은 자식 클래스에서 호출되는 modules()함수\n",
        "print(cal_2.plus())\n",
        "print(cal_2.circle())"
      ],
      "metadata": {
        "colab": {
          "base_uri": "https://localhost:8080/"
        },
        "id": "Z4BHwSHFuxyV",
        "outputId": "582e77fa-7220-4996-b412-b32d52f8330c"
      },
      "execution_count": 9,
      "outputs": [
        {
          "output_type": "stream",
          "name": "stdout",
          "text": [
            "0\n",
            "8\n",
            "113.097312\n"
          ]
        }
      ]
    },
    {
      "cell_type": "code",
      "source": [
        "# 오버라이딩(Overriding)\n",
        "# 메서드 오버라이딩(Method Overriding)\n",
        "# 메서드 오버라이딩이란 부모로부터 상속받은 메서드를 자식 클래스에서 재정의(변경, 추가)하는 것을 말합니다.\n",
        "# 부모 클래스에서 정의된 요소들을 자식요소에서 다시 정의해서 호출\n",
        "\n",
        "class Calculator3(Calculator):\n",
        "\tdef plus(self):\n",
        "\t\treturn self.first + self.second + 1\n",
        "\tdef minus(self):\n",
        "\t\tper = super().minus()\n",
        "\t\treturn (per/self.first) * 100\n",
        "\n",
        "cal_3 = Calculator3(5,2)\n",
        "print(cal_3.plus())\n",
        "print(cal_3.minus())\n",
        "print(cal_3.multi())\n",
        "\n",
        "cal_2 = Calculator2(5,2)\n",
        "print(cal_2.plus())\n",
        "print(cal_2.minus())"
      ],
      "metadata": {
        "colab": {
          "base_uri": "https://localhost:8080/"
        },
        "id": "paN9TclGvnsI",
        "outputId": "2f3b4567-dd99-4544-c1eb-ed41139cd16e"
      },
      "execution_count": 15,
      "outputs": [
        {
          "output_type": "stream",
          "name": "stdout",
          "text": [
            "8\n",
            "60.0\n",
            "10\n",
            "7\n",
            "3\n"
          ]
        }
      ]
    },
    {
      "cell_type": "code",
      "source": [
        "# 초기 속성 오버라이딩(Attribute Overriding)\n",
        "# 클래스 속성은 클래스에 명시된 속성입니다.\n",
        "# 그래서 모든 인스턴스가 클래스 속성을 공유합니다.\n",
        "class Dog:\n",
        "  def __init__(self, name):\n",
        "    self.name = name\n",
        "\n",
        "class Cat(Dog):\n",
        "  def __init__(self, name, kind):\n",
        "    super().__init__(name)  # Call the constructor of the parent class\n",
        "    self.kind = kind\n",
        "\n",
        "  def info(self):\n",
        "    print(\"우리고양이 이름은\",\n",
        "           f\"{self.name}이고,\",\n",
        "           f\"종류는 {self.kind}\")\n",
        "\n",
        "c = Cat('nabi','bengal')\n",
        "c.info()"
      ],
      "metadata": {
        "colab": {
          "base_uri": "https://localhost:8080/"
        },
        "id": "kidCdhthwf_C",
        "outputId": "d177f606-597a-4817-ca4a-e1ce54b3ebf8"
      },
      "execution_count": 24,
      "outputs": [
        {
          "output_type": "stream",
          "name": "stdout",
          "text": [
            "우리고양이 이름은 nabi이고, 종류는 bengal\n"
          ]
        }
      ]
    },
    {
      "cell_type": "code",
      "source": [
        "# 인스턴스 속성은 생성자 안에 초기 설정을 하는 속성입니다.\n",
        "# 즉, __init__에 포함된 초기값 속성을 의미합니다.\n",
        "class Dog:\n",
        "    def __init__(self, name, age):\n",
        "        self.name = name\n",
        "        self.age = age\n",
        "\n",
        "class Cat(Dog):\n",
        "    def __init__(self, name, age, kind):\n",
        "        super().__init__(name, age)\n",
        "        self.kind = kind\n",
        "\n",
        "    def info(self):\n",
        "        print(\"우리고양이 이름은\",\n",
        "              f\"{self.name}이고,\",\n",
        "              f\"종류는 {self.kind}\")\n",
        "\n",
        "c = Cat('nabi', 'bengal', 3)\n",
        "c.info()"
      ],
      "metadata": {
        "colab": {
          "base_uri": "https://localhost:8080/"
        },
        "id": "Zgo_d0pBw8PL",
        "outputId": "696de1e7-dac9-4fe1-8f68-cbf0d08a0164"
      },
      "execution_count": 23,
      "outputs": [
        {
          "output_type": "stream",
          "name": "stdout",
          "text": [
            "우리고양이 이름은 nabi이고, 종류는 3\n"
          ]
        }
      ]
    },
    {
      "cell_type": "code",
      "source": [],
      "metadata": {
        "id": "VFvUsHgdyJHj"
      },
      "execution_count": null,
      "outputs": []
    }
  ]
}