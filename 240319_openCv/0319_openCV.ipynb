{
 "cells": [
  {
   "cell_type": "code",
   "execution_count": null,
   "id": "3cf9e88b-966e-4b18-b0a5-898d323194f7",
   "metadata": {},
   "outputs": [],
   "source": [
    "pip install opencv-python"
   ]
  },
  {
   "cell_type": "code",
   "execution_count": null,
   "id": "acd3163b-fc58-4bf4-abed-5cb7a1dc265b",
   "metadata": {},
   "outputs": [],
   "source": [
    "import cv2"
   ]
  },
  {
   "cell_type": "code",
   "execution_count": null,
   "id": "2e342bfc-565b-4dfd-a158-f09ed8185050",
   "metadata": {},
   "outputs": [],
   "source": [
    "img = cv2.imread('./images/cat1.jpg') # 3차원 array"
   ]
  },
  {
   "cell_type": "code",
   "execution_count": null,
   "id": "8b39eb2e-b52b-4a42-9c8c-95748bd1f2f6",
   "metadata": {},
   "outputs": [],
   "source": [
    "if img is not None:\n",
    "  cv2.imshow('IMG', img) # IMG는 프롬프트 창 이름\n",
    "  cv2.waitKey()\n",
    "  cv2.destroyAllWindows()\n",
    "else:\n",
    "  print('no image')"
   ]
  },
  {
   "cell_type": "code",
   "execution_count": null,
   "id": "a5d09ed5-c5d2-4798-8a3d-c634822c17ac",
   "metadata": {},
   "outputs": [],
   "source": [
    "img = cv2.imread('images/cat1.jpg', cv2.IMREAD_GRAYSCALE) # 2차원 array"
   ]
  },
  {
   "cell_type": "code",
   "execution_count": null,
   "id": "5847ea26-c3a3-43ad-93be-389ef919ece7",
   "metadata": {},
   "outputs": [],
   "source": [
    "img"
   ]
  },
  {
   "cell_type": "code",
   "execution_count": null,
   "id": "cd554ecc-554e-42a8-ba41-9970d7a5f00c",
   "metadata": {},
   "outputs": [],
   "source": [
    "import cv2\n",
    "\n",
    "video = 'images/tiger.mp4' # 파일 위치\n",
    "\n",
    "cap = cv2.VideoCapture(video) # 영상파일을 변수에 할당\n",
    "cap"
   ]
  },
  {
   "cell_type": "code",
   "execution_count": null,
   "id": "12a09279-5447-435d-a939-a72a7b943774",
   "metadata": {},
   "outputs": [],
   "source": [
    "if cap.isOpened():\n",
    "    while True:\n",
    "        ret, img = cap.read() # ret: 성공여부, img: 이미지 파일\n",
    "        if ret:\n",
    "            cv2.imshow(video, img) # 프롬프트 이름, 보여주는 이미지\n",
    "            cv2.waitKey(25) # 이미지 fps 조정 (25ms 마다 1장씩 보여줌)\n",
    "        else:\n",
    "            break # 영상이 끝났을 때\n",
    "else:\n",
    "    print('Can not read Video') # 캡처 객체가 초기화 실패 했을 때\n",
    "\n",
    "cap.release() # 캡처 close\n",
    "cv2.destroyAllWindows()"
   ]
  },
  {
   "cell_type": "code",
   "execution_count": null,
   "id": "d27bf5e1-d063-4ab2-9fc9-6cc6720b8bcf",
   "metadata": {},
   "outputs": [],
   "source": [
    "# 웹캠을 설정하는 방법\n",
    "import cv2\n",
    "\n",
    "cap = cv2.VideoCapture(0) # 보통 0번 카메라로 장치되어있음.\n",
    "\n",
    "if cap.isOpened():\n",
    "    while True:\n",
    "        ret, img = cap.read()\n",
    "        if ret:\n",
    "            cv2.imshow('camera', img)\n",
    "            if cv2.waitKey(1) != -1:\n",
    "                break\n",
    "        else:\n",
    "            print('No Frame')\n",
    "            break\n",
    "else:\n",
    "    print('Can not connected Camera')\n",
    "\n",
    "cap.release()\n",
    "cv2.destroyAllWindows()"
   ]
  },
  {
   "cell_type": "code",
   "execution_count": null,
   "id": "531ffcb0-bd7e-4903-bfb0-838dc07df35b",
   "metadata": {},
   "outputs": [],
   "source": [
    "# 웹캠으로 사진찍기\n",
    "import cv2\n",
    "\n",
    "cap = cv2.VideoCapture(0) # 보통 0번 카메라로 장치되어있음.\n",
    "\n",
    "if cap.isOpened():\n",
    "    while True:\n",
    "        ret, img = cap.read()\n",
    "        if ret:\n",
    "            cv2.imshow('camera', img)\n",
    "            if cv2.waitKey(1) != -1:\n",
    "                cv2.imwrite('images/photo.jpg', img) # '1'키 누르면 이미지 촬영\n",
    "                break\n",
    "        else:\n",
    "            print('No Frame')\n",
    "            break\n",
    "else:\n",
    "    print('Can not connected Camera')\n",
    "\n",
    "cap.release()\n",
    "cv2.destroyAllWindows()"
   ]
  },
  {
   "cell_type": "code",
   "execution_count": null,
   "id": "3adeaa2e-8ac7-4c01-a5a0-c3769e14d3e0",
   "metadata": {},
   "outputs": [],
   "source": [
    "img = cv2.imread('images/cat1.jpg', cv2.IMREAD_GRAYSCALE)"
   ]
  },
  {
   "cell_type": "code",
   "execution_count": null,
   "id": "0ab12873-2735-4cf1-9239-5099fa76cd04",
   "metadata": {},
   "outputs": [],
   "source": [
    "img"
   ]
  },
  {
   "cell_type": "code",
   "execution_count": null,
   "id": "e30bac07-f693-4f95-b406-d4235fd67edc",
   "metadata": {},
   "outputs": [],
   "source": [
    "img = cv2.imread('images/cat1.jpg')"
   ]
  },
  {
   "cell_type": "code",
   "execution_count": null,
   "id": "643d72b6-8f07-4c75-b512-e5ed5d841639",
   "metadata": {},
   "outputs": [],
   "source": [
    "import cv2\n",
    "\n",
    "# COLOR_RGB2BGR 이미지 색상 정보\n",
    "img_bgr = cv2.cvtColor(img, cv2.COLOR_RGB2BGR)\n",
    "\n",
    "if img is not None:\n",
    "  cv2.imshow('IMG', img_bgr) # IMG는 프롬프트 창 이름\n",
    "  cv2.waitKey()\n",
    "  cv2.destroyAllWindows()\n",
    "else:\n",
    "  print('no image')"
   ]
  },
  {
   "cell_type": "code",
   "execution_count": null,
   "id": "20c336ee-d02c-4e56-bc2f-041c9283eae1",
   "metadata": {},
   "outputs": [],
   "source": [
    "import numpy as np\n",
    "color_img = np.array([[[255, 50, 180],\n",
    "                       [100, 255, 50],\n",
    "                       [50, 180, 255]],\n",
    "                      [[125, 25, 90],\n",
    "                       [95, 50, 180],\n",
    "                       [255, 50, 180]],\n",
    "                      [[255, 50, 180],\n",
    "                       [180, 50, 50],\n",
    "                       [55, 180, 255]]])"
   ]
  },
  {
   "cell_type": "code",
   "execution_count": null,
   "id": "f2324bbd-a01a-41ff-aa6e-72111e6e9180",
   "metadata": {},
   "outputs": [],
   "source": [
    "import matplotlib.pyplot as plt\n",
    "\n",
    "plt.imshow(color_img)\n",
    "plt.show()"
   ]
  },
  {
   "cell_type": "code",
   "execution_count": null,
   "id": "14c8607a-b537-4a00-815b-92ee6384e95b",
   "metadata": {},
   "outputs": [],
   "source": [
    "import cv2\n",
    "\n",
    "# COLOR_RGB2BGR 이미지 색상 정보\n",
    "img_bgr = cv2.imread('images/cat1.jpg')\n",
    "\n",
    "if img is not None:\n",
    "  cv2.imshow('IMG', img_bgr) # IMG는 프롬프트 창 이름\n",
    "  cv2.waitKey()\n",
    "  cv2.destroyAllWindows()\n",
    "else:\n",
    "  print('no image')"
   ]
  },
  {
   "cell_type": "code",
   "execution_count": null,
   "id": "c4454c35-6692-41c2-96d1-1ee1d325935b",
   "metadata": {},
   "outputs": [],
   "source": [
    "from PIL import Image\n",
    "img = Image.open('images/cat1.jpg')\n",
    "plt.imshow(img)\n",
    "plt.show()"
   ]
  },
  {
   "cell_type": "code",
   "execution_count": null,
   "id": "44f81f3a-3145-4823-ba03-1904924b6a0b",
   "metadata": {},
   "outputs": [],
   "source": [
    "img_arr = np.array(img)\n",
    "img_crop = img_arr[250:350, 150:250, : ]\n",
    "plt.imshow(img_crop)\n",
    "plt.show()"
   ]
  },
  {
   "cell_type": "code",
   "execution_count": null,
   "id": "47386aa9-dde9-4025-8525-8d1a95ca487c",
   "metadata": {},
   "outputs": [],
   "source": [
    "import cv2\n",
    "import numpy as np\n",
    "\n",
    "# np.uint8은 배열의 데이터 형식을 나타내며, \n",
    "# 8비트 부호 없는 정수를 의미\n",
    "# H: 512, W: 512, C: RGB 전부 검은색의 이미지 생성\n",
    "img = np.zeros((512, 512, 3), np.uint8)\n",
    "\n",
    "# cv2.line(이미지 파일, start(x,y), end(x,y), color(B, G, R) 0~255, \n",
    "#          선의 두께(thinkness=5), \n",
    "#          lineType : cv2.LINE_4, cv2.LINE_8, cv2.LINE_AA)\n",
    "cv2.line(img, (0,0), (511,511), (255, 0, 0), 5)\n",
    "\n",
    "cv2.imshow(\"Line\", img)\n",
    "cv2.waitKey(0)\n",
    "cv2.destroyAllWindows()"
   ]
  },
  {
   "cell_type": "code",
   "execution_count": null,
   "id": "f82dda62-f351-48aa-8581-01474cad1c61",
   "metadata": {},
   "outputs": [],
   "source": [
    "# 흰색 배경 512*512 컬러 이미지에\n",
    "# 시작점이 100, 100 에서 끝나는 지점이 300,300일때,\n",
    "# 빨간색 선(두께 : 5)을 그리시오.\n",
    "\n",
    "import cv2\n",
    "import numpy as np\n",
    "\n",
    "img = np.zeros((512, 512, 3), np.uint8)\n",
    "# img = img + 255 # numpy의 브로드캐스팅\n",
    "img = img + [255,0,0] # numpy의 브로드캐스팅 배경 파란색\n",
    "img = img.astype(np.uint8) # img + [255,0,0] 이거 때문에 uint32로 바껴서\n",
    "\n",
    "# img = np.full((512, 512, 3), 255, np.uint8)\n",
    "\n",
    "img"
   ]
  },
  {
   "cell_type": "code",
   "execution_count": null,
   "id": "6987e384-c21b-432f-b3c5-e64436c82b58",
   "metadata": {},
   "outputs": [],
   "source": [
    "cv2.line(img, (100,100), (300,100), (0,0,255), 5)\n",
    "\n",
    "cv2.imshow(\"Line\", img)\n",
    "cv2.waitKey(0)\n",
    "cv2.destroyAllWindows()"
   ]
  },
  {
   "cell_type": "code",
   "execution_count": null,
   "id": "84e42743-31fe-4336-8688-a8a9c92bd522",
   "metadata": {},
   "outputs": [],
   "source": [
    "# 사각형 그리기\n",
    "import cv2\n",
    "import numpy as np\n",
    "\n",
    "img = np.full((512, 512, 3), 255, np.uint8)\n",
    "\n",
    "cv2.line(img, (100,300), (300,300), (0,0,255), 5)\n",
    "cv2.line(img, (100,100), (300,100), (0,0,255), 5)\n",
    "cv2.line(img, (300,100), (300,300), (0,0,255), 5)\n",
    "cv2.line(img, (100,100), (100,300), (0,0,255), 5)\n",
    "cv2.imshow(\"line\", img)\n",
    "cv2.waitKey(0)\n",
    "cv2.destroyAllWindows()"
   ]
  },
  {
   "cell_type": "code",
   "execution_count": 2,
   "id": "d750ea89-5296-49a2-80d1-b620cfdb568d",
   "metadata": {},
   "outputs": [],
   "source": [
    "def img_show(img):\n",
    "    import cv2\n",
    "    cv2.imshow(\"image\", img)\n",
    "    cv2.waitKey(0)\n",
    "    cv2.destroyAllWindows()"
   ]
  },
  {
   "cell_type": "code",
   "execution_count": null,
   "id": "e4c824c4-b726-42ab-90e9-0f52428424e0",
   "metadata": {},
   "outputs": [],
   "source": [
    "import cv2\n",
    "import numpy as np\n",
    "\n",
    "img = np.full((512, 512, 3), 255, np.uint8)\n",
    "\n",
    "cv2.line(img, (100,100), (200,200), (0,0,255), 5, cv2.LINE_4)\n",
    "cv2.line(img, (200,200), (300,400), (0,255,255), 5, cv2.LINE_8)\n",
    "cv2.line(img, (100,0), (100,100), (255,0,255), 5, cv2.LINE_AA)\n",
    "img_show(img)"
   ]
  },
  {
   "cell_type": "code",
   "execution_count": 3,
   "id": "93a8b4df-56be-4016-89e3-d99c25c3b91c",
   "metadata": {},
   "outputs": [],
   "source": [
    "import cv2\n",
    "import numpy as np\n",
    "img = np.full((512, 512, 3), 255, np.uint8)\n",
    "\n",
    "# cv2.rectangle(img, (50, 50), (150,150), (125,125,125), 5)\n",
    "cv2.rectangle(img, (50, 50), (150,150), (125,125,125), -1) # 색 채우기\n",
    "\n",
    "img_show(img)"
   ]
  },
  {
   "cell_type": "code",
   "execution_count": null,
   "id": "39681cbd-3174-4e7e-8b11-ab70711c8147",
   "metadata": {},
   "outputs": [],
   "source": [
    "# 삼각형 그리기\n",
    "\n",
    "img = np.full((512, 512, 3), 255, np.uint8)\n",
    "\n",
    "poly1 = np.array([[350,50], [250,200], [450,200]])\n",
    "\n",
    "# 선으로 그림\n",
    "cv2.polylines(img, [poly1], True, (0,0,255), 5)\n",
    "\n",
    "# 도형 채우기\n",
    "# cv2.fillPoly(img, [poly1], (0,0,255))\n",
    "\n",
    "img_show(img)"
   ]
  },
  {
   "cell_type": "code",
   "execution_count": null,
   "id": "0059a697-0002-4153-b60f-75b5cca8598c",
   "metadata": {},
   "outputs": [],
   "source": [
    "# 원 그리기\n",
    "\n",
    "img = np.full((512, 512, 3), 255, np.uint8)\n",
    "\n",
    "# circle로는 타원을 못 그림\n",
    "cv2.circle(img, (256,256), 50, (0,0,0), -1)\n",
    "img_show(img)"
   ]
  },
  {
   "cell_type": "code",
   "execution_count": null,
   "id": "6751728a-d18e-45d4-80a6-2678120733e4",
   "metadata": {},
   "outputs": [],
   "source": [
    "# 타원 그리기\n",
    "\n",
    "img = np.full((512, 512, 3), 255, np.uint8)\n",
    "\n",
    "# 이미지, 중심 좌표, 축의 절반 길이, 타원의 기울기, 타원의 시작 각도, 종료 각도, 색상, 선의 두께\n",
    "cv2.ellipse(img, (256,256), (75,50), 45, 0, 360, (255,120,0), -1)\n",
    "img_show(img)"
   ]
  },
  {
   "cell_type": "code",
   "execution_count": null,
   "id": "2cf4093e-1827-41ac-b88c-b9341c80919d",
   "metadata": {},
   "outputs": [],
   "source": [
    "# 글씨 쓰기\n",
    "import cv2\n",
    "import numpy as np\n",
    "\n",
    "import cv2\n",
    "import numpy as np\n",
    "\n",
    "img = np.full((512,512,3), 255, np.uint8)\n",
    "\n",
    "text = input()\n",
    "cv2.putText(img, text, (128,216), cv2.FONT_HERSHEY_TRIPLEX, 5, (0,0,0), 2)\n",
    "\n",
    "img_show(img)"
   ]
  },
  {
   "cell_type": "markdown",
   "id": "5acaad10-e5b2-47c8-be83-17cd891f2bb8",
   "metadata": {},
   "source": [
    "cv2.FONT_HERSHEY_PLAIN : 산세리프체 작은 글꼴\n",
    "\n",
    "cv2.FONT_HERSHEY_SIMPLEX : 산세리프체 일반 글꼴\n",
    "\n",
    "cv2.FONT_HERSHEY_DUPLEX : 산세리프체 진한 글꼴\n",
    "\n",
    "cv2.FONT_HERSHEY_COMPLEX_SMALL : 세리프체 작은 글꼴\n",
    "\n",
    "cv2.FONT_HERSHEY_COMPLEX : 세리프체 일반 글꼴\n",
    "\n",
    "cv2.FONT_HERSHEY_TRIPLEX : 세리프체 진한 글꼴\n",
    "\n",
    "cv2.FONT_HERSHEY_SCRIPT_SIMPLEX : 필기체 산세리프\n",
    "\n",
    "cv2.FONT_HERSHEY_SCRIPT_COMPLEX : 필기체 세리프\n",
    "\n",
    "cv2.FONT_ITALIC : 이테릭체"
   ]
  },
  {
   "cell_type": "code",
   "execution_count": null,
   "id": "e2144bfb-3dbf-409e-a520-b8e1e1f5d0df",
   "metadata": {},
   "outputs": [],
   "source": [
    "key = cv2.waitKey(0)\n",
    "print(key)"
   ]
  },
  {
   "cell_type": "code",
   "execution_count": null,
   "id": "a91d1bca-c6ef-4cb1-945f-216093c251b5",
   "metadata": {},
   "outputs": [],
   "source": [
    "cv2.imshow('IMG', img)\n",
    "\n",
    "while True:\n",
    "    if cv2.waitKey(0) == ord('q'):\n",
    "        cv2.destroyAllWindows()\n",
    "        break\n",
    "    else:\n",
    "        print(chr(cv2.waitKey(0)))\n",
    "        continue"
   ]
  },
  {
   "cell_type": "code",
   "execution_count": null,
   "id": "f928e032-935a-4ca6-b434-c0853b2561d9",
   "metadata": {},
   "outputs": [],
   "source": [
    "# 클릭하는 위치에 원 생성\n",
    "\n",
    "import cv2\n",
    "import numpy as np\n",
    "\n",
    "title = \"Circle Maker\"\n",
    "img = np.full((512,512,3), 255, np.uint8)\n",
    "cv2.imshow(title, img)\n",
    "\n",
    "def clickMouse(event, x, y, flags, param):\n",
    "    if event == cv2.EVENT_LBUTTONDOWN:\n",
    "        print(event, x, y) # 커서 좌표값 출력\n",
    "        cv2.circle(img, (x, y), 30, (0,0,0), -1)\n",
    "        cv2.imshow(title, img)\n",
    "\n",
    "cv2.setMouseCallback(title, clickMouse)\n",
    "\n",
    "while True:\n",
    "    if cv2.waitKey(0) & 0xFF == 27:\n",
    "        break\n",
    "\n",
    "cv2.destroyAllWindows()"
   ]
  },
  {
   "cell_type": "code",
   "execution_count": 1,
   "id": "3f66c756-4a40-4ef4-99f6-2d100df669f7",
   "metadata": {},
   "outputs": [
    {
     "name": "stdout",
     "output_type": "stream",
     "text": [
      "1 195 166\n",
      "1 113 173\n",
      "1 140 124\n",
      "1 359 119\n",
      "1 256 249\n",
      "1 165 284\n",
      "1 249 196\n",
      "1 300 88\n",
      "1 395 302\n",
      "1 318 344\n",
      "1 210 368\n",
      "1 110 277\n",
      "1 148 192\n",
      "1 147 166\n",
      "1 243 128\n",
      "1 443 256\n",
      "1 365 377\n",
      "1 237 395\n",
      "1 131 348\n",
      "1 129 255\n",
      "1 349 230\n",
      "1 377 145\n",
      "1 343 93\n",
      "1 71 105\n",
      "1 292 36\n",
      "1 342 194\n",
      "1 296 305\n",
      "1 256 363\n",
      "1 188 356\n",
      "1 156 244\n",
      "1 86 250\n",
      "1 121 392\n",
      "1 113 395\n",
      "1 162 195\n",
      "1 156 104\n",
      "1 352 180\n",
      "1 303 361\n",
      "1 290 344\n",
      "1 219 271\n",
      "1 260 208\n",
      "1 427 366\n",
      "1 371 297\n",
      "1 321 409\n",
      "1 208 444\n",
      "1 104 213\n",
      "1 104 150\n",
      "1 173 122\n",
      "1 159 99\n",
      "1 382 110\n",
      "1 382 95\n",
      "1 418 179\n",
      "1 299 248\n",
      "1 127 269\n",
      "1 117 280\n",
      "1 207 423\n",
      "1 161 417\n",
      "1 138 388\n",
      "1 224 198\n",
      "1 274 63\n",
      "1 334 181\n",
      "1 170 221\n",
      "1 175 181\n",
      "1 202 274\n",
      "1 194 325\n",
      "1 172 232\n",
      "1 149 161\n",
      "1 202 156\n",
      "1 242 123\n",
      "1 441 86\n",
      "1 431 243\n",
      "1 452 108\n",
      "1 487 237\n"
     ]
    }
   ],
   "source": [
    "import cv2\n",
    "import numpy as np\n",
    "import random\n",
    "\n",
    "title = \"Circle Maker\"\n",
    "img = np.full((512,512,3), 255, np.uint8)\n",
    "cv2.imshow(title, img)\n",
    "\n",
    "colors = {'black': (0,0,0),\n",
    "         'red': (0,0,255),\n",
    "         'blue': (255,0,0),\n",
    "         'green': (0,255,0),\n",
    "         'yellow': (0,255,255),\n",
    "         'pupple': (255,0,255),\n",
    "         'cyan': (255,255,0)}\n",
    "\n",
    "def onMouse(event, x, y, flags, param):\n",
    "    color = colors['black']\n",
    "    size = 10\n",
    "    if event == cv2.EVENT_LBUTTONDOWN:\n",
    "        print(event, x, y)\n",
    "        if flags & cv2.EVENT_FLAG_CTRLKEY and flags & cv2.EVENT_FLAG_SHIFTKEY :\n",
    "            ran_color = random.choice(list(colors.keys()))\n",
    "            color = colors[ran_color]\n",
    "            cv2.rectangle(img, (x-50, y-50), (x+50, y+50), color, -1)\n",
    "            cv2.imshow(title, img)\n",
    "        elif flags & cv2.EVENT_FLAG_CTRLKEY:\n",
    "            ran_color = random.choice(list(colors.keys()))\n",
    "            color = colors[ran_color]\n",
    "            cv2.circle(img, (x, y), 30, color, -1)\n",
    "            cv2.imshow(title, img)\n",
    "        elif flags & cv2.EVENT_FLAG_SHIFTKEY:\n",
    "            ran_color = random.choice(list(colors.keys()))\n",
    "            color = colors[ran_color]\n",
    "            cv2.circle(img, (x, y), size, color, -1)\n",
    "            cv2.imshow(title, img)\n",
    "        else:\n",
    "            cv2.circle(img, (x, y), size, color, -1)\n",
    "            cv2.imshow(title, img)\n",
    "        \n",
    "\n",
    "cv2.setMouseCallback(title, onMouse)\n",
    "\n",
    "while True:\n",
    "    if cv2.waitKey(0) & 0xFF == 27:\n",
    "        break\n",
    "\n",
    "cv2.destroyAllWindows()"
   ]
  },
  {
   "cell_type": "code",
   "execution_count": null,
   "id": "cd8cdf65-da66-40a5-832c-63b71beaa385",
   "metadata": {},
   "outputs": [],
   "source": []
  },
  {
   "cell_type": "code",
   "execution_count": null,
   "id": "e73b0efa-fc4d-4cff-b1d6-049a6e270961",
   "metadata": {},
   "outputs": [],
   "source": []
  }
 ],
 "metadata": {
  "kernelspec": {
   "display_name": "Python 3 (ipykernel)",
   "language": "python",
   "name": "python3"
  },
  "language_info": {
   "codemirror_mode": {
    "name": "ipython",
    "version": 3
   },
   "file_extension": ".py",
   "mimetype": "text/x-python",
   "name": "python",
   "nbconvert_exporter": "python",
   "pygments_lexer": "ipython3",
   "version": "3.11.5"
  }
 },
 "nbformat": 4,
 "nbformat_minor": 5
}
