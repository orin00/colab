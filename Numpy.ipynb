{
  "nbformat": 4,
  "nbformat_minor": 0,
  "metadata": {
    "colab": {
      "provenance": [],
      "authorship_tag": "ABX9TyM8pcqi7iapeC0dprHFJYNF",
      "include_colab_link": true
    },
    "kernelspec": {
      "name": "python3",
      "display_name": "Python 3"
    },
    "language_info": {
      "name": "python"
    }
  },
  "cells": [
    {
      "cell_type": "markdown",
      "metadata": {
        "id": "view-in-github",
        "colab_type": "text"
      },
      "source": [
        "<a href=\"https://colab.research.google.com/github/orin00/colab/blob/main/Numpy.ipynb\" target=\"_parent\"><img src=\"https://colab.research.google.com/assets/colab-badge.svg\" alt=\"Open In Colab\"/></a>"
      ]
    },
    {
      "cell_type": "code",
      "execution_count": null,
      "metadata": {
        "id": "NgsO0LQ7cBY3"
      },
      "outputs": [],
      "source": [
        "# 넘파이 모듈 불러오기, as는 별칭을 붙이겠다는 의미(numpy는 무조건 np가 별칭)\n",
        "import numpy as np"
      ]
    },
    {
      "cell_type": "code",
      "source": [
        "num = [1,2,3,4,5,6,7,8,9]\n",
        "result = num + [3]\n",
        "result"
      ],
      "metadata": {
        "colab": {
          "base_uri": "https://localhost:8080/"
        },
        "id": "N4QUz_zAdiRv",
        "outputId": "30c2c26d-b111-45cc-e817-50eb7a49f61f"
      },
      "execution_count": null,
      "outputs": [
        {
          "output_type": "execute_result",
          "data": {
            "text/plain": [
              "[1, 2, 3, 4, 5, 6, 7, 8, 9, 3]"
            ]
          },
          "metadata": {},
          "execution_count": 5
        }
      ]
    },
    {
      "cell_type": "code",
      "source": [
        "num + 3"
      ],
      "metadata": {
        "colab": {
          "base_uri": "https://localhost:8080/",
          "height": 146
        },
        "id": "DWfx1uaSeuns",
        "outputId": "f4772cf6-9c08-4293-ccc1-6fd6b3d757d9"
      },
      "execution_count": null,
      "outputs": [
        {
          "output_type": "error",
          "ename": "TypeError",
          "evalue": "can only concatenate list (not \"int\") to list",
          "traceback": [
            "\u001b[0;31m---------------------------------------------------------------------------\u001b[0m",
            "\u001b[0;31mTypeError\u001b[0m                                 Traceback (most recent call last)",
            "\u001b[0;32m<ipython-input-6-e81694599b8f>\u001b[0m in \u001b[0;36m<cell line: 1>\u001b[0;34m()\u001b[0m\n\u001b[0;32m----> 1\u001b[0;31m \u001b[0mnum\u001b[0m \u001b[0;34m+\u001b[0m \u001b[0;36m3\u001b[0m\u001b[0;34m\u001b[0m\u001b[0;34m\u001b[0m\u001b[0m\n\u001b[0m",
            "\u001b[0;31mTypeError\u001b[0m: can only concatenate list (not \"int\") to list"
          ]
        }
      ]
    },
    {
      "cell_type": "code",
      "source": [
        "arr = np.array(num)\n",
        "arr + np.array([3])\n",
        "# arr + 3"
      ],
      "metadata": {
        "colab": {
          "base_uri": "https://localhost:8080/"
        },
        "id": "OZb12IF6e4gq",
        "outputId": "765e2f49-c8cf-40ca-8ee7-32087b0350e8"
      },
      "execution_count": null,
      "outputs": [
        {
          "output_type": "execute_result",
          "data": {
            "text/plain": [
              "array([ 4,  5,  6,  7,  8,  9, 10, 11, 12])"
            ]
          },
          "metadata": {},
          "execution_count": 10
        }
      ]
    },
    {
      "cell_type": "code",
      "source": [
        "new_num = []\n",
        "for i in num:\n",
        "  new_num.append(i+3)\n",
        "new_num"
      ],
      "metadata": {
        "colab": {
          "base_uri": "https://localhost:8080/"
        },
        "id": "agFa_plZfg4e",
        "outputId": "99c59a43-c185-476a-a95a-70bdd8f5db90"
      },
      "execution_count": null,
      "outputs": [
        {
          "output_type": "execute_result",
          "data": {
            "text/plain": [
              "[4, 5, 6, 7, 8, 9, 10, 11, 12]"
            ]
          },
          "metadata": {},
          "execution_count": 11
        }
      ]
    },
    {
      "cell_type": "code",
      "source": [
        "# 리스트 컴플레이션\n",
        "new_num = [i+3 for i in num]\n",
        "new_num"
      ],
      "metadata": {
        "colab": {
          "base_uri": "https://localhost:8080/"
        },
        "id": "k0oMcJ8YgEcY",
        "outputId": "447c877b-75af-4c1e-d434-38960fdb08cb"
      },
      "execution_count": null,
      "outputs": [
        {
          "output_type": "execute_result",
          "data": {
            "text/plain": [
              "[4, 5, 6, 7, 8, 9, 10, 11, 12]"
            ]
          },
          "metadata": {},
          "execution_count": 12
        }
      ]
    },
    {
      "cell_type": "code",
      "source": [
        "# list의 반복문 수행 시간 측정\n",
        "import time # 시간 재는 기능\n",
        "\n",
        "num = range(10000)\n",
        "result = []\n",
        "start = time.time()\n",
        "for i in num:\n",
        "  i += 3\n",
        "  result.append(i)\n",
        "end = time.time()\n",
        "sec = (end - start) * 1000\n",
        "print(f\"{sec: .4f} sec\")\n",
        "print(result[-5:])"
      ],
      "metadata": {
        "colab": {
          "base_uri": "https://localhost:8080/"
        },
        "id": "YdMfPmQxjqK7",
        "outputId": "b6e8b342-6546-4bc6-a2fb-b9c1193b6cc0"
      },
      "execution_count": null,
      "outputs": [
        {
          "output_type": "stream",
          "name": "stdout",
          "text": [
            " 1.9195 sec\n",
            "[9998, 9999, 10000, 10001, 10002]\n"
          ]
        }
      ]
    },
    {
      "cell_type": "code",
      "source": [
        "# numpy를 사용한 수행시간\n",
        "import time\n",
        "import numpy as np\n",
        "\n",
        "num = np.arange(10000)\n",
        "start = time.time()\n",
        "result = num + 3\n",
        "end = time.time()\n",
        "sec = (end - start) * 1000\n",
        "print(f\"{sec: .4f} sec\")\n",
        "print(result[-5:])"
      ],
      "metadata": {
        "colab": {
          "base_uri": "https://localhost:8080/"
        },
        "id": "RXpssoPwlRBe",
        "outputId": "e343ae27-c029-4382-a74c-3f27c4b911f0"
      },
      "execution_count": null,
      "outputs": [
        {
          "output_type": "stream",
          "name": "stdout",
          "text": [
            " 0.1512 sec\n",
            "[ 9998  9999 10000 10001 10002]\n"
          ]
        }
      ]
    },
    {
      "cell_type": "code",
      "source": [
        "text = ['I','Love','Python']\n",
        "text2 = ['(나)','(좋아해)','(파이썬)']\n",
        "\n",
        "result = text + text2\n",
        "result"
      ],
      "metadata": {
        "colab": {
          "base_uri": "https://localhost:8080/"
        },
        "id": "GFeNsg3Sl-v_",
        "outputId": "cc9bb36a-8638-41c7-cfd5-4e9dca2f5717"
      },
      "execution_count": null,
      "outputs": [
        {
          "output_type": "execute_result",
          "data": {
            "text/plain": [
              "['I', 'Love', 'Python', '(나)', '(좋아해)', '(파이썬)']"
            ]
          },
          "metadata": {},
          "execution_count": 20
        }
      ]
    },
    {
      "cell_type": "code",
      "source": [
        "# numpy는 리스트의 각 항목들을 결합시킨다는 느낌\n",
        "import numpy as np\n",
        "\n",
        "arr_str = np.array(['I','Love','Python'],dtype=object)\n",
        "arr_str2 = np.array(['(나)','(좋아해)','(파이썬)'])\n",
        "\n",
        "result = arr_str + arr_str2\n",
        "result"
      ],
      "metadata": {
        "colab": {
          "base_uri": "https://localhost:8080/"
        },
        "id": "9U4KTmzbnhQK",
        "outputId": "365a3f3f-b6d8-4db6-fdd1-cd8568c480a8"
      },
      "execution_count": null,
      "outputs": [
        {
          "output_type": "execute_result",
          "data": {
            "text/plain": [
              "array(['I(나)', 'Love(좋아해)', 'Python(파이썬)'], dtype=object)"
            ]
          },
          "metadata": {},
          "execution_count": 23
        }
      ]
    },
    {
      "cell_type": "code",
      "source": [
        "import numpy as np\n",
        "arr = np.array([[1,2]])\n",
        "print(type(arr))"
      ],
      "metadata": {
        "colab": {
          "base_uri": "https://localhost:8080/"
        },
        "id": "6ZLzhD7koLPS",
        "outputId": "55d5e0a6-c1c5-410f-9053-5ab01c77b90b"
      },
      "execution_count": null,
      "outputs": [
        {
          "output_type": "stream",
          "name": "stdout",
          "text": [
            "<class 'numpy.ndarray'>\n"
          ]
        }
      ]
    },
    {
      "cell_type": "code",
      "source": [
        "import numpy as np\n",
        "\n",
        "arr = np.array([[0,0,0],\n",
        "\t\t\t\t\t\t\t\t[1,1,1]])\n",
        "print(arr.ndim) # 차원수\n",
        "print(arr.shape) # array의 모양\n",
        "print(type(arr)) # class\n",
        "print(arr.dtype) # 요소들의 Type"
      ],
      "metadata": {
        "colab": {
          "base_uri": "https://localhost:8080/"
        },
        "id": "69flN2_tru2d",
        "outputId": "2081a67b-cbde-4362-b7da-9640a80ec1a1"
      },
      "execution_count": null,
      "outputs": [
        {
          "output_type": "stream",
          "name": "stdout",
          "text": [
            "2\n",
            "(2, 3)\n",
            "<class 'numpy.ndarray'>\n",
            "int64\n"
          ]
        }
      ]
    },
    {
      "cell_type": "code",
      "source": [
        "import numpy as np\n",
        "a = np.array([1,2,3])\n",
        "b = np.array([2,2,2])\n",
        "c = np.array([2])\n",
        "print(a*b)\n",
        "print(a*c)\n",
        "print(a*b == a*c)"
      ],
      "metadata": {
        "colab": {
          "base_uri": "https://localhost:8080/"
        },
        "id": "DUrtWBalCUnQ",
        "outputId": "7ba09f36-c2d1-4564-b70f-d51525bdb3af"
      },
      "execution_count": null,
      "outputs": [
        {
          "output_type": "stream",
          "name": "stdout",
          "text": [
            "[2 4 6]\n",
            "[2 4 6]\n",
            "[ True  True  True]\n"
          ]
        }
      ]
    },
    {
      "cell_type": "code",
      "source": [
        "import numpy as np\n",
        "a = np.array([1,2,3])\n",
        "print(a * 2)"
      ],
      "metadata": {
        "colab": {
          "base_uri": "https://localhost:8080/"
        },
        "id": "F3kShtqOCsq-",
        "outputId": "0204cd7c-7532-407b-ae24-4e65b4b25df5"
      },
      "execution_count": null,
      "outputs": [
        {
          "output_type": "stream",
          "name": "stdout",
          "text": [
            "[2 4 6]\n"
          ]
        }
      ]
    },
    {
      "cell_type": "code",
      "source": [
        "import numpy as np\n",
        "\n",
        "arr = np.array([1,2,3])\n",
        "arr2 = np.array([1,2,3], float)\n",
        "print(arr.dtype, arr2.dtype)\n",
        "arr.astype(float)"
      ],
      "metadata": {
        "colab": {
          "base_uri": "https://localhost:8080/"
        },
        "id": "5NT35JoJt4AP",
        "outputId": "e38d0eb8-b29a-410d-b91b-2d78b49df7de"
      },
      "execution_count": null,
      "outputs": [
        {
          "output_type": "stream",
          "name": "stdout",
          "text": [
            "int64 float64\n"
          ]
        },
        {
          "output_type": "execute_result",
          "data": {
            "text/plain": [
              "array([1., 2., 3.])"
            ]
          },
          "metadata": {},
          "execution_count": 40
        }
      ]
    },
    {
      "cell_type": "code",
      "source": [
        "arr2 = arr2.astype(\"int64\")"
      ],
      "metadata": {
        "id": "3QI5g2hw2eRJ"
      },
      "execution_count": null,
      "outputs": []
    },
    {
      "cell_type": "code",
      "source": [
        "arr2.dtype"
      ],
      "metadata": {
        "colab": {
          "base_uri": "https://localhost:8080/"
        },
        "id": "lTi_TzP22qXc",
        "outputId": "75bcb4ac-4313-4917-b39a-c6f89ca37a15"
      },
      "execution_count": null,
      "outputs": [
        {
          "output_type": "execute_result",
          "data": {
            "text/plain": [
              "dtype('int64')"
            ]
          },
          "metadata": {},
          "execution_count": 51
        }
      ]
    },
    {
      "cell_type": "code",
      "source": [
        "zer = np.zeros(2)\n",
        "zer2 = np.zeros((3,2))\n",
        "zer3 = np.zeros((2,3,2))\n",
        "print(zer)\n",
        "print('--------------------')\n",
        "print(zer2)\n",
        "print('--------------------')\n",
        "print(zer3)"
      ],
      "metadata": {
        "colab": {
          "base_uri": "https://localhost:8080/"
        },
        "id": "7OLT3Yzb2x5V",
        "outputId": "3e1f268d-e650-448c-eec0-b6d65a490abf"
      },
      "execution_count": null,
      "outputs": [
        {
          "output_type": "stream",
          "name": "stdout",
          "text": [
            "[0. 0.]\n",
            "--------------------\n",
            "[[0. 0.]\n",
            " [0. 0.]\n",
            " [0. 0.]]\n",
            "--------------------\n",
            "[[[0. 0.]\n",
            "  [0. 0.]\n",
            "  [0. 0.]]\n",
            "\n",
            " [[0. 0.]\n",
            "  [0. 0.]\n",
            "  [0. 0.]]]\n"
          ]
        }
      ]
    },
    {
      "cell_type": "code",
      "source": [
        "one = np.ones(2)\n",
        "one2 = np.ones((3,2))\n",
        "one3 = np.ones((2,3,2))\n",
        "print(one )\n",
        "print('--------------------')\n",
        "print(one2 )\n",
        "print('--------------------')\n",
        "print(one3 )"
      ],
      "metadata": {
        "colab": {
          "base_uri": "https://localhost:8080/"
        },
        "id": "bRsZ85Pq32O9",
        "outputId": "7c99c6cb-e449-4e6e-bcf4-4b9446349d68"
      },
      "execution_count": null,
      "outputs": [
        {
          "output_type": "stream",
          "name": "stdout",
          "text": [
            "[1. 1.]\n",
            "--------------------\n",
            "[[1. 1.]\n",
            " [1. 1.]\n",
            " [1. 1.]]\n",
            "--------------------\n",
            "[[[1. 1.]\n",
            "  [1. 1.]\n",
            "  [1. 1.]]\n",
            "\n",
            " [[1. 1.]\n",
            "  [1. 1.]\n",
            "  [1. 1.]]]\n"
          ]
        }
      ]
    },
    {
      "cell_type": "code",
      "source": [
        "ful = np.full((2),5)\n",
        "ful2 = np.full((2,3),5)\n",
        "ful3 = np.full((2,3,4), 'full')\n",
        "print(ful)\n",
        "print('--------------------')\n",
        "print(ful2)\n",
        "print('--------------------')\n",
        "print(ful3 )"
      ],
      "metadata": {
        "colab": {
          "base_uri": "https://localhost:8080/"
        },
        "id": "p8NFjhOh3518",
        "outputId": "be3b612c-369f-445d-fa9e-c6aa4f1614b2"
      },
      "execution_count": null,
      "outputs": [
        {
          "output_type": "stream",
          "name": "stdout",
          "text": [
            "[5 5]\n",
            "--------------------\n",
            "[[5 5 5]\n",
            " [5 5 5]]\n",
            "--------------------\n",
            "[[['full' 'full' 'full' 'full']\n",
            "  ['full' 'full' 'full' 'full']\n",
            "  ['full' 'full' 'full' 'full']]\n",
            "\n",
            " [['full' 'full' 'full' 'full']\n",
            "  ['full' 'full' 'full' 'full']\n",
            "  ['full' 'full' 'full' 'full']]]\n"
          ]
        }
      ]
    },
    {
      "cell_type": "code",
      "source": [
        "arn = np.arange(8)\n",
        "arn2 = np.arange(2,4) # 시작, 끝\n",
        "arn3 = np.arange(5,10,2)\n",
        "print(arn)\n",
        "print('--------------------')\n",
        "print(arn2)\n",
        "print('--------------------')\n",
        "print(arn3)"
      ],
      "metadata": {
        "colab": {
          "base_uri": "https://localhost:8080/"
        },
        "id": "2BSzC8Cu4G8D",
        "outputId": "80c72e02-a526-4e73-d820-466de672bdd5"
      },
      "execution_count": null,
      "outputs": [
        {
          "output_type": "stream",
          "name": "stdout",
          "text": [
            "[0 1 2 3 4 5 6 7]\n",
            "--------------------\n",
            "[2 3]\n",
            "--------------------\n",
            "[5 7 9]\n"
          ]
        }
      ]
    },
    {
      "cell_type": "code",
      "source": [
        "lin = np.arange(2,8)\n",
        "lin2 = np.linspace(3,7,10)\n",
        "\n",
        "print(lin)\n",
        "print('--------------------')\n",
        "print(lin2)"
      ],
      "metadata": {
        "colab": {
          "base_uri": "https://localhost:8080/"
        },
        "id": "Q-bxztDp4Lu0",
        "outputId": "6b30b9b2-3ab6-4c97-b0cd-8d4584758ed7"
      },
      "execution_count": null,
      "outputs": [
        {
          "output_type": "stream",
          "name": "stdout",
          "text": [
            "[2 3 4 5 6 7]\n",
            "--------------------\n",
            "[3.         3.44444444 3.88888889 4.33333333 4.77777778 5.22222222\n",
            " 5.66666667 6.11111111 6.55555556 7.        ]\n"
          ]
        }
      ]
    },
    {
      "cell_type": "code",
      "source": [
        "iden = np.identity(3)\n",
        "iden"
      ],
      "metadata": {
        "colab": {
          "base_uri": "https://localhost:8080/"
        },
        "id": "ymAM4ZOT4_cA",
        "outputId": "3c27761f-e2cf-40f9-ed58-26078f5c8790"
      },
      "execution_count": null,
      "outputs": [
        {
          "output_type": "execute_result",
          "data": {
            "text/plain": [
              "array([[1., 0., 0.],\n",
              "       [0., 1., 0.],\n",
              "       [0., 0., 1.]])"
            ]
          },
          "metadata": {},
          "execution_count": 58
        }
      ]
    },
    {
      "cell_type": "code",
      "source": [
        "eye = np.eye(3)\n",
        "eye2 = np.eye(3,k=1)\n",
        "eye3 = np.eye(3,5)\n",
        "\n",
        "print(eye)\n",
        "print('--------------------')\n",
        "print(eye2)\n",
        "print('--------------------')\n",
        "print(eye3)"
      ],
      "metadata": {
        "colab": {
          "base_uri": "https://localhost:8080/"
        },
        "id": "Vj_hgVg65fMI",
        "outputId": "fdb22831-d972-4f83-db69-ecbd035a0c45"
      },
      "execution_count": null,
      "outputs": [
        {
          "output_type": "stream",
          "name": "stdout",
          "text": [
            "[[1. 0. 0.]\n",
            " [0. 1. 0.]\n",
            " [0. 0. 1.]]\n",
            "--------------------\n",
            "[[0. 1. 0.]\n",
            " [0. 0. 1.]\n",
            " [0. 0. 0.]]\n",
            "--------------------\n",
            "[[1. 0. 0. 0. 0.]\n",
            " [0. 1. 0. 0. 0.]\n",
            " [0. 0. 1. 0. 0.]]\n"
          ]
        }
      ]
    },
    {
      "cell_type": "code",
      "source": [
        "import numpy as np\n",
        "\n",
        "arr = np.array([1,2,3])\n",
        "\n",
        "print(arr[1])\n",
        "print(arr[0:2])\n",
        "print(arr[1:])\n",
        "print(arr[-2:])"
      ],
      "metadata": {
        "colab": {
          "base_uri": "https://localhost:8080/"
        },
        "id": "OUxznfZh5hC_",
        "outputId": "cca7f69d-250c-4f91-a3c5-f33f638d3b08"
      },
      "execution_count": null,
      "outputs": [
        {
          "output_type": "stream",
          "name": "stdout",
          "text": [
            "2\n",
            "[1 2]\n",
            "[2 3]\n",
            "[2 3]\n"
          ]
        }
      ]
    },
    {
      "cell_type": "code",
      "source": [
        "li = [[1,2,3], [4,5,6]]\n",
        "li[0][1:]"
      ],
      "metadata": {
        "colab": {
          "base_uri": "https://localhost:8080/"
        },
        "id": "AJb3Vzto6UA-",
        "outputId": "b10920e9-6fae-4c2f-cdc2-e239abdf64b8"
      },
      "execution_count": null,
      "outputs": [
        {
          "output_type": "execute_result",
          "data": {
            "text/plain": [
              "[2, 3]"
            ]
          },
          "metadata": {},
          "execution_count": 68
        }
      ]
    },
    {
      "cell_type": "code",
      "source": [
        "arr = np.array(li)\n",
        "print(arr[0][1:])\n",
        "print(arr[0,:1])"
      ],
      "metadata": {
        "colab": {
          "base_uri": "https://localhost:8080/"
        },
        "id": "5C9-vSBt6Y_W",
        "outputId": "5b4aa7ff-982a-4972-a0c4-edc401aa73a6"
      },
      "execution_count": null,
      "outputs": [
        {
          "output_type": "stream",
          "name": "stdout",
          "text": [
            "[2 3]\n",
            "[1]\n"
          ]
        }
      ]
    },
    {
      "cell_type": "code",
      "source": [
        "arr = np.array([1, 2, 3, 4, 5, 6, 7, 8, 9, 10, 11, 12])\n",
        "result = []\n",
        "for i in arr:\n",
        "  if i%2 == 0:\n",
        "    result.append(i);\n",
        "result"
      ],
      "metadata": {
        "colab": {
          "base_uri": "https://localhost:8080/"
        },
        "id": "zc9kB1Wi7D_s",
        "outputId": "6b609543-637a-4d3d-83e5-51832f3f6811"
      },
      "execution_count": null,
      "outputs": [
        {
          "output_type": "execute_result",
          "data": {
            "text/plain": [
              "[2, 4, 6, 8, 10, 12]"
            ]
          },
          "metadata": {},
          "execution_count": 81
        }
      ]
    },
    {
      "cell_type": "code",
      "source": [
        "from re import A\n",
        "arr = [[2,1,3,4],[7,6,8,5],[9,10,11,12]]\n",
        "result = []\n",
        "for i in arr:\n",
        "  for j in i:\n",
        "    if j%2 == 0:\n",
        "      result.append(j)\n",
        "result"
      ],
      "metadata": {
        "colab": {
          "base_uri": "https://localhost:8080/"
        },
        "id": "9FYlO70P_Oh3",
        "outputId": "31ddb28d-8837-4836-b5c1-00690cc4d69e"
      },
      "execution_count": null,
      "outputs": [
        {
          "output_type": "execute_result",
          "data": {
            "text/plain": [
              "[2, 4, 6, 8, 10, 12]"
            ]
          },
          "metadata": {},
          "execution_count": 92
        }
      ]
    },
    {
      "cell_type": "code",
      "source": [
        "li = [1,3,5,4,6,7,2,8,9,10,11,12]\n",
        "arr = np.array(li)\n",
        "arr[arr%2==0]"
      ],
      "metadata": {
        "colab": {
          "base_uri": "https://localhost:8080/"
        },
        "id": "rn-pwvjWCBFU",
        "outputId": "1cfe050f-f951-4c27-e0c9-69f50971e984"
      },
      "execution_count": null,
      "outputs": [
        {
          "output_type": "execute_result",
          "data": {
            "text/plain": [
              "array([ 4,  6,  2,  8, 10, 12])"
            ]
          },
          "metadata": {},
          "execution_count": 104
        }
      ]
    },
    {
      "cell_type": "code",
      "source": [
        "li = [[2,1,3,6],[7,4,8,5],[9,10,11,12]]\n",
        "arr = np.array(li)\n",
        "arr[arr%2==0]"
      ],
      "metadata": {
        "colab": {
          "base_uri": "https://localhost:8080/"
        },
        "id": "W9t87LAADu_n",
        "outputId": "41ec9d63-58f6-4cba-d08a-47fc20220a2f"
      },
      "execution_count": null,
      "outputs": [
        {
          "output_type": "execute_result",
          "data": {
            "text/plain": [
              "array([ 2,  6,  4,  8, 10, 12])"
            ]
          },
          "metadata": {},
          "execution_count": 131
        }
      ]
    },
    {
      "cell_type": "code",
      "source": [
        "arr.shape"
      ],
      "metadata": {
        "colab": {
          "base_uri": "https://localhost:8080/"
        },
        "id": "S0SFiWKSEx8b",
        "outputId": "63cdbb3f-82d9-45f5-ba11-23ee31c580e9"
      },
      "execution_count": null,
      "outputs": [
        {
          "output_type": "execute_result",
          "data": {
            "text/plain": [
              "(3, 4)"
            ]
          },
          "metadata": {},
          "execution_count": 132
        }
      ]
    },
    {
      "cell_type": "code",
      "source": [
        "arr.reshape(12,)"
      ],
      "metadata": {
        "colab": {
          "base_uri": "https://localhost:8080/"
        },
        "id": "nUpw48XtFC_r",
        "outputId": "58621c7e-0560-4ed9-eeda-6c6f9b3290bf"
      },
      "execution_count": null,
      "outputs": [
        {
          "output_type": "execute_result",
          "data": {
            "text/plain": [
              "array([ 2,  1,  3,  6,  7,  4,  8,  5,  9, 10, 11, 12])"
            ]
          },
          "metadata": {},
          "execution_count": 133
        }
      ]
    },
    {
      "cell_type": "code",
      "source": [
        "# arr.resize(5,5,refcheck=False)\n",
        "# arr"
      ],
      "metadata": {
        "colab": {
          "base_uri": "https://localhost:8080/"
        },
        "id": "XCRxBEv9FR2i",
        "outputId": "dcde5981-2beb-4326-ad55-42cb3086bbea"
      },
      "execution_count": null,
      "outputs": [
        {
          "output_type": "execute_result",
          "data": {
            "text/plain": [
              "array([[ 2,  1,  3,  6,  7],\n",
              "       [ 4,  8,  5,  9, 10],\n",
              "       [11, 12,  0,  0,  0],\n",
              "       [ 0,  0,  0,  0,  0],\n",
              "       [ 0,  0,  0,  0,  0]])"
            ]
          },
          "metadata": {},
          "execution_count": 123
        }
      ]
    },
    {
      "cell_type": "code",
      "source": [
        "arr.reshape(3,2,-1)"
      ],
      "metadata": {
        "colab": {
          "base_uri": "https://localhost:8080/"
        },
        "id": "wcKDQHAWHByO",
        "outputId": "f091ad26-f62c-4946-cc9a-6aabf06e48b2"
      },
      "execution_count": null,
      "outputs": [
        {
          "output_type": "execute_result",
          "data": {
            "text/plain": [
              "array([[[ 2,  1],\n",
              "        [ 3,  6]],\n",
              "\n",
              "       [[ 7,  4],\n",
              "        [ 8,  5]],\n",
              "\n",
              "       [[ 9, 10],\n",
              "        [11, 12]]])"
            ]
          },
          "metadata": {},
          "execution_count": 134
        }
      ]
    },
    {
      "cell_type": "code",
      "source": [
        "arr = np.array([[1,2],[3,4],[5,6]])\n",
        "arr"
      ],
      "metadata": {
        "colab": {
          "base_uri": "https://localhost:8080/"
        },
        "id": "N17crCSjYvSH",
        "outputId": "2d5ea621-0b97-410b-f2ef-4250f1794a3a"
      },
      "execution_count": null,
      "outputs": [
        {
          "output_type": "execute_result",
          "data": {
            "text/plain": [
              "array([[1, 2],\n",
              "       [3, 4],\n",
              "       [5, 6]])"
            ]
          },
          "metadata": {},
          "execution_count": 152
        }
      ]
    },
    {
      "cell_type": "code",
      "source": [
        "arr.reshape(2,3)"
      ],
      "metadata": {
        "colab": {
          "base_uri": "https://localhost:8080/"
        },
        "id": "0RinVAopZJz8",
        "outputId": "dfe34daa-58be-4805-bb90-c375b9f145e4"
      },
      "execution_count": null,
      "outputs": [
        {
          "output_type": "execute_result",
          "data": {
            "text/plain": [
              "array([[1, 2, 3],\n",
              "       [4, 5, 6]])"
            ]
          },
          "metadata": {},
          "execution_count": 153
        }
      ]
    },
    {
      "cell_type": "code",
      "source": [
        "arr.T"
      ],
      "metadata": {
        "colab": {
          "base_uri": "https://localhost:8080/"
        },
        "id": "h06wqXo4ZT9c",
        "outputId": "12bb9e20-1a16-4c03-d7f1-b87a4c19076d"
      },
      "execution_count": null,
      "outputs": [
        {
          "output_type": "execute_result",
          "data": {
            "text/plain": [
              "array([[1, 3, 5],\n",
              "       [2, 4, 6]])"
            ]
          },
          "metadata": {},
          "execution_count": 155
        }
      ]
    },
    {
      "cell_type": "code",
      "source": [
        "zr = np.zeros((2,3,4,5))\n",
        "zr.shape"
      ],
      "metadata": {
        "colab": {
          "base_uri": "https://localhost:8080/"
        },
        "id": "ml-X6OSMbJZm",
        "outputId": "261078e0-2072-42f5-e611-9ce97466fac0"
      },
      "execution_count": null,
      "outputs": [
        {
          "output_type": "execute_result",
          "data": {
            "text/plain": [
              "(2, 3, 4, 5)"
            ]
          },
          "metadata": {},
          "execution_count": 159
        }
      ]
    },
    {
      "cell_type": "code",
      "source": [
        "zr.T.shape #전치행렬"
      ],
      "metadata": {
        "colab": {
          "base_uri": "https://localhost:8080/"
        },
        "id": "kvTUmQeAbeR9",
        "outputId": "62ee47a6-76fc-41ee-bbaf-62b1e773e781"
      },
      "execution_count": null,
      "outputs": [
        {
          "output_type": "execute_result",
          "data": {
            "text/plain": [
              "(5, 4, 3, 2)"
            ]
          },
          "metadata": {},
          "execution_count": 174
        }
      ]
    },
    {
      "cell_type": "code",
      "source": [
        "zr.transpose(0,3,1,2).shape #내가 변경하고자 하는 순서를 지정할 수 있다."
      ],
      "metadata": {
        "colab": {
          "base_uri": "https://localhost:8080/"
        },
        "id": "dItyPg_abt5a",
        "outputId": "0821bd73-613d-415e-dc94-f97f64f8bb9d"
      },
      "execution_count": null,
      "outputs": [
        {
          "output_type": "execute_result",
          "data": {
            "text/plain": [
              "(2, 5, 3, 4)"
            ]
          },
          "metadata": {},
          "execution_count": 175
        }
      ]
    },
    {
      "cell_type": "code",
      "source": [
        "zr.swapaxes(3,1).shape # 내가 원하는 축 2개만 서로 변경할 때 사용"
      ],
      "metadata": {
        "colab": {
          "base_uri": "https://localhost:8080/"
        },
        "id": "9nAUlx5qcI-s",
        "outputId": "aab0f0e0-739f-4643-8878-ebe34f3f4900"
      },
      "execution_count": null,
      "outputs": [
        {
          "output_type": "execute_result",
          "data": {
            "text/plain": [
              "(2, 5, 4, 3)"
            ]
          },
          "metadata": {},
          "execution_count": 176
        }
      ]
    },
    {
      "cell_type": "code",
      "source": [
        "import numpy as np\n",
        "a = np.array([[1,2],[3,4]])\n",
        "b = np.array([[5,6]])\n",
        "\n",
        "a + b"
      ],
      "metadata": {
        "colab": {
          "base_uri": "https://localhost:8080/"
        },
        "id": "E2VK124YcqQV",
        "outputId": "7e6b238b-c4b5-4ebc-ea34-b8e8007e9357"
      },
      "execution_count": null,
      "outputs": [
        {
          "output_type": "execute_result",
          "data": {
            "text/plain": [
              "array([[ 6,  8],\n",
              "       [ 8, 10]])"
            ]
          },
          "metadata": {},
          "execution_count": 183
        }
      ]
    },
    {
      "cell_type": "code",
      "source": [
        "np.concatenate((a,b))"
      ],
      "metadata": {
        "colab": {
          "base_uri": "https://localhost:8080/"
        },
        "id": "PdLYkWjadVye",
        "outputId": "cf8ddb1f-d41e-4df1-c85e-eb39e733ef0f"
      },
      "execution_count": null,
      "outputs": [
        {
          "output_type": "execute_result",
          "data": {
            "text/plain": [
              "array([[1, 2],\n",
              "       [3, 4],\n",
              "       [5, 6]])"
            ]
          },
          "metadata": {},
          "execution_count": 185
        }
      ]
    },
    {
      "cell_type": "code",
      "source": [
        "c = np.array([[5], [6]])\n",
        "np.concatenate((a,c), axis=1)"
      ],
      "metadata": {
        "colab": {
          "base_uri": "https://localhost:8080/"
        },
        "id": "dy_XKydVfFBG",
        "outputId": "413cc04e-a0a2-4966-8aa1-b0ecd9327e85"
      },
      "execution_count": null,
      "outputs": [
        {
          "output_type": "execute_result",
          "data": {
            "text/plain": [
              "array([[1, 2, 5],\n",
              "       [3, 4, 6]])"
            ]
          },
          "metadata": {},
          "execution_count": 189
        }
      ]
    },
    {
      "cell_type": "code",
      "source": [
        "s = np.array([[1,2],[3,4],[5,6]])\n",
        "s"
      ],
      "metadata": {
        "colab": {
          "base_uri": "https://localhost:8080/"
        },
        "id": "j4U8i3NrhqU3",
        "outputId": "5d632d69-826d-42d8-e861-eec7261c4b42"
      },
      "execution_count": null,
      "outputs": [
        {
          "output_type": "execute_result",
          "data": {
            "text/plain": [
              "array([[1, 2],\n",
              "       [3, 4],\n",
              "       [5, 6]])"
            ]
          },
          "metadata": {},
          "execution_count": 191
        }
      ]
    },
    {
      "cell_type": "code",
      "source": [
        "s.sum()"
      ],
      "metadata": {
        "colab": {
          "base_uri": "https://localhost:8080/"
        },
        "id": "jiad7qdouA9j",
        "outputId": "e3d1d1bb-6fa0-4a24-d5dc-2bd2a604b0d3"
      },
      "execution_count": null,
      "outputs": [
        {
          "output_type": "execute_result",
          "data": {
            "text/plain": [
              "21"
            ]
          },
          "metadata": {},
          "execution_count": 193
        }
      ]
    },
    {
      "cell_type": "code",
      "source": [
        "s.sum(axis=0)"
      ],
      "metadata": {
        "colab": {
          "base_uri": "https://localhost:8080/"
        },
        "id": "YRlKlgvEuKEr",
        "outputId": "4ddaa8f3-32d7-400e-c3ab-9ccdc7f52e13"
      },
      "execution_count": null,
      "outputs": [
        {
          "output_type": "execute_result",
          "data": {
            "text/plain": [
              "array([ 9, 12])"
            ]
          },
          "metadata": {},
          "execution_count": 195
        }
      ]
    },
    {
      "cell_type": "code",
      "source": [
        "s.sum(axis=1)"
      ],
      "metadata": {
        "colab": {
          "base_uri": "https://localhost:8080/"
        },
        "id": "8-AN8D6EublT",
        "outputId": "caaf0974-859f-4eb5-c846-5e3150a17d07"
      },
      "execution_count": null,
      "outputs": [
        {
          "output_type": "execute_result",
          "data": {
            "text/plain": [
              "array([ 3,  7, 11])"
            ]
          },
          "metadata": {},
          "execution_count": 197
        }
      ]
    },
    {
      "cell_type": "code",
      "source": [
        "import numpy as np\n",
        "\n",
        "arr = np.array(np.arange(1,11))\n",
        "\n",
        "print(arr)\n",
        "print(arr.sum())\n",
        "print(arr.cumsum())"
      ],
      "metadata": {
        "colab": {
          "base_uri": "https://localhost:8080/"
        },
        "id": "9YQXlhMZvEjD",
        "outputId": "ff81c26f-6204-46f4-d5d2-ed0d06b374c1"
      },
      "execution_count": null,
      "outputs": [
        {
          "output_type": "stream",
          "name": "stdout",
          "text": [
            "[ 1  2  3  4  5  6  7  8  9 10]\n",
            "55\n",
            "[ 1  3  6 10 15 21 28 36 45 55]\n"
          ]
        }
      ]
    },
    {
      "cell_type": "code",
      "source": [
        "arr = np.array(np.arange(1,11)).reshape(2,5)\n",
        "print(arr)\n",
        "print('---------------')\n",
        "print(arr.sum(axis=0))\n",
        "print(arr.sum(axis=1))\n",
        "print('---------------')\n",
        "print(arr.cumsum(axis=0))\n",
        "print(arr.cumsum(axis=1))"
      ],
      "metadata": {
        "colab": {
          "base_uri": "https://localhost:8080/"
        },
        "id": "7zVw6qkcvO8M",
        "outputId": "ac129c9f-a104-48b5-e6f0-02b2b366d779"
      },
      "execution_count": null,
      "outputs": [
        {
          "output_type": "stream",
          "name": "stdout",
          "text": [
            "[[ 1  2  3  4  5]\n",
            " [ 6  7  8  9 10]]\n",
            "---------------\n",
            "[ 7  9 11 13 15]\n",
            "[15 40]\n",
            "---------------\n",
            "[[ 1  2  3  4  5]\n",
            " [ 7  9 11 13 15]]\n",
            "[[ 1  3  6 10 15]\n",
            " [ 6 13 21 30 40]]\n"
          ]
        }
      ]
    },
    {
      "cell_type": "code",
      "source": [
        "import numpy as np\n",
        "arr = np.array(np.random.randint(1,10,5))\n",
        "print(arr)\n",
        "print(arr.min())\n",
        "print(arr.max())"
      ],
      "metadata": {
        "colab": {
          "base_uri": "https://localhost:8080/"
        },
        "id": "ILf4YPqDvaZs",
        "outputId": "bc6af50e-5b27-4128-c542-1e5f3e0e3402"
      },
      "execution_count": null,
      "outputs": [
        {
          "output_type": "stream",
          "name": "stdout",
          "text": [
            "[9 8 4 5 1]\n",
            "1\n",
            "9\n"
          ]
        }
      ]
    },
    {
      "cell_type": "code",
      "source": [
        "arr = np.array(np.arange(1,11)).reshape(2,5)\n",
        "print(arr)\n",
        "print('---------------')\n",
        "print(arr.min(axis=0))\n",
        "print(arr.min(axis=1))\n",
        "print('---------------')\n",
        "print(arr.max(axis=0))\n",
        "print(arr.max(axis=1))"
      ],
      "metadata": {
        "colab": {
          "base_uri": "https://localhost:8080/"
        },
        "id": "_vAs_YKJv5DU",
        "outputId": "8d061bce-c93e-47f8-c90f-fa9fe7af9607"
      },
      "execution_count": null,
      "outputs": [
        {
          "output_type": "stream",
          "name": "stdout",
          "text": [
            "[[ 1  2  3  4  5]\n",
            " [ 6  7  8  9 10]]\n",
            "---------------\n",
            "[1 2 3 4 5]\n",
            "[1 6]\n",
            "---------------\n",
            "[ 6  7  8  9 10]\n",
            "[ 5 10]\n"
          ]
        }
      ]
    },
    {
      "cell_type": "code",
      "source": [
        "import numpy as np\n",
        "\n",
        "arr = np.array([1,2,3,2,2,4,5,5,5])\n",
        "np.unique(arr)\n",
        "np.unique(arr, return_counts=True)"
      ],
      "metadata": {
        "colab": {
          "base_uri": "https://localhost:8080/"
        },
        "id": "c0JfrCkGyim1",
        "outputId": "55434c73-dddf-45bd-bd6f-bb25097b10e6"
      },
      "execution_count": null,
      "outputs": [
        {
          "output_type": "execute_result",
          "data": {
            "text/plain": [
              "(array([1, 2, 3, 4, 5]), array([1, 3, 1, 1, 3]))"
            ]
          },
          "metadata": {},
          "execution_count": 210
        }
      ]
    },
    {
      "cell_type": "code",
      "source": [
        "arr = np.random.randint(1,10,6)\n",
        "print(arr)\n",
        "np.unique(arr)"
      ],
      "metadata": {
        "colab": {
          "base_uri": "https://localhost:8080/"
        },
        "id": "GetD0UE9y3L9",
        "outputId": "beea15c8-701c-45b5-c159-6ae3ceb92a33"
      },
      "execution_count": null,
      "outputs": [
        {
          "output_type": "stream",
          "name": "stdout",
          "text": [
            "[3 4 9 6 4 9]\n"
          ]
        },
        {
          "output_type": "execute_result",
          "data": {
            "text/plain": [
              "array([3, 4, 6, 9])"
            ]
          },
          "metadata": {},
          "execution_count": 231
        }
      ]
    },
    {
      "cell_type": "code",
      "source": [
        "np.unique([1,1,2,3,4,6,2], return_counts=True)"
      ],
      "metadata": {
        "colab": {
          "base_uri": "https://localhost:8080/"
        },
        "id": "fopR6iFSzN9c",
        "outputId": "95339df2-a88f-4008-a3f3-c6d09fcde13d"
      },
      "execution_count": null,
      "outputs": [
        {
          "output_type": "execute_result",
          "data": {
            "text/plain": [
              "(array([1, 2, 3, 4, 6]), array([2, 2, 1, 1, 1]))"
            ]
          },
          "metadata": {},
          "execution_count": 237
        }
      ]
    },
    {
      "cell_type": "code",
      "source": [
        "import numpy as np\n",
        "\n",
        "arr = np.array([1,5,2,3,7,8,9,4])\n",
        "arr_a = np.sort(arr)\n",
        "arr_d = np.sort(arr)[::-1]\n",
        "print(arr_a)\n",
        "print(arr_d)"
      ],
      "metadata": {
        "colab": {
          "base_uri": "https://localhost:8080/"
        },
        "id": "c83Cv7Av0oeV",
        "outputId": "eefdc2e9-4ea1-411b-9753-a5d208f4160c"
      },
      "execution_count": null,
      "outputs": [
        {
          "output_type": "stream",
          "name": "stdout",
          "text": [
            "[1 2 3 4 5 7 8 9]\n",
            "[9 8 7 5 4 3 2 1]\n"
          ]
        }
      ]
    },
    {
      "cell_type": "code",
      "source": [
        "arr = np.array([1,5,2,3,7,8,9,4]).reshape(2,4)\n",
        "\n",
        "arr_c = np.sort(arr, axis=0)\n",
        "arr_r = np.sort(arr, axis=1)\n",
        "\n",
        "print(arr_c)\n",
        "print(arr_r)"
      ],
      "metadata": {
        "colab": {
          "base_uri": "https://localhost:8080/"
        },
        "id": "C_0CLhw91PqF",
        "outputId": "b37e1e7c-3b32-400c-92fb-a2d8e2cebfd1"
      },
      "execution_count": null,
      "outputs": [
        {
          "output_type": "stream",
          "name": "stdout",
          "text": [
            "[[1 5 2 3]\n",
            " [7 8 9 4]]\n",
            "[[1 2 3 5]\n",
            " [4 7 8 9]]\n"
          ]
        }
      ]
    },
    {
      "cell_type": "code",
      "source": [
        "np.random.choice(np.arange(1,11), size=5, replace=False)"
      ],
      "metadata": {
        "colab": {
          "base_uri": "https://localhost:8080/"
        },
        "id": "o4dqWTbh1vS-",
        "outputId": "f008f4af-a6cf-4921-c65b-87de78a76e55"
      },
      "execution_count": null,
      "outputs": [
        {
          "output_type": "execute_result",
          "data": {
            "text/plain": [
              "array([9, 5, 1, 7, 3])"
            ]
          },
          "metadata": {},
          "execution_count": 246
        }
      ]
    }
  ]
}