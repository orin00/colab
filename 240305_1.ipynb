{
 "cells": [
  {
   "cell_type": "code",
   "execution_count": 3,
   "id": "e24ef7af-50a5-4b35-88d8-f8370bc5ae8e",
   "metadata": {},
   "outputs": [
    {
     "name": "stdout",
     "output_type": "stream",
     "text": [
      "Requirement already satisfied: selenium in c:\\programdata\\anaconda3\\lib\\site-packages (4.18.1)\n",
      "Requirement already satisfied: urllib3<3,>=1.26 in c:\\programdata\\anaconda3\\lib\\site-packages (from urllib3[socks]<3,>=1.26->selenium) (1.26.18)\n",
      "Requirement already satisfied: trio~=0.17 in c:\\programdata\\anaconda3\\lib\\site-packages (from selenium) (0.24.0)\n",
      "Requirement already satisfied: trio-websocket~=0.9 in c:\\programdata\\anaconda3\\lib\\site-packages (from selenium) (0.11.1)\n",
      "Requirement already satisfied: certifi>=2021.10.8 in c:\\programdata\\anaconda3\\lib\\site-packages (from selenium) (2023.11.17)\n",
      "Requirement already satisfied: typing_extensions>=4.9.0 in c:\\programdata\\anaconda3\\lib\\site-packages (from selenium) (4.10.0)\n",
      "Requirement already satisfied: attrs>=20.1.0 in c:\\programdata\\anaconda3\\lib\\site-packages (from trio~=0.17->selenium) (23.1.0)\n",
      "Requirement already satisfied: sortedcontainers in c:\\programdata\\anaconda3\\lib\\site-packages (from trio~=0.17->selenium) (2.4.0)\n",
      "Requirement already satisfied: idna in c:\\programdata\\anaconda3\\lib\\site-packages (from trio~=0.17->selenium) (3.4)\n",
      "Requirement already satisfied: outcome in c:\\programdata\\anaconda3\\lib\\site-packages (from trio~=0.17->selenium) (1.3.0.post0)\n",
      "Requirement already satisfied: sniffio>=1.3.0 in c:\\programdata\\anaconda3\\lib\\site-packages (from trio~=0.17->selenium) (1.3.1)\n",
      "Requirement already satisfied: cffi>=1.14 in c:\\programdata\\anaconda3\\lib\\site-packages (from trio~=0.17->selenium) (1.16.0)\n",
      "Requirement already satisfied: wsproto>=0.14 in c:\\programdata\\anaconda3\\lib\\site-packages (from trio-websocket~=0.9->selenium) (1.2.0)\n",
      "Requirement already satisfied: PySocks!=1.5.7,<2.0,>=1.5.6 in c:\\programdata\\anaconda3\\lib\\site-packages (from urllib3[socks]<3,>=1.26->selenium) (1.7.1)\n",
      "Requirement already satisfied: pycparser in c:\\programdata\\anaconda3\\lib\\site-packages (from cffi>=1.14->trio~=0.17->selenium) (2.21)\n",
      "Requirement already satisfied: h11<1,>=0.9.0 in c:\\programdata\\anaconda3\\lib\\site-packages (from wsproto>=0.14->trio-websocket~=0.9->selenium) (0.14.0)\n",
      "Note: you may need to restart the kernel to use updated packages.\n"
     ]
    }
   ],
   "source": [
    "pip install selenium"
   ]
  },
  {
   "cell_type": "code",
   "execution_count": 1,
   "id": "abc1b437-2ebf-419c-9e77-a2eefba2132f",
   "metadata": {},
   "outputs": [],
   "source": [
    "import selenium"
   ]
  },
  {
   "cell_type": "code",
   "execution_count": 3,
   "id": "ebec2259-aad7-4e49-a56b-2799852a100f",
   "metadata": {},
   "outputs": [],
   "source": [
    "from selenium import webdriver # 사용할 웹 브라우저(Chrome) 드라이버\n",
    "from selenium.webdriver.common.by import By # elements를 선택하기 위한 선택자\n",
    "from selenium.webdriver.common.keys import Keys # 키보드에 키를 사용하는 모듈"
   ]
  },
  {
   "cell_type": "code",
   "execution_count": 8,
   "id": "f4bd66c9-1f7e-44d4-b219-16551b9d0b1b",
   "metadata": {},
   "outputs": [],
   "source": [
    "driver = webdriver.Chrome() ## 크롬 드라이버 열기"
   ]
  },
  {
   "cell_type": "code",
   "execution_count": 9,
   "id": "c0fbe304-c048-4c55-94ff-ee3400881c69",
   "metadata": {},
   "outputs": [],
   "source": [
    "driver.get('https://www.naver.com/') # URL 이동"
   ]
  },
  {
   "cell_type": "code",
   "execution_count": 7,
   "id": "c1c5be2f-3e03-4a7b-9c6e-6ef53b5d3617",
   "metadata": {},
   "outputs": [],
   "source": [
    "driver.close() # 브라우저 닫기"
   ]
  },
  {
   "cell_type": "code",
   "execution_count": null,
   "id": "98491fa7-bbba-4613-a402-e49a21218397",
   "metadata": {},
   "outputs": [],
   "source": [
    "driver.back() # 뒤로가기"
   ]
  },
  {
   "cell_type": "code",
   "execution_count": 10,
   "id": "c2d4e7b9-1e2e-4c15-b7bf-70b442327b46",
   "metadata": {},
   "outputs": [],
   "source": [
    "elm = driver.find_element(By.ID, 'query')"
   ]
  },
  {
   "cell_type": "code",
   "execution_count": 11,
   "id": "bf07240f-6a97-4e8b-8b53-f8693b22f1d5",
   "metadata": {},
   "outputs": [],
   "source": [
    "elm.send_keys('아무거나')"
   ]
  },
  {
   "cell_type": "code",
   "execution_count": 13,
   "id": "76a17545-61cd-445f-9b3f-33a5cf1f30fd",
   "metadata": {},
   "outputs": [],
   "source": [
    "elm.send_keys(Keys.RETURN) # RETURN이 엔터키"
   ]
  },
  {
   "cell_type": "code",
   "execution_count": 20,
   "id": "0bbad313-ce63-4699-88a1-3861e744161b",
   "metadata": {},
   "outputs": [],
   "source": [
    "next_elm = driver.find_element(By.XPATH, '//*[@id=\"main_pack\"]/section[1]/div/div/div[3]/div[2]/div[2]/div[2]/a/i')"
   ]
  },
  {
   "cell_type": "code",
   "execution_count": 23,
   "id": "91e6cd65-f3f8-4809-86a2-24802395a70a",
   "metadata": {},
   "outputs": [],
   "source": [
    "next_elm.click()"
   ]
  },
  {
   "cell_type": "code",
   "execution_count": 24,
   "id": "29d0bc22-d916-44f9-bf4e-d5b9886431ea",
   "metadata": {},
   "outputs": [],
   "source": [
    "next_elm = driver.find_element(By.XPATH, '//*[@id=\"lnb\"]/div[1]/div/div[1]/div/div[1]/div[5]/a')"
   ]
  },
  {
   "cell_type": "code",
   "execution_count": 25,
   "id": "4a828fb3-577a-4c99-ab7b-7f6b02738087",
   "metadata": {},
   "outputs": [],
   "source": [
    "next_elm.click()"
   ]
  },
  {
   "cell_type": "code",
   "execution_count": 70,
   "id": "fdf84628-86f7-4c9a-94e9-c0f0c99048de",
   "metadata": {},
   "outputs": [],
   "source": [
    "# 원하는 웹사이트로 이동\n",
    "driver.get('https://www.google.com')"
   ]
  },
  {
   "cell_type": "code",
   "execution_count": 71,
   "id": "807fc7db-51bc-487e-85cf-7a9a31b5a9cc",
   "metadata": {},
   "outputs": [],
   "source": [
    "next_elm = driver.find_element(By.XPATH, '/html/body/div[1]/div[3]/form/div[1]/div[1]/div[1]/div/div[2]/textarea')"
   ]
  },
  {
   "cell_type": "code",
   "execution_count": 72,
   "id": "57f7e90d-326f-43b2-90eb-bbeda569d961",
   "metadata": {},
   "outputs": [],
   "source": [
    "next_elm.send_keys('스타벅스')"
   ]
  },
  {
   "cell_type": "code",
   "execution_count": 73,
   "id": "941d02e1-6a2e-431f-92da-38b69f0d7baf",
   "metadata": {},
   "outputs": [],
   "source": [
    "next_elm.send_keys(Keys.RETURN)"
   ]
  },
  {
   "cell_type": "code",
   "execution_count": 51,
   "id": "7b9cc763-78f4-4613-bf82-61a4aaf4d710",
   "metadata": {},
   "outputs": [],
   "source": [
    "driver.back()"
   ]
  },
  {
   "cell_type": "code",
   "execution_count": 76,
   "id": "2195a0ac-1f72-4a15-b122-e7672e50aaa0",
   "metadata": {},
   "outputs": [],
   "source": [
    "img_elm = driver.find_elements(By.CLASS_NAME, 'GKS7s')"
   ]
  },
  {
   "cell_type": "code",
   "execution_count": 77,
   "id": "18ab46da-0051-412e-bd04-9a625e273bb3",
   "metadata": {},
   "outputs": [
    {
     "data": {
      "text/plain": [
       "[<selenium.webdriver.remote.webelement.WebElement (session=\"acd85cc5d2857d4c04a571f6c71556ba\", element=\"f.CC7A11968B9F6BCB4BC9D30FEBBCA137.d.123F8B2F71B973EFCC23B41891A953FE.e.10374\")>,\n",
       " <selenium.webdriver.remote.webelement.WebElement (session=\"acd85cc5d2857d4c04a571f6c71556ba\", element=\"f.CC7A11968B9F6BCB4BC9D30FEBBCA137.d.123F8B2F71B973EFCC23B41891A953FE.e.10379\")>,\n",
       " <selenium.webdriver.remote.webelement.WebElement (session=\"acd85cc5d2857d4c04a571f6c71556ba\", element=\"f.CC7A11968B9F6BCB4BC9D30FEBBCA137.d.123F8B2F71B973EFCC23B41891A953FE.e.10384\")>,\n",
       " <selenium.webdriver.remote.webelement.WebElement (session=\"acd85cc5d2857d4c04a571f6c71556ba\", element=\"f.CC7A11968B9F6BCB4BC9D30FEBBCA137.d.123F8B2F71B973EFCC23B41891A953FE.e.10622\")>,\n",
       " <selenium.webdriver.remote.webelement.WebElement (session=\"acd85cc5d2857d4c04a571f6c71556ba\", element=\"f.CC7A11968B9F6BCB4BC9D30FEBBCA137.d.123F8B2F71B973EFCC23B41891A953FE.e.12392\")>,\n",
       " <selenium.webdriver.remote.webelement.WebElement (session=\"acd85cc5d2857d4c04a571f6c71556ba\", element=\"f.CC7A11968B9F6BCB4BC9D30FEBBCA137.d.123F8B2F71B973EFCC23B41891A953FE.e.12396\")>,\n",
       " <selenium.webdriver.remote.webelement.WebElement (session=\"acd85cc5d2857d4c04a571f6c71556ba\", element=\"f.CC7A11968B9F6BCB4BC9D30FEBBCA137.d.123F8B2F71B973EFCC23B41891A953FE.e.12400\")>,\n",
       " <selenium.webdriver.remote.webelement.WebElement (session=\"acd85cc5d2857d4c04a571f6c71556ba\", element=\"f.CC7A11968B9F6BCB4BC9D30FEBBCA137.d.123F8B2F71B973EFCC23B41891A953FE.e.12404\")>,\n",
       " <selenium.webdriver.remote.webelement.WebElement (session=\"acd85cc5d2857d4c04a571f6c71556ba\", element=\"f.CC7A11968B9F6BCB4BC9D30FEBBCA137.d.123F8B2F71B973EFCC23B41891A953FE.e.12408\")>]"
      ]
     },
     "execution_count": 77,
     "metadata": {},
     "output_type": "execute_result"
    }
   ],
   "source": [
    "img_elm"
   ]
  },
  {
   "cell_type": "code",
   "execution_count": 78,
   "id": "81693dac-a9a0-4908-bfe7-e6df10bdc7e5",
   "metadata": {},
   "outputs": [],
   "source": [
    "img_elm[1].click()"
   ]
  },
  {
   "cell_type": "code",
   "execution_count": 57,
   "id": "994a250c-93e7-4c0b-aa2d-321da31dd890",
   "metadata": {},
   "outputs": [],
   "source": [
    "driver.execute_script(\"window.scrollBy(0, 5000);\") # 스크롤 내리기"
   ]
  },
  {
   "cell_type": "code",
   "execution_count": 66,
   "id": "f3eb5b1a-1eaa-46b7-b081-51b65c3b5afb",
   "metadata": {},
   "outputs": [],
   "source": [
    "imgdetail_elm = driver.find_elements(By.CLASS_NAME, 'Q4LuWd')"
   ]
  },
  {
   "cell_type": "code",
   "execution_count": 69,
   "id": "4d5361e4-b208-40cd-ac32-e039ce55a046",
   "metadata": {},
   "outputs": [],
   "source": [
    "imgdetail_elm[2].click()"
   ]
  },
  {
   "cell_type": "code",
   "execution_count": 109,
   "id": "f02b2aa9-8f51-403a-aae9-a0dccbc9b99e",
   "metadata": {},
   "outputs": [],
   "source": [
    "from selenium import webdriver\n",
    "from selenium.webdriver.common.by import By\n",
    "from selenium.webdriver.common.keys import Keys\n",
    "import time\n",
    "\n",
    "driver=webdriver.Chrome()"
   ]
  },
  {
   "cell_type": "code",
   "execution_count": 110,
   "id": "aa4a297f-055c-45ae-92d7-cc3db2c4ca58",
   "metadata": {},
   "outputs": [],
   "source": [
    "driver.get('https://nid.naver.com/nidlogin.login?mode=form&url=https://www.naver.com/')"
   ]
  },
  {
   "cell_type": "code",
   "execution_count": 106,
   "id": "62dd00a1-8a5b-439a-b3a7-b0d13690f40a",
   "metadata": {},
   "outputs": [],
   "source": [
    "# 블락걸려서 막힘\n",
    "elm = driver.find_element(By.ID, 'id')\n",
    "elm.send_keys(myid)\n",
    "time.sleep(5)\n",
    "#pw_line"
   ]
  },
  {
   "cell_type": "code",
   "execution_count": 107,
   "id": "26ee2c24-401d-4ae9-96fc-cecbcbe20c91",
   "metadata": {},
   "outputs": [],
   "source": [
    "# 블락걸려서 막힘\n",
    "elm = driver.find_element(By.ID, 'pw')\n",
    "elm.send_keys(pw)\n",
    "time.sleep(2)"
   ]
  },
  {
   "cell_type": "code",
   "execution_count": 108,
   "id": "684b1e1d-adfd-4041-88ae-bec8497e4e53",
   "metadata": {},
   "outputs": [],
   "source": [
    "driver.find_element(By.XPATH, '//*[@id=\"log.login\"]').click()"
   ]
  },
  {
   "cell_type": "code",
   "execution_count": 111,
   "id": "d8f8a924-67d1-4c1d-8f70-a5eff73773b7",
   "metadata": {},
   "outputs": [],
   "source": [
    "onetime = '49926648'\n",
    "\n",
    "driver.find_element(By.ID, 'ones').click()\n",
    "\n",
    "elm = driver.find_element(By.ID,'disposable')\n",
    "elm.send_keys(onetime)\n",
    "\n",
    "# 로그인 버튼 클릭: xpath => //*[@id=\"otnlog.login\"]\n",
    "driver.find_element(By.XPATH, '//*[@id=\"otnlog.login\"]').click()"
   ]
  },
  {
   "cell_type": "code",
   "execution_count": 116,
   "id": "9ae271a0-ac15-4ffa-bbc8-75a550444886",
   "metadata": {},
   "outputs": [],
   "source": [
    "from selenium import webdriver # 제어가 가능한 Webdriver 크롬 브라우저\n",
    "from selenium.webdriver.common.by import By # select를 위한 선택자(CCS,ID,CLASS,NAME, XPATH 등)\n",
    "from selenium.webdriver.common.keys import Keys # 키보드에 있는 키를 사용하기 위한 모듈\n",
    "import time\n",
    "from bs4 import BeautifulSoup\n",
    "import requests\n",
    "\n",
    "driver = webdriver.Chrome()"
   ]
  },
  {
   "cell_type": "code",
   "execution_count": 121,
   "id": "ab6132a0-1467-4cce-8ca2-45ce34548cbd",
   "metadata": {},
   "outputs": [
    {
     "name": "stdin",
     "output_type": "stream",
     "text": [
      "검색어를 입력하시오. 민트초코치킨\n"
     ]
    }
   ],
   "source": [
    "# 이미지 검색할 검색어\n",
    "search = input('검색어를 입력하시오.')\n",
    "\n",
    "# 이미지 url로 이동\n",
    "driver.get('https://search.naver.com/search.naver?ssc=tab.image.all&where=image&sm=tab_jum&query='+search)\n",
    "\n",
    "# 스크롤 자동으로 내림\n",
    "for i in range(5):\n",
    "    time.sleep(3)\n",
    "    driver.execute_script('window.scrollTo(0, document.body.scrollHeight)')\n",
    "\n",
    "# selenium으로 이미지 src 속성값 가져오기\n",
    "img = driver.find_elements(By.CLASS_NAME, '_fe_image_tab_content_thumbnail_image')\n",
    "src = []\n",
    "for i in img:\n",
    "    if 'https' in i.get_attribute('src'):\n",
    "        src.append(i.get_attribute('src'))"
   ]
  },
  {
   "cell_type": "code",
   "execution_count": 123,
   "id": "d2a3ed03-acf4-4f1b-bbb3-4819fa8308d6",
   "metadata": {},
   "outputs": [
    {
     "data": {
      "text/plain": [
       "152"
      ]
     },
     "execution_count": 123,
     "metadata": {},
     "output_type": "execute_result"
    }
   ],
   "source": [
    "len(src)"
   ]
  },
  {
   "cell_type": "code",
   "execution_count": 125,
   "id": "40b98fad-e19b-4b25-823a-c2f57006adb6",
   "metadata": {},
   "outputs": [],
   "source": [
    "# 이미지 저장\n",
    "\n",
    "count = 0\n",
    "for url in src:\n",
    "    count += 1\n",
    "    img = open('./mint/'+search+ str(count)+'.png', 'wb') #파일 생성할 때는 'wb'\n",
    "    img.write(requests.get(url).content)\n",
    "    img.close()"
   ]
  },
  {
   "cell_type": "code",
   "execution_count": 126,
   "id": "657db244-cdee-45a4-bda2-88ad2866ff41",
   "metadata": {},
   "outputs": [],
   "source": [
    "from selenium import webdriver # 제어가 가능한 Webdriver 크롬 브라우저\n",
    "from selenium.webdriver.common.by import By # select를 위한 선택자(CCS,ID,CLASS,NAME, XPATH 등)\n",
    "from selenium.webdriver.common.keys import Keys # 키보드에 있는 키를 사용하기 위한 모듈\n",
    "import time\n",
    "from bs4 import BeautifulSoup\n",
    "import requests\n",
    "\n",
    "driver = webdriver.Chrome()"
   ]
  },
  {
   "cell_type": "code",
   "execution_count": 127,
   "id": "8668ab15-7714-4ef3-aaf0-0b5defbe6c9d",
   "metadata": {},
   "outputs": [],
   "source": [
    "# url로 이동\n",
    "driver.get('https://artvee.com/')"
   ]
  },
  {
   "cell_type": "code",
   "execution_count": 129,
   "id": "f1c3f2ea-f282-4a8d-b5ad-cead8d1acc67",
   "metadata": {},
   "outputs": [],
   "source": [
    "## 이미지 elements 선택하기\n",
    "imgs = driver.find_elements(By.CLASS_NAME, 'lazy')"
   ]
  },
  {
   "cell_type": "code",
   "execution_count": 130,
   "id": "113fc5fe-6b70-42ca-b642-e291df0594f8",
   "metadata": {},
   "outputs": [
    {
     "data": {
      "text/plain": [
       "[<selenium.webdriver.remote.webelement.WebElement (session=\"c25b9102d015e312bfe307143bbe7193\", element=\"f.184ADA1F8E04D6907F1489E490CD0B16.d.2954915A5553F8875E213A6F73C6E814.e.55\")>,\n",
       " <selenium.webdriver.remote.webelement.WebElement (session=\"c25b9102d015e312bfe307143bbe7193\", element=\"f.184ADA1F8E04D6907F1489E490CD0B16.d.2954915A5553F8875E213A6F73C6E814.e.56\")>,\n",
       " <selenium.webdriver.remote.webelement.WebElement (session=\"c25b9102d015e312bfe307143bbe7193\", element=\"f.184ADA1F8E04D6907F1489E490CD0B16.d.2954915A5553F8875E213A6F73C6E814.e.57\")>,\n",
       " <selenium.webdriver.remote.webelement.WebElement (session=\"c25b9102d015e312bfe307143bbe7193\", element=\"f.184ADA1F8E04D6907F1489E490CD0B16.d.2954915A5553F8875E213A6F73C6E814.e.58\")>,\n",
       " <selenium.webdriver.remote.webelement.WebElement (session=\"c25b9102d015e312bfe307143bbe7193\", element=\"f.184ADA1F8E04D6907F1489E490CD0B16.d.2954915A5553F8875E213A6F73C6E814.e.59\")>,\n",
       " <selenium.webdriver.remote.webelement.WebElement (session=\"c25b9102d015e312bfe307143bbe7193\", element=\"f.184ADA1F8E04D6907F1489E490CD0B16.d.2954915A5553F8875E213A6F73C6E814.e.60\")>,\n",
       " <selenium.webdriver.remote.webelement.WebElement (session=\"c25b9102d015e312bfe307143bbe7193\", element=\"f.184ADA1F8E04D6907F1489E490CD0B16.d.2954915A5553F8875E213A6F73C6E814.e.61\")>,\n",
       " <selenium.webdriver.remote.webelement.WebElement (session=\"c25b9102d015e312bfe307143bbe7193\", element=\"f.184ADA1F8E04D6907F1489E490CD0B16.d.2954915A5553F8875E213A6F73C6E814.e.62\")>,\n",
       " <selenium.webdriver.remote.webelement.WebElement (session=\"c25b9102d015e312bfe307143bbe7193\", element=\"f.184ADA1F8E04D6907F1489E490CD0B16.d.2954915A5553F8875E213A6F73C6E814.e.63\")>,\n",
       " <selenium.webdriver.remote.webelement.WebElement (session=\"c25b9102d015e312bfe307143bbe7193\", element=\"f.184ADA1F8E04D6907F1489E490CD0B16.d.2954915A5553F8875E213A6F73C6E814.e.64\")>,\n",
       " <selenium.webdriver.remote.webelement.WebElement (session=\"c25b9102d015e312bfe307143bbe7193\", element=\"f.184ADA1F8E04D6907F1489E490CD0B16.d.2954915A5553F8875E213A6F73C6E814.e.65\")>,\n",
       " <selenium.webdriver.remote.webelement.WebElement (session=\"c25b9102d015e312bfe307143bbe7193\", element=\"f.184ADA1F8E04D6907F1489E490CD0B16.d.2954915A5553F8875E213A6F73C6E814.e.66\")>,\n",
       " <selenium.webdriver.remote.webelement.WebElement (session=\"c25b9102d015e312bfe307143bbe7193\", element=\"f.184ADA1F8E04D6907F1489E490CD0B16.d.2954915A5553F8875E213A6F73C6E814.e.67\")>,\n",
       " <selenium.webdriver.remote.webelement.WebElement (session=\"c25b9102d015e312bfe307143bbe7193\", element=\"f.184ADA1F8E04D6907F1489E490CD0B16.d.2954915A5553F8875E213A6F73C6E814.e.68\")>,\n",
       " <selenium.webdriver.remote.webelement.WebElement (session=\"c25b9102d015e312bfe307143bbe7193\", element=\"f.184ADA1F8E04D6907F1489E490CD0B16.d.2954915A5553F8875E213A6F73C6E814.e.69\")>,\n",
       " <selenium.webdriver.remote.webelement.WebElement (session=\"c25b9102d015e312bfe307143bbe7193\", element=\"f.184ADA1F8E04D6907F1489E490CD0B16.d.2954915A5553F8875E213A6F73C6E814.e.70\")>,\n",
       " <selenium.webdriver.remote.webelement.WebElement (session=\"c25b9102d015e312bfe307143bbe7193\", element=\"f.184ADA1F8E04D6907F1489E490CD0B16.d.2954915A5553F8875E213A6F73C6E814.e.71\")>,\n",
       " <selenium.webdriver.remote.webelement.WebElement (session=\"c25b9102d015e312bfe307143bbe7193\", element=\"f.184ADA1F8E04D6907F1489E490CD0B16.d.2954915A5553F8875E213A6F73C6E814.e.72\")>,\n",
       " <selenium.webdriver.remote.webelement.WebElement (session=\"c25b9102d015e312bfe307143bbe7193\", element=\"f.184ADA1F8E04D6907F1489E490CD0B16.d.2954915A5553F8875E213A6F73C6E814.e.73\")>,\n",
       " <selenium.webdriver.remote.webelement.WebElement (session=\"c25b9102d015e312bfe307143bbe7193\", element=\"f.184ADA1F8E04D6907F1489E490CD0B16.d.2954915A5553F8875E213A6F73C6E814.e.74\")>,\n",
       " <selenium.webdriver.remote.webelement.WebElement (session=\"c25b9102d015e312bfe307143bbe7193\", element=\"f.184ADA1F8E04D6907F1489E490CD0B16.d.2954915A5553F8875E213A6F73C6E814.e.75\")>,\n",
       " <selenium.webdriver.remote.webelement.WebElement (session=\"c25b9102d015e312bfe307143bbe7193\", element=\"f.184ADA1F8E04D6907F1489E490CD0B16.d.2954915A5553F8875E213A6F73C6E814.e.76\")>,\n",
       " <selenium.webdriver.remote.webelement.WebElement (session=\"c25b9102d015e312bfe307143bbe7193\", element=\"f.184ADA1F8E04D6907F1489E490CD0B16.d.2954915A5553F8875E213A6F73C6E814.e.77\")>,\n",
       " <selenium.webdriver.remote.webelement.WebElement (session=\"c25b9102d015e312bfe307143bbe7193\", element=\"f.184ADA1F8E04D6907F1489E490CD0B16.d.2954915A5553F8875E213A6F73C6E814.e.78\")>,\n",
       " <selenium.webdriver.remote.webelement.WebElement (session=\"c25b9102d015e312bfe307143bbe7193\", element=\"f.184ADA1F8E04D6907F1489E490CD0B16.d.2954915A5553F8875E213A6F73C6E814.e.79\")>,\n",
       " <selenium.webdriver.remote.webelement.WebElement (session=\"c25b9102d015e312bfe307143bbe7193\", element=\"f.184ADA1F8E04D6907F1489E490CD0B16.d.2954915A5553F8875E213A6F73C6E814.e.80\")>,\n",
       " <selenium.webdriver.remote.webelement.WebElement (session=\"c25b9102d015e312bfe307143bbe7193\", element=\"f.184ADA1F8E04D6907F1489E490CD0B16.d.2954915A5553F8875E213A6F73C6E814.e.81\")>,\n",
       " <selenium.webdriver.remote.webelement.WebElement (session=\"c25b9102d015e312bfe307143bbe7193\", element=\"f.184ADA1F8E04D6907F1489E490CD0B16.d.2954915A5553F8875E213A6F73C6E814.e.82\")>,\n",
       " <selenium.webdriver.remote.webelement.WebElement (session=\"c25b9102d015e312bfe307143bbe7193\", element=\"f.184ADA1F8E04D6907F1489E490CD0B16.d.2954915A5553F8875E213A6F73C6E814.e.83\")>,\n",
       " <selenium.webdriver.remote.webelement.WebElement (session=\"c25b9102d015e312bfe307143bbe7193\", element=\"f.184ADA1F8E04D6907F1489E490CD0B16.d.2954915A5553F8875E213A6F73C6E814.e.84\")>]"
      ]
     },
     "execution_count": 130,
     "metadata": {},
     "output_type": "execute_result"
    }
   ],
   "source": [
    "imgs"
   ]
  },
  {
   "cell_type": "code",
   "execution_count": 132,
   "id": "a3386d1e-a334-4750-938e-05f25b517b34",
   "metadata": {},
   "outputs": [],
   "source": [
    "imgs[0].click()"
   ]
  },
  {
   "cell_type": "code",
   "execution_count": 135,
   "id": "11236132-75e8-4a4a-9736-92767898f471",
   "metadata": {},
   "outputs": [],
   "source": [
    "dw_elm = driver.find_element(By.CLASS_NAME, 'prem-link')\n",
    "dw_elm.click()"
   ]
  },
  {
   "cell_type": "code",
   "execution_count": 136,
   "id": "6def7e1f-b381-4eb1-a8c2-419bcd7c01a0",
   "metadata": {},
   "outputs": [],
   "source": [
    "close_elm = driver.find_element(By.CLASS_NAME, 'lrm-close-form')\n",
    "close_elm.click()"
   ]
  },
  {
   "cell_type": "code",
   "execution_count": 150,
   "id": "befbbfec-e2b7-4cd7-b756-9010119ec0f5",
   "metadata": {},
   "outputs": [],
   "source": [
    "def artvee(page):\n",
    "    url = 'https://artvee.com/page/'\n",
    "    for i in range(int(page)):\n",
    "        driver.get(url+str(i+1))\n",
    "        # 이미지 elements 선택하기\n",
    "        time.sleep(1)\n",
    "        imgs = driver.find_elements(By.CLASS_NAME, 'lazy')\n",
    "        cnt=0\n",
    "        try:\n",
    "            for img in imgs:\n",
    "                \n",
    "                time.sleep(1)\n",
    "                cnt += 1\n",
    "                #각 이미지 접속하기\n",
    "                img.click()\n",
    "                time.sleep(1)\n",
    "                #이미지 다운로드\n",
    "                dw_elm = driver.find_element(By.CLASS_NAME, 'prem-link')\n",
    "                dw_elm.click()\n",
    "                time.sleep(1)\n",
    "                #이미지 닫기\n",
    "                close_elm = driver.find_element(By.CLASS_NAME, 'lrm-close-form')\n",
    "                close_elm.click()\n",
    "                time.sleep(1)\n",
    "                print(f'{cnt} / {len(imgs)} 를 다운로드 했음')\n",
    "        except:\n",
    "            pass"
   ]
  },
  {
   "cell_type": "code",
   "execution_count": 151,
   "id": "90299c91-e226-4441-a7f9-e8d10e1faae1",
   "metadata": {},
   "outputs": [
    {
     "name": "stdout",
     "output_type": "stream",
     "text": [
      "1 / 30 를 다운로드 했음\n",
      "2 / 30 를 다운로드 했음\n",
      "3 / 30 를 다운로드 했음\n",
      "4 / 30 를 다운로드 했음\n",
      "5 / 30 를 다운로드 했음\n",
      "6 / 30 를 다운로드 했음\n",
      "7 / 30 를 다운로드 했음\n",
      "8 / 30 를 다운로드 했음\n",
      "9 / 30 를 다운로드 했음\n",
      "10 / 30 를 다운로드 했음\n",
      "11 / 30 를 다운로드 했음\n",
      "12 / 30 를 다운로드 했음\n",
      "13 / 30 를 다운로드 했음\n",
      "14 / 30 를 다운로드 했음\n",
      "15 / 30 를 다운로드 했음\n",
      "16 / 30 를 다운로드 했음\n",
      "17 / 30 를 다운로드 했음\n",
      "18 / 30 를 다운로드 했음\n",
      "19 / 30 를 다운로드 했음\n",
      "20 / 30 를 다운로드 했음\n",
      "21 / 30 를 다운로드 했음\n",
      "22 / 30 를 다운로드 했음\n",
      "23 / 30 를 다운로드 했음\n",
      "24 / 30 를 다운로드 했음\n",
      "25 / 30 를 다운로드 했음\n",
      "26 / 30 를 다운로드 했음\n",
      "27 / 30 를 다운로드 했음\n",
      "28 / 30 를 다운로드 했음\n",
      "29 / 30 를 다운로드 했음\n",
      "30 / 30 를 다운로드 했음\n",
      "1 / 30 를 다운로드 했음\n",
      "2 / 30 를 다운로드 했음\n",
      "3 / 30 를 다운로드 했음\n",
      "4 / 30 를 다운로드 했음\n",
      "5 / 30 를 다운로드 했음\n",
      "6 / 30 를 다운로드 했음\n",
      "7 / 30 를 다운로드 했음\n",
      "8 / 30 를 다운로드 했음\n",
      "9 / 30 를 다운로드 했음\n",
      "10 / 30 를 다운로드 했음\n",
      "11 / 30 를 다운로드 했음\n",
      "12 / 30 를 다운로드 했음\n",
      "13 / 30 를 다운로드 했음\n",
      "14 / 30 를 다운로드 했음\n",
      "15 / 30 를 다운로드 했음\n",
      "16 / 30 를 다운로드 했음\n",
      "17 / 30 를 다운로드 했음\n",
      "18 / 30 를 다운로드 했음\n",
      "19 / 30 를 다운로드 했음\n",
      "20 / 30 를 다운로드 했음\n",
      "21 / 30 를 다운로드 했음\n",
      "22 / 30 를 다운로드 했음\n",
      "23 / 30 를 다운로드 했음\n",
      "24 / 30 를 다운로드 했음\n",
      "25 / 30 를 다운로드 했음\n",
      "26 / 30 를 다운로드 했음\n",
      "27 / 30 를 다운로드 했음\n",
      "28 / 30 를 다운로드 했음\n",
      "29 / 30 를 다운로드 했음\n",
      "30 / 30 를 다운로드 했음\n",
      "1 / 30 를 다운로드 했음\n",
      "2 / 30 를 다운로드 했음\n",
      "3 / 30 를 다운로드 했음\n",
      "4 / 30 를 다운로드 했음\n",
      "5 / 30 를 다운로드 했음\n",
      "6 / 30 를 다운로드 했음\n",
      "7 / 30 를 다운로드 했음\n",
      "8 / 30 를 다운로드 했음\n",
      "9 / 30 를 다운로드 했음\n",
      "10 / 30 를 다운로드 했음\n",
      "11 / 30 를 다운로드 했음\n",
      "12 / 30 를 다운로드 했음\n",
      "13 / 30 를 다운로드 했음\n",
      "14 / 30 를 다운로드 했음\n",
      "15 / 30 를 다운로드 했음\n",
      "16 / 30 를 다운로드 했음\n",
      "17 / 30 를 다운로드 했음\n",
      "18 / 30 를 다운로드 했음\n",
      "19 / 30 를 다운로드 했음\n",
      "20 / 30 를 다운로드 했음\n",
      "21 / 30 를 다운로드 했음\n",
      "22 / 30 를 다운로드 했음\n",
      "23 / 30 를 다운로드 했음\n",
      "24 / 30 를 다운로드 했음\n",
      "25 / 30 를 다운로드 했음\n",
      "26 / 30 를 다운로드 했음\n",
      "27 / 30 를 다운로드 했음\n",
      "28 / 30 를 다운로드 했음\n",
      "29 / 30 를 다운로드 했음\n",
      "30 / 30 를 다운로드 했음\n",
      "1 / 30 를 다운로드 했음\n",
      "2 / 30 를 다운로드 했음\n",
      "3 / 30 를 다운로드 했음\n",
      "4 / 30 를 다운로드 했음\n",
      "5 / 30 를 다운로드 했음\n",
      "6 / 30 를 다운로드 했음\n",
      "7 / 30 를 다운로드 했음\n",
      "8 / 30 를 다운로드 했음\n",
      "9 / 30 를 다운로드 했음\n",
      "10 / 30 를 다운로드 했음\n",
      "11 / 30 를 다운로드 했음\n",
      "12 / 30 를 다운로드 했음\n",
      "13 / 30 를 다운로드 했음\n",
      "14 / 30 를 다운로드 했음\n",
      "15 / 30 를 다운로드 했음\n",
      "16 / 30 를 다운로드 했음\n",
      "17 / 30 를 다운로드 했음\n",
      "18 / 30 를 다운로드 했음\n",
      "19 / 30 를 다운로드 했음\n",
      "20 / 30 를 다운로드 했음\n",
      "21 / 30 를 다운로드 했음\n",
      "22 / 30 를 다운로드 했음\n",
      "23 / 30 를 다운로드 했음\n",
      "24 / 30 를 다운로드 했음\n",
      "25 / 30 를 다운로드 했음\n",
      "26 / 30 를 다운로드 했음\n",
      "27 / 30 를 다운로드 했음\n",
      "28 / 30 를 다운로드 했음\n",
      "29 / 30 를 다운로드 했음\n",
      "30 / 30 를 다운로드 했음\n",
      "1 / 30 를 다운로드 했음\n",
      "2 / 30 를 다운로드 했음\n",
      "3 / 30 를 다운로드 했음\n",
      "4 / 30 를 다운로드 했음\n",
      "5 / 30 를 다운로드 했음\n",
      "6 / 30 를 다운로드 했음\n",
      "7 / 30 를 다운로드 했음\n",
      "8 / 30 를 다운로드 했음\n",
      "9 / 30 를 다운로드 했음\n",
      "10 / 30 를 다운로드 했음\n",
      "11 / 30 를 다운로드 했음\n",
      "12 / 30 를 다운로드 했음\n",
      "13 / 30 를 다운로드 했음\n",
      "14 / 30 를 다운로드 했음\n",
      "15 / 30 를 다운로드 했음\n",
      "16 / 30 를 다운로드 했음\n",
      "17 / 30 를 다운로드 했음\n",
      "18 / 30 를 다운로드 했음\n",
      "19 / 30 를 다운로드 했음\n",
      "20 / 30 를 다운로드 했음\n",
      "21 / 30 를 다운로드 했음\n",
      "22 / 30 를 다운로드 했음\n",
      "23 / 30 를 다운로드 했음\n",
      "24 / 30 를 다운로드 했음\n",
      "25 / 30 를 다운로드 했음\n",
      "26 / 30 를 다운로드 했음\n",
      "27 / 30 를 다운로드 했음\n",
      "28 / 30 를 다운로드 했음\n",
      "29 / 30 를 다운로드 했음\n",
      "30 / 30 를 다운로드 했음\n"
     ]
    }
   ],
   "source": [
    "artvee('5')"
   ]
  },
  {
   "cell_type": "code",
   "execution_count": null,
   "id": "961c7d1d-a534-4062-b15d-0b9e03af5e0e",
   "metadata": {},
   "outputs": [],
   "source": []
  }
 ],
 "metadata": {
  "kernelspec": {
   "display_name": "Python 3 (ipykernel)",
   "language": "python",
   "name": "python3"
  },
  "language_info": {
   "codemirror_mode": {
    "name": "ipython",
    "version": 3
   },
   "file_extension": ".py",
   "mimetype": "text/x-python",
   "name": "python",
   "nbconvert_exporter": "python",
   "pygments_lexer": "ipython3",
   "version": "3.11.5"
  }
 },
 "nbformat": 4,
 "nbformat_minor": 5
}
