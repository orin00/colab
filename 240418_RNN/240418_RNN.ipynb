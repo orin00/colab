{
 "cells": [
  {
   "cell_type": "code",
   "execution_count": 96,
   "id": "807144ac-2baa-446b-a4bd-65bcaa5d4545",
   "metadata": {},
   "outputs": [
    {
     "data": {
      "text/plain": [
       "array([0., 0., 0., 0., 0., 0., 0., 0.])"
      ]
     },
     "execution_count": 96,
     "metadata": {},
     "output_type": "execute_result"
    }
   ],
   "source": [
    "# RNN 구현하기 (numpy)\n",
    "# one-to-many, many-to-one, many-to-many\n",
    "import numpy as np\n",
    "\n",
    "# 초기 상태 셋팅\n",
    "timesteps = 10 # 시계열 데이터 크기 == 행 (학습 반복 횟수)\n",
    "input_dim = 4 # 입력값의 크기 == 열\n",
    "hidden_units = 8 # 은닉상태의 크기 == RNN셀의 용량, 메모리 셀의 갯수\n",
    "\n",
    "# 입력 데이터 만들기\n",
    "inputs = np.random.random((timesteps, input_dim))\n",
    "inputs.shape # (10, 4)\n",
    "inputs # 2차원 array\n",
    "\n",
    "# 초기 은닉 상태를 설정\n",
    "hidden_state_t = np.zeros((hidden_units,))\n",
    "hidden_state_t"
   ]
  },
  {
   "cell_type": "code",
   "execution_count": 97,
   "id": "37a280d0-b235-4ad9-82f9-ecd4e3ca9e67",
   "metadata": {},
   "outputs": [
    {
     "name": "stdout",
     "output_type": "stream",
     "text": [
      "(8, 4) (8, 8) (8,)\n"
     ]
    }
   ],
   "source": [
    "# 각각의 가중치와 편향 설정\n",
    "wx = np.random.random((hidden_units, input_dim)) # 입력 데이터에 대한 가중치 행렬 (8, 4)\n",
    "wh = np.random.random((hidden_units, hidden_units)) # 은닉 상태에 대한 가중치 행렬 (8, 8)\n",
    "b = np.random.random((hidden_units,)) # 은닉 상태에 대한 편향(8,)\n",
    "print(wx.shape, wh.shape, b.shape)"
   ]
  },
  {
   "cell_type": "code",
   "execution_count": 98,
   "id": "f17745ef-e8b0-438c-9c14-bc575370df29",
   "metadata": {},
   "outputs": [
    {
     "name": "stdout",
     "output_type": "stream",
     "text": [
      "모든 시점의 은닉 상태\n",
      "[[0.79760423 0.69018171 0.83021879 0.85030391 0.91704176 0.9651071\n",
      "  0.97895239 0.95402838]\n",
      " [0.9980681  0.99931814 0.99783413 0.99955278 0.99995499 0.99999376\n",
      "  0.99995118 0.9999657 ]\n",
      " [0.99850159 0.99938663 0.99741734 0.99976645 0.99995719 0.99999664\n",
      "  0.99996001 0.99996023]\n",
      " [0.99835267 0.99941748 0.9975796  0.99979104 0.99996029 0.99999704\n",
      "  0.99996532 0.9999588 ]\n",
      " [0.99826831 0.99937549 0.99748538 0.99965354 0.99997165 0.99999679\n",
      "  0.9999646  0.99995034]\n",
      " [0.99910859 0.99956051 0.99881928 0.99961449 0.99998472 0.99999719\n",
      "  0.99996332 0.9999809 ]\n",
      " [0.99838925 0.99947249 0.99775475 0.99984264 0.99995917 0.99999747\n",
      "  0.99997195 0.99996691]\n",
      " [0.99874936 0.99962392 0.9988734  0.9996609  0.99999056 0.99999825\n",
      "  0.99998409 0.99998132]\n",
      " [0.99918156 0.9997182  0.9991848  0.99976074 0.99999219 0.99999865\n",
      "  0.9999895  0.99999285]\n",
      " [0.99860819 0.99948911 0.99799446 0.99982412 0.99996321 0.99999736\n",
      "  0.99996917 0.99997126]]\n"
     ]
    }
   ],
   "source": [
    "total_hidden_states = []\n",
    "\n",
    "# 각 timesteps별 입력 데이터\n",
    "for input_t in inputs:\n",
    "    # (wx * wh) + (wh * ht - 1) + b\n",
    "    output_t = np.tanh(np.dot(wx, input_t) + np.dot(wh, hidden_state_t) + b)\n",
    "    # print(output_t)\n",
    "    # 각 timesteps 별 메모리셀의 (출력 크기는 8,),\n",
    "    \n",
    "    total_hidden_states.append(list(output_t))\n",
    "    hidden_state_t = output_t\n",
    "    \n",
    "# 출력시 값을 깔끔하게 보기 위한 용도\n",
    "total_hidden_states = np.stack(total_hidden_states, axis = 0)\n",
    "print('모든 시점의 은닉 상태')\n",
    "print(total_hidden_states)"
   ]
  },
  {
   "cell_type": "code",
   "execution_count": 99,
   "id": "0f5fa452-889c-49f2-a44e-6f3cb8a74c13",
   "metadata": {},
   "outputs": [],
   "source": [
    "import tensorflow as tf\n",
    "from tensorflow.keras.models import Sequential\n",
    "from tensorflow.keras.layers import SimpleRNN\n",
    "\n",
    "model = Sequential()\n",
    "model.add(SimpleRNN(8, input_shape=(10, 4), return_sequences=True))"
   ]
  },
  {
   "cell_type": "code",
   "execution_count": 100,
   "id": "95a64deb-b9fe-4828-86bc-6a97585e0c0c",
   "metadata": {},
   "outputs": [
    {
     "data": {
      "text/html": [
       "<pre style=\"white-space:pre;overflow-x:auto;line-height:normal;font-family:Menlo,'DejaVu Sans Mono',consolas,'Courier New',monospace\"><span style=\"font-weight: bold\">Model: \"sequential_29\"</span>\n",
       "</pre>\n"
      ],
      "text/plain": [
       "\u001b[1mModel: \"sequential_29\"\u001b[0m\n"
      ]
     },
     "metadata": {},
     "output_type": "display_data"
    },
    {
     "data": {
      "text/html": [
       "<pre style=\"white-space:pre;overflow-x:auto;line-height:normal;font-family:Menlo,'DejaVu Sans Mono',consolas,'Courier New',monospace\">┏━━━━━━━━━━━━━━━━━━━━━━━━━━━━━━━━━━━━━━┳━━━━━━━━━━━━━━━━━━━━━━━━━━━━━┳━━━━━━━━━━━━━━━━━┓\n",
       "┃<span style=\"font-weight: bold\"> Layer (type)                         </span>┃<span style=\"font-weight: bold\"> Output Shape                </span>┃<span style=\"font-weight: bold\">         Param # </span>┃\n",
       "┡━━━━━━━━━━━━━━━━━━━━━━━━━━━━━━━━━━━━━━╇━━━━━━━━━━━━━━━━━━━━━━━━━━━━━╇━━━━━━━━━━━━━━━━━┩\n",
       "│ simple_rnn_38 (<span style=\"color: #0087ff; text-decoration-color: #0087ff\">SimpleRNN</span>)            │ (<span style=\"color: #00d7ff; text-decoration-color: #00d7ff\">None</span>, <span style=\"color: #00af00; text-decoration-color: #00af00\">10</span>, <span style=\"color: #00af00; text-decoration-color: #00af00\">8</span>)               │             <span style=\"color: #00af00; text-decoration-color: #00af00\">104</span> │\n",
       "└──────────────────────────────────────┴─────────────────────────────┴─────────────────┘\n",
       "</pre>\n"
      ],
      "text/plain": [
       "┏━━━━━━━━━━━━━━━━━━━━━━━━━━━━━━━━━━━━━━┳━━━━━━━━━━━━━━━━━━━━━━━━━━━━━┳━━━━━━━━━━━━━━━━━┓\n",
       "┃\u001b[1m \u001b[0m\u001b[1mLayer (type)                        \u001b[0m\u001b[1m \u001b[0m┃\u001b[1m \u001b[0m\u001b[1mOutput Shape               \u001b[0m\u001b[1m \u001b[0m┃\u001b[1m \u001b[0m\u001b[1m        Param #\u001b[0m\u001b[1m \u001b[0m┃\n",
       "┡━━━━━━━━━━━━━━━━━━━━━━━━━━━━━━━━━━━━━━╇━━━━━━━━━━━━━━━━━━━━━━━━━━━━━╇━━━━━━━━━━━━━━━━━┩\n",
       "│ simple_rnn_38 (\u001b[38;5;33mSimpleRNN\u001b[0m)            │ (\u001b[38;5;45mNone\u001b[0m, \u001b[38;5;34m10\u001b[0m, \u001b[38;5;34m8\u001b[0m)               │             \u001b[38;5;34m104\u001b[0m │\n",
       "└──────────────────────────────────────┴─────────────────────────────┴─────────────────┘\n"
      ]
     },
     "metadata": {},
     "output_type": "display_data"
    },
    {
     "data": {
      "text/html": [
       "<pre style=\"white-space:pre;overflow-x:auto;line-height:normal;font-family:Menlo,'DejaVu Sans Mono',consolas,'Courier New',monospace\"><span style=\"font-weight: bold\"> Total params: </span><span style=\"color: #00af00; text-decoration-color: #00af00\">104</span> (416.00 B)\n",
       "</pre>\n"
      ],
      "text/plain": [
       "\u001b[1m Total params: \u001b[0m\u001b[38;5;34m104\u001b[0m (416.00 B)\n"
      ]
     },
     "metadata": {},
     "output_type": "display_data"
    },
    {
     "data": {
      "text/html": [
       "<pre style=\"white-space:pre;overflow-x:auto;line-height:normal;font-family:Menlo,'DejaVu Sans Mono',consolas,'Courier New',monospace\"><span style=\"font-weight: bold\"> Trainable params: </span><span style=\"color: #00af00; text-decoration-color: #00af00\">104</span> (416.00 B)\n",
       "</pre>\n"
      ],
      "text/plain": [
       "\u001b[1m Trainable params: \u001b[0m\u001b[38;5;34m104\u001b[0m (416.00 B)\n"
      ]
     },
     "metadata": {},
     "output_type": "display_data"
    },
    {
     "data": {
      "text/html": [
       "<pre style=\"white-space:pre;overflow-x:auto;line-height:normal;font-family:Menlo,'DejaVu Sans Mono',consolas,'Courier New',monospace\"><span style=\"font-weight: bold\"> Non-trainable params: </span><span style=\"color: #00af00; text-decoration-color: #00af00\">0</span> (0.00 B)\n",
       "</pre>\n"
      ],
      "text/plain": [
       "\u001b[1m Non-trainable params: \u001b[0m\u001b[38;5;34m0\u001b[0m (0.00 B)\n"
      ]
     },
     "metadata": {},
     "output_type": "display_data"
    }
   ],
   "source": [
    "model.summary()"
   ]
  },
  {
   "cell_type": "code",
   "execution_count": 101,
   "id": "fb85023c-bde7-40ed-b314-cf8c3be34273",
   "metadata": {},
   "outputs": [],
   "source": [
    "import tensorflow as tf\n",
    "from tensorflow.keras.models import Sequential\n",
    "from tensorflow.keras.layers import SimpleRNN\n",
    "\n",
    "model = Sequential()\n",
    "model.add(SimpleRNN(8, input_shape=(10, 4), return_sequences=True))\n",
    "model.add(SimpleRNN(8, return_sequences=True))\n",
    "model.add(SimpleRNN(8, return_sequences=True))\n",
    "model.add(tf.keras.layers.Dense(10, activation='softmax'))"
   ]
  },
  {
   "cell_type": "code",
   "execution_count": 102,
   "id": "13217f19-d87e-466e-bcd2-9ef5c8540b13",
   "metadata": {},
   "outputs": [
    {
     "data": {
      "text/html": [
       "<pre style=\"white-space:pre;overflow-x:auto;line-height:normal;font-family:Menlo,'DejaVu Sans Mono',consolas,'Courier New',monospace\"><span style=\"font-weight: bold\">Model: \"sequential_30\"</span>\n",
       "</pre>\n"
      ],
      "text/plain": [
       "\u001b[1mModel: \"sequential_30\"\u001b[0m\n"
      ]
     },
     "metadata": {},
     "output_type": "display_data"
    },
    {
     "data": {
      "text/html": [
       "<pre style=\"white-space:pre;overflow-x:auto;line-height:normal;font-family:Menlo,'DejaVu Sans Mono',consolas,'Courier New',monospace\">┏━━━━━━━━━━━━━━━━━━━━━━━━━━━━━━━━━━━━━━┳━━━━━━━━━━━━━━━━━━━━━━━━━━━━━┳━━━━━━━━━━━━━━━━━┓\n",
       "┃<span style=\"font-weight: bold\"> Layer (type)                         </span>┃<span style=\"font-weight: bold\"> Output Shape                </span>┃<span style=\"font-weight: bold\">         Param # </span>┃\n",
       "┡━━━━━━━━━━━━━━━━━━━━━━━━━━━━━━━━━━━━━━╇━━━━━━━━━━━━━━━━━━━━━━━━━━━━━╇━━━━━━━━━━━━━━━━━┩\n",
       "│ simple_rnn_39 (<span style=\"color: #0087ff; text-decoration-color: #0087ff\">SimpleRNN</span>)            │ (<span style=\"color: #00d7ff; text-decoration-color: #00d7ff\">None</span>, <span style=\"color: #00af00; text-decoration-color: #00af00\">10</span>, <span style=\"color: #00af00; text-decoration-color: #00af00\">8</span>)               │             <span style=\"color: #00af00; text-decoration-color: #00af00\">104</span> │\n",
       "├──────────────────────────────────────┼─────────────────────────────┼─────────────────┤\n",
       "│ simple_rnn_40 (<span style=\"color: #0087ff; text-decoration-color: #0087ff\">SimpleRNN</span>)            │ (<span style=\"color: #00d7ff; text-decoration-color: #00d7ff\">None</span>, <span style=\"color: #00af00; text-decoration-color: #00af00\">10</span>, <span style=\"color: #00af00; text-decoration-color: #00af00\">8</span>)               │             <span style=\"color: #00af00; text-decoration-color: #00af00\">136</span> │\n",
       "├──────────────────────────────────────┼─────────────────────────────┼─────────────────┤\n",
       "│ simple_rnn_41 (<span style=\"color: #0087ff; text-decoration-color: #0087ff\">SimpleRNN</span>)            │ (<span style=\"color: #00d7ff; text-decoration-color: #00d7ff\">None</span>, <span style=\"color: #00af00; text-decoration-color: #00af00\">10</span>, <span style=\"color: #00af00; text-decoration-color: #00af00\">8</span>)               │             <span style=\"color: #00af00; text-decoration-color: #00af00\">136</span> │\n",
       "├──────────────────────────────────────┼─────────────────────────────┼─────────────────┤\n",
       "│ dense_4 (<span style=\"color: #0087ff; text-decoration-color: #0087ff\">Dense</span>)                      │ (<span style=\"color: #00d7ff; text-decoration-color: #00d7ff\">None</span>, <span style=\"color: #00af00; text-decoration-color: #00af00\">10</span>, <span style=\"color: #00af00; text-decoration-color: #00af00\">10</span>)              │              <span style=\"color: #00af00; text-decoration-color: #00af00\">90</span> │\n",
       "└──────────────────────────────────────┴─────────────────────────────┴─────────────────┘\n",
       "</pre>\n"
      ],
      "text/plain": [
       "┏━━━━━━━━━━━━━━━━━━━━━━━━━━━━━━━━━━━━━━┳━━━━━━━━━━━━━━━━━━━━━━━━━━━━━┳━━━━━━━━━━━━━━━━━┓\n",
       "┃\u001b[1m \u001b[0m\u001b[1mLayer (type)                        \u001b[0m\u001b[1m \u001b[0m┃\u001b[1m \u001b[0m\u001b[1mOutput Shape               \u001b[0m\u001b[1m \u001b[0m┃\u001b[1m \u001b[0m\u001b[1m        Param #\u001b[0m\u001b[1m \u001b[0m┃\n",
       "┡━━━━━━━━━━━━━━━━━━━━━━━━━━━━━━━━━━━━━━╇━━━━━━━━━━━━━━━━━━━━━━━━━━━━━╇━━━━━━━━━━━━━━━━━┩\n",
       "│ simple_rnn_39 (\u001b[38;5;33mSimpleRNN\u001b[0m)            │ (\u001b[38;5;45mNone\u001b[0m, \u001b[38;5;34m10\u001b[0m, \u001b[38;5;34m8\u001b[0m)               │             \u001b[38;5;34m104\u001b[0m │\n",
       "├──────────────────────────────────────┼─────────────────────────────┼─────────────────┤\n",
       "│ simple_rnn_40 (\u001b[38;5;33mSimpleRNN\u001b[0m)            │ (\u001b[38;5;45mNone\u001b[0m, \u001b[38;5;34m10\u001b[0m, \u001b[38;5;34m8\u001b[0m)               │             \u001b[38;5;34m136\u001b[0m │\n",
       "├──────────────────────────────────────┼─────────────────────────────┼─────────────────┤\n",
       "│ simple_rnn_41 (\u001b[38;5;33mSimpleRNN\u001b[0m)            │ (\u001b[38;5;45mNone\u001b[0m, \u001b[38;5;34m10\u001b[0m, \u001b[38;5;34m8\u001b[0m)               │             \u001b[38;5;34m136\u001b[0m │\n",
       "├──────────────────────────────────────┼─────────────────────────────┼─────────────────┤\n",
       "│ dense_4 (\u001b[38;5;33mDense\u001b[0m)                      │ (\u001b[38;5;45mNone\u001b[0m, \u001b[38;5;34m10\u001b[0m, \u001b[38;5;34m10\u001b[0m)              │              \u001b[38;5;34m90\u001b[0m │\n",
       "└──────────────────────────────────────┴─────────────────────────────┴─────────────────┘\n"
      ]
     },
     "metadata": {},
     "output_type": "display_data"
    },
    {
     "data": {
      "text/html": [
       "<pre style=\"white-space:pre;overflow-x:auto;line-height:normal;font-family:Menlo,'DejaVu Sans Mono',consolas,'Courier New',monospace\"><span style=\"font-weight: bold\"> Total params: </span><span style=\"color: #00af00; text-decoration-color: #00af00\">466</span> (1.82 KB)\n",
       "</pre>\n"
      ],
      "text/plain": [
       "\u001b[1m Total params: \u001b[0m\u001b[38;5;34m466\u001b[0m (1.82 KB)\n"
      ]
     },
     "metadata": {},
     "output_type": "display_data"
    },
    {
     "data": {
      "text/html": [
       "<pre style=\"white-space:pre;overflow-x:auto;line-height:normal;font-family:Menlo,'DejaVu Sans Mono',consolas,'Courier New',monospace\"><span style=\"font-weight: bold\"> Trainable params: </span><span style=\"color: #00af00; text-decoration-color: #00af00\">466</span> (1.82 KB)\n",
       "</pre>\n"
      ],
      "text/plain": [
       "\u001b[1m Trainable params: \u001b[0m\u001b[38;5;34m466\u001b[0m (1.82 KB)\n"
      ]
     },
     "metadata": {},
     "output_type": "display_data"
    },
    {
     "data": {
      "text/html": [
       "<pre style=\"white-space:pre;overflow-x:auto;line-height:normal;font-family:Menlo,'DejaVu Sans Mono',consolas,'Courier New',monospace\"><span style=\"font-weight: bold\"> Non-trainable params: </span><span style=\"color: #00af00; text-decoration-color: #00af00\">0</span> (0.00 B)\n",
       "</pre>\n"
      ],
      "text/plain": [
       "\u001b[1m Non-trainable params: \u001b[0m\u001b[38;5;34m0\u001b[0m (0.00 B)\n"
      ]
     },
     "metadata": {},
     "output_type": "display_data"
    }
   ],
   "source": [
    "model.summary()"
   ]
  },
  {
   "cell_type": "code",
   "execution_count": 251,
   "id": "5c382034-98f5-4513-a9fd-09c93fdc44ef",
   "metadata": {},
   "outputs": [],
   "source": [
    "## RNN 단어 생성기\n",
    "import numpy as np\n",
    "import pandas as pd\n",
    "from tensorflow.keras.preprocessing.text import Tokenizer\n",
    "from tensorflow.keras.preprocessing.sequence import pad_sequences\n",
    "from tensorflow.keras.utils import to_categorical"
   ]
  },
  {
   "cell_type": "code",
   "execution_count": 252,
   "id": "5d27a096-b344-4512-a9f6-dd4d7c0eee6e",
   "metadata": {},
   "outputs": [],
   "source": [
    "text = \"\"\"경마장에 있는 말이 뛰고 있다\\n\n",
    "그의 말이 법이다\\n\n",
    "가는 말이 고와야 오는 말이 곱다\\n\"\"\""
   ]
  },
  {
   "cell_type": "code",
   "execution_count": 253,
   "id": "5af43e40-5b9b-47cc-9289-b7f1bddbcfd5",
   "metadata": {},
   "outputs": [
    {
     "name": "stdout",
     "output_type": "stream",
     "text": [
      "경마장에 있는 말이 뛰고 있다\n",
      "\n",
      "그의 말이 법이다\n",
      "\n",
      "가는 말이 고와야 오는 말이 곱다\n",
      "\n"
     ]
    }
   ],
   "source": [
    "print(text)"
   ]
  },
  {
   "cell_type": "code",
   "execution_count": 254,
   "id": "b0895452-436b-4801-88e0-8b0584c9470d",
   "metadata": {},
   "outputs": [
    {
     "name": "stdout",
     "output_type": "stream",
     "text": [
      "단어 집합의 크기: 12\n",
      "단어 인덱스: {'말이': 1, '경마장에': 2, '있는': 3, '뛰고': 4, '있다': 5, '그의': 6, '법이다': 7, '가는': 8, '고와야': 9, '오는': 10, '곱다': 11}\n"
     ]
    }
   ],
   "source": [
    "tokenizer = Tokenizer() # 토크나이징 모듈 : 각 단어로 토큰화하는 작업\n",
    "tokenizer.fit_on_texts([text]) # 토크나이저로 해당 text 토큰화\n",
    "vocab_size = len(tokenizer.word_index) + 1  # 패딩을 고려하여 +1\n",
    "\n",
    "print('단어 집합의 크기:', vocab_size)\n",
    "print('단어 인덱스:', tokenizer.word_index)"
   ]
  },
  {
   "cell_type": "code",
   "execution_count": 255,
   "id": "2374c36d-f6e5-4475-93ce-e39e3c1b316e",
   "metadata": {},
   "outputs": [
    {
     "data": {
      "text/plain": [
       "11"
      ]
     },
     "execution_count": 255,
     "metadata": {},
     "output_type": "execute_result"
    }
   ],
   "source": [
    "## 시계열 데이터 생성\n",
    "sequences = []\n",
    "# text.split('\\n')\n",
    "tokenizer.texts_to_sequences(['경마장에 있는 말이 뛰고 있다\\n'])\n",
    "for line in text.split('\\n'):\n",
    "    encoded = tokenizer.texts_to_sequences([line])[0] # 맵핑된 숫자로 인코딩\n",
    "    for i in range(1, len(encoded)):\n",
    "        sequence = encoded[:i+1]\n",
    "        sequences.append(sequence)\n",
    "\n",
    "len(sequences)"
   ]
  },
  {
   "cell_type": "code",
   "execution_count": 256,
   "id": "2e073c53-2294-4854-92a5-08f5d43847b5",
   "metadata": {},
   "outputs": [
    {
     "name": "stdout",
     "output_type": "stream",
     "text": [
      "2\n",
      "3\n",
      "4\n",
      "5\n",
      "2\n",
      "3\n",
      "2\n",
      "3\n",
      "4\n",
      "5\n",
      "6\n"
     ]
    }
   ],
   "source": [
    "for j in sequences:\n",
    "    print(len(j)) # 입력값을 6개로 맞춰야한다."
   ]
  },
  {
   "cell_type": "code",
   "execution_count": 257,
   "id": "a492fdae-a62a-4769-9352-21e14586e9da",
   "metadata": {},
   "outputs": [
    {
     "data": {
      "text/plain": [
       "6"
      ]
     },
     "execution_count": 257,
     "metadata": {},
     "output_type": "execute_result"
    }
   ],
   "source": [
    "max_len = max(len(l) for l in sequences)\n",
    "max_len"
   ]
  },
  {
   "cell_type": "code",
   "execution_count": 258,
   "id": "65a622b8-9233-4f5d-ac56-455325ab11d0",
   "metadata": {},
   "outputs": [
    {
     "name": "stdout",
     "output_type": "stream",
     "text": [
      "[[ 0  0  0  0  2  3]\n",
      " [ 0  0  0  2  3  1]\n",
      " [ 0  0  2  3  1  4]\n",
      " [ 0  2  3  1  4  5]\n",
      " [ 0  0  0  0  6  1]\n",
      " [ 0  0  0  6  1  7]\n",
      " [ 0  0  0  0  8  1]\n",
      " [ 0  0  0  8  1  9]\n",
      " [ 0  0  8  1  9 10]\n",
      " [ 0  8  1  9 10  1]\n",
      " [ 8  1  9 10  1 11]]\n"
     ]
    }
   ],
   "source": [
    "sequences = pad_sequences(sequences, maxlen=max_len, padding='pre')\n",
    "print(sequences)"
   ]
  },
  {
   "cell_type": "code",
   "execution_count": 259,
   "id": "514a554d-51e5-4ede-b70f-afecb267930b",
   "metadata": {},
   "outputs": [
    {
     "name": "stdout",
     "output_type": "stream",
     "text": [
      "[[ 0  0  0  0  2]\n",
      " [ 0  0  0  2  3]\n",
      " [ 0  0  2  3  1]\n",
      " [ 0  2  3  1  4]\n",
      " [ 0  0  0  0  6]\n",
      " [ 0  0  0  6  1]\n",
      " [ 0  0  0  0  8]\n",
      " [ 0  0  0  8  1]\n",
      " [ 0  0  8  1  9]\n",
      " [ 0  8  1  9 10]\n",
      " [ 8  1  9 10  1]]\n",
      "[ 3  1  4  5  1  7  1  9 10  1 11]\n"
     ]
    }
   ],
   "source": [
    "# X 데이터와 Y 데이터로 분리\n",
    "sequences = np.array(sequences)\n",
    "X = sequences[:,:-1]\n",
    "y = sequences[:,-1]\n",
    "print(X)\n",
    "print(y)"
   ]
  },
  {
   "cell_type": "code",
   "execution_count": 260,
   "id": "4c66a7af-eacf-4c00-8259-8663988c0a98",
   "metadata": {},
   "outputs": [
    {
     "data": {
      "text/plain": [
       "array([[0., 0., 0., 1., 0., 0., 0., 0., 0., 0., 0., 0.],\n",
       "       [0., 1., 0., 0., 0., 0., 0., 0., 0., 0., 0., 0.],\n",
       "       [0., 0., 0., 0., 1., 0., 0., 0., 0., 0., 0., 0.],\n",
       "       [0., 0., 0., 0., 0., 1., 0., 0., 0., 0., 0., 0.],\n",
       "       [0., 1., 0., 0., 0., 0., 0., 0., 0., 0., 0., 0.],\n",
       "       [0., 0., 0., 0., 0., 0., 0., 1., 0., 0., 0., 0.],\n",
       "       [0., 1., 0., 0., 0., 0., 0., 0., 0., 0., 0., 0.],\n",
       "       [0., 0., 0., 0., 0., 0., 0., 0., 0., 1., 0., 0.],\n",
       "       [0., 0., 0., 0., 0., 0., 0., 0., 0., 0., 1., 0.],\n",
       "       [0., 1., 0., 0., 0., 0., 0., 0., 0., 0., 0., 0.],\n",
       "       [0., 0., 0., 0., 0., 0., 0., 0., 0., 0., 0., 1.]])"
      ]
     },
     "execution_count": 260,
     "metadata": {},
     "output_type": "execute_result"
    }
   ],
   "source": [
    "y = to_categorical(y, num_classes=vocab_size)\n",
    "y"
   ]
  },
  {
   "cell_type": "code",
   "execution_count": 261,
   "id": "c481e933-361f-4141-994e-246d3cd44ca6",
   "metadata": {},
   "outputs": [],
   "source": [
    "from tensorflow.keras.models import Sequential\n",
    "from tensorflow.keras.layers import Embedding, Dense, SimpleRNN\n",
    "\n",
    "model = Sequential()\n",
    "model.add(Embedding(vocab_size, 10))\n",
    "model.add(SimpleRNN(32))\n",
    "model.add(Dense(vocab_size, activation='softmax'))\n",
    "model.compile(loss='categorical_crossentropy', optimizer='adam', metrics=['acc'])"
   ]
  },
  {
   "cell_type": "code",
   "execution_count": 262,
   "id": "19bc2fea-d26d-46d2-a5f0-37c05dd649f5",
   "metadata": {
    "scrolled": true
   },
   "outputs": [
    {
     "name": "stdout",
     "output_type": "stream",
     "text": [
      "Epoch 1/200\n",
      "1/1 - 2s - 2s/step - acc: 0.0909 - loss: 2.4852\n",
      "Epoch 2/200\n",
      "1/1 - 0s - 20ms/step - acc: 0.0909 - loss: 2.4704\n",
      "Epoch 3/200\n",
      "1/1 - 0s - 20ms/step - acc: 0.1818 - loss: 2.4560\n",
      "Epoch 4/200\n",
      "1/1 - 0s - 24ms/step - acc: 0.1818 - loss: 2.4417\n",
      "Epoch 5/200\n",
      "1/1 - 0s - 22ms/step - acc: 0.3636 - loss: 2.4274\n",
      "Epoch 6/200\n",
      "1/1 - 0s - 20ms/step - acc: 0.6364 - loss: 2.4129\n",
      "Epoch 7/200\n",
      "1/1 - 0s - 21ms/step - acc: 0.6364 - loss: 2.3981\n",
      "Epoch 8/200\n",
      "1/1 - 0s - 23ms/step - acc: 0.6364 - loss: 2.3828\n",
      "Epoch 9/200\n",
      "1/1 - 0s - 24ms/step - acc: 0.6364 - loss: 2.3669\n",
      "Epoch 10/200\n",
      "1/1 - 0s - 19ms/step - acc: 0.5455 - loss: 2.3503\n",
      "Epoch 11/200\n",
      "1/1 - 0s - 20ms/step - acc: 0.5455 - loss: 2.3329\n",
      "Epoch 12/200\n",
      "1/1 - 0s - 20ms/step - acc: 0.4545 - loss: 2.3146\n",
      "Epoch 13/200\n",
      "1/1 - 0s - 23ms/step - acc: 0.4545 - loss: 2.2952\n",
      "Epoch 14/200\n",
      "1/1 - 0s - 21ms/step - acc: 0.4545 - loss: 2.2748\n",
      "Epoch 15/200\n",
      "1/1 - 0s - 23ms/step - acc: 0.4545 - loss: 2.2533\n",
      "Epoch 16/200\n",
      "1/1 - 0s - 20ms/step - acc: 0.4545 - loss: 2.2307\n",
      "Epoch 17/200\n",
      "1/1 - 0s - 26ms/step - acc: 0.4545 - loss: 2.2070\n",
      "Epoch 18/200\n",
      "1/1 - 0s - 19ms/step - acc: 0.4545 - loss: 2.1822\n",
      "Epoch 19/200\n",
      "1/1 - 0s - 20ms/step - acc: 0.4545 - loss: 2.1565\n",
      "Epoch 20/200\n",
      "1/1 - 0s - 20ms/step - acc: 0.3636 - loss: 2.1300\n",
      "Epoch 21/200\n",
      "1/1 - 0s - 20ms/step - acc: 0.3636 - loss: 2.1029\n",
      "Epoch 22/200\n",
      "1/1 - 0s - 23ms/step - acc: 0.3636 - loss: 2.0755\n",
      "Epoch 23/200\n",
      "1/1 - 0s - 20ms/step - acc: 0.3636 - loss: 2.0482\n",
      "Epoch 24/200\n",
      "1/1 - 0s - 18ms/step - acc: 0.3636 - loss: 2.0212\n",
      "Epoch 25/200\n",
      "1/1 - 0s - 20ms/step - acc: 0.3636 - loss: 1.9949\n",
      "Epoch 26/200\n",
      "1/1 - 0s - 23ms/step - acc: 0.3636 - loss: 1.9697\n",
      "Epoch 27/200\n",
      "1/1 - 0s - 19ms/step - acc: 0.3636 - loss: 1.9459\n",
      "Epoch 28/200\n",
      "1/1 - 0s - 20ms/step - acc: 0.3636 - loss: 1.9238\n",
      "Epoch 29/200\n",
      "1/1 - 0s - 23ms/step - acc: 0.3636 - loss: 1.9034\n",
      "Epoch 30/200\n",
      "1/1 - 0s - 18ms/step - acc: 0.3636 - loss: 1.8848\n",
      "Epoch 31/200\n",
      "1/1 - 0s - 20ms/step - acc: 0.3636 - loss: 1.8679\n",
      "Epoch 32/200\n",
      "1/1 - 0s - 22ms/step - acc: 0.3636 - loss: 1.8523\n",
      "Epoch 33/200\n",
      "1/1 - 0s - 19ms/step - acc: 0.3636 - loss: 1.8378\n",
      "Epoch 34/200\n",
      "1/1 - 0s - 31ms/step - acc: 0.3636 - loss: 1.8240\n",
      "Epoch 35/200\n",
      "1/1 - 0s - 25ms/step - acc: 0.3636 - loss: 1.8105\n",
      "Epoch 36/200\n",
      "1/1 - 0s - 19ms/step - acc: 0.3636 - loss: 1.7971\n",
      "Epoch 37/200\n",
      "1/1 - 0s - 19ms/step - acc: 0.3636 - loss: 1.7836\n",
      "Epoch 38/200\n",
      "1/1 - 0s - 20ms/step - acc: 0.3636 - loss: 1.7698\n",
      "Epoch 39/200\n",
      "1/1 - 0s - 20ms/step - acc: 0.3636 - loss: 1.7556\n",
      "Epoch 40/200\n",
      "1/1 - 0s - 19ms/step - acc: 0.3636 - loss: 1.7410\n",
      "Epoch 41/200\n",
      "1/1 - 0s - 24ms/step - acc: 0.3636 - loss: 1.7261\n",
      "Epoch 42/200\n",
      "1/1 - 0s - 20ms/step - acc: 0.3636 - loss: 1.7108\n",
      "Epoch 43/200\n",
      "1/1 - 0s - 20ms/step - acc: 0.3636 - loss: 1.6951\n",
      "Epoch 44/200\n",
      "1/1 - 0s - 24ms/step - acc: 0.3636 - loss: 1.6792\n",
      "Epoch 45/200\n",
      "1/1 - 0s - 20ms/step - acc: 0.3636 - loss: 1.6629\n",
      "Epoch 46/200\n",
      "1/1 - 0s - 25ms/step - acc: 0.3636 - loss: 1.6463\n",
      "Epoch 47/200\n",
      "1/1 - 0s - 23ms/step - acc: 0.3636 - loss: 1.6292\n",
      "Epoch 48/200\n",
      "1/1 - 0s - 23ms/step - acc: 0.4545 - loss: 1.6116\n",
      "Epoch 49/200\n",
      "1/1 - 0s - 19ms/step - acc: 0.4545 - loss: 1.5935\n",
      "Epoch 50/200\n",
      "1/1 - 0s - 19ms/step - acc: 0.4545 - loss: 1.5748\n",
      "Epoch 51/200\n",
      "1/1 - 0s - 20ms/step - acc: 0.4545 - loss: 1.5555\n",
      "Epoch 52/200\n",
      "1/1 - 0s - 21ms/step - acc: 0.4545 - loss: 1.5355\n",
      "Epoch 53/200\n",
      "1/1 - 0s - 19ms/step - acc: 0.4545 - loss: 1.5149\n",
      "Epoch 54/200\n",
      "1/1 - 0s - 19ms/step - acc: 0.4545 - loss: 1.4936\n",
      "Epoch 55/200\n",
      "1/1 - 0s - 22ms/step - acc: 0.5455 - loss: 1.4718\n",
      "Epoch 56/200\n",
      "1/1 - 0s - 20ms/step - acc: 0.5455 - loss: 1.4494\n",
      "Epoch 57/200\n",
      "1/1 - 0s - 20ms/step - acc: 0.5455 - loss: 1.4266\n",
      "Epoch 58/200\n",
      "1/1 - 0s - 20ms/step - acc: 0.5455 - loss: 1.4034\n",
      "Epoch 59/200\n",
      "1/1 - 0s - 22ms/step - acc: 0.5455 - loss: 1.3800\n",
      "Epoch 60/200\n",
      "1/1 - 0s - 21ms/step - acc: 0.6364 - loss: 1.3565\n",
      "Epoch 61/200\n",
      "1/1 - 0s - 20ms/step - acc: 0.6364 - loss: 1.3329\n",
      "Epoch 62/200\n",
      "1/1 - 0s - 29ms/step - acc: 0.6364 - loss: 1.3093\n",
      "Epoch 63/200\n",
      "1/1 - 0s - 24ms/step - acc: 0.6364 - loss: 1.2858\n",
      "Epoch 64/200\n",
      "1/1 - 0s - 22ms/step - acc: 0.6364 - loss: 1.2625\n",
      "Epoch 65/200\n",
      "1/1 - 0s - 18ms/step - acc: 0.6364 - loss: 1.2393\n",
      "Epoch 66/200\n",
      "1/1 - 0s - 18ms/step - acc: 0.6364 - loss: 1.2164\n",
      "Epoch 67/200\n",
      "1/1 - 0s - 24ms/step - acc: 0.6364 - loss: 1.1937\n",
      "Epoch 68/200\n",
      "1/1 - 0s - 20ms/step - acc: 0.6364 - loss: 1.1712\n",
      "Epoch 69/200\n",
      "1/1 - 0s - 22ms/step - acc: 0.6364 - loss: 1.1489\n",
      "Epoch 70/200\n",
      "1/1 - 0s - 22ms/step - acc: 0.6364 - loss: 1.1268\n",
      "Epoch 71/200\n",
      "1/1 - 0s - 20ms/step - acc: 0.6364 - loss: 1.1050\n",
      "Epoch 72/200\n",
      "1/1 - 0s - 23ms/step - acc: 0.6364 - loss: 1.0834\n",
      "Epoch 73/200\n",
      "1/1 - 0s - 20ms/step - acc: 0.7273 - loss: 1.0621\n",
      "Epoch 74/200\n",
      "1/1 - 0s - 23ms/step - acc: 0.7273 - loss: 1.0411\n",
      "Epoch 75/200\n",
      "1/1 - 0s - 20ms/step - acc: 0.7273 - loss: 1.0204\n",
      "Epoch 76/200\n",
      "1/1 - 0s - 20ms/step - acc: 0.7273 - loss: 1.0001\n",
      "Epoch 77/200\n",
      "1/1 - 0s - 20ms/step - acc: 0.8182 - loss: 0.9801\n",
      "Epoch 78/200\n",
      "1/1 - 0s - 20ms/step - acc: 0.8182 - loss: 0.9606\n",
      "Epoch 79/200\n",
      "1/1 - 0s - 19ms/step - acc: 0.8182 - loss: 0.9414\n",
      "Epoch 80/200\n",
      "1/1 - 0s - 22ms/step - acc: 0.8182 - loss: 0.9226\n",
      "Epoch 81/200\n",
      "1/1 - 0s - 19ms/step - acc: 0.8182 - loss: 0.9041\n",
      "Epoch 82/200\n",
      "1/1 - 0s - 19ms/step - acc: 0.8182 - loss: 0.8860\n",
      "Epoch 83/200\n",
      "1/1 - 0s - 19ms/step - acc: 0.9091 - loss: 0.8683\n",
      "Epoch 84/200\n",
      "1/1 - 0s - 20ms/step - acc: 0.9091 - loss: 0.8509\n",
      "Epoch 85/200\n",
      "1/1 - 0s - 33ms/step - acc: 0.9091 - loss: 0.8338\n",
      "Epoch 86/200\n",
      "1/1 - 0s - 19ms/step - acc: 0.9091 - loss: 0.8171\n",
      "Epoch 87/200\n",
      "1/1 - 0s - 23ms/step - acc: 0.9091 - loss: 0.8007\n",
      "Epoch 88/200\n",
      "1/1 - 0s - 19ms/step - acc: 0.9091 - loss: 0.7846\n",
      "Epoch 89/200\n",
      "1/1 - 0s - 20ms/step - acc: 0.9091 - loss: 0.7689\n",
      "Epoch 90/200\n",
      "1/1 - 0s - 19ms/step - acc: 0.9091 - loss: 0.7535\n",
      "Epoch 91/200\n",
      "1/1 - 0s - 19ms/step - acc: 0.9091 - loss: 0.7385\n",
      "Epoch 92/200\n",
      "1/1 - 0s - 20ms/step - acc: 0.9091 - loss: 0.7237\n",
      "Epoch 93/200\n",
      "1/1 - 0s - 19ms/step - acc: 0.9091 - loss: 0.7093\n",
      "Epoch 94/200\n",
      "1/1 - 0s - 20ms/step - acc: 0.9091 - loss: 0.6951\n",
      "Epoch 95/200\n",
      "1/1 - 0s - 20ms/step - acc: 0.9091 - loss: 0.6812\n",
      "Epoch 96/200\n",
      "1/1 - 0s - 24ms/step - acc: 0.9091 - loss: 0.6677\n",
      "Epoch 97/200\n",
      "1/1 - 0s - 19ms/step - acc: 0.9091 - loss: 0.6544\n",
      "Epoch 98/200\n",
      "1/1 - 0s - 19ms/step - acc: 0.9091 - loss: 0.6413\n",
      "Epoch 99/200\n",
      "1/1 - 0s - 23ms/step - acc: 0.9091 - loss: 0.6286\n",
      "Epoch 100/200\n",
      "1/1 - 0s - 20ms/step - acc: 0.9091 - loss: 0.6161\n",
      "Epoch 101/200\n",
      "1/1 - 0s - 19ms/step - acc: 0.9091 - loss: 0.6039\n",
      "Epoch 102/200\n",
      "1/1 - 0s - 19ms/step - acc: 1.0000 - loss: 0.5919\n",
      "Epoch 103/200\n",
      "1/1 - 0s - 22ms/step - acc: 1.0000 - loss: 0.5802\n",
      "Epoch 104/200\n",
      "1/1 - 0s - 19ms/step - acc: 1.0000 - loss: 0.5687\n",
      "Epoch 105/200\n",
      "1/1 - 0s - 19ms/step - acc: 1.0000 - loss: 0.5575\n",
      "Epoch 106/200\n",
      "1/1 - 0s - 19ms/step - acc: 1.0000 - loss: 0.5465\n",
      "Epoch 107/200\n",
      "1/1 - 0s - 22ms/step - acc: 1.0000 - loss: 0.5357\n",
      "Epoch 108/200\n",
      "1/1 - 0s - 20ms/step - acc: 1.0000 - loss: 0.5252\n",
      "Epoch 109/200\n",
      "1/1 - 0s - 19ms/step - acc: 1.0000 - loss: 0.5149\n",
      "Epoch 110/200\n",
      "1/1 - 0s - 19ms/step - acc: 1.0000 - loss: 0.5048\n",
      "Epoch 111/200\n",
      "1/1 - 0s - 19ms/step - acc: 1.0000 - loss: 0.4949\n",
      "Epoch 112/200\n",
      "1/1 - 0s - 23ms/step - acc: 1.0000 - loss: 0.4852\n",
      "Epoch 113/200\n",
      "1/1 - 0s - 20ms/step - acc: 1.0000 - loss: 0.4757\n",
      "Epoch 114/200\n",
      "1/1 - 0s - 19ms/step - acc: 1.0000 - loss: 0.4665\n",
      "Epoch 115/200\n",
      "1/1 - 0s - 24ms/step - acc: 1.0000 - loss: 0.4574\n",
      "Epoch 116/200\n",
      "1/1 - 0s - 19ms/step - acc: 1.0000 - loss: 0.4485\n",
      "Epoch 117/200\n",
      "1/1 - 0s - 20ms/step - acc: 1.0000 - loss: 0.4398\n",
      "Epoch 118/200\n",
      "1/1 - 0s - 22ms/step - acc: 1.0000 - loss: 0.4313\n",
      "Epoch 119/200\n",
      "1/1 - 0s - 19ms/step - acc: 1.0000 - loss: 0.4229\n",
      "Epoch 120/200\n",
      "1/1 - 0s - 24ms/step - acc: 1.0000 - loss: 0.4148\n",
      "Epoch 121/200\n",
      "1/1 - 0s - 20ms/step - acc: 1.0000 - loss: 0.4068\n",
      "Epoch 122/200\n",
      "1/1 - 0s - 19ms/step - acc: 1.0000 - loss: 0.3989\n",
      "Epoch 123/200\n",
      "1/1 - 0s - 20ms/step - acc: 1.0000 - loss: 0.3913\n",
      "Epoch 124/200\n",
      "1/1 - 0s - 19ms/step - acc: 1.0000 - loss: 0.3838\n",
      "Epoch 125/200\n",
      "1/1 - 0s - 22ms/step - acc: 1.0000 - loss: 0.3764\n",
      "Epoch 126/200\n",
      "1/1 - 0s - 24ms/step - acc: 1.0000 - loss: 0.3692\n",
      "Epoch 127/200\n",
      "1/1 - 0s - 20ms/step - acc: 1.0000 - loss: 0.3622\n",
      "Epoch 128/200\n",
      "1/1 - 0s - 19ms/step - acc: 1.0000 - loss: 0.3553\n",
      "Epoch 129/200\n",
      "1/1 - 0s - 21ms/step - acc: 1.0000 - loss: 0.3485\n",
      "Epoch 130/200\n",
      "1/1 - 0s - 32ms/step - acc: 1.0000 - loss: 0.3419\n",
      "Epoch 131/200\n",
      "1/1 - 0s - 22ms/step - acc: 1.0000 - loss: 0.3354\n",
      "Epoch 132/200\n",
      "1/1 - 0s - 24ms/step - acc: 1.0000 - loss: 0.3290\n",
      "Epoch 133/200\n",
      "1/1 - 0s - 20ms/step - acc: 1.0000 - loss: 0.3228\n",
      "Epoch 134/200\n",
      "1/1 - 0s - 19ms/step - acc: 1.0000 - loss: 0.3167\n",
      "Epoch 135/200\n",
      "1/1 - 0s - 22ms/step - acc: 1.0000 - loss: 0.3107\n",
      "Epoch 136/200\n",
      "1/1 - 0s - 20ms/step - acc: 1.0000 - loss: 0.3048\n",
      "Epoch 137/200\n",
      "1/1 - 0s - 19ms/step - acc: 1.0000 - loss: 0.2991\n",
      "Epoch 138/200\n",
      "1/1 - 0s - 20ms/step - acc: 1.0000 - loss: 0.2935\n",
      "Epoch 139/200\n",
      "1/1 - 0s - 19ms/step - acc: 1.0000 - loss: 0.2880\n",
      "Epoch 140/200\n",
      "1/1 - 0s - 20ms/step - acc: 1.0000 - loss: 0.2825\n",
      "Epoch 141/200\n",
      "1/1 - 0s - 22ms/step - acc: 1.0000 - loss: 0.2772\n",
      "Epoch 142/200\n",
      "1/1 - 0s - 20ms/step - acc: 1.0000 - loss: 0.2721\n",
      "Epoch 143/200\n",
      "1/1 - 0s - 19ms/step - acc: 1.0000 - loss: 0.2670\n",
      "Epoch 144/200\n",
      "1/1 - 0s - 19ms/step - acc: 1.0000 - loss: 0.2620\n",
      "Epoch 145/200\n",
      "1/1 - 0s - 25ms/step - acc: 1.0000 - loss: 0.2571\n",
      "Epoch 146/200\n",
      "1/1 - 0s - 19ms/step - acc: 1.0000 - loss: 0.2523\n",
      "Epoch 147/200\n",
      "1/1 - 0s - 19ms/step - acc: 1.0000 - loss: 0.2476\n",
      "Epoch 148/200\n",
      "1/1 - 0s - 20ms/step - acc: 1.0000 - loss: 0.2430\n",
      "Epoch 149/200\n",
      "1/1 - 0s - 20ms/step - acc: 1.0000 - loss: 0.2385\n",
      "Epoch 150/200\n",
      "1/1 - 0s - 19ms/step - acc: 1.0000 - loss: 0.2340\n",
      "Epoch 151/200\n",
      "1/1 - 0s - 20ms/step - acc: 1.0000 - loss: 0.2297\n",
      "Epoch 152/200\n",
      "1/1 - 0s - 20ms/step - acc: 1.0000 - loss: 0.2254\n",
      "Epoch 153/200\n",
      "1/1 - 0s - 24ms/step - acc: 1.0000 - loss: 0.2213\n",
      "Epoch 154/200\n",
      "1/1 - 0s - 23ms/step - acc: 1.0000 - loss: 0.2172\n",
      "Epoch 155/200\n",
      "1/1 - 0s - 24ms/step - acc: 1.0000 - loss: 0.2132\n",
      "Epoch 156/200\n",
      "1/1 - 0s - 20ms/step - acc: 1.0000 - loss: 0.2092\n",
      "Epoch 157/200\n",
      "1/1 - 0s - 23ms/step - acc: 1.0000 - loss: 0.2054\n",
      "Epoch 158/200\n",
      "1/1 - 0s - 20ms/step - acc: 1.0000 - loss: 0.2016\n",
      "Epoch 159/200\n",
      "1/1 - 0s - 33ms/step - acc: 1.0000 - loss: 0.1979\n",
      "Epoch 160/200\n",
      "1/1 - 0s - 22ms/step - acc: 1.0000 - loss: 0.1942\n",
      "Epoch 161/200\n",
      "1/1 - 0s - 18ms/step - acc: 1.0000 - loss: 0.1906\n",
      "Epoch 162/200\n",
      "1/1 - 0s - 23ms/step - acc: 1.0000 - loss: 0.1871\n",
      "Epoch 163/200\n",
      "1/1 - 0s - 19ms/step - acc: 1.0000 - loss: 0.1837\n",
      "Epoch 164/200\n",
      "1/1 - 0s - 24ms/step - acc: 1.0000 - loss: 0.1803\n",
      "Epoch 165/200\n",
      "1/1 - 0s - 20ms/step - acc: 1.0000 - loss: 0.1770\n",
      "Epoch 166/200\n",
      "1/1 - 0s - 19ms/step - acc: 1.0000 - loss: 0.1737\n",
      "Epoch 167/200\n",
      "1/1 - 0s - 23ms/step - acc: 1.0000 - loss: 0.1706\n",
      "Epoch 168/200\n",
      "1/1 - 0s - 19ms/step - acc: 1.0000 - loss: 0.1674\n",
      "Epoch 169/200\n",
      "1/1 - 0s - 20ms/step - acc: 1.0000 - loss: 0.1644\n",
      "Epoch 170/200\n",
      "1/1 - 0s - 23ms/step - acc: 1.0000 - loss: 0.1614\n",
      "Epoch 171/200\n",
      "1/1 - 0s - 20ms/step - acc: 1.0000 - loss: 0.1584\n",
      "Epoch 172/200\n",
      "1/1 - 0s - 20ms/step - acc: 1.0000 - loss: 0.1555\n",
      "Epoch 173/200\n",
      "1/1 - 0s - 20ms/step - acc: 1.0000 - loss: 0.1527\n",
      "Epoch 174/200\n",
      "1/1 - 0s - 19ms/step - acc: 1.0000 - loss: 0.1499\n",
      "Epoch 175/200\n",
      "1/1 - 0s - 23ms/step - acc: 1.0000 - loss: 0.1472\n",
      "Epoch 176/200\n",
      "1/1 - 0s - 19ms/step - acc: 1.0000 - loss: 0.1445\n",
      "Epoch 177/200\n",
      "1/1 - 0s - 22ms/step - acc: 1.0000 - loss: 0.1419\n",
      "Epoch 178/200\n",
      "1/1 - 0s - 24ms/step - acc: 1.0000 - loss: 0.1393\n",
      "Epoch 179/200\n",
      "1/1 - 0s - 19ms/step - acc: 1.0000 - loss: 0.1368\n",
      "Epoch 180/200\n",
      "1/1 - 0s - 20ms/step - acc: 1.0000 - loss: 0.1344\n",
      "Epoch 181/200\n",
      "1/1 - 0s - 21ms/step - acc: 1.0000 - loss: 0.1319\n",
      "Epoch 182/200\n",
      "1/1 - 0s - 23ms/step - acc: 1.0000 - loss: 0.1296\n",
      "Epoch 183/200\n",
      "1/1 - 0s - 23ms/step - acc: 1.0000 - loss: 0.1272\n",
      "Epoch 184/200\n",
      "1/1 - 0s - 24ms/step - acc: 1.0000 - loss: 0.1250\n",
      "Epoch 185/200\n",
      "1/1 - 0s - 20ms/step - acc: 1.0000 - loss: 0.1227\n",
      "Epoch 186/200\n",
      "1/1 - 0s - 19ms/step - acc: 1.0000 - loss: 0.1206\n",
      "Epoch 187/200\n",
      "1/1 - 0s - 22ms/step - acc: 1.0000 - loss: 0.1184\n",
      "Epoch 188/200\n",
      "1/1 - 0s - 21ms/step - acc: 1.0000 - loss: 0.1163\n",
      "Epoch 189/200\n",
      "1/1 - 0s - 19ms/step - acc: 1.0000 - loss: 0.1143\n",
      "Epoch 190/200\n",
      "1/1 - 0s - 35ms/step - acc: 1.0000 - loss: 0.1123\n",
      "Epoch 191/200\n",
      "1/1 - 0s - 23ms/step - acc: 1.0000 - loss: 0.1103\n",
      "Epoch 192/200\n",
      "1/1 - 0s - 21ms/step - acc: 1.0000 - loss: 0.1084\n",
      "Epoch 193/200\n",
      "1/1 - 0s - 20ms/step - acc: 1.0000 - loss: 0.1065\n",
      "Epoch 194/200\n",
      "1/1 - 0s - 19ms/step - acc: 1.0000 - loss: 0.1047\n",
      "Epoch 195/200\n",
      "1/1 - 0s - 19ms/step - acc: 1.0000 - loss: 0.1029\n",
      "Epoch 196/200\n",
      "1/1 - 0s - 20ms/step - acc: 1.0000 - loss: 0.1011\n",
      "Epoch 197/200\n",
      "1/1 - 0s - 20ms/step - acc: 1.0000 - loss: 0.0994\n",
      "Epoch 198/200\n",
      "1/1 - 0s - 20ms/step - acc: 1.0000 - loss: 0.0977\n",
      "Epoch 199/200\n",
      "1/1 - 0s - 22ms/step - acc: 1.0000 - loss: 0.0960\n",
      "Epoch 200/200\n",
      "1/1 - 0s - 18ms/step - acc: 1.0000 - loss: 0.0944\n"
     ]
    },
    {
     "data": {
      "text/plain": [
       "<keras.src.callbacks.history.History at 0x24b88382e90>"
      ]
     },
     "execution_count": 262,
     "metadata": {},
     "output_type": "execute_result"
    }
   ],
   "source": [
    "model.fit(X, y, epochs=200, verbose=2)"
   ]
  },
  {
   "cell_type": "code",
   "execution_count": 263,
   "id": "4b762584-98b8-429d-aa59-961d62a408b7",
   "metadata": {},
   "outputs": [
    {
     "data": {
      "text/html": [
       "<pre style=\"white-space:pre;overflow-x:auto;line-height:normal;font-family:Menlo,'DejaVu Sans Mono',consolas,'Courier New',monospace\"><span style=\"font-weight: bold\">Model: \"sequential_33\"</span>\n",
       "</pre>\n"
      ],
      "text/plain": [
       "\u001b[1mModel: \"sequential_33\"\u001b[0m\n"
      ]
     },
     "metadata": {},
     "output_type": "display_data"
    },
    {
     "data": {
      "text/html": [
       "<pre style=\"white-space:pre;overflow-x:auto;line-height:normal;font-family:Menlo,'DejaVu Sans Mono',consolas,'Courier New',monospace\">┏━━━━━━━━━━━━━━━━━━━━━━━━━━━━━━━━━━━━━━┳━━━━━━━━━━━━━━━━━━━━━━━━━━━━━┳━━━━━━━━━━━━━━━━━┓\n",
       "┃<span style=\"font-weight: bold\"> Layer (type)                         </span>┃<span style=\"font-weight: bold\"> Output Shape                </span>┃<span style=\"font-weight: bold\">         Param # </span>┃\n",
       "┡━━━━━━━━━━━━━━━━━━━━━━━━━━━━━━━━━━━━━━╇━━━━━━━━━━━━━━━━━━━━━━━━━━━━━╇━━━━━━━━━━━━━━━━━┩\n",
       "│ embedding_2 (<span style=\"color: #0087ff; text-decoration-color: #0087ff\">Embedding</span>)              │ (<span style=\"color: #00d7ff; text-decoration-color: #00d7ff\">None</span>, <span style=\"color: #00af00; text-decoration-color: #00af00\">5</span>, <span style=\"color: #00af00; text-decoration-color: #00af00\">10</span>)               │             <span style=\"color: #00af00; text-decoration-color: #00af00\">120</span> │\n",
       "├──────────────────────────────────────┼─────────────────────────────┼─────────────────┤\n",
       "│ simple_rnn_43 (<span style=\"color: #0087ff; text-decoration-color: #0087ff\">SimpleRNN</span>)            │ (<span style=\"color: #00d7ff; text-decoration-color: #00d7ff\">None</span>, <span style=\"color: #00af00; text-decoration-color: #00af00\">32</span>)                  │           <span style=\"color: #00af00; text-decoration-color: #00af00\">1,376</span> │\n",
       "├──────────────────────────────────────┼─────────────────────────────┼─────────────────┤\n",
       "│ dense_6 (<span style=\"color: #0087ff; text-decoration-color: #0087ff\">Dense</span>)                      │ (<span style=\"color: #00d7ff; text-decoration-color: #00d7ff\">None</span>, <span style=\"color: #00af00; text-decoration-color: #00af00\">12</span>)                  │             <span style=\"color: #00af00; text-decoration-color: #00af00\">396</span> │\n",
       "└──────────────────────────────────────┴─────────────────────────────┴─────────────────┘\n",
       "</pre>\n"
      ],
      "text/plain": [
       "┏━━━━━━━━━━━━━━━━━━━━━━━━━━━━━━━━━━━━━━┳━━━━━━━━━━━━━━━━━━━━━━━━━━━━━┳━━━━━━━━━━━━━━━━━┓\n",
       "┃\u001b[1m \u001b[0m\u001b[1mLayer (type)                        \u001b[0m\u001b[1m \u001b[0m┃\u001b[1m \u001b[0m\u001b[1mOutput Shape               \u001b[0m\u001b[1m \u001b[0m┃\u001b[1m \u001b[0m\u001b[1m        Param #\u001b[0m\u001b[1m \u001b[0m┃\n",
       "┡━━━━━━━━━━━━━━━━━━━━━━━━━━━━━━━━━━━━━━╇━━━━━━━━━━━━━━━━━━━━━━━━━━━━━╇━━━━━━━━━━━━━━━━━┩\n",
       "│ embedding_2 (\u001b[38;5;33mEmbedding\u001b[0m)              │ (\u001b[38;5;45mNone\u001b[0m, \u001b[38;5;34m5\u001b[0m, \u001b[38;5;34m10\u001b[0m)               │             \u001b[38;5;34m120\u001b[0m │\n",
       "├──────────────────────────────────────┼─────────────────────────────┼─────────────────┤\n",
       "│ simple_rnn_43 (\u001b[38;5;33mSimpleRNN\u001b[0m)            │ (\u001b[38;5;45mNone\u001b[0m, \u001b[38;5;34m32\u001b[0m)                  │           \u001b[38;5;34m1,376\u001b[0m │\n",
       "├──────────────────────────────────────┼─────────────────────────────┼─────────────────┤\n",
       "│ dense_6 (\u001b[38;5;33mDense\u001b[0m)                      │ (\u001b[38;5;45mNone\u001b[0m, \u001b[38;5;34m12\u001b[0m)                  │             \u001b[38;5;34m396\u001b[0m │\n",
       "└──────────────────────────────────────┴─────────────────────────────┴─────────────────┘\n"
      ]
     },
     "metadata": {},
     "output_type": "display_data"
    },
    {
     "data": {
      "text/html": [
       "<pre style=\"white-space:pre;overflow-x:auto;line-height:normal;font-family:Menlo,'DejaVu Sans Mono',consolas,'Courier New',monospace\"><span style=\"font-weight: bold\"> Total params: </span><span style=\"color: #00af00; text-decoration-color: #00af00\">5,678</span> (22.18 KB)\n",
       "</pre>\n"
      ],
      "text/plain": [
       "\u001b[1m Total params: \u001b[0m\u001b[38;5;34m5,678\u001b[0m (22.18 KB)\n"
      ]
     },
     "metadata": {},
     "output_type": "display_data"
    },
    {
     "data": {
      "text/html": [
       "<pre style=\"white-space:pre;overflow-x:auto;line-height:normal;font-family:Menlo,'DejaVu Sans Mono',consolas,'Courier New',monospace\"><span style=\"font-weight: bold\"> Trainable params: </span><span style=\"color: #00af00; text-decoration-color: #00af00\">1,892</span> (7.39 KB)\n",
       "</pre>\n"
      ],
      "text/plain": [
       "\u001b[1m Trainable params: \u001b[0m\u001b[38;5;34m1,892\u001b[0m (7.39 KB)\n"
      ]
     },
     "metadata": {},
     "output_type": "display_data"
    },
    {
     "data": {
      "text/html": [
       "<pre style=\"white-space:pre;overflow-x:auto;line-height:normal;font-family:Menlo,'DejaVu Sans Mono',consolas,'Courier New',monospace\"><span style=\"font-weight: bold\"> Non-trainable params: </span><span style=\"color: #00af00; text-decoration-color: #00af00\">0</span> (0.00 B)\n",
       "</pre>\n"
      ],
      "text/plain": [
       "\u001b[1m Non-trainable params: \u001b[0m\u001b[38;5;34m0\u001b[0m (0.00 B)\n"
      ]
     },
     "metadata": {},
     "output_type": "display_data"
    },
    {
     "data": {
      "text/html": [
       "<pre style=\"white-space:pre;overflow-x:auto;line-height:normal;font-family:Menlo,'DejaVu Sans Mono',consolas,'Courier New',monospace\"><span style=\"font-weight: bold\"> Optimizer params: </span><span style=\"color: #00af00; text-decoration-color: #00af00\">3,786</span> (14.79 KB)\n",
       "</pre>\n"
      ],
      "text/plain": [
       "\u001b[1m Optimizer params: \u001b[0m\u001b[38;5;34m3,786\u001b[0m (14.79 KB)\n"
      ]
     },
     "metadata": {},
     "output_type": "display_data"
    }
   ],
   "source": [
    "model.summary()"
   ]
  },
  {
   "cell_type": "code",
   "execution_count": 284,
   "id": "2be8b7f3-49e8-404c-9b06-64f6593828d3",
   "metadata": {},
   "outputs": [],
   "source": [
    "def sentence_generator(model, tokenizer, current_word, n): # 단어 생성기\n",
    "    init_word = current_word ## 입력받은 단어 -> init_word + 입력 단어\n",
    "    sentence = '' ## 최종 문장 완성\n",
    "\n",
    "    for _ in range(n):\n",
    "        encoded = tokenizer.texts_to_sequences([current_word])[0] # 내가 선택한 단어를 인코딩\n",
    "        encoded = pad_sequences([encoded], maxlen=5, padding='pre') # 입력 데이터 크기\n",
    "\n",
    "        result = model.predict(encoded) # 사전에 학습된 모델의 예측 결과\n",
    "        result = np.argmax(result, axis=1) # 소프트 맥스니까 가장 높은 결과 선택\n",
    "\n",
    "        for word, index in tokenizer.word_index.items(): # 내가 주어진 단어와 예측된 단어가 같으면 정지\n",
    "            if index == result:\n",
    "                break\n",
    "\n",
    "        current_word = current_word + \" \" + word # 현재 단어에 계속 단어 추가\n",
    "        sentence = sentence + \" \" + word # 모든 단어가 추가된 최종 결과\n",
    "    \n",
    "    sentence = init_word + sentence\n",
    "    return sentence"
   ]
  },
  {
   "cell_type": "code",
   "execution_count": 291,
   "id": "350bd3a6-e3b3-4fdc-83c2-4d12a9d69862",
   "metadata": {},
   "outputs": [
    {
     "name": "stdout",
     "output_type": "stream",
     "text": [
      "\u001b[1m1/1\u001b[0m \u001b[32m━━━━━━━━━━━━━━━━━━━━\u001b[0m\u001b[37m\u001b[0m \u001b[1m0s\u001b[0m 18ms/step\n",
      "\u001b[1m1/1\u001b[0m \u001b[32m━━━━━━━━━━━━━━━━━━━━\u001b[0m\u001b[37m\u001b[0m \u001b[1m0s\u001b[0m 14ms/step\n",
      "\u001b[1m1/1\u001b[0m \u001b[32m━━━━━━━━━━━━━━━━━━━━\u001b[0m\u001b[37m\u001b[0m \u001b[1m0s\u001b[0m 14ms/step\n",
      "\u001b[1m1/1\u001b[0m \u001b[32m━━━━━━━━━━━━━━━━━━━━\u001b[0m\u001b[37m\u001b[0m \u001b[1m0s\u001b[0m 17ms/step\n",
      "경마장에 있는 말이 뛰고 있다\n"
     ]
    }
   ],
   "source": [
    "print(sentence_generator(model, tokenizer, '경마장에', 4))"
   ]
  },
  {
   "cell_type": "code",
   "execution_count": 292,
   "id": "a2cb80ef-ba47-4d17-ab5e-a2312171a087",
   "metadata": {},
   "outputs": [
    {
     "name": "stdout",
     "output_type": "stream",
     "text": [
      "\u001b[1m1/1\u001b[0m \u001b[32m━━━━━━━━━━━━━━━━━━━━\u001b[0m\u001b[37m\u001b[0m \u001b[1m0s\u001b[0m 18ms/step\n",
      "\u001b[1m1/1\u001b[0m \u001b[32m━━━━━━━━━━━━━━━━━━━━\u001b[0m\u001b[37m\u001b[0m \u001b[1m0s\u001b[0m 14ms/step\n",
      "그의 말이 법이다\n"
     ]
    }
   ],
   "source": [
    "print(sentence_generator(model, tokenizer, '그의', 2))"
   ]
  },
  {
   "cell_type": "code",
   "execution_count": 293,
   "id": "e331f41f-6243-4a61-bb36-8b393cdaa662",
   "metadata": {},
   "outputs": [
    {
     "name": "stdout",
     "output_type": "stream",
     "text": [
      "\u001b[1m1/1\u001b[0m \u001b[32m━━━━━━━━━━━━━━━━━━━━\u001b[0m\u001b[37m\u001b[0m \u001b[1m0s\u001b[0m 16ms/step\n",
      "\u001b[1m1/1\u001b[0m \u001b[32m━━━━━━━━━━━━━━━━━━━━\u001b[0m\u001b[37m\u001b[0m \u001b[1m0s\u001b[0m 15ms/step\n",
      "\u001b[1m1/1\u001b[0m \u001b[32m━━━━━━━━━━━━━━━━━━━━\u001b[0m\u001b[37m\u001b[0m \u001b[1m0s\u001b[0m 15ms/step\n",
      "\u001b[1m1/1\u001b[0m \u001b[32m━━━━━━━━━━━━━━━━━━━━\u001b[0m\u001b[37m\u001b[0m \u001b[1m0s\u001b[0m 14ms/step\n",
      "\u001b[1m1/1\u001b[0m \u001b[32m━━━━━━━━━━━━━━━━━━━━\u001b[0m\u001b[37m\u001b[0m \u001b[1m0s\u001b[0m 14ms/step\n",
      "가는 말이 고와야 오는 말이 곱다\n"
     ]
    }
   ],
   "source": [
    "print(sentence_generator(model, tokenizer, '가는', 5))"
   ]
  },
  {
   "cell_type": "code",
   "execution_count": null,
   "id": "508436e2-4e1a-497b-bda1-3dd315a3053a",
   "metadata": {},
   "outputs": [],
   "source": []
  }
 ],
 "metadata": {
  "kernelspec": {
   "display_name": "Python 3 (ipykernel)",
   "language": "python",
   "name": "python3"
  },
  "language_info": {
   "codemirror_mode": {
    "name": "ipython",
    "version": 3
   },
   "file_extension": ".py",
   "mimetype": "text/x-python",
   "name": "python",
   "nbconvert_exporter": "python",
   "pygments_lexer": "ipython3",
   "version": "3.11.5"
  }
 },
 "nbformat": 4,
 "nbformat_minor": 5
}
