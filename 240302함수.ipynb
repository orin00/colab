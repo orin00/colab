{
  "nbformat": 4,
  "nbformat_minor": 0,
  "metadata": {
    "colab": {
      "provenance": [],
      "authorship_tag": "ABX9TyPMJTo9EHp4oT6iL7CecqcF",
      "include_colab_link": true
    },
    "kernelspec": {
      "name": "python3",
      "display_name": "Python 3"
    },
    "language_info": {
      "name": "python"
    }
  },
  "cells": [
    {
      "cell_type": "markdown",
      "metadata": {
        "id": "view-in-github",
        "colab_type": "text"
      },
      "source": [
        "<a href=\"https://colab.research.google.com/github/orin00/colab/blob/main/240302%ED%95%A8%EC%88%98.ipynb\" target=\"_parent\"><img src=\"https://colab.research.google.com/assets/colab-badge.svg\" alt=\"Open In Colab\"/></a>"
      ]
    },
    {
      "cell_type": "code",
      "execution_count": null,
      "metadata": {
        "colab": {
          "base_uri": "https://localhost:8080/"
        },
        "id": "st7_yDXfoTNX",
        "outputId": "69bd9a50-bda6-4524-b773-21012e9a3bfb"
      },
      "outputs": [
        {
          "output_type": "execute_result",
          "data": {
            "text/plain": [
              "55"
            ]
          },
          "metadata": {},
          "execution_count": 1
        }
      ],
      "source": [
        "# 1부터 10 까지의 누적합 구하는 함수\n",
        "def sum_all(a, b):\n",
        "  total = 0\n",
        "  while a < b + 1:\n",
        "    total += a\n",
        "    a += 1\n",
        "  return total\n",
        "\n",
        "sum_all(1,10)"
      ]
    },
    {
      "cell_type": "code",
      "source": [
        "def 안녕():\n",
        "\tresult = 'Hello'\n",
        "\treturn result\n",
        "\n",
        "print(안녕())"
      ],
      "metadata": {
        "colab": {
          "base_uri": "https://localhost:8080/"
        },
        "id": "tjY0GvltpDat",
        "outputId": "dad27582-89bf-48cc-e823-a35f10de6c17"
      },
      "execution_count": null,
      "outputs": [
        {
          "output_type": "stream",
          "name": "stdout",
          "text": [
            "Hello\n"
          ]
        }
      ]
    },
    {
      "cell_type": "code",
      "source": [
        "def 덧셈(a,b):\n",
        "\tresult = a + b\n",
        "\treturn result\n",
        "\n",
        "print(덧셈(b=8,a=6))"
      ],
      "metadata": {
        "colab": {
          "base_uri": "https://localhost:8080/"
        },
        "id": "hgZQPcWUpSJE",
        "outputId": "5ed27e23-d092-4cf6-f5d3-707e7db77b7e"
      },
      "execution_count": null,
      "outputs": [
        {
          "output_type": "stream",
          "name": "stdout",
          "text": [
            "14\n"
          ]
        }
      ]
    },
    {
      "cell_type": "code",
      "source": [
        "def phone(model):\n",
        "\tprint(f\"나의 휴대폰은{model}입니다.\")\n",
        "\n",
        "phone('apple')"
      ],
      "metadata": {
        "colab": {
          "base_uri": "https://localhost:8080/"
        },
        "id": "_nbJCTUnpdQ-",
        "outputId": "79317f13-dbe7-4ca9-de52-7a9658bb6f35"
      },
      "execution_count": null,
      "outputs": [
        {
          "output_type": "stream",
          "name": "stdout",
          "text": [
            "나의 휴대폰은apple입니다.\n"
          ]
        }
      ]
    },
    {
      "cell_type": "code",
      "source": [
        "def phone(model):\n",
        "\tif model == 'xiaomi':\n",
        "\t\treturn\n",
        "\tprint(f\"나의 휴대폰은{model}입니다.\")\n",
        "\n",
        "phone('xiaomi')\n",
        "phone('samsung')"
      ],
      "metadata": {
        "colab": {
          "base_uri": "https://localhost:8080/"
        },
        "id": "6koFRlGVpnji",
        "outputId": "42ccf3d5-3d5b-4fc3-d0f5-fa240a30ee06"
      },
      "execution_count": null,
      "outputs": [
        {
          "output_type": "stream",
          "name": "stdout",
          "text": [
            "나의 휴대폰은samsung입니다.\n"
          ]
        }
      ]
    },
    {
      "cell_type": "code",
      "source": [
        "def pn(n):\n",
        "  total = 0  # 누적할 값 => 출력값\n",
        "  while True:\n",
        "    total += n % 10 # total 변수에 매개변수 n의 나머지를 누적해서 더함.\n",
        "    n = n // 10 # 10으로 나눈 몫\n",
        "    if n == 0:\n",
        "      break\n",
        "  return total\n",
        "\n",
        "pn(123)\n",
        "\n",
        "pn(572)"
      ],
      "metadata": {
        "colab": {
          "base_uri": "https://localhost:8080/"
        },
        "id": "Fo-fQfIGpvqy",
        "outputId": "3bc72190-8076-469b-f17e-47ab999c6805"
      },
      "execution_count": null,
      "outputs": [
        {
          "output_type": "execute_result",
          "data": {
            "text/plain": [
              "14"
            ]
          },
          "metadata": {},
          "execution_count": 12
        }
      ]
    },
    {
      "cell_type": "code",
      "source": [
        "def all_sum(*args):\n",
        "\tresult = 0\n",
        "\tfor i in args:\n",
        "\t\tresult = result + i\n",
        "\treturn result\n",
        "\n",
        "print(all_sum(1,2,3,4,5,6,7,8,9,10))\n",
        "print(all_sum(2,4,6,8,10))"
      ],
      "metadata": {
        "colab": {
          "base_uri": "https://localhost:8080/"
        },
        "id": "SJPduSVyqUMH",
        "outputId": "6e21382f-6db7-4333-c986-e8919334f7f8"
      },
      "execution_count": null,
      "outputs": [
        {
          "output_type": "stream",
          "name": "stdout",
          "text": [
            "55\n",
            "30\n"
          ]
        }
      ]
    },
    {
      "cell_type": "code",
      "source": [
        "def calculator(choice,*args):\n",
        "  result = 0\n",
        "  if choice == 'add':\n",
        "    for i in args:\n",
        "      result += i\n",
        "  elif choice == 'multi':\n",
        "    result = 1\n",
        "    for i in args:\n",
        "      result *= i\n",
        "  else:\n",
        "    result =\"'add'또는 'multi'를 입력\"\n",
        "\n",
        "  return result\n",
        "\n",
        "calculator('add', 1,2,3,4,5)\n",
        "calculator('multi', 5,6)"
      ],
      "metadata": {
        "colab": {
          "base_uri": "https://localhost:8080/"
        },
        "id": "o48w5x9bqtU2",
        "outputId": "eac3a147-8aa4-4c20-a96e-0ca5d6ca103c"
      },
      "execution_count": null,
      "outputs": [
        {
          "output_type": "execute_result",
          "data": {
            "text/plain": [
              "30"
            ]
          },
          "metadata": {},
          "execution_count": 17
        }
      ]
    },
    {
      "cell_type": "code",
      "source": [
        "def introduce(**kwargs):\n",
        "\tfor key, value in kwargs.items():\n",
        "\t\tprint(f\"{key}은 {value}\")\n",
        "\n",
        "introduce(이름=\"호크아이\",직업=\"궁수\",나이='10살')\n",
        "\n",
        "\n",
        "\n",
        "x = {'이름': \"슈퍼맨\", '직업':\"기자\"}\n",
        "introduce(**x)"
      ],
      "metadata": {
        "colab": {
          "base_uri": "https://localhost:8080/"
        },
        "id": "CITI7ZIJrBHq",
        "outputId": "cd044062-575a-420c-c65d-0ac7056a9f67"
      },
      "execution_count": null,
      "outputs": [
        {
          "output_type": "stream",
          "name": "stdout",
          "text": [
            "이름은 호크아이\n",
            "직업은 궁수\n",
            "나이은 10살\n",
            "이름은 슈퍼맨\n",
            "직업은 기자\n"
          ]
        }
      ]
    },
    {
      "cell_type": "code",
      "source": [
        "def pocketmon(atribute, **kwargs):\n",
        "  if atribute == 'electronic':\n",
        "    print('피카츄')\n",
        "    for key, value in kwargs.items():\n",
        "      print(f\"{key}은 {value}이다.\")\n",
        "  elif atribute == 'water':\n",
        "    print('꼬부기')\n",
        "  else:\n",
        "    print('그외의 포켓몬')\n",
        "\n",
        "pocketmon('electronic',공격='100만 볼트')\n",
        "print('////////////////////')\n",
        "pocketmon('water', 공격='물대포', 진화='거북왕')"
      ],
      "metadata": {
        "colab": {
          "base_uri": "https://localhost:8080/"
        },
        "id": "t81VxCnorBs5",
        "outputId": "4aace6fc-4922-4dc5-dfd5-f557840fcc3b"
      },
      "execution_count": null,
      "outputs": [
        {
          "output_type": "stream",
          "name": "stdout",
          "text": [
            "피카츄\n",
            "공격은 100만 볼트이다.\n",
            "////////////////////\n",
            "꼬부기\n"
          ]
        }
      ]
    },
    {
      "cell_type": "code",
      "source": [
        "# 가변 매개변수와 키워드 매개변수 함께 사용하기\n",
        "\n",
        "def pocketmon(*args, **kwargs):\n",
        "  if args[0] == 'electronic':\n",
        "    print('피카츄','level:',args[1])\n",
        "    for key, value in kwargs.items():\n",
        "      print(f\"{key}은 {value}이다.\")\n",
        "  elif args[0] == 'water':\n",
        "    print('꼬부기','level:',args[1])\n",
        "    for key, value in kwargs.items():\n",
        "      print(f\"{key}은 {value}이다.\")\n",
        "  else:\n",
        "    print('그외의 포켓몬')\n",
        "\n",
        "pocketmon('electronic',16,공격='100만 볼트')\n",
        "print('////////////////////')\n",
        "pocketmon('water',20, 공격='물대포', 진화='거북왕')"
      ],
      "metadata": {
        "colab": {
          "base_uri": "https://localhost:8080/"
        },
        "id": "tOCflBpNrrI6",
        "outputId": "7739bb78-8237-4480-b1bb-759294dc4e76"
      },
      "execution_count": null,
      "outputs": [
        {
          "output_type": "stream",
          "name": "stdout",
          "text": [
            "피카츄 level: 16\n",
            "공격은 100만 볼트이다.\n",
            "////////////////////\n",
            "꼬부기 level: 20\n",
            "공격은 물대포이다.\n",
            "진화은 거북왕이다.\n"
          ]
        }
      ]
    }
  ]
}