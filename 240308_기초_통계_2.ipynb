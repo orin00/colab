{
  "nbformat": 4,
  "nbformat_minor": 0,
  "metadata": {
    "colab": {
      "provenance": [],
      "authorship_tag": "ABX9TyN1qWGuxDTXw6+Hw0xsVEZl",
      "include_colab_link": true
    },
    "kernelspec": {
      "name": "python3",
      "display_name": "Python 3"
    },
    "language_info": {
      "name": "python"
    }
  },
  "cells": [
    {
      "cell_type": "markdown",
      "metadata": {
        "id": "view-in-github",
        "colab_type": "text"
      },
      "source": [
        "<a href=\"https://colab.research.google.com/github/orin00/colab/blob/main/240308_%EA%B8%B0%EC%B4%88_%ED%86%B5%EA%B3%84_2.ipynb\" target=\"_parent\"><img src=\"https://colab.research.google.com/assets/colab-badge.svg\" alt=\"Open In Colab\"/></a>"
      ]
    },
    {
      "cell_type": "code",
      "execution_count": 35,
      "metadata": {
        "id": "ZotZN8kUt5ni"
      },
      "outputs": [],
      "source": [
        "x = [1, 1, 1, 2, 3, 5, 5, 7, 8, 9]\n",
        "\n",
        "### 모분산 만들기\n",
        "### 각 데이터를 평균에서 빼고 제곱한뒤에, 모두 더하고 그걸 데이터의 갯수로 나눔\n",
        "\n",
        "def population(x):\n",
        "    sum_x = 0\n",
        "    for i in x:\n",
        "        sum_x += i\n",
        "    avg = sum_x / len(x)\n",
        "    vsum = 0 # vsum 전역변수로 설정해야 한다.\n",
        "    for j in x:\n",
        "        vsum += (avg - j) ** 2\n",
        "    popv = vsum / len(x)\n",
        "    return popv\n",
        "\n",
        "\n",
        "### 표본분산 만들기\n",
        "### 각 데이터를 평균에서 빼고 제곱한뒤에, 모두 더하고 그걸 데이터의 갯수 -1 로 나눔\n",
        "\n",
        "def sample(x):\n",
        "    sum_x = 0\n",
        "    for i in x:\n",
        "        sum_x += i\n",
        "    avg = sum_x / len(x)\n",
        "    vsum = 0 # vsum 전역변수로 설정해야 한다.\n",
        "    for j in x:\n",
        "        vsum += (avg - j) ** 2\n",
        "    samv = vsum / (len(x) - 1)\n",
        "    return samv"
      ]
    },
    {
      "cell_type": "code",
      "source": [
        "population(x)"
      ],
      "metadata": {
        "colab": {
          "base_uri": "https://localhost:8080/"
        },
        "id": "uFurIYK2vFKo",
        "outputId": "12c732c0-fd4d-4b17-e7f6-b04580bee4fc"
      },
      "execution_count": 36,
      "outputs": [
        {
          "output_type": "execute_result",
          "data": {
            "text/plain": [
              "8.36"
            ]
          },
          "metadata": {},
          "execution_count": 36
        }
      ]
    },
    {
      "cell_type": "code",
      "source": [
        "sample(x)"
      ],
      "metadata": {
        "colab": {
          "base_uri": "https://localhost:8080/"
        },
        "id": "OF-R9byZvJdf",
        "outputId": "3b0e2f68-92b4-472b-cd78-c5484594d8a4"
      },
      "execution_count": 37,
      "outputs": [
        {
          "output_type": "execute_result",
          "data": {
            "text/plain": [
              "9.288888888888888"
            ]
          },
          "metadata": {},
          "execution_count": 37
        }
      ]
    },
    {
      "cell_type": "code",
      "source": [
        "import numpy as np\n",
        "\n",
        "print(np.var(x)) # 넘파이는 모분산이 디폴트값\n",
        "print(np.var(x,ddof=1)) # ddof를 1로 해야 표본분산이 구해진다.\n",
        "\n",
        "# 판다스는 표본분산이 디폴트값"
      ],
      "metadata": {
        "colab": {
          "base_uri": "https://localhost:8080/"
        },
        "id": "uI9gWJqvxUlk",
        "outputId": "013d9323-6995-459e-8001-8828ee227252"
      },
      "execution_count": 42,
      "outputs": [
        {
          "output_type": "stream",
          "name": "stdout",
          "text": [
            "8.36\n",
            "9.288888888888888\n"
          ]
        }
      ]
    },
    {
      "cell_type": "code",
      "source": [
        "# 평균하고 표준편차를 많이 쓴다.\n",
        "# 분산은 제곱을 해서 값이 너무 크게 나오기 때문에 많이 쓰지 않는다.\n",
        "# 분산에 루트씌우면 된다.\n",
        "\n",
        "# 모 표준편차\n",
        "def sd_population(x):\n",
        "    sum_x = 0\n",
        "    for i in x:\n",
        "        sum_x += i\n",
        "    avg = sum_x / len(x)\n",
        "    vsum = 0 # vsum 전역변수로 설정해야 한다.\n",
        "    for j in x:\n",
        "        vsum += (avg - j) ** 2\n",
        "    popv = vsum / len(x)\n",
        "    sd_popv = popv ** (1/2)\n",
        "    return sd_popv\n",
        "\n",
        "# 표본 표준편차\n",
        "def sd_sample(x):\n",
        "    sum_x = 0\n",
        "    for i in x:\n",
        "        sum_x += i\n",
        "    avg = sum_x / len(x)\n",
        "    vsum = 0 # vsum 전역변수로 설정해야 한다.\n",
        "    for j in x:\n",
        "        vsum += (avg - j) ** 2\n",
        "    samv = vsum / (len(x) - 1)\n",
        "    sd_samv = samv ** (1/2)\n",
        "    return sd_samv"
      ],
      "metadata": {
        "id": "9SSOoRpxy2ck"
      },
      "execution_count": 50,
      "outputs": []
    },
    {
      "cell_type": "code",
      "source": [
        "sd_population(x)"
      ],
      "metadata": {
        "colab": {
          "base_uri": "https://localhost:8080/"
        },
        "id": "lbtF-hBL0okW",
        "outputId": "a2e59127-46a9-479a-d5d3-4beab592564d"
      },
      "execution_count": 49,
      "outputs": [
        {
          "output_type": "execute_result",
          "data": {
            "text/plain": [
              "2.891366458960192"
            ]
          },
          "metadata": {},
          "execution_count": 49
        }
      ]
    },
    {
      "cell_type": "code",
      "source": [
        "sd_sample(x)"
      ],
      "metadata": {
        "colab": {
          "base_uri": "https://localhost:8080/"
        },
        "id": "QzfN56Z70ZFg",
        "outputId": "f0b095dd-4b05-4077-ecdc-30880e75b990"
      },
      "execution_count": 48,
      "outputs": [
        {
          "output_type": "execute_result",
          "data": {
            "text/plain": [
              "3.0477678535099892"
            ]
          },
          "metadata": {},
          "execution_count": 48
        }
      ]
    },
    {
      "cell_type": "code",
      "source": [
        "print(np.std(x)) # 넘파이의 모 표준편차\n",
        "print(np.std(x, ddof=1)) # 넘파이의 표본 표준편차"
      ],
      "metadata": {
        "colab": {
          "base_uri": "https://localhost:8080/"
        },
        "id": "7219I_mK09q_",
        "outputId": "a75e6e95-a161-4a60-c2cd-585570e8b9bf"
      },
      "execution_count": 53,
      "outputs": [
        {
          "output_type": "stream",
          "name": "stdout",
          "text": [
            "2.891366458960192\n",
            "3.0477678535099892\n"
          ]
        }
      ]
    },
    {
      "cell_type": "code",
      "source": [],
      "metadata": {
        "id": "u0eewlQ21F7z"
      },
      "execution_count": null,
      "outputs": []
    }
  ]
}