{
 "cells": [
  {
   "cell_type": "code",
   "execution_count": 9,
   "id": "0042b11e-2ed9-4d2f-a49c-b08dc21e6534",
   "metadata": {},
   "outputs": [],
   "source": [
    "import numpy as np\n",
    "import cv2\n",
    "import sys"
   ]
  },
  {
   "cell_type": "code",
   "execution_count": 10,
   "id": "b20cd15e-6693-48a8-9877-8c82a0b1f066",
   "metadata": {},
   "outputs": [],
   "source": [
    "def construct_yolo_v3():\n",
    "    path = './yolo_dataSet/'\n",
    "\n",
    "    # COCO 데이터셋 클래스 이름 가져오기\n",
    "    with open(path + 'coco_names.txt', 'r') as f:\n",
    "        class_names = [line.strip() for line in f.readlines()]\n",
    "\n",
    "    # YOLOv3 모델과 가중치 로드\n",
    "    model = cv2.dnn.readNet(path + 'yolov3.weights', path + 'yolov3.cfg')\n",
    "\n",
    "    # 모든 레이어의 이름 가져오기\n",
    "    layer_names = model.getLayerNames()\n",
    "\n",
    "    # 출력 레이어 결정\n",
    "    out_layers_indices = model.getUnconnectedOutLayers()\n",
    "\n",
    "    # 출력 레이어 이름 리스트 구성\n",
    "    out_layers = [layer_names[idx - 1] for idx in out_layers_indices]\n",
    "\n",
    "    return model, out_layers, class_names"
   ]
  },
  {
   "cell_type": "code",
   "execution_count": 11,
   "id": "65f528fc-1230-494e-977e-a073b7df5a9e",
   "metadata": {},
   "outputs": [],
   "source": [
    "def yolo_detect(img, yolo_model, out_layers):\n",
    "    # 이미지의 크기 정보\n",
    "    height, width = img.shape[:2]\n",
    "\n",
    "    # 이미지에서 네트워크에 입력할 blob을 생성(swapRB는 오픈cv BGR이라서 RGB로 바꿔주는거)\n",
    "    ## 데이터 전처리 작업\n",
    "    test_img = cv2.dnn.blobFromImage(img, 1.0 / 255, (448, 448), (0,0,0), swapRB=True)\n",
    "\n",
    "    # YOLO 모델에 blob을 입력으로 설정\n",
    "    yolo_model.setInput(test_img)\n",
    "\n",
    "    # 네트워크 실행 및 출력 레이어에서 결과 가져오기\n",
    "    outputs = yolo_model.forward(out_layers)\n",
    "\n",
    "    # 검출된 박스, 신뢰도, 각 클래스 id\n",
    "    box, conf, id = [], [], []\n",
    "\n",
    "    # 반복문을 사용하여 Box 생성\n",
    "    for output in outputs:\n",
    "        for detection in output:\n",
    "            scores = detection[5:]\n",
    "            class_id = np.argmax(scores)\n",
    "            confidence = scores[class_id]\n",
    "            if confidence > .5: # 신뢰도 50%이상인 경우만 처리\n",
    "                # 중심점 찾기\n",
    "                center_x, center_y = int(detection[0] * width), int(detection[1] * height)\n",
    "                # 가로 세로 폭 찾기\n",
    "                w, h = int(detection[2] * width), int(detection[3] * height)\n",
    "                # 시작점 찾기\n",
    "                x, y = int(center_x - w / 2), int(center_y - h / 2)\n",
    "                box.append([x, y, x+w, y+h])\n",
    "                conf.append(float(confidence))\n",
    "                id.append(class_id)\n",
    "\n",
    "    # NMS를 사용하여 중복된 박스를 제거한다.\n",
    "    indices = cv2.dnn.NMSBoxes(box, conf, .3, .6)\n",
    "    objects = [box[i] + [conf[i]] + [id[i]] for i in range(len(box)) if i in indices]\n",
    "\n",
    "    return objects"
   ]
  },
  {
   "cell_type": "code",
   "execution_count": 12,
   "id": "e06a35d6-74b2-48a6-a416-ad440db5a792",
   "metadata": {},
   "outputs": [],
   "source": [
    "# 모델 생성\n",
    "model, out_layers, class_names = construct_yolo_v3()\n",
    "\n",
    "# 클래스별로 색상 지정\n",
    "colors = np.random.uniform(0, 255, size=(len(class_names), 3))\n",
    "\n",
    "# 이미지 불러오기\n",
    "path = './yolo_dataSet/'\n",
    "img = cv2.imread(path + 'camera.jpg')\n",
    "if img is None:\n",
    "    sys.exit('파일 없음')\n",
    "\n",
    "# Yolo Detecting\n",
    "res = yolo_detect(img, model, out_layers)\n",
    "\n",
    "for i in range(len(res)):\n",
    "    x1, y1, x2, y2, confidence, id = res[i]\n",
    "    text = f\"{class_names[id]}: {confidence: .3f}\"\n",
    "    cv2.rectangle(img, (x1, y1), (x2, y2), colors[id], 2)\n",
    "    cv2.putText(img, text, (x1, y1+30), cv2.FONT_HERSHEY_PLAIN, 1.5, colors[id])\n",
    "\n",
    "# 결과 보기\n",
    "cv2.imshow(\"YOLO V3_Object Detection\", img)\n",
    "cv2.waitKey()\n",
    "cv2.destroyAllWindows()"
   ]
  },
  {
   "cell_type": "code",
   "execution_count": null,
   "id": "f81912a7-3b48-41e1-aedd-4657fd3185a2",
   "metadata": {},
   "outputs": [],
   "source": []
  },
  {
   "cell_type": "code",
   "execution_count": null,
   "id": "4de9dba2-eec5-4dc3-ae0e-c27aa8f0ca92",
   "metadata": {},
   "outputs": [],
   "source": []
  },
  {
   "cell_type": "markdown",
   "id": "9b881e24-8734-4556-97d3-c7351169b938",
   "metadata": {},
   "source": [
    "영상 박스 체크"
   ]
  },
  {
   "cell_type": "code",
   "execution_count": 86,
   "id": "b480a684-f77d-426d-8412-fd036cbaa095",
   "metadata": {},
   "outputs": [
    {
     "name": "stdout",
     "output_type": "stream",
     "text": [
      "Collecting pytube\n",
      "  Downloading pytube-15.0.0-py3-none-any.whl.metadata (5.0 kB)\n",
      "Downloading pytube-15.0.0-py3-none-any.whl (57 kB)\n",
      "   ---------------------------------------- 0.0/57.6 kB ? eta -:--:--\n",
      "   -------------- ------------------------- 20.5/57.6 kB 640.0 kB/s eta 0:00:01\n",
      "   ---------------------------------------- 57.6/57.6 kB 1.0 MB/s eta 0:00:00\n",
      "Installing collected packages: pytube\n",
      "Successfully installed pytube-15.0.0\n",
      "Note: you may need to restart the kernel to use updated packages.\n"
     ]
    }
   ],
   "source": [
    "pip install pytube"
   ]
  },
  {
   "cell_type": "code",
   "execution_count": 13,
   "id": "2bf991a4-f5ba-4f52-92e5-6886e6f81df1",
   "metadata": {},
   "outputs": [
    {
     "name": "stdout",
     "output_type": "stream",
     "text": [
      "영상이 다운로드 되었습니다. 위치(./youtube.mp4)\n"
     ]
    }
   ],
   "source": [
    "from pytube import YouTube\n",
    "import numpy as np\n",
    "import cv2\n",
    "import sys\n",
    "\n",
    "# 유튜브 영상 다운로드\n",
    "def download_youtube_video(url, save_path='./youtube.mp4'):\n",
    "    yt = YouTube(url)\n",
    "    stream = yt.streams.filter(file_extension = 'mp4').first()\n",
    "    stream.download(filename = save_path)\n",
    "    print(f\"영상이 다운로드 되었습니다. 위치({save_path})\")\n",
    "\n",
    "# 유튜브 url\n",
    "yt_url = 'https://www.youtube.com/watch?v=ARF-GBb0DxU'\n",
    "\n",
    "download_youtube_video(yt_url)"
   ]
  },
  {
   "cell_type": "code",
   "execution_count": 14,
   "id": "39cb14b5-6875-4f9b-962f-d3598a68006d",
   "metadata": {},
   "outputs": [],
   "source": [
    "def construct_yolo_v3():\n",
    "    path = './yolo_dataSet/'\n",
    "\n",
    "    # COCO 데이터셋 클래스 이름 가져오기\n",
    "    with open(path + 'coco_names.txt', 'r') as f:\n",
    "        class_names = [line.strip() for line in f.readlines()]\n",
    "\n",
    "    # YOLOv3 모델과 가중치 로드\n",
    "    model = cv2.dnn.readNet(path + 'yolov3.weights', path + 'yolov3.cfg')\n",
    "\n",
    "    # 모든 레이어의 이름 가져오기\n",
    "    layer_names = model.getLayerNames()\n",
    "\n",
    "    # 출력 레이어 결정\n",
    "    out_layers_indices = model.getUnconnectedOutLayers()\n",
    "\n",
    "    # 출력 레이어 이름 리스트 구성\n",
    "    out_layers = [layer_names[idx - 1] for idx in out_layers_indices]\n",
    "\n",
    "    return model, out_layers, class_names"
   ]
  },
  {
   "cell_type": "code",
   "execution_count": 15,
   "id": "31a183b0-cd18-4740-ba0f-1f00caa114d6",
   "metadata": {},
   "outputs": [],
   "source": [
    "def yolo_detect(img, yolo_model, out_layers):\n",
    "    # 이미지의 크기 정보\n",
    "    height, width = img.shape[:2]\n",
    "\n",
    "    # 이미지에서 네트워크에 입력할 blob을 생성(swapRB는 오픈cv BGR이라서 RGB로 바꿔주는거)\n",
    "    ## 데이터 전처리 작업\n",
    "    test_img = cv2.dnn.blobFromImage(img, 1.0 / 255, (448, 448), (0,0,0), swapRB=True)\n",
    "\n",
    "    # YOLO 모델에 blob을 입력으로 설정\n",
    "    yolo_model.setInput(test_img)\n",
    "\n",
    "    # 네트워크 실행 및 출력 레이어에서 결과 가져오기\n",
    "    outputs = yolo_model.forward(out_layers)\n",
    "\n",
    "    # 검출된 박스, 신뢰도, 각 클래스 id\n",
    "    box, conf, id = [], [], []\n",
    "\n",
    "    # 반복문을 사용하여 Box 생성\n",
    "    for output in outputs:\n",
    "        for detection in output:\n",
    "            scores = detection[5:]\n",
    "            class_id = np.argmax(scores)\n",
    "            confidence = scores[class_id]\n",
    "            if confidence > .5: # 신뢰도 50%이상인 경우만 처리\n",
    "                # 중심점 찾기\n",
    "                center_x, center_y = int(detection[0] * width), int(detection[1] * height)\n",
    "                # 가로 세로 폭 찾기\n",
    "                w, h = int(detection[2] * width), int(detection[3] * height)\n",
    "                # 시작점 찾기\n",
    "                x, y = int(center_x - w / 2), int(center_y - h / 2)\n",
    "                box.append([x, y, x+w, y+h])\n",
    "                conf.append(float(confidence))\n",
    "                id.append(class_id)\n",
    "\n",
    "    # NMS를 사용하여 중복된 박스를 제거한다.\n",
    "    indices = cv2.dnn.NMSBoxes(box, conf, .3, .6)\n",
    "    objects = [box[i] + [conf[i]] + [id[i]] for i in range(len(box)) if i in indices]\n",
    "\n",
    "    return objects"
   ]
  },
  {
   "cell_type": "code",
   "execution_count": 16,
   "id": "85759087-0be9-4c56-b04d-3c594259bbb2",
   "metadata": {},
   "outputs": [],
   "source": [
    "cap = cv2.VideoCapture('youtube.mp4')\n",
    "\n",
    "frame_w = int(cap.get(3))\n",
    "frame_h = int(cap.get(4))\n",
    "\n",
    "out = cv2.VideoWriter('detected.mp4', cv2.VideoWriter_fourcc(*'XVID'), 10.0, (frame_w, frame_h))\n",
    "\n",
    "model, out_layers, class_names = construct_yolo_v3()\n",
    "colors = np.random.uniform(0, 255, size=(len(class_names), 3))"
   ]
  },
  {
   "cell_type": "code",
   "execution_count": 17,
   "id": "8028757c-edb4-4e91-ace3-d03dee6e2b91",
   "metadata": {},
   "outputs": [],
   "source": [
    "while cap.isOpened():\n",
    "    ret, frame = cap.read()\n",
    "    if not ret:\n",
    "        break\n",
    "    \n",
    "    res = yolo_detect(frame, model, out_layers)\n",
    "\n",
    "    for i in range(len(res)):\n",
    "        x1, y1, x2, y2, confidence, id = res[i]\n",
    "        text = f\"{class_names[id]}: {confidence: .3f}\"\n",
    "        cv2.rectangle(frame, (x1, y1), (x2, y2), colors[id], 2)\n",
    "        cv2.putText(frame, text, (x1, y1+30), cv2.FONT_HERSHEY_PLAIN, 1.5, colors[id])\n",
    "    out.write(frame)\n",
    "\n",
    "    cv2.imshow('Detection', frame)\n",
    "    if cv2.waitKey(1) & 0xFF == ord('q'):\n",
    "        break\n",
    "\n",
    "cap.release()\n",
    "out.release()\n",
    "cv2.destroyAllWindows()"
   ]
  },
  {
   "cell_type": "code",
   "execution_count": null,
   "id": "f70eb27a-ccf4-4b4c-b4fb-0d4753489e68",
   "metadata": {},
   "outputs": [],
   "source": []
  },
  {
   "cell_type": "markdown",
   "id": "3fb7db28-355e-49c9-826a-b4af8e42fa3b",
   "metadata": {},
   "source": [
    "웹캠"
   ]
  },
  {
   "cell_type": "code",
   "execution_count": null,
   "id": "793fadc7-abbf-4a6c-a724-5d95e9fc5656",
   "metadata": {},
   "outputs": [],
   "source": [
    "# Yolo 모델 불러오기\n",
    "model, out_layers, class_names = construct_yolo_v3()\n",
    "\n",
    "# 클래스 별로 색상 지정\n",
    "colors = np.random.uniform(0, 255, size=(len(class_names), 3))\n",
    "\n",
    "cap = cv2.VideoCapture(0, cv2.CAP_DSHOW)\n",
    "if not cap.isOpened():\n",
    "    sys.exit('카메라 연결 실패')\n",
    "\n",
    "while True:\n",
    "    ret, frame = cap.read()\n",
    "    if not ret:\n",
    "        sys.exit('프레임 획득 실패')\n",
    "\n",
    "    res = yolo_detect(frame, model, out_layers)\n",
    "\n",
    "    for i in range(len(res)):\n",
    "        x1, y1, x2, y2, confidence, id = res[i]\n",
    "        text = f\"{class_names[id]}: {confidence: .3f}\"\n",
    "        cv2.rectangle(frame, (x1, y1), (x2, y2), colors[id], 2)\n",
    "        cv2.putText(frame, text, (x1, y1+30), cv2.FONT_HERSHEY_PLAIN, 1.5, colors[id])\n",
    "    out.write(frame)\n",
    "\n",
    "    cv2.imshow('Detection', frame)\n",
    "\n",
    "    key = cv2.waitKey(1)\n",
    "    if key == ord('q'):\n",
    "        break\n",
    "\n",
    "cap.release()\n",
    "cv2.destroyAllWindows()"
   ]
  },
  {
   "cell_type": "code",
   "execution_count": null,
   "id": "a7cc2f61-543c-4c4f-8175-ed0d2d98f6f0",
   "metadata": {},
   "outputs": [],
   "source": []
  }
 ],
 "metadata": {
  "kernelspec": {
   "display_name": "Python 3 (ipykernel)",
   "language": "python",
   "name": "python3"
  },
  "language_info": {
   "codemirror_mode": {
    "name": "ipython",
    "version": 3
   },
   "file_extension": ".py",
   "mimetype": "text/x-python",
   "name": "python",
   "nbconvert_exporter": "python",
   "pygments_lexer": "ipython3",
   "version": "3.11.5"
  }
 },
 "nbformat": 4,
 "nbformat_minor": 5
}
