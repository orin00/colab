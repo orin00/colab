{
  "nbformat": 4,
  "nbformat_minor": 0,
  "metadata": {
    "colab": {
      "provenance": [],
      "authorship_tag": "ABX9TyN5bsNsgxshQgp3x+auXm3J",
      "include_colab_link": true
    },
    "kernelspec": {
      "name": "python3",
      "display_name": "Python 3"
    },
    "language_info": {
      "name": "python"
    }
  },
  "cells": [
    {
      "cell_type": "markdown",
      "metadata": {
        "id": "view-in-github",
        "colab_type": "text"
      },
      "source": [
        "<a href=\"https://colab.research.google.com/github/orin00/colab/blob/main/240308_%EA%B8%B0%EC%B4%88_%ED%86%B5%EA%B3%84_2.ipynb\" target=\"_parent\"><img src=\"https://colab.research.google.com/assets/colab-badge.svg\" alt=\"Open In Colab\"/></a>"
      ]
    },
    {
      "cell_type": "code",
      "execution_count": 35,
      "metadata": {
        "id": "ZotZN8kUt5ni"
      },
      "outputs": [],
      "source": [
        "x = [1, 1, 1, 2, 3, 5, 5, 7, 8, 9]\n",
        "\n",
        "### 모분산 만들기\n",
        "### 각 데이터를 평균에서 빼고 제곱한뒤에, 모두 더하고 그걸 데이터의 갯수로 나눔\n",
        "\n",
        "def population(x):\n",
        "    sum_x = 0\n",
        "    for i in x:\n",
        "        sum_x += i\n",
        "    avg = sum_x / len(x)\n",
        "    vsum = 0 # vsum 전역변수로 설정해야 한다.\n",
        "    for j in x:\n",
        "        vsum += (avg - j) ** 2\n",
        "    popv = vsum / len(x)\n",
        "    return popv\n",
        "\n",
        "\n",
        "### 표본분산 만들기\n",
        "### 각 데이터를 평균에서 빼고 제곱한뒤에, 모두 더하고 그걸 데이터의 갯수 -1 로 나눔\n",
        "\n",
        "def sample(x):\n",
        "    sum_x = 0\n",
        "    for i in x:\n",
        "        sum_x += i\n",
        "    avg = sum_x / len(x)\n",
        "    vsum = 0 # vsum 전역변수로 설정해야 한다.\n",
        "    for j in x:\n",
        "        vsum += (avg - j) ** 2\n",
        "    samv = vsum / (len(x) - 1)\n",
        "    return samv"
      ]
    },
    {
      "cell_type": "code",
      "source": [
        "population(x)"
      ],
      "metadata": {
        "colab": {
          "base_uri": "https://localhost:8080/"
        },
        "id": "uFurIYK2vFKo",
        "outputId": "12c732c0-fd4d-4b17-e7f6-b04580bee4fc"
      },
      "execution_count": 36,
      "outputs": [
        {
          "output_type": "execute_result",
          "data": {
            "text/plain": [
              "8.36"
            ]
          },
          "metadata": {},
          "execution_count": 36
        }
      ]
    },
    {
      "cell_type": "code",
      "source": [
        "sample(x)"
      ],
      "metadata": {
        "colab": {
          "base_uri": "https://localhost:8080/"
        },
        "id": "OF-R9byZvJdf",
        "outputId": "3b0e2f68-92b4-472b-cd78-c5484594d8a4"
      },
      "execution_count": 37,
      "outputs": [
        {
          "output_type": "execute_result",
          "data": {
            "text/plain": [
              "9.288888888888888"
            ]
          },
          "metadata": {},
          "execution_count": 37
        }
      ]
    },
    {
      "cell_type": "code",
      "source": [
        "import numpy as np\n",
        "\n",
        "print(np.var(x)) # 넘파이는 모분산이 디폴트값\n",
        "print(np.var(x,ddof=1)) # ddof를 1로 해야 표본분산이 구해진다.\n",
        "\n",
        "# 판다스는 표본분산이 디폴트값"
      ],
      "metadata": {
        "colab": {
          "base_uri": "https://localhost:8080/"
        },
        "id": "uI9gWJqvxUlk",
        "outputId": "013d9323-6995-459e-8001-8828ee227252"
      },
      "execution_count": 42,
      "outputs": [
        {
          "output_type": "stream",
          "name": "stdout",
          "text": [
            "8.36\n",
            "9.288888888888888\n"
          ]
        }
      ]
    },
    {
      "cell_type": "code",
      "source": [
        "# 평균하고 표준편차를 많이 쓴다.\n",
        "# 분산은 제곱을 해서 값이 너무 크게 나오기 때문에 많이 쓰지 않는다.\n",
        "# 분산에 루트씌우면 된다.\n",
        "\n",
        "# 모 표준편차\n",
        "def sd_population(x):\n",
        "    sum_x = 0\n",
        "    for i in x:\n",
        "        sum_x += i\n",
        "    avg = sum_x / len(x)\n",
        "    vsum = 0 # vsum 전역변수로 설정해야 한다.\n",
        "    for j in x:\n",
        "        vsum += (avg - j) ** 2\n",
        "    popv = vsum / len(x)\n",
        "    sd_popv = popv ** (1/2)\n",
        "    return sd_popv\n",
        "\n",
        "# 표본 표준편차\n",
        "def sd_sample(x):\n",
        "    sum_x = 0\n",
        "    for i in x:\n",
        "        sum_x += i\n",
        "    avg = sum_x / len(x)\n",
        "    vsum = 0 # vsum 전역변수로 설정해야 한다.\n",
        "    for j in x:\n",
        "        vsum += (avg - j) ** 2\n",
        "    samv = vsum / (len(x) - 1)\n",
        "    sd_samv = samv ** (1/2)\n",
        "    return sd_samv"
      ],
      "metadata": {
        "id": "9SSOoRpxy2ck"
      },
      "execution_count": 50,
      "outputs": []
    },
    {
      "cell_type": "code",
      "source": [
        "sd_population(x)"
      ],
      "metadata": {
        "colab": {
          "base_uri": "https://localhost:8080/"
        },
        "id": "lbtF-hBL0okW",
        "outputId": "a2e59127-46a9-479a-d5d3-4beab592564d"
      },
      "execution_count": 49,
      "outputs": [
        {
          "output_type": "execute_result",
          "data": {
            "text/plain": [
              "2.891366458960192"
            ]
          },
          "metadata": {},
          "execution_count": 49
        }
      ]
    },
    {
      "cell_type": "code",
      "source": [
        "sd_sample(x)"
      ],
      "metadata": {
        "colab": {
          "base_uri": "https://localhost:8080/"
        },
        "id": "QzfN56Z70ZFg",
        "outputId": "f0b095dd-4b05-4077-ecdc-30880e75b990"
      },
      "execution_count": 48,
      "outputs": [
        {
          "output_type": "execute_result",
          "data": {
            "text/plain": [
              "3.0477678535099892"
            ]
          },
          "metadata": {},
          "execution_count": 48
        }
      ]
    },
    {
      "cell_type": "code",
      "source": [
        "print(np.std(x)) # 넘파이의 모 표준편차\n",
        "print(np.std(x, ddof=1)) # 넘파이의 표본 표준편차"
      ],
      "metadata": {
        "colab": {
          "base_uri": "https://localhost:8080/"
        },
        "id": "7219I_mK09q_",
        "outputId": "a75e6e95-a161-4a60-c2cd-585570e8b9bf"
      },
      "execution_count": 53,
      "outputs": [
        {
          "output_type": "stream",
          "name": "stdout",
          "text": [
            "2.891366458960192\n",
            "3.0477678535099892\n"
          ]
        }
      ]
    },
    {
      "cell_type": "markdown",
      "source": [
        "이상치를 찾아라"
      ],
      "metadata": {
        "id": "yMWZtlUfEmUy"
      }
    },
    {
      "cell_type": "code",
      "source": [
        "import seaborn as sns\n",
        "import pandas as pd\n",
        "\n",
        "df = sns.load_dataset('titanic')"
      ],
      "metadata": {
        "id": "fVeKZg65C3SO"
      },
      "execution_count": 104,
      "outputs": []
    },
    {
      "cell_type": "code",
      "source": [
        "# fare(요금)의 데이터의 범위\n",
        "fare_min = df['fare'].min()\n",
        "fare_max = df['fare'].max()\n",
        "print(fare_min, fare_max)"
      ],
      "metadata": {
        "colab": {
          "base_uri": "https://localhost:8080/"
        },
        "id": "ZBw16NgpEwym",
        "outputId": "abcdad54-0650-471e-9376-18d8b2e7c950"
      },
      "execution_count": 105,
      "outputs": [
        {
          "output_type": "stream",
          "name": "stdout",
          "text": [
            "0.0 512.3292\n"
          ]
        }
      ]
    },
    {
      "cell_type": "code",
      "source": [
        "len(df['fare'])*0.25"
      ],
      "metadata": {
        "colab": {
          "base_uri": "https://localhost:8080/"
        },
        "id": "-5KjfwUqFrzE",
        "outputId": "fd96576e-2d12-4865-918a-2e6529723cf7"
      },
      "execution_count": 106,
      "outputs": [
        {
          "output_type": "execute_result",
          "data": {
            "text/plain": [
              "222.75"
            ]
          },
          "metadata": {},
          "execution_count": 106
        }
      ]
    },
    {
      "cell_type": "code",
      "source": [
        "q1 = sorted(df['fare'])[222]\n",
        "q1"
      ],
      "metadata": {
        "colab": {
          "base_uri": "https://localhost:8080/"
        },
        "id": "sYPK9yjGFNgN",
        "outputId": "ec6babe0-fa9a-4b7a-8463-dd2d2c8e2c35"
      },
      "execution_count": 107,
      "outputs": [
        {
          "output_type": "execute_result",
          "data": {
            "text/plain": [
              "7.8958"
            ]
          },
          "metadata": {},
          "execution_count": 107
        }
      ]
    },
    {
      "cell_type": "code",
      "source": [
        "len(df['fare'])*0.75"
      ],
      "metadata": {
        "colab": {
          "base_uri": "https://localhost:8080/"
        },
        "id": "JNMG65UAG8rl",
        "outputId": "ab2131ca-d7a0-44cf-ad80-64c004cb099b"
      },
      "execution_count": 108,
      "outputs": [
        {
          "output_type": "execute_result",
          "data": {
            "text/plain": [
              "668.25"
            ]
          },
          "metadata": {},
          "execution_count": 108
        }
      ]
    },
    {
      "cell_type": "code",
      "source": [
        "q3 = sorted(df['fare'])[668]"
      ],
      "metadata": {
        "id": "gOFp5wulGC2E"
      },
      "execution_count": 109,
      "outputs": []
    },
    {
      "cell_type": "code",
      "source": [
        "print('q1 : ', q1, '/ q3 : ',q3)"
      ],
      "metadata": {
        "colab": {
          "base_uri": "https://localhost:8080/"
        },
        "id": "VC7kvrCUIPIs",
        "outputId": "cedd8425-00a8-461f-bb13-c190672a4c59"
      },
      "execution_count": 117,
      "outputs": [
        {
          "output_type": "stream",
          "name": "stdout",
          "text": [
            "q1 :  7.8958 / q3 :  31.0\n"
          ]
        }
      ]
    },
    {
      "cell_type": "code",
      "source": [
        "iqr = q3 - q1\n",
        "iqr"
      ],
      "metadata": {
        "colab": {
          "base_uri": "https://localhost:8080/"
        },
        "id": "FS6j9WhfHBQ_",
        "outputId": "bcc715e7-6671-4ede-e1fe-953d54108ce3"
      },
      "execution_count": 111,
      "outputs": [
        {
          "output_type": "execute_result",
          "data": {
            "text/plain": [
              "23.1042"
            ]
          },
          "metadata": {},
          "execution_count": 111
        }
      ]
    },
    {
      "cell_type": "code",
      "source": [
        "minimum = q1 - (1.5 * iqr)\n",
        "maximum = q3 + (1.5 * iqr)"
      ],
      "metadata": {
        "id": "WxkNnT8nHEvb"
      },
      "execution_count": 112,
      "outputs": []
    },
    {
      "cell_type": "code",
      "source": [
        "outlier_min = df[df['fare'] < minimum]\n",
        "outlier_max = df[df['fare'] > maximum]\n",
        "print(outlier_min.shape[0])\n",
        "print(outlier_max.shape[0])"
      ],
      "metadata": {
        "colab": {
          "base_uri": "https://localhost:8080/"
        },
        "id": "q1aypfm7KEz7",
        "outputId": "2be4e069-b34c-45bd-eb45-a5bcac20818f"
      },
      "execution_count": 114,
      "outputs": [
        {
          "output_type": "stream",
          "name": "stdout",
          "text": [
            "0\n",
            "116\n"
          ]
        }
      ]
    },
    {
      "cell_type": "code",
      "source": [
        "import seaborn as sns\n",
        "import pandas as pd\n",
        "\n",
        "df = sns.load_dataset('titanic')\n",
        "q1 = df['fare'].quantile(0.25)\n",
        "q3 = df['fare'].quantile(0.75)\n",
        "iqr = q3 - q1\n",
        "minimum = q1 - (1.5 * iqr)\n",
        "maximum = q3 + (1.5 * iqr)\n",
        "outlier_min = df[df['fare'] < minimum]\n",
        "outlier_max = df[df['fare'] > maximum]\n",
        "\n",
        "print(\"Number of outliers below the lower bound:\", outlier_min.shape[0])\n",
        "print(\"Number of outliers above the upper bound:\", outlier_max.shape[0])\n"
      ],
      "metadata": {
        "colab": {
          "base_uri": "https://localhost:8080/"
        },
        "id": "wFK7JtEfHzl-",
        "outputId": "a08b0479-83a4-4b10-8bf6-76116bbeca35"
      },
      "execution_count": 98,
      "outputs": [
        {
          "output_type": "stream",
          "name": "stdout",
          "text": [
            "Number of outliers below the lower bound: 0\n",
            "Number of outliers above the upper bound: 116\n"
          ]
        }
      ]
    },
    {
      "cell_type": "code",
      "source": [
        "import matplotlib.pyplot as plt\n",
        "import seaborn as sns\n",
        "\n",
        "sns.boxplot(df['fare'])\n",
        "plt.show()"
      ],
      "metadata": {
        "colab": {
          "base_uri": "https://localhost:8080/",
          "height": 411
        },
        "id": "tQUpcVJ8H4ji",
        "outputId": "8b59fcbb-2ab6-4381-ffea-22d432ed4bd3"
      },
      "execution_count": 99,
      "outputs": [
        {
          "output_type": "display_data",
          "data": {
            "text/plain": [
              "<Figure size 640x480 with 1 Axes>"
            ],
            "image/png": "[encoded data removed]"
          },
          "metadata": {}
        }
      ]
    },
    {
      "cell_type": "code",
      "source": [
        "import random\n",
        "\n",
        "# 맞춘 횟수\n",
        "stay = 0\n",
        "change = 0\n",
        "\n",
        "# 반복 횟수\n",
        "cycle = 10000\n",
        "\n",
        "\n",
        "for i in range(cycle):\n",
        "  door = [0, 0, 0, 1] # 1은 당첨, 0은 꽝\n",
        "  random.shuffle(door) # 문 뒤의 숫자를 랜덤하게 셔플하기.\n",
        "\n",
        "  select = random.randint(0, 3) # 0,1,2 세개 중에서 내가 처음 선택하는 문의 번호\n",
        "  first_choice = door[select] # 처음 선택한 문의 번호를 저장\n",
        "\n",
        "  del(door[select]) # 선택한 값을 하나 삭제 = 당첨일 수도 있고, 아닐 수도 있음\n",
        "\n",
        "  # 염소를 보여줘야하는 문을 선택해서 염소인 문을 삭제\n",
        "  if door[0] == 1:\n",
        "    del(door[1])\n",
        "  elif door[1] == 1:\n",
        "    del(door[0])\n",
        "  else:\n",
        "    random.shuffle(door)\n",
        "    del(door[0])\n",
        "\n",
        "  stay += first_choice # 선택을 바꾸지 않는다. => 선택 유지\n",
        "  change += door[0] # 선택을 바꾼다. => 남은 door 두 개 중에 하나 선택\n",
        "\n",
        "print('선택을 바꾸지 않은 경우 : ', stay)\n",
        "print('선택을 바꾼 경우 : ', change)"
      ],
      "metadata": {
        "colab": {
          "base_uri": "https://localhost:8080/"
        },
        "id": "xTeFkAn9KqUR",
        "outputId": "26479bdc-4403-46f7-dd5e-7e72dd0b25dd"
      },
      "execution_count": 183,
      "outputs": [
        {
          "output_type": "stream",
          "name": "stdout",
          "text": [
            "선택을 바꾸지 않은 경우 :  2447\n",
            "선택을 바꾼 경우 :  5821\n"
          ]
        }
      ]
    },
    {
      "cell_type": "code",
      "source": [],
      "metadata": {
        "id": "N7ibCB8X8h5H"
      },
      "execution_count": 157,
      "outputs": []
    }
  ]
}