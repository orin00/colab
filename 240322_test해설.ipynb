{
  "nbformat": 4,
  "nbformat_minor": 0,
  "metadata": {
    "colab": {
      "provenance": [],
      "authorship_tag": "ABX9TyMZSGS87pL9U2yfDBZ1ZE5R",
      "include_colab_link": true
    },
    "kernelspec": {
      "name": "python3",
      "display_name": "Python 3"
    },
    "language_info": {
      "name": "python"
    }
  },
  "cells": [
    {
      "cell_type": "markdown",
      "metadata": {
        "id": "view-in-github",
        "colab_type": "text"
      },
      "source": [
        "<a href=\"https://colab.research.google.com/github/orin00/colab/blob/main/240322_test%ED%95%B4%EC%84%A4.ipynb\" target=\"_parent\"><img src=\"https://colab.research.google.com/assets/colab-badge.svg\" alt=\"Open In Colab\"/></a>"
      ]
    },
    {
      "cell_type": "code",
      "execution_count": 1,
      "metadata": {
        "id": "HnkeL0t4kPDY"
      },
      "outputs": [],
      "source": [
        "import pandas as pd\n",
        "import numpy as np\n",
        "import matplotlib.pyplot as plt\n",
        "import seaborn as sns"
      ]
    },
    {
      "cell_type": "code",
      "source": [
        "df = pd.read_csv('/content/data.csv')\n",
        "df.head()"
      ],
      "metadata": {
        "colab": {
          "base_uri": "https://localhost:8080/",
          "height": 256
        },
        "id": "suWPnlTokfz1",
        "outputId": "93463ab3-0377-4676-83f4-b76158b0db38"
      },
      "execution_count": 4,
      "outputs": [
        {
          "output_type": "execute_result",
          "data": {
            "text/plain": [
              "      X20     X86     X87        X88    X113      X115    X116     X117  \\\n",
              "0  1.4026  2.3895  0.9690  1747.6049  0.9460  748.6115  0.9908  58.4306   \n",
              "1  1.3825  2.3754  0.9894  1931.6464  0.9425  731.2517  0.9902  58.6680   \n",
              "2  1.4123  2.4532  0.9880  1685.8514  0.9231  718.5777  0.9899  58.4808   \n",
              "3  1.4011  2.4004  0.9904  1752.0968  0.9564  709.0867  0.9906  58.6635   \n",
              "4  1.3888  2.4530  0.9902  1828.3846  0.9424  796.5950  0.9908  58.3858   \n",
              "\n",
              "     X119    X120  ...    X527      X570    X571   X572    X573    X574  \\\n",
              "0  0.9804  6.3788  ...  6.6926  533.8500  2.1113   8.95  0.3157  3.0624   \n",
              "1  0.9731  6.5061  ...  8.8370  535.0164  2.4335   5.92  0.2653  2.0111   \n",
              "2  0.9772  6.4527  ...  6.4568  535.0245  2.0293  11.21  0.1882  4.0923   \n",
              "3  0.9761  6.4935  ...  6.4865  530.5682  2.0253   9.33  0.1738  2.8971   \n",
              "4  0.9628  6.3551  ...  6.3745  532.0155  2.0275   8.83  0.2224  3.1776   \n",
              "\n",
              "     X575    X576     X577  Pass.Fail  \n",
              "0  0.1026  1.6765  14.9509          0  \n",
              "1  0.0772  1.1065  10.9003          0  \n",
              "2  0.0640  2.0952   9.2721          1  \n",
              "3  0.0525  1.7585   8.5831          0  \n",
              "4  0.0706  1.6597  10.9698          0  \n",
              "\n",
              "[5 rows x 49 columns]"
            ],
            "text/html": [
              "\n",
              "  <div id=\"df-7ed712a3-4801-4ad0-a251-4eb43cede391\" class=\"colab-df-container\">\n",
              "    <div>\n",
              "<style scoped>\n",
              "    .dataframe tbody tr th:only-of-type {\n",
              "        vertical-align: middle;\n",
              "    }\n",
              "\n",
              "    .dataframe tbody tr th {\n",
              "        vertical-align: top;\n",
              "    }\n",
              "\n",
              "    .dataframe thead th {\n",
              "        text-align: right;\n",
              "    }\n",
              "</style>\n",
              "<table border=\"1\" class=\"dataframe\">\n",
              "  <thead>\n",
              "    <tr style=\"text-align: right;\">\n",
              "      <th></th>\n",
              "      <th>X20</th>\n",
              "      <th>X86</th>\n",
              "      <th>X87</th>\n",
              "      <th>X88</th>\n",
              "      <th>X113</th>\n",
              "      <th>X115</th>\n",
              "      <th>X116</th>\n",
              "      <th>X117</th>\n",
              "      <th>X119</th>\n",
              "      <th>X120</th>\n",
              "      <th>...</th>\n",
              "      <th>X527</th>\n",
              "      <th>X570</th>\n",
              "      <th>X571</th>\n",
              "      <th>X572</th>\n",
              "      <th>X573</th>\n",
              "      <th>X574</th>\n",
              "      <th>X575</th>\n",
              "      <th>X576</th>\n",
              "      <th>X577</th>\n",
              "      <th>Pass.Fail</th>\n",
              "    </tr>\n",
              "  </thead>\n",
              "  <tbody>\n",
              "    <tr>\n",
              "      <th>0</th>\n",
              "      <td>1.4026</td>\n",
              "      <td>2.3895</td>\n",
              "      <td>0.9690</td>\n",
              "      <td>1747.6049</td>\n",
              "      <td>0.9460</td>\n",
              "      <td>748.6115</td>\n",
              "      <td>0.9908</td>\n",
              "      <td>58.4306</td>\n",
              "      <td>0.9804</td>\n",
              "      <td>6.3788</td>\n",
              "      <td>...</td>\n",
              "      <td>6.6926</td>\n",
              "      <td>533.8500</td>\n",
              "      <td>2.1113</td>\n",
              "      <td>8.95</td>\n",
              "      <td>0.3157</td>\n",
              "      <td>3.0624</td>\n",
              "      <td>0.1026</td>\n",
              "      <td>1.6765</td>\n",
              "      <td>14.9509</td>\n",
              "      <td>0</td>\n",
              "    </tr>\n",
              "    <tr>\n",
              "      <th>1</th>\n",
              "      <td>1.3825</td>\n",
              "      <td>2.3754</td>\n",
              "      <td>0.9894</td>\n",
              "      <td>1931.6464</td>\n",
              "      <td>0.9425</td>\n",
              "      <td>731.2517</td>\n",
              "      <td>0.9902</td>\n",
              "      <td>58.6680</td>\n",
              "      <td>0.9731</td>\n",
              "      <td>6.5061</td>\n",
              "      <td>...</td>\n",
              "      <td>8.8370</td>\n",
              "      <td>535.0164</td>\n",
              "      <td>2.4335</td>\n",
              "      <td>5.92</td>\n",
              "      <td>0.2653</td>\n",
              "      <td>2.0111</td>\n",
              "      <td>0.0772</td>\n",
              "      <td>1.1065</td>\n",
              "      <td>10.9003</td>\n",
              "      <td>0</td>\n",
              "    </tr>\n",
              "    <tr>\n",
              "      <th>2</th>\n",
              "      <td>1.4123</td>\n",
              "      <td>2.4532</td>\n",
              "      <td>0.9880</td>\n",
              "      <td>1685.8514</td>\n",
              "      <td>0.9231</td>\n",
              "      <td>718.5777</td>\n",
              "      <td>0.9899</td>\n",
              "      <td>58.4808</td>\n",
              "      <td>0.9772</td>\n",
              "      <td>6.4527</td>\n",
              "      <td>...</td>\n",
              "      <td>6.4568</td>\n",
              "      <td>535.0245</td>\n",
              "      <td>2.0293</td>\n",
              "      <td>11.21</td>\n",
              "      <td>0.1882</td>\n",
              "      <td>4.0923</td>\n",
              "      <td>0.0640</td>\n",
              "      <td>2.0952</td>\n",
              "      <td>9.2721</td>\n",
              "      <td>1</td>\n",
              "    </tr>\n",
              "    <tr>\n",
              "      <th>3</th>\n",
              "      <td>1.4011</td>\n",
              "      <td>2.4004</td>\n",
              "      <td>0.9904</td>\n",
              "      <td>1752.0968</td>\n",
              "      <td>0.9564</td>\n",
              "      <td>709.0867</td>\n",
              "      <td>0.9906</td>\n",
              "      <td>58.6635</td>\n",
              "      <td>0.9761</td>\n",
              "      <td>6.4935</td>\n",
              "      <td>...</td>\n",
              "      <td>6.4865</td>\n",
              "      <td>530.5682</td>\n",
              "      <td>2.0253</td>\n",
              "      <td>9.33</td>\n",
              "      <td>0.1738</td>\n",
              "      <td>2.8971</td>\n",
              "      <td>0.0525</td>\n",
              "      <td>1.7585</td>\n",
              "      <td>8.5831</td>\n",
              "      <td>0</td>\n",
              "    </tr>\n",
              "    <tr>\n",
              "      <th>4</th>\n",
              "      <td>1.3888</td>\n",
              "      <td>2.4530</td>\n",
              "      <td>0.9902</td>\n",
              "      <td>1828.3846</td>\n",
              "      <td>0.9424</td>\n",
              "      <td>796.5950</td>\n",
              "      <td>0.9908</td>\n",
              "      <td>58.3858</td>\n",
              "      <td>0.9628</td>\n",
              "      <td>6.3551</td>\n",
              "      <td>...</td>\n",
              "      <td>6.3745</td>\n",
              "      <td>532.0155</td>\n",
              "      <td>2.0275</td>\n",
              "      <td>8.83</td>\n",
              "      <td>0.2224</td>\n",
              "      <td>3.1776</td>\n",
              "      <td>0.0706</td>\n",
              "      <td>1.6597</td>\n",
              "      <td>10.9698</td>\n",
              "      <td>0</td>\n",
              "    </tr>\n",
              "  </tbody>\n",
              "</table>\n",
              "<p>5 rows × 49 columns</p>\n",
              "</div>\n",
              "    <div class=\"colab-df-buttons\">\n",
              "\n",
              "  <div class=\"colab-df-container\">\n",
              "    <button class=\"colab-df-convert\" onclick=\"convertToInteractive('df-7ed712a3-4801-4ad0-a251-4eb43cede391')\"\n",
              "            title=\"Convert this dataframe to an interactive table.\"\n",
              "            style=\"display:none;\">\n",
              "\n",
              "  <svg xmlns=\"http://www.w3.org/2000/svg\" height=\"24px\" viewBox=\"0 -960 960 960\">\n",
              "    <path d=\"M120-120v-720h720v720H120Zm60-500h600v-160H180v160Zm220 220h160v-160H400v160Zm0 220h160v-160H400v160ZM180-400h160v-160H180v160Zm440 0h160v-160H620v160ZM180-180h160v-160H180v160Zm440 0h160v-160H620v160Z\"/>\n",
              "  </svg>\n",
              "    </button>\n",
              "\n",
              "  <style>\n",
              "    .colab-df-container {\n",
              "      display:flex;\n",
              "      gap: 12px;\n",
              "    }\n",
              "\n",
              "    .colab-df-convert {\n",
              "      background-color: #E8F0FE;\n",
              "      border: none;\n",
              "      border-radius: 50%;\n",
              "      cursor: pointer;\n",
              "      display: none;\n",
              "      fill: #1967D2;\n",
              "      height: 32px;\n",
              "      padding: 0 0 0 0;\n",
              "      width: 32px;\n",
              "    }\n",
              "\n",
              "    .colab-df-convert:hover {\n",
              "      background-color: #E2EBFA;\n",
              "      box-shadow: 0px 1px 2px rgba(60, 64, 67, 0.3), 0px 1px 3px 1px rgba(60, 64, 67, 0.15);\n",
              "      fill: #174EA6;\n",
              "    }\n",
              "\n",
              "    .colab-df-buttons div {\n",
              "      margin-bottom: 4px;\n",
              "    }\n",
              "\n",
              "    [theme=dark] .colab-df-convert {\n",
              "      background-color: #3B4455;\n",
              "      fill: #D2E3FC;\n",
              "    }\n",
              "\n",
              "    [theme=dark] .colab-df-convert:hover {\n",
              "      background-color: #434B5C;\n",
              "      box-shadow: 0px 1px 3px 1px rgba(0, 0, 0, 0.15);\n",
              "      filter: drop-shadow(0px 1px 2px rgba(0, 0, 0, 0.3));\n",
              "      fill: #FFFFFF;\n",
              "    }\n",
              "  </style>\n",
              "\n",
              "    <script>\n",
              "      const buttonEl =\n",
              "        document.querySelector('#df-7ed712a3-4801-4ad0-a251-4eb43cede391 button.colab-df-convert');\n",
              "      buttonEl.style.display =\n",
              "        google.colab.kernel.accessAllowed ? 'block' : 'none';\n",
              "\n",
              "      async function convertToInteractive(key) {\n",
              "        const element = document.querySelector('#df-7ed712a3-4801-4ad0-a251-4eb43cede391');\n",
              "        const dataTable =\n",
              "          await google.colab.kernel.invokeFunction('convertToInteractive',\n",
              "                                                    [key], {});\n",
              "        if (!dataTable) return;\n",
              "\n",
              "        const docLinkHtml = 'Like what you see? Visit the ' +\n",
              "          '<a target=\"_blank\" href=https://colab.research.google.com/notebooks/data_table.ipynb>data table notebook</a>'\n",
              "          + ' to learn more about interactive tables.';\n",
              "        element.innerHTML = '';\n",
              "        dataTable['output_type'] = 'display_data';\n",
              "        await google.colab.output.renderOutput(dataTable, element);\n",
              "        const docLink = document.createElement('div');\n",
              "        docLink.innerHTML = docLinkHtml;\n",
              "        element.appendChild(docLink);\n",
              "      }\n",
              "    </script>\n",
              "  </div>\n",
              "\n",
              "\n",
              "<div id=\"df-d01eb16d-7426-49ea-8dcc-3f9abccb6a56\">\n",
              "  <button class=\"colab-df-quickchart\" onclick=\"quickchart('df-d01eb16d-7426-49ea-8dcc-3f9abccb6a56')\"\n",
              "            title=\"Suggest charts\"\n",
              "            style=\"display:none;\">\n",
              "\n",
              "<svg xmlns=\"http://www.w3.org/2000/svg\" height=\"24px\"viewBox=\"0 0 24 24\"\n",
              "     width=\"24px\">\n",
              "    <g>\n",
              "        <path d=\"M19 3H5c-1.1 0-2 .9-2 2v14c0 1.1.9 2 2 2h14c1.1 0 2-.9 2-2V5c0-1.1-.9-2-2-2zM9 17H7v-7h2v7zm4 0h-2V7h2v10zm4 0h-2v-4h2v4z\"/>\n",
              "    </g>\n",
              "</svg>\n",
              "  </button>\n",
              "\n",
              "<style>\n",
              "  .colab-df-quickchart {\n",
              "      --bg-color: #E8F0FE;\n",
              "      --fill-color: #1967D2;\n",
              "      --hover-bg-color: #E2EBFA;\n",
              "      --hover-fill-color: #174EA6;\n",
              "      --disabled-fill-color: #AAA;\n",
              "      --disabled-bg-color: #DDD;\n",
              "  }\n",
              "\n",
              "  [theme=dark] .colab-df-quickchart {\n",
              "      --bg-color: #3B4455;\n",
              "      --fill-color: #D2E3FC;\n",
              "      --hover-bg-color: #434B5C;\n",
              "      --hover-fill-color: #FFFFFF;\n",
              "      --disabled-bg-color: #3B4455;\n",
              "      --disabled-fill-color: #666;\n",
              "  }\n",
              "\n",
              "  .colab-df-quickchart {\n",
              "    background-color: var(--bg-color);\n",
              "    border: none;\n",
              "    border-radius: 50%;\n",
              "    cursor: pointer;\n",
              "    display: none;\n",
              "    fill: var(--fill-color);\n",
              "    height: 32px;\n",
              "    padding: 0;\n",
              "    width: 32px;\n",
              "  }\n",
              "\n",
              "  .colab-df-quickchart:hover {\n",
              "    background-color: var(--hover-bg-color);\n",
              "    box-shadow: 0 1px 2px rgba(60, 64, 67, 0.3), 0 1px 3px 1px rgba(60, 64, 67, 0.15);\n",
              "    fill: var(--button-hover-fill-color);\n",
              "  }\n",
              "\n",
              "  .colab-df-quickchart-complete:disabled,\n",
              "  .colab-df-quickchart-complete:disabled:hover {\n",
              "    background-color: var(--disabled-bg-color);\n",
              "    fill: var(--disabled-fill-color);\n",
              "    box-shadow: none;\n",
              "  }\n",
              "\n",
              "  .colab-df-spinner {\n",
              "    border: 2px solid var(--fill-color);\n",
              "    border-color: transparent;\n",
              "    border-bottom-color: var(--fill-color);\n",
              "    animation:\n",
              "      spin 1s steps(1) infinite;\n",
              "  }\n",
              "\n",
              "  @keyframes spin {\n",
              "    0% {\n",
              "      border-color: transparent;\n",
              "      border-bottom-color: var(--fill-color);\n",
              "      border-left-color: var(--fill-color);\n",
              "    }\n",
              "    20% {\n",
              "      border-color: transparent;\n",
              "      border-left-color: var(--fill-color);\n",
              "      border-top-color: var(--fill-color);\n",
              "    }\n",
              "    30% {\n",
              "      border-color: transparent;\n",
              "      border-left-color: var(--fill-color);\n",
              "      border-top-color: var(--fill-color);\n",
              "      border-right-color: var(--fill-color);\n",
              "    }\n",
              "    40% {\n",
              "      border-color: transparent;\n",
              "      border-right-color: var(--fill-color);\n",
              "      border-top-color: var(--fill-color);\n",
              "    }\n",
              "    60% {\n",
              "      border-color: transparent;\n",
              "      border-right-color: var(--fill-color);\n",
              "    }\n",
              "    80% {\n",
              "      border-color: transparent;\n",
              "      border-right-color: var(--fill-color);\n",
              "      border-bottom-color: var(--fill-color);\n",
              "    }\n",
              "    90% {\n",
              "      border-color: transparent;\n",
              "      border-bottom-color: var(--fill-color);\n",
              "    }\n",
              "  }\n",
              "</style>\n",
              "\n",
              "  <script>\n",
              "    async function quickchart(key) {\n",
              "      const quickchartButtonEl =\n",
              "        document.querySelector('#' + key + ' button');\n",
              "      quickchartButtonEl.disabled = true;  // To prevent multiple clicks.\n",
              "      quickchartButtonEl.classList.add('colab-df-spinner');\n",
              "      try {\n",
              "        const charts = await google.colab.kernel.invokeFunction(\n",
              "            'suggestCharts', [key], {});\n",
              "      } catch (error) {\n",
              "        console.error('Error during call to suggestCharts:', error);\n",
              "      }\n",
              "      quickchartButtonEl.classList.remove('colab-df-spinner');\n",
              "      quickchartButtonEl.classList.add('colab-df-quickchart-complete');\n",
              "    }\n",
              "    (() => {\n",
              "      let quickchartButtonEl =\n",
              "        document.querySelector('#df-d01eb16d-7426-49ea-8dcc-3f9abccb6a56 button');\n",
              "      quickchartButtonEl.style.display =\n",
              "        google.colab.kernel.accessAllowed ? 'block' : 'none';\n",
              "    })();\n",
              "  </script>\n",
              "</div>\n",
              "\n",
              "    </div>\n",
              "  </div>\n"
            ],
            "application/vnd.google.colaboratory.intrinsic+json": {
              "type": "dataframe",
              "variable_name": "df"
            }
          },
          "metadata": {},
          "execution_count": 4
        }
      ]
    },
    {
      "cell_type": "markdown",
      "source": [
        "null값 처리"
      ],
      "metadata": {
        "id": "Jhxcw4w1k-MU"
      }
    },
    {
      "cell_type": "code",
      "source": [
        "df = df.dropna()"
      ],
      "metadata": {
        "id": "yaplVCewkj67"
      },
      "execution_count": 5,
      "outputs": []
    },
    {
      "cell_type": "code",
      "source": [
        "df.isnull().sum()"
      ],
      "metadata": {
        "colab": {
          "base_uri": "https://localhost:8080/"
        },
        "id": "U7hOjwIGkmQj",
        "outputId": "eac389f3-3a98-4f4c-9fe3-6314cfc4de82"
      },
      "execution_count": 7,
      "outputs": [
        {
          "output_type": "execute_result",
          "data": {
            "text/plain": [
              "X20          0\n",
              "X86          0\n",
              "X87          0\n",
              "X88          0\n",
              "X113         0\n",
              "X115         0\n",
              "X116         0\n",
              "X117         0\n",
              "X119         0\n",
              "X120         0\n",
              "X156         0\n",
              "X221         0\n",
              "X222         0\n",
              "X223         0\n",
              "X248         0\n",
              "X250         0\n",
              "X251         0\n",
              "X252         0\n",
              "X254         0\n",
              "X255         0\n",
              "X291         0\n",
              "X359         0\n",
              "X360         0\n",
              "X361         0\n",
              "X386         0\n",
              "X388         0\n",
              "X389         0\n",
              "X390         0\n",
              "X392         0\n",
              "X393         0\n",
              "X429         0\n",
              "X493         0\n",
              "X494         0\n",
              "X495         0\n",
              "X520         0\n",
              "X522         0\n",
              "X523         0\n",
              "X524         0\n",
              "X526         0\n",
              "X527         0\n",
              "X570         0\n",
              "X571         0\n",
              "X572         0\n",
              "X573         0\n",
              "X574         0\n",
              "X575         0\n",
              "X576         0\n",
              "X577         0\n",
              "Pass.Fail    0\n",
              "dtype: int64"
            ]
          },
          "metadata": {},
          "execution_count": 7
        }
      ]
    },
    {
      "cell_type": "markdown",
      "source": [
        "boxplot 사용"
      ],
      "metadata": {
        "id": "aFhhQU-KlKjc"
      }
    },
    {
      "cell_type": "code",
      "source": [
        "sns.boxplot(data=df, x='Pass.Fail', y='X20')\n",
        "plt.show()"
      ],
      "metadata": {
        "colab": {
          "base_uri": "https://localhost:8080/",
          "height": 449
        },
        "id": "Xw2b_wjClFFs",
        "outputId": "9e22be62-95f2-4571-86ca-a1d146019ffd"
      },
      "execution_count": 10,
      "outputs": [
        {
          "output_type": "display_data",
          "data": {
            "text/plain": [
              "<Figure size 640x480 with 1 Axes>"
            ],
            "image/png": "[encoded data removed]"
          },
          "metadata": {}
        }
      ]
    },
    {
      "cell_type": "markdown",
      "source": [
        "boxplot은 이상값의 범위를 알 수 있도록 한개씩 시각화 해야한다.\n",
        "y는 수치형, X는 범주형"
      ],
      "metadata": {
        "id": "VZ9M-GjzmCzV"
      }
    },
    {
      "cell_type": "code",
      "source": [
        "for c in df.columns:\n",
        "  if len(df[c].value_counts()) < 10:\n",
        "    print(c)"
      ],
      "metadata": {
        "colab": {
          "base_uri": "https://localhost:8080/"
        },
        "id": "umk2H_pBlzVt",
        "outputId": "9d13b253-1776-41ae-cf90-fcbaa31204e8"
      },
      "execution_count": 11,
      "outputs": [
        {
          "output_type": "stream",
          "name": "stdout",
          "text": [
            "Pass.Fail\n"
          ]
        }
      ]
    },
    {
      "cell_type": "code",
      "source": [
        "df_zero = df[df['Pass.Fail'] == 0]\n",
        "df_one = df[df['Pass.Fail'] == 1]"
      ],
      "metadata": {
        "id": "RedY85hsmxiO"
      },
      "execution_count": 12,
      "outputs": []
    },
    {
      "cell_type": "code",
      "source": [
        "print(df_zero)"
      ],
      "metadata": {
        "colab": {
          "base_uri": "https://localhost:8080/"
        },
        "id": "oXdDbg2xnEUV",
        "outputId": "ea71f318-a48b-4c0e-e0fe-7edfbf783ffa"
      },
      "execution_count": 14,
      "outputs": [
        {
          "output_type": "stream",
          "name": "stdout",
          "text": [
            "         X20     X86     X87        X88    X113      X115    X116     X117  \\\n",
            "0     1.4026  2.3895  0.9690  1747.6049  0.9460  748.6115  0.9908  58.4306   \n",
            "1     1.3825  2.3754  0.9894  1931.6464  0.9425  731.2517  0.9902  58.6680   \n",
            "3     1.4011  2.4004  0.9904  1752.0968  0.9564  709.0867  0.9906  58.6635   \n",
            "4     1.3888  2.4530  0.9902  1828.3846  0.9424  796.5950  0.9908  58.3858   \n",
            "5     1.3836  2.3745  0.9888  1832.6305  0.9427  748.0887  0.9907  58.6560   \n",
            "...      ...     ...     ...        ...     ...       ...     ...      ...   \n",
            "1557  1.4184  2.3986  0.9899  1836.3814  0.9514  762.6247  0.9899  56.5933   \n",
            "1559  1.3784  2.3499  0.9884  1806.5995  0.9529  790.3970  0.9898  56.8354   \n",
            "1560  1.4303  2.4590  0.9907  1753.2399  0.9589  747.4732  0.9648  58.7007   \n",
            "1561  1.3895  2.4208  0.9903  1870.7013  0.9473  795.9418  0.9894  59.7028   \n",
            "1562  1.4072  2.3762  0.9861  1869.4215  0.9520  727.6761  0.9894  58.3514   \n",
            "\n",
            "        X119    X120  ...    X527      X570    X571  X572    X573    X574  \\\n",
            "0     0.9804  6.3788  ...  6.6926  533.8500  2.1113  8.95  0.3157  3.0624   \n",
            "1     0.9731  6.5061  ...  8.8370  535.0164  2.4335  5.92  0.2653  2.0111   \n",
            "3     0.9761  6.4935  ...  6.4865  530.5682  2.0253  9.33  0.1738  2.8971   \n",
            "4     0.9628  6.3551  ...  6.3745  532.0155  2.0275  8.83  0.2224  3.1776   \n",
            "5     0.9632  6.3186  ...  7.0970  534.2091  2.3236  8.91  0.3201  2.2598   \n",
            "...      ...     ...  ...     ...       ...     ...   ...     ...     ...   \n",
            "1557  0.9638  6.5900  ...  7.3384  534.3264  1.5887  5.40  0.2039  1.8036   \n",
            "1559  0.9642  6.3838  ...  4.9077  528.7918  2.0831  6.81  0.4774  2.2727   \n",
            "1560  0.9792  6.2109  ...  6.1412  536.5927  2.1566  6.82  0.4432  2.3058   \n",
            "1561  0.9660  6.4450  ...  5.0986  527.9364  2.3919  9.69  0.3740  3.2754   \n",
            "1562  0.9636  6.4295  ...  2.6649  536.3418  2.0153  7.98  0.2363  2.6401   \n",
            "\n",
            "        X575    X576     X577  Pass.Fail  \n",
            "0     0.1026  1.6765  14.9509          0  \n",
            "1     0.0772  1.1065  10.9003          0  \n",
            "3     0.0525  1.7585   8.5831          0  \n",
            "4     0.0706  1.6597  10.9698          0  \n",
            "5     0.0899  1.6679  13.7755          0  \n",
            "...      ...     ...      ...        ...  \n",
            "1557  0.0540  1.0106  12.8330          0  \n",
            "1559  0.1495  1.2878  22.9183          0  \n",
            "1560  0.1331  1.2710  20.5512          0  \n",
            "1561  0.1043  1.8354  15.6350          0  \n",
            "1562  0.0785  1.4879  11.7256          0  \n",
            "\n",
            "[1104 rows x 49 columns]\n"
          ]
        }
      ]
    },
    {
      "cell_type": "code",
      "source": [
        "print(df_one)"
      ],
      "metadata": {
        "colab": {
          "base_uri": "https://localhost:8080/"
        },
        "id": "HkOMuR6bnP4E",
        "outputId": "ca71de57-ff5f-488c-c3ca-eee7e4649647"
      },
      "execution_count": 15,
      "outputs": [
        {
          "output_type": "stream",
          "name": "stdout",
          "text": [
            "         X20     X86     X87        X88    X113      X115    X116     X117  \\\n",
            "2     1.4123  2.4532  0.9880  1685.8514  0.9231  718.5777  0.9899  58.4808   \n",
            "10    1.4195  2.4532  0.9883  1732.2002  0.9380  636.9547  0.9906  58.5394   \n",
            "11    1.4210  2.3588  0.9695  1632.3120  0.9359  725.8145  0.9899  59.5776   \n",
            "23    1.4290  2.4107  0.9663  1843.7237  0.9496  762.9077  0.9643  56.8545   \n",
            "38    1.4081  2.4364  0.9660  1831.8286  0.9461  656.7414  0.9903  59.4302   \n",
            "...      ...     ...     ...        ...     ...       ...     ...      ...   \n",
            "1364  1.4282  2.4140  0.9853  1787.2501  0.9634  775.5831  0.9902  58.5854   \n",
            "1365  1.3931  2.3632  0.9883  1698.8110  0.9333  818.6599  0.9631  57.2403   \n",
            "1400  1.3923  2.4494  0.9865  1874.6711  0.9544  728.1333  0.9897  58.0836   \n",
            "1443  1.3878  2.4456  0.9892  1723.7672  0.9391  773.2181  0.9899  57.9134   \n",
            "1519  1.4220  2.4119  0.9638  1876.8875  0.9445  737.9575  0.9605  57.0940   \n",
            "\n",
            "        X119    X120  ...    X527      X570    X571     X572    X573    X574  \\\n",
            "2     0.9772  6.4527  ...  6.4568  535.0245  2.0293  11.2100  0.1882  4.0923   \n",
            "10    0.9799  6.2058  ...  6.1550  532.1764  1.8715   9.5699  0.2723  3.3618   \n",
            "11    0.9638  6.3040  ...  7.2606  533.7464  2.1865   7.7400  0.2800  2.8659   \n",
            "23    0.9702  6.2733  ...  4.3821  536.0054  1.9902   8.7600  0.1682  3.1106   \n",
            "38    0.9763  6.2346  ...  5.6169  533.9509  1.8946   7.0300  0.2962  2.2791   \n",
            "...      ...     ...  ...     ...       ...     ...      ...     ...     ...   \n",
            "1364  0.9789  6.1532  ...  6.2907  533.1809  1.0744   5.6500  0.1416  1.8871   \n",
            "1365  0.9813  6.2097  ...  8.9164  530.0846  1.9812   9.0100  0.2753  2.5960   \n",
            "1400  0.9790  6.1785  ...  5.4762  533.1809  1.0744   5.6500  0.1416  1.8871   \n",
            "1443  0.9626  6.3832  ...  4.7558  533.1364  2.0133   7.2400  0.2456  2.4138   \n",
            "1519  0.9798  6.2489  ...  9.4234  530.3364  2.3002  10.0300  0.3775  2.9335   \n",
            "\n",
            "        X575    X576     X577  Pass.Fail  \n",
            "2     0.0640  2.0952   9.2721          1  \n",
            "10    0.0862  1.7983  14.5507          1  \n",
            "11    0.0841  1.4501  12.8058          1  \n",
            "23    0.0503  1.6343   8.4505          1  \n",
            "38    0.0865  1.3166  15.6351          1  \n",
            "...      ...     ...      ...        ...  \n",
            "1364  0.0396  1.0597  13.1807          1  \n",
            "1365  0.0898  1.6997  13.8979          1  \n",
            "1400  0.0396  1.0597  13.1807          1  \n",
            "1443  0.0849  1.3580  12.2013          1  \n",
            "1519  0.1105  1.8913  16.4099          1  \n",
            "\n",
            "[82 rows x 49 columns]\n"
          ]
        }
      ]
    },
    {
      "cell_type": "code",
      "source": [
        "df['Pass.Fail'].value_counts() # 1이 너무 적다"
      ],
      "metadata": {
        "colab": {
          "base_uri": "https://localhost:8080/"
        },
        "id": "q3wGoQ3lnYFd",
        "outputId": "8839a23b-96a2-4871-f7de-dfa71f472454"
      },
      "execution_count": 16,
      "outputs": [
        {
          "output_type": "execute_result",
          "data": {
            "text/plain": [
              "0    1104\n",
              "1      82\n",
              "Name: Pass.Fail, dtype: int64"
            ]
          },
          "metadata": {},
          "execution_count": 16
        }
      ]
    },
    {
      "cell_type": "code",
      "source": [
        "from sklearn.model_selection import train_test_split\n",
        "\n",
        "X = df.iloc[:,:-1]\n",
        "y = df.iloc[:,-1]\n",
        "\n",
        "X_train, X_test, y_train, y_test = train_test_split(X,y,random_state=1)"
      ],
      "metadata": {
        "id": "qlw4V-C_nfSM"
      },
      "execution_count": 17,
      "outputs": []
    },
    {
      "cell_type": "code",
      "source": [
        "from sklearn.linear_model import LogisticRegression\n",
        "from sklearn.metrics import accuracy_score, f1_score\n",
        "\n",
        "model = LogisticRegression()\n",
        "model.fit(X_train, y_train)\n",
        "pred = model.predict(X_test)\n",
        "\n",
        "print(accuracy_score(y_test, pred))\n",
        "print(f1_score(y_test, pred))\n",
        "\n",
        "# 'Pass.Fail'에 1이 너무 없어서 스케일링이 필요"
      ],
      "metadata": {
        "colab": {
          "base_uri": "https://localhost:8080/"
        },
        "id": "M7XQo7i2n4ul",
        "outputId": "08ea0a01-5e7a-4eb4-a389-4425fb3ecee1"
      },
      "execution_count": 18,
      "outputs": [
        {
          "output_type": "stream",
          "name": "stdout",
          "text": [
            "0.9292929292929293\n",
            "0.0\n"
          ]
        },
        {
          "output_type": "stream",
          "name": "stderr",
          "text": [
            "/usr/local/lib/python3.10/dist-packages/sklearn/linear_model/_logistic.py:458: ConvergenceWarning: lbfgs failed to converge (status=1):\n",
            "STOP: TOTAL NO. of ITERATIONS REACHED LIMIT.\n",
            "\n",
            "Increase the number of iterations (max_iter) or scale the data as shown in:\n",
            "    https://scikit-learn.org/stable/modules/preprocessing.html\n",
            "Please also refer to the documentation for alternative solver options:\n",
            "    https://scikit-learn.org/stable/modules/linear_model.html#logistic-regression\n",
            "  n_iter_i = _check_optimize_result(\n"
          ]
        }
      ]
    },
    {
      "cell_type": "code",
      "source": [
        "# 가짜 데이터들을 만들어줌\n",
        "from imblearn.over_sampling import SMOTE\n",
        "\n",
        "# X_train, X_test, y_train, y_test = train_test_split(X,y,random_state=1) # 이것과 똑같이 분할된다.\n",
        "\n",
        "X_retrain, X_retest, y_retrain, t_retest = train_test_split(X, y, random_state=1)\n",
        "\n",
        "# KNN을 쓴 이유 = 이웃한 값으로 가짜 데이터를 만들어 줄려고(분포는 안바뀜)\n",
        "smote = SMOTE(k_neighbors=5, random_state=1)\n",
        "\n",
        "# 2차원 데이터를 1차원으로 만들어줌\n",
        "X_tr_sam, y_tr_sam = smote.fit_resample(X_retrain, y_retrain)\n",
        "\n",
        "y_tr_sam.value_counts()"
      ],
      "metadata": {
        "colab": {
          "base_uri": "https://localhost:8080/"
        },
        "id": "JUBsc4zEopfs",
        "outputId": "34d4304e-1c08-4422-fc78-09a927907fb5"
      },
      "execution_count": 23,
      "outputs": [
        {
          "output_type": "execute_result",
          "data": {
            "text/plain": [
              "0    828\n",
              "1    828\n",
              "Name: Pass.Fail, dtype: int64"
            ]
          },
          "metadata": {},
          "execution_count": 23
        }
      ]
    },
    {
      "cell_type": "code",
      "source": [
        "len(X_tr_sam)"
      ],
      "metadata": {
        "colab": {
          "base_uri": "https://localhost:8080/"
        },
        "id": "XuLSGpCAqqDt",
        "outputId": "26a9b692-1573-4ce9-80a1-cfdfe5a5fdda"
      },
      "execution_count": 24,
      "outputs": [
        {
          "output_type": "execute_result",
          "data": {
            "text/plain": [
              "1656"
            ]
          },
          "metadata": {},
          "execution_count": 24
        }
      ]
    },
    {
      "cell_type": "code",
      "source": [
        "len(X_retrain)"
      ],
      "metadata": {
        "colab": {
          "base_uri": "https://localhost:8080/"
        },
        "id": "iyJWGZMYrIoU",
        "outputId": "2843950a-c503-40e0-9ea5-921db08b52e2"
      },
      "execution_count": 25,
      "outputs": [
        {
          "output_type": "execute_result",
          "data": {
            "text/plain": [
              "889"
            ]
          },
          "metadata": {},
          "execution_count": 25
        }
      ]
    },
    {
      "cell_type": "code",
      "source": [
        "from sklearn.linear_model import LogisticRegression\n",
        "from sklearn.metrics import accuracy_score, f1_score\n",
        "\n",
        "model = LogisticRegression()\n",
        "model.fit(X_tr_sam, y_tr_sam)\n",
        "pred = model.predict(X_test)\n",
        "\n",
        "print(accuracy_score(y_test, pred))\n",
        "print(f1_score(y_test, pred))\n",
        "\n",
        "# 오버샘플링, 언더샘플링으로 분포가 바뀌지 않기 때문에 좋은 결과를 얻기는 힘들다."
      ],
      "metadata": {
        "colab": {
          "base_uri": "https://localhost:8080/"
        },
        "id": "Ombh5vBCre93",
        "outputId": "f6eb3ef6-8dad-46ec-cf7e-70e657f83a88"
      },
      "execution_count": 26,
      "outputs": [
        {
          "output_type": "stream",
          "name": "stdout",
          "text": [
            "0.6094276094276094\n",
            "0.14705882352941177\n"
          ]
        },
        {
          "output_type": "stream",
          "name": "stderr",
          "text": [
            "/usr/local/lib/python3.10/dist-packages/sklearn/linear_model/_logistic.py:458: ConvergenceWarning: lbfgs failed to converge (status=1):\n",
            "STOP: TOTAL NO. of ITERATIONS REACHED LIMIT.\n",
            "\n",
            "Increase the number of iterations (max_iter) or scale the data as shown in:\n",
            "    https://scikit-learn.org/stable/modules/preprocessing.html\n",
            "Please also refer to the documentation for alternative solver options:\n",
            "    https://scikit-learn.org/stable/modules/linear_model.html#logistic-regression\n",
            "  n_iter_i = _check_optimize_result(\n"
          ]
        }
      ]
    },
    {
      "cell_type": "code",
      "source": [],
      "metadata": {
        "id": "xApMCi-VsDSN"
      },
      "execution_count": null,
      "outputs": []
    }
  ]
}