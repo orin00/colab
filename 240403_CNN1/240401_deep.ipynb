{
 "cells": [
  {
   "cell_type": "code",
   "execution_count": null,
   "id": "bea40fb3-320f-435c-b837-8a171e015e36",
   "metadata": {},
   "outputs": [],
   "source": [
    "## 딥러닝 분류모델"
   ]
  },
  {
   "cell_type": "code",
   "execution_count": 76,
   "id": "0c442368-6f01-40b7-af4e-921d55501db1",
   "metadata": {},
   "outputs": [],
   "source": [
    "### 타이타닉 생존 문제\n",
    "import pandas as pd\n",
    "import numpy as np\n",
    "import seaborn as sns\n",
    "import matplotlib.pyplot as plt"
   ]
  },
  {
   "cell_type": "code",
   "execution_count": 77,
   "id": "e9bac70a-a6d9-4a99-88cc-a784f4f6c678",
   "metadata": {},
   "outputs": [
    {
     "data": {
      "text/html": [
       "<div>\n",
       "<style scoped>\n",
       "    .dataframe tbody tr th:only-of-type {\n",
       "        vertical-align: middle;\n",
       "    }\n",
       "\n",
       "    .dataframe tbody tr th {\n",
       "        vertical-align: top;\n",
       "    }\n",
       "\n",
       "    .dataframe thead th {\n",
       "        text-align: right;\n",
       "    }\n",
       "</style>\n",
       "<table border=\"1\" class=\"dataframe\">\n",
       "  <thead>\n",
       "    <tr style=\"text-align: right;\">\n",
       "      <th></th>\n",
       "      <th>survived</th>\n",
       "      <th>pclass</th>\n",
       "      <th>sex</th>\n",
       "      <th>age</th>\n",
       "      <th>sibsp</th>\n",
       "      <th>parch</th>\n",
       "      <th>fare</th>\n",
       "      <th>embarked</th>\n",
       "      <th>class</th>\n",
       "      <th>who</th>\n",
       "      <th>adult_male</th>\n",
       "      <th>deck</th>\n",
       "      <th>embark_town</th>\n",
       "      <th>alive</th>\n",
       "      <th>alone</th>\n",
       "    </tr>\n",
       "  </thead>\n",
       "  <tbody>\n",
       "    <tr>\n",
       "      <th>0</th>\n",
       "      <td>0</td>\n",
       "      <td>3</td>\n",
       "      <td>male</td>\n",
       "      <td>22.0</td>\n",
       "      <td>1</td>\n",
       "      <td>0</td>\n",
       "      <td>7.2500</td>\n",
       "      <td>S</td>\n",
       "      <td>Third</td>\n",
       "      <td>man</td>\n",
       "      <td>True</td>\n",
       "      <td>NaN</td>\n",
       "      <td>Southampton</td>\n",
       "      <td>no</td>\n",
       "      <td>False</td>\n",
       "    </tr>\n",
       "    <tr>\n",
       "      <th>1</th>\n",
       "      <td>1</td>\n",
       "      <td>1</td>\n",
       "      <td>female</td>\n",
       "      <td>38.0</td>\n",
       "      <td>1</td>\n",
       "      <td>0</td>\n",
       "      <td>71.2833</td>\n",
       "      <td>C</td>\n",
       "      <td>First</td>\n",
       "      <td>woman</td>\n",
       "      <td>False</td>\n",
       "      <td>C</td>\n",
       "      <td>Cherbourg</td>\n",
       "      <td>yes</td>\n",
       "      <td>False</td>\n",
       "    </tr>\n",
       "    <tr>\n",
       "      <th>2</th>\n",
       "      <td>1</td>\n",
       "      <td>3</td>\n",
       "      <td>female</td>\n",
       "      <td>26.0</td>\n",
       "      <td>0</td>\n",
       "      <td>0</td>\n",
       "      <td>7.9250</td>\n",
       "      <td>S</td>\n",
       "      <td>Third</td>\n",
       "      <td>woman</td>\n",
       "      <td>False</td>\n",
       "      <td>NaN</td>\n",
       "      <td>Southampton</td>\n",
       "      <td>yes</td>\n",
       "      <td>True</td>\n",
       "    </tr>\n",
       "    <tr>\n",
       "      <th>3</th>\n",
       "      <td>1</td>\n",
       "      <td>1</td>\n",
       "      <td>female</td>\n",
       "      <td>35.0</td>\n",
       "      <td>1</td>\n",
       "      <td>0</td>\n",
       "      <td>53.1000</td>\n",
       "      <td>S</td>\n",
       "      <td>First</td>\n",
       "      <td>woman</td>\n",
       "      <td>False</td>\n",
       "      <td>C</td>\n",
       "      <td>Southampton</td>\n",
       "      <td>yes</td>\n",
       "      <td>False</td>\n",
       "    </tr>\n",
       "    <tr>\n",
       "      <th>4</th>\n",
       "      <td>0</td>\n",
       "      <td>3</td>\n",
       "      <td>male</td>\n",
       "      <td>35.0</td>\n",
       "      <td>0</td>\n",
       "      <td>0</td>\n",
       "      <td>8.0500</td>\n",
       "      <td>S</td>\n",
       "      <td>Third</td>\n",
       "      <td>man</td>\n",
       "      <td>True</td>\n",
       "      <td>NaN</td>\n",
       "      <td>Southampton</td>\n",
       "      <td>no</td>\n",
       "      <td>True</td>\n",
       "    </tr>\n",
       "  </tbody>\n",
       "</table>\n",
       "</div>"
      ],
      "text/plain": [
       "   survived  pclass     sex   age  sibsp  parch     fare embarked  class  \\\n",
       "0         0       3    male  22.0      1      0   7.2500        S  Third   \n",
       "1         1       1  female  38.0      1      0  71.2833        C  First   \n",
       "2         1       3  female  26.0      0      0   7.9250        S  Third   \n",
       "3         1       1  female  35.0      1      0  53.1000        S  First   \n",
       "4         0       3    male  35.0      0      0   8.0500        S  Third   \n",
       "\n",
       "     who  adult_male deck  embark_town alive  alone  \n",
       "0    man        True  NaN  Southampton    no  False  \n",
       "1  woman       False    C    Cherbourg   yes  False  \n",
       "2  woman       False  NaN  Southampton   yes   True  \n",
       "3  woman       False    C  Southampton   yes  False  \n",
       "4    man        True  NaN  Southampton    no   True  "
      ]
     },
     "execution_count": 77,
     "metadata": {},
     "output_type": "execute_result"
    }
   ],
   "source": [
    "df = sns.load_dataset('titanic')\n",
    "df.head()"
   ]
  },
  {
   "cell_type": "code",
   "execution_count": 78,
   "id": "fd567f5a-c34d-41c9-a372-ee831fb195c2",
   "metadata": {},
   "outputs": [
    {
     "name": "stdout",
     "output_type": "stream",
     "text": [
      "<class 'pandas.core.frame.DataFrame'>\n",
      "RangeIndex: 891 entries, 0 to 890\n",
      "Data columns (total 15 columns):\n",
      " #   Column       Non-Null Count  Dtype   \n",
      "---  ------       --------------  -----   \n",
      " 0   survived     891 non-null    int64   \n",
      " 1   pclass       891 non-null    int64   \n",
      " 2   sex          891 non-null    object  \n",
      " 3   age          714 non-null    float64 \n",
      " 4   sibsp        891 non-null    int64   \n",
      " 5   parch        891 non-null    int64   \n",
      " 6   fare         891 non-null    float64 \n",
      " 7   embarked     889 non-null    object  \n",
      " 8   class        891 non-null    category\n",
      " 9   who          891 non-null    object  \n",
      " 10  adult_male   891 non-null    bool    \n",
      " 11  deck         203 non-null    category\n",
      " 12  embark_town  889 non-null    object  \n",
      " 13  alive        891 non-null    object  \n",
      " 14  alone        891 non-null    bool    \n",
      "dtypes: bool(2), category(2), float64(2), int64(4), object(5)\n",
      "memory usage: 80.7+ KB\n"
     ]
    }
   ],
   "source": [
    "df.info()\n",
    "# adult_male만 넣고 embarked 이후로 다 빼기"
   ]
  },
  {
   "cell_type": "code",
   "execution_count": 79,
   "id": "d87c5dc6-6d97-47ea-bce9-d3c5b0dc7705",
   "metadata": {},
   "outputs": [
    {
     "data": {
      "text/plain": [
       "Index(['survived', 'pclass', 'sex', 'age', 'sibsp', 'parch', 'fare',\n",
       "       'embarked', 'class', 'who', 'adult_male', 'deck', 'embark_town',\n",
       "       'alive', 'alone'],\n",
       "      dtype='object')"
      ]
     },
     "execution_count": 79,
     "metadata": {},
     "output_type": "execute_result"
    }
   ],
   "source": [
    "df.columns"
   ]
  },
  {
   "cell_type": "code",
   "execution_count": 80,
   "id": "61fbc2d3-cbc3-42ed-a637-5c0c395d9dca",
   "metadata": {},
   "outputs": [],
   "source": [
    "df = df[['survived', 'pclass', 'sex', 'age', 'sibsp', 'parch', 'fare', 'adult_male']]"
   ]
  },
  {
   "cell_type": "code",
   "execution_count": 81,
   "id": "15d78cb2-d37e-415f-9c65-e5eacc50267c",
   "metadata": {},
   "outputs": [],
   "source": [
    "## Null값 삭제\n",
    "df = df.dropna()"
   ]
  },
  {
   "cell_type": "code",
   "execution_count": 82,
   "id": "7dac5df4-2cdf-462b-88b4-eafb6eb0726c",
   "metadata": {},
   "outputs": [
    {
     "name": "stdout",
     "output_type": "stream",
     "text": [
      "<class 'pandas.core.frame.DataFrame'>\n",
      "Index: 714 entries, 0 to 890\n",
      "Data columns (total 8 columns):\n",
      " #   Column      Non-Null Count  Dtype  \n",
      "---  ------      --------------  -----  \n",
      " 0   survived    714 non-null    int64  \n",
      " 1   pclass      714 non-null    int64  \n",
      " 2   sex         714 non-null    object \n",
      " 3   age         714 non-null    float64\n",
      " 4   sibsp       714 non-null    int64  \n",
      " 5   parch       714 non-null    int64  \n",
      " 6   fare        714 non-null    float64\n",
      " 7   adult_male  714 non-null    bool   \n",
      "dtypes: bool(1), float64(2), int64(4), object(1)\n",
      "memory usage: 45.3+ KB\n"
     ]
    }
   ],
   "source": [
    "df.info()"
   ]
  },
  {
   "cell_type": "code",
   "execution_count": 83,
   "id": "fa92887a-2a6c-4f06-9eac-e99dcd97c58c",
   "metadata": {},
   "outputs": [],
   "source": [
    "onehot = pd.get_dummies(df[['sex', 'adult_male']], drop_first=True)"
   ]
  },
  {
   "cell_type": "code",
   "execution_count": 84,
   "id": "d3cd535f-bdcc-49b6-a72b-d11a21eedeed",
   "metadata": {},
   "outputs": [
    {
     "data": {
      "text/html": [
       "<div>\n",
       "<style scoped>\n",
       "    .dataframe tbody tr th:only-of-type {\n",
       "        vertical-align: middle;\n",
       "    }\n",
       "\n",
       "    .dataframe tbody tr th {\n",
       "        vertical-align: top;\n",
       "    }\n",
       "\n",
       "    .dataframe thead th {\n",
       "        text-align: right;\n",
       "    }\n",
       "</style>\n",
       "<table border=\"1\" class=\"dataframe\">\n",
       "  <thead>\n",
       "    <tr style=\"text-align: right;\">\n",
       "      <th></th>\n",
       "      <th>adult_male</th>\n",
       "      <th>sex_male</th>\n",
       "    </tr>\n",
       "  </thead>\n",
       "  <tbody>\n",
       "    <tr>\n",
       "      <th>0</th>\n",
       "      <td>1</td>\n",
       "      <td>1</td>\n",
       "    </tr>\n",
       "    <tr>\n",
       "      <th>1</th>\n",
       "      <td>0</td>\n",
       "      <td>0</td>\n",
       "    </tr>\n",
       "    <tr>\n",
       "      <th>2</th>\n",
       "      <td>0</td>\n",
       "      <td>0</td>\n",
       "    </tr>\n",
       "    <tr>\n",
       "      <th>3</th>\n",
       "      <td>0</td>\n",
       "      <td>0</td>\n",
       "    </tr>\n",
       "    <tr>\n",
       "      <th>4</th>\n",
       "      <td>1</td>\n",
       "      <td>1</td>\n",
       "    </tr>\n",
       "    <tr>\n",
       "      <th>...</th>\n",
       "      <td>...</td>\n",
       "      <td>...</td>\n",
       "    </tr>\n",
       "    <tr>\n",
       "      <th>885</th>\n",
       "      <td>0</td>\n",
       "      <td>0</td>\n",
       "    </tr>\n",
       "    <tr>\n",
       "      <th>886</th>\n",
       "      <td>1</td>\n",
       "      <td>1</td>\n",
       "    </tr>\n",
       "    <tr>\n",
       "      <th>887</th>\n",
       "      <td>0</td>\n",
       "      <td>0</td>\n",
       "    </tr>\n",
       "    <tr>\n",
       "      <th>889</th>\n",
       "      <td>1</td>\n",
       "      <td>1</td>\n",
       "    </tr>\n",
       "    <tr>\n",
       "      <th>890</th>\n",
       "      <td>1</td>\n",
       "      <td>1</td>\n",
       "    </tr>\n",
       "  </tbody>\n",
       "</table>\n",
       "<p>714 rows × 2 columns</p>\n",
       "</div>"
      ],
      "text/plain": [
       "     adult_male  sex_male\n",
       "0             1         1\n",
       "1             0         0\n",
       "2             0         0\n",
       "3             0         0\n",
       "4             1         1\n",
       "..          ...       ...\n",
       "885           0         0\n",
       "886           1         1\n",
       "887           0         0\n",
       "889           1         1\n",
       "890           1         1\n",
       "\n",
       "[714 rows x 2 columns]"
      ]
     },
     "execution_count": 84,
     "metadata": {},
     "output_type": "execute_result"
    }
   ],
   "source": [
    "onehot = onehot.astype(int)\n",
    "onehot"
   ]
  },
  {
   "cell_type": "code",
   "execution_count": 85,
   "id": "cc4482a9-263d-4dd9-bf76-5ae106f4c72f",
   "metadata": {},
   "outputs": [
    {
     "data": {
      "text/plain": [
       "Index(['survived', 'pclass', 'sex', 'age', 'sibsp', 'parch', 'fare',\n",
       "       'adult_male'],\n",
       "      dtype='object')"
      ]
     },
     "execution_count": 85,
     "metadata": {},
     "output_type": "execute_result"
    }
   ],
   "source": [
    "df.columns"
   ]
  },
  {
   "cell_type": "code",
   "execution_count": 86,
   "id": "08ffcfad-22e2-4848-984b-3e98bde6d0d5",
   "metadata": {},
   "outputs": [],
   "source": [
    "df_2 = df[['pclass', 'age', 'sibsp', 'parch', 'fare']]"
   ]
  },
  {
   "cell_type": "code",
   "execution_count": 87,
   "id": "75579ec2-0c75-4e9d-817e-1490f8e5566a",
   "metadata": {},
   "outputs": [],
   "source": [
    "## 원핫 인코딩 컬럼과 나머지 컬럼 합치기\n",
    "X = pd.concat([df_2, onehot], axis=1)\n",
    "y = tf.keras.utils.to_categorical(df['survived'])"
   ]
  },
  {
   "cell_type": "code",
   "execution_count": 88,
   "id": "fccb1a61-6305-4fe0-b661-b517ac3d136b",
   "metadata": {},
   "outputs": [],
   "source": [
    "from sklearn.model_selection import train_test_split\n",
    "\n",
    "X_train, X_test, y_train, y_test = train_test_split(X, y,\n",
    "                                                   test_size=0.3,\n",
    "                                                   random_state=1)"
   ]
  },
  {
   "cell_type": "code",
   "execution_count": 114,
   "id": "2958997f-3c86-46eb-afba-59014f755a88",
   "metadata": {},
   "outputs": [
    {
     "name": "stdout",
     "output_type": "stream",
     "text": [
      "(499, 7) (215, 7)\n",
      "(499, 2) (215, 2)\n"
     ]
    }
   ],
   "source": [
    "print(X_train.shape, X_test.shape)\n",
    "print(y_train.shape, y_test.shape)"
   ]
  },
  {
   "cell_type": "code",
   "execution_count": 90,
   "id": "6f59b903-6f70-4388-b2f6-db325cdc2ef9",
   "metadata": {},
   "outputs": [
    {
     "name": "stderr",
     "output_type": "stream",
     "text": [
      "C:\\ProgramData\\anaconda3\\Lib\\site-packages\\keras\\src\\layers\\core\\dense.py:88: UserWarning: Do not pass an `input_shape`/`input_dim` argument to a layer. When using Sequential models, prefer using an `Input(shape)` object as the first layer in the model instead.\n",
      "  super().__init__(activity_regularizer=activity_regularizer, **kwargs)\n"
     ]
    }
   ],
   "source": [
    "import tensorflow as tf\n",
    "\n",
    "model = tf.keras.models.Sequential()\n",
    "model.add(tf.keras.layers.Dense(64, input_shape=(7,), activation='relu'))\n",
    "model.add(tf.keras.layers.Dense(32, activation='relu'))\n",
    "model.add(tf.keras.layers.Dense(16, activation='relu'))\n",
    "model.add(tf.keras.layers.Dense(2, activation='softmax'))"
   ]
  },
  {
   "cell_type": "code",
   "execution_count": 91,
   "id": "9435a645-9ca3-47fa-83fe-5ea859932d46",
   "metadata": {},
   "outputs": [],
   "source": [
    "model.compile(optimizer='adam',\n",
    "             loss='categorical_crossentropy',\n",
    "             metrics=['acc'])"
   ]
  },
  {
   "cell_type": "code",
   "execution_count": 92,
   "id": "28216d3c-b589-45eb-9de7-e08d2eed61e9",
   "metadata": {
    "scrolled": true
   },
   "outputs": [
    {
     "name": "stdout",
     "output_type": "stream",
     "text": [
      "Epoch 1/50\n",
      "\u001b[1m16/16\u001b[0m \u001b[32m━━━━━━━━━━━━━━━━━━━━\u001b[0m\u001b[37m\u001b[0m \u001b[1m1s\u001b[0m 10ms/step - acc: 0.5993 - loss: 1.0994 - val_acc: 0.6698 - val_loss: 0.6814\n",
      "Epoch 2/50\n",
      "\u001b[1m16/16\u001b[0m \u001b[32m━━━━━━━━━━━━━━━━━━━━\u001b[0m\u001b[37m\u001b[0m \u001b[1m0s\u001b[0m 3ms/step - acc: 0.7063 - loss: 0.6968 - val_acc: 0.7302 - val_loss: 0.5773\n",
      "Epoch 3/50\n",
      "\u001b[1m16/16\u001b[0m \u001b[32m━━━━━━━━━━━━━━━━━━━━\u001b[0m\u001b[37m\u001b[0m \u001b[1m0s\u001b[0m 3ms/step - acc: 0.7283 - loss: 0.6086 - val_acc: 0.7163 - val_loss: 0.5446\n",
      "Epoch 4/50\n",
      "\u001b[1m16/16\u001b[0m \u001b[32m━━━━━━━━━━━━━━━━━━━━\u001b[0m\u001b[37m\u001b[0m \u001b[1m0s\u001b[0m 3ms/step - acc: 0.6771 - loss: 0.5777 - val_acc: 0.7581 - val_loss: 0.5201\n",
      "Epoch 5/50\n",
      "\u001b[1m16/16\u001b[0m \u001b[32m━━━━━━━━━━━━━━━━━━━━\u001b[0m\u001b[37m\u001b[0m \u001b[1m0s\u001b[0m 2ms/step - acc: 0.7577 - loss: 0.5225 - val_acc: 0.7721 - val_loss: 0.5113\n",
      "Epoch 6/50\n",
      "\u001b[1m16/16\u001b[0m \u001b[32m━━━━━━━━━━━━━━━━━━━━\u001b[0m\u001b[37m\u001b[0m \u001b[1m0s\u001b[0m 3ms/step - acc: 0.7145 - loss: 0.5447 - val_acc: 0.6140 - val_loss: 0.8323\n",
      "Epoch 7/50\n",
      "\u001b[1m16/16\u001b[0m \u001b[32m━━━━━━━━━━━━━━━━━━━━\u001b[0m\u001b[37m\u001b[0m \u001b[1m0s\u001b[0m 3ms/step - acc: 0.6599 - loss: 0.7638 - val_acc: 0.6884 - val_loss: 0.6193\n",
      "Epoch 8/50\n",
      "\u001b[1m16/16\u001b[0m \u001b[32m━━━━━━━━━━━━━━━━━━━━\u001b[0m\u001b[37m\u001b[0m \u001b[1m0s\u001b[0m 2ms/step - acc: 0.6899 - loss: 0.6322 - val_acc: 0.7535 - val_loss: 0.5375\n",
      "Epoch 9/50\n",
      "\u001b[1m16/16\u001b[0m \u001b[32m━━━━━━━━━━━━━━━━━━━━\u001b[0m\u001b[37m\u001b[0m \u001b[1m0s\u001b[0m 2ms/step - acc: 0.7382 - loss: 0.5414 - val_acc: 0.7209 - val_loss: 0.5193\n",
      "Epoch 10/50\n",
      "\u001b[1m16/16\u001b[0m \u001b[32m━━━━━━━━━━━━━━━━━━━━\u001b[0m\u001b[37m\u001b[0m \u001b[1m0s\u001b[0m 2ms/step - acc: 0.7121 - loss: 0.5571 - val_acc: 0.8140 - val_loss: 0.4888\n",
      "Epoch 11/50\n",
      "\u001b[1m16/16\u001b[0m \u001b[32m━━━━━━━━━━━━━━━━━━━━\u001b[0m\u001b[37m\u001b[0m \u001b[1m0s\u001b[0m 2ms/step - acc: 0.7681 - loss: 0.5077 - val_acc: 0.8000 - val_loss: 0.4866\n",
      "Epoch 12/50\n",
      "\u001b[1m16/16\u001b[0m \u001b[32m━━━━━━━━━━━━━━━━━━━━\u001b[0m\u001b[37m\u001b[0m \u001b[1m0s\u001b[0m 3ms/step - acc: 0.7318 - loss: 0.5602 - val_acc: 0.8093 - val_loss: 0.4763\n",
      "Epoch 13/50\n",
      "\u001b[1m16/16\u001b[0m \u001b[32m━━━━━━━━━━━━━━━━━━━━\u001b[0m\u001b[37m\u001b[0m \u001b[1m0s\u001b[0m 2ms/step - acc: 0.7608 - loss: 0.5117 - val_acc: 0.7628 - val_loss: 0.5114\n",
      "Epoch 14/50\n",
      "\u001b[1m16/16\u001b[0m \u001b[32m━━━━━━━━━━━━━━━━━━━━\u001b[0m\u001b[37m\u001b[0m \u001b[1m0s\u001b[0m 2ms/step - acc: 0.7779 - loss: 0.4870 - val_acc: 0.7953 - val_loss: 0.4644\n",
      "Epoch 15/50\n",
      "\u001b[1m16/16\u001b[0m \u001b[32m━━━━━━━━━━━━━━━━━━━━\u001b[0m\u001b[37m\u001b[0m \u001b[1m0s\u001b[0m 2ms/step - acc: 0.7927 - loss: 0.4860 - val_acc: 0.8186 - val_loss: 0.4512\n",
      "Epoch 16/50\n",
      "\u001b[1m16/16\u001b[0m \u001b[32m━━━━━━━━━━━━━━━━━━━━\u001b[0m\u001b[37m\u001b[0m \u001b[1m0s\u001b[0m 2ms/step - acc: 0.7784 - loss: 0.4752 - val_acc: 0.8279 - val_loss: 0.4400\n",
      "Epoch 17/50\n",
      "\u001b[1m16/16\u001b[0m \u001b[32m━━━━━━━━━━━━━━━━━━━━\u001b[0m\u001b[37m\u001b[0m \u001b[1m0s\u001b[0m 2ms/step - acc: 0.8079 - loss: 0.4585 - val_acc: 0.8140 - val_loss: 0.4481\n",
      "Epoch 18/50\n",
      "\u001b[1m16/16\u001b[0m \u001b[32m━━━━━━━━━━━━━━━━━━━━\u001b[0m\u001b[37m\u001b[0m \u001b[1m0s\u001b[0m 2ms/step - acc: 0.7629 - loss: 0.5030 - val_acc: 0.8140 - val_loss: 0.4620\n",
      "Epoch 19/50\n",
      "\u001b[1m16/16\u001b[0m \u001b[32m━━━━━━━━━━━━━━━━━━━━\u001b[0m\u001b[37m\u001b[0m \u001b[1m0s\u001b[0m 3ms/step - acc: 0.7669 - loss: 0.5042 - val_acc: 0.8233 - val_loss: 0.4288\n",
      "Epoch 20/50\n",
      "\u001b[1m16/16\u001b[0m \u001b[32m━━━━━━━━━━━━━━━━━━━━\u001b[0m\u001b[37m\u001b[0m \u001b[1m0s\u001b[0m 2ms/step - acc: 0.7981 - loss: 0.4602 - val_acc: 0.8186 - val_loss: 0.4306\n",
      "Epoch 21/50\n",
      "\u001b[1m16/16\u001b[0m \u001b[32m━━━━━━━━━━━━━━━━━━━━\u001b[0m\u001b[37m\u001b[0m \u001b[1m0s\u001b[0m 2ms/step - acc: 0.7736 - loss: 0.4978 - val_acc: 0.8233 - val_loss: 0.4467\n",
      "Epoch 22/50\n",
      "\u001b[1m16/16\u001b[0m \u001b[32m━━━━━━━━━━━━━━━━━━━━\u001b[0m\u001b[37m\u001b[0m \u001b[1m0s\u001b[0m 2ms/step - acc: 0.7887 - loss: 0.4692 - val_acc: 0.7907 - val_loss: 0.4668\n",
      "Epoch 23/50\n",
      "\u001b[1m16/16\u001b[0m \u001b[32m━━━━━━━━━━━━━━━━━━━━\u001b[0m\u001b[37m\u001b[0m \u001b[1m0s\u001b[0m 3ms/step - acc: 0.7325 - loss: 0.5349 - val_acc: 0.7628 - val_loss: 0.4978\n",
      "Epoch 24/50\n",
      "\u001b[1m16/16\u001b[0m \u001b[32m━━━━━━━━━━━━━━━━━━━━\u001b[0m\u001b[37m\u001b[0m \u001b[1m0s\u001b[0m 2ms/step - acc: 0.7623 - loss: 0.5171 - val_acc: 0.7349 - val_loss: 0.5682\n",
      "Epoch 25/50\n",
      "\u001b[1m16/16\u001b[0m \u001b[32m━━━━━━━━━━━━━━━━━━━━\u001b[0m\u001b[37m\u001b[0m \u001b[1m0s\u001b[0m 2ms/step - acc: 0.7572 - loss: 0.5652 - val_acc: 0.8000 - val_loss: 0.4485\n",
      "Epoch 26/50\n",
      "\u001b[1m16/16\u001b[0m \u001b[32m━━━━━━━━━━━━━━━━━━━━\u001b[0m\u001b[37m\u001b[0m \u001b[1m0s\u001b[0m 2ms/step - acc: 0.7800 - loss: 0.4646 - val_acc: 0.8140 - val_loss: 0.4237\n",
      "Epoch 27/50\n",
      "\u001b[1m16/16\u001b[0m \u001b[32m━━━━━━━━━━━━━━━━━━━━\u001b[0m\u001b[37m\u001b[0m \u001b[1m0s\u001b[0m 2ms/step - acc: 0.7886 - loss: 0.4580 - val_acc: 0.8000 - val_loss: 0.4704\n",
      "Epoch 28/50\n",
      "\u001b[1m16/16\u001b[0m \u001b[32m━━━━━━━━━━━━━━━━━━━━\u001b[0m\u001b[37m\u001b[0m \u001b[1m0s\u001b[0m 2ms/step - acc: 0.7769 - loss: 0.5121 - val_acc: 0.8372 - val_loss: 0.4332\n",
      "Epoch 29/50\n",
      "\u001b[1m16/16\u001b[0m \u001b[32m━━━━━━━━━━━━━━━━━━━━\u001b[0m\u001b[37m\u001b[0m \u001b[1m0s\u001b[0m 3ms/step - acc: 0.7583 - loss: 0.4988 - val_acc: 0.8140 - val_loss: 0.4378\n",
      "Epoch 30/50\n",
      "\u001b[1m16/16\u001b[0m \u001b[32m━━━━━━━━━━━━━━━━━━━━\u001b[0m\u001b[37m\u001b[0m \u001b[1m0s\u001b[0m 2ms/step - acc: 0.8194 - loss: 0.4643 - val_acc: 0.7674 - val_loss: 0.4547\n",
      "Epoch 31/50\n",
      "\u001b[1m16/16\u001b[0m \u001b[32m━━━━━━━━━━━━━━━━━━━━\u001b[0m\u001b[37m\u001b[0m \u001b[1m0s\u001b[0m 2ms/step - acc: 0.8242 - loss: 0.4407 - val_acc: 0.8186 - val_loss: 0.4254\n",
      "Epoch 32/50\n",
      "\u001b[1m16/16\u001b[0m \u001b[32m━━━━━━━━━━━━━━━━━━━━\u001b[0m\u001b[37m\u001b[0m \u001b[1m0s\u001b[0m 2ms/step - acc: 0.7788 - loss: 0.5015 - val_acc: 0.7953 - val_loss: 0.4870\n",
      "Epoch 33/50\n",
      "\u001b[1m16/16\u001b[0m \u001b[32m━━━━━━━━━━━━━━━━━━━━\u001b[0m\u001b[37m\u001b[0m \u001b[1m0s\u001b[0m 2ms/step - acc: 0.7740 - loss: 0.5196 - val_acc: 0.7674 - val_loss: 0.5737\n",
      "Epoch 34/50\n",
      "\u001b[1m16/16\u001b[0m \u001b[32m━━━━━━━━━━━━━━━━━━━━\u001b[0m\u001b[37m\u001b[0m \u001b[1m0s\u001b[0m 2ms/step - acc: 0.7853 - loss: 0.6515 - val_acc: 0.7907 - val_loss: 0.4658\n",
      "Epoch 35/50\n",
      "\u001b[1m16/16\u001b[0m \u001b[32m━━━━━━━━━━━━━━━━━━━━\u001b[0m\u001b[37m\u001b[0m \u001b[1m0s\u001b[0m 3ms/step - acc: 0.8124 - loss: 0.4407 - val_acc: 0.8186 - val_loss: 0.4102\n",
      "Epoch 36/50\n",
      "\u001b[1m16/16\u001b[0m \u001b[32m━━━━━━━━━━━━━━━━━━━━\u001b[0m\u001b[37m\u001b[0m \u001b[1m0s\u001b[0m 2ms/step - acc: 0.7894 - loss: 0.4702 - val_acc: 0.8140 - val_loss: 0.4316\n",
      "Epoch 37/50\n",
      "\u001b[1m16/16\u001b[0m \u001b[32m━━━━━━━━━━━━━━━━━━━━\u001b[0m\u001b[37m\u001b[0m \u001b[1m0s\u001b[0m 2ms/step - acc: 0.8336 - loss: 0.4428 - val_acc: 0.7674 - val_loss: 0.4713\n",
      "Epoch 38/50\n",
      "\u001b[1m16/16\u001b[0m \u001b[32m━━━━━━━━━━━━━━━━━━━━\u001b[0m\u001b[37m\u001b[0m \u001b[1m0s\u001b[0m 2ms/step - acc: 0.8253 - loss: 0.4422 - val_acc: 0.7721 - val_loss: 0.4896\n",
      "Epoch 39/50\n",
      "\u001b[1m16/16\u001b[0m \u001b[32m━━━━━━━━━━━━━━━━━━━━\u001b[0m\u001b[37m\u001b[0m \u001b[1m0s\u001b[0m 2ms/step - acc: 0.7918 - loss: 0.5093 - val_acc: 0.8140 - val_loss: 0.4245\n",
      "Epoch 40/50\n",
      "\u001b[1m16/16\u001b[0m \u001b[32m━━━━━━━━━━━━━━━━━━━━\u001b[0m\u001b[37m\u001b[0m \u001b[1m0s\u001b[0m 2ms/step - acc: 0.7741 - loss: 0.4755 - val_acc: 0.8233 - val_loss: 0.4565\n",
      "Epoch 41/50\n",
      "\u001b[1m16/16\u001b[0m \u001b[32m━━━━━━━━━━━━━━━━━━━━\u001b[0m\u001b[37m\u001b[0m \u001b[1m0s\u001b[0m 2ms/step - acc: 0.7987 - loss: 0.5007 - val_acc: 0.8093 - val_loss: 0.4250\n",
      "Epoch 42/50\n",
      "\u001b[1m16/16\u001b[0m \u001b[32m━━━━━━━━━━━━━━━━━━━━\u001b[0m\u001b[37m\u001b[0m \u001b[1m0s\u001b[0m 2ms/step - acc: 0.7898 - loss: 0.4676 - val_acc: 0.8186 - val_loss: 0.4142\n",
      "Epoch 43/50\n",
      "\u001b[1m16/16\u001b[0m \u001b[32m━━━━━━━━━━━━━━━━━━━━\u001b[0m\u001b[37m\u001b[0m \u001b[1m0s\u001b[0m 2ms/step - acc: 0.8029 - loss: 0.4706 - val_acc: 0.8047 - val_loss: 0.4866\n",
      "Epoch 44/50\n",
      "\u001b[1m16/16\u001b[0m \u001b[32m━━━━━━━━━━━━━━━━━━━━\u001b[0m\u001b[37m\u001b[0m \u001b[1m0s\u001b[0m 3ms/step - acc: 0.8034 - loss: 0.4936 - val_acc: 0.7860 - val_loss: 0.4352\n",
      "Epoch 45/50\n",
      "\u001b[1m16/16\u001b[0m \u001b[32m━━━━━━━━━━━━━━━━━━━━\u001b[0m\u001b[37m\u001b[0m \u001b[1m0s\u001b[0m 2ms/step - acc: 0.7863 - loss: 0.4613 - val_acc: 0.8140 - val_loss: 0.4142\n",
      "Epoch 46/50\n",
      "\u001b[1m16/16\u001b[0m \u001b[32m━━━━━━━━━━━━━━━━━━━━\u001b[0m\u001b[37m\u001b[0m \u001b[1m0s\u001b[0m 2ms/step - acc: 0.8078 - loss: 0.4374 - val_acc: 0.7628 - val_loss: 0.4768\n",
      "Epoch 47/50\n",
      "\u001b[1m16/16\u001b[0m \u001b[32m━━━━━━━━━━━━━━━━━━━━\u001b[0m\u001b[37m\u001b[0m \u001b[1m0s\u001b[0m 3ms/step - acc: 0.7789 - loss: 0.4879 - val_acc: 0.8000 - val_loss: 0.4604\n",
      "Epoch 48/50\n",
      "\u001b[1m16/16\u001b[0m \u001b[32m━━━━━━━━━━━━━━━━━━━━\u001b[0m\u001b[37m\u001b[0m \u001b[1m0s\u001b[0m 2ms/step - acc: 0.8206 - loss: 0.4371 - val_acc: 0.8140 - val_loss: 0.4040\n",
      "Epoch 49/50\n",
      "\u001b[1m16/16\u001b[0m \u001b[32m━━━━━━━━━━━━━━━━━━━━\u001b[0m\u001b[37m\u001b[0m \u001b[1m0s\u001b[0m 2ms/step - acc: 0.8294 - loss: 0.4020 - val_acc: 0.7907 - val_loss: 0.4363\n",
      "Epoch 50/50\n",
      "\u001b[1m16/16\u001b[0m \u001b[32m━━━━━━━━━━━━━━━━━━━━\u001b[0m\u001b[37m\u001b[0m \u001b[1m0s\u001b[0m 3ms/step - acc: 0.7931 - loss: 0.4310 - val_acc: 0.8186 - val_loss: 0.4240\n"
     ]
    }
   ],
   "source": [
    "history = model.fit(X_train, y_train,\n",
    "                   validation_data=(X_test, y_test),\n",
    "                   epochs=50)"
   ]
  },
  {
   "cell_type": "code",
   "execution_count": 108,
   "id": "f6e22f5e-1867-4bd0-ab84-57c0a2b356b2",
   "metadata": {},
   "outputs": [
    {
     "name": "stdout",
     "output_type": "stream",
     "text": [
      "\u001b[1m7/7\u001b[0m \u001b[32m━━━━━━━━━━━━━━━━━━━━\u001b[0m\u001b[37m\u001b[0m \u001b[1m0s\u001b[0m 680us/step\n"
     ]
    }
   ],
   "source": [
    "pred = model.predict(X_test)"
   ]
  },
  {
   "cell_type": "code",
   "execution_count": 109,
   "id": "aad6d1a5-3d5c-4d07-907c-0511376d8f8a",
   "metadata": {
    "scrolled": true
   },
   "outputs": [
    {
     "data": {
      "text/plain": [
       "array([[0.00208685, 0.9979132 ],\n",
       "       [0.8492017 , 0.15079826],\n",
       "       [0.25022197, 0.74977803],\n",
       "       [0.13569373, 0.8643062 ],\n",
       "       [0.88683945, 0.1131606 ],\n",
       "       [0.8384128 , 0.16158715],\n",
       "       [0.24116184, 0.7588381 ],\n",
       "       [0.74052185, 0.2594781 ],\n",
       "       [0.8377004 , 0.16229957],\n",
       "       [0.85515773, 0.14484234],\n",
       "       [0.7434892 , 0.25651082],\n",
       "       [0.88426906, 0.11573097],\n",
       "       [0.928364  , 0.07163604],\n",
       "       [0.86807597, 0.13192399],\n",
       "       [0.88914835, 0.11085162],\n",
       "       [0.3226032 , 0.6773968 ],\n",
       "       [0.9108518 , 0.08914816],\n",
       "       [0.88872194, 0.11127808],\n",
       "       [0.89411455, 0.10588545],\n",
       "       [0.91175663, 0.08824334],\n",
       "       [0.8837473 , 0.11625269],\n",
       "       [0.96257675, 0.03742321],\n",
       "       [0.94436306, 0.05563698],\n",
       "       [0.7203488 , 0.27965122],\n",
       "       [0.89264935, 0.1073507 ],\n",
       "       [0.8887271 , 0.11127295],\n",
       "       [0.927143  , 0.07285697],\n",
       "       [0.03936656, 0.9606335 ],\n",
       "       [0.29579002, 0.7042099 ],\n",
       "       [0.85706574, 0.14293428],\n",
       "       [0.04771269, 0.9522874 ],\n",
       "       [0.7099097 , 0.29009032],\n",
       "       [0.14334057, 0.8566594 ],\n",
       "       [0.89780384, 0.1021961 ],\n",
       "       [0.02758558, 0.97241443],\n",
       "       [0.8505542 , 0.14944573],\n",
       "       [0.90843844, 0.09156148],\n",
       "       [0.00248801, 0.997512  ],\n",
       "       [0.7524597 , 0.2475403 ],\n",
       "       [0.93337864, 0.06662134],\n",
       "       [0.33137286, 0.6686272 ],\n",
       "       [0.87122035, 0.12877963],\n",
       "       [0.8235877 , 0.17641225],\n",
       "       [0.8926394 , 0.10736064],\n",
       "       [0.02425671, 0.97574335],\n",
       "       [0.88422287, 0.11577711],\n",
       "       [0.97713506, 0.0228649 ],\n",
       "       [0.74414474, 0.25585526],\n",
       "       [0.19049066, 0.80950934],\n",
       "       [0.63568527, 0.36431473],\n",
       "       [0.33517525, 0.6648248 ],\n",
       "       [0.36897898, 0.631021  ],\n",
       "       [0.8943258 , 0.10567421],\n",
       "       [0.91500586, 0.08499412],\n",
       "       [0.8866899 , 0.11331009],\n",
       "       [0.61098343, 0.3890165 ],\n",
       "       [0.00516299, 0.99483705],\n",
       "       [0.18282284, 0.8171772 ],\n",
       "       [0.25403783, 0.7459622 ],\n",
       "       [0.32621965, 0.6737804 ],\n",
       "       [0.89122057, 0.10877947],\n",
       "       [0.71570736, 0.2842926 ],\n",
       "       [0.8929687 , 0.10703126],\n",
       "       [0.8933316 , 0.10666842],\n",
       "       [0.8866899 , 0.11331009],\n",
       "       [0.89754087, 0.10245913],\n",
       "       [0.28038263, 0.71961737],\n",
       "       [0.39945903, 0.600541  ],\n",
       "       [0.13294809, 0.86705196],\n",
       "       [0.8918897 , 0.10811034],\n",
       "       [0.837797  , 0.16220306],\n",
       "       [0.8884543 , 0.11154567],\n",
       "       [0.63926136, 0.36073866],\n",
       "       [0.1669554 , 0.83304465],\n",
       "       [0.24822927, 0.75177073],\n",
       "       [0.6859401 , 0.31405997],\n",
       "       [0.41969728, 0.5803027 ],\n",
       "       [0.9127527 , 0.08724732],\n",
       "       [0.9494991 , 0.05050085],\n",
       "       [0.29275233, 0.7072477 ],\n",
       "       [0.38407916, 0.6159208 ],\n",
       "       [0.20354742, 0.7964526 ],\n",
       "       [0.7513705 , 0.24862954],\n",
       "       [0.0685987 , 0.9314013 ],\n",
       "       [0.00261891, 0.99738103],\n",
       "       [0.9051911 , 0.09480891],\n",
       "       [0.63063145, 0.36936855],\n",
       "       [0.89182514, 0.10817488],\n",
       "       [0.6994982 , 0.30050185],\n",
       "       [0.27071804, 0.72928196],\n",
       "       [0.23389253, 0.7661075 ],\n",
       "       [0.91673225, 0.08326772],\n",
       "       [0.22102128, 0.7789787 ],\n",
       "       [0.6366024 , 0.3633976 ],\n",
       "       [0.11040112, 0.8895989 ],\n",
       "       [0.30476993, 0.69523007],\n",
       "       [0.92993873, 0.07006127],\n",
       "       [0.4221744 , 0.5778256 ],\n",
       "       [0.85417616, 0.14582385],\n",
       "       [0.85610294, 0.14389703],\n",
       "       [0.90536475, 0.09463523],\n",
       "       [0.45072934, 0.5492707 ],\n",
       "       [0.91942436, 0.08057565],\n",
       "       [0.49234048, 0.5076595 ],\n",
       "       [0.0100401 , 0.98995984],\n",
       "       [0.32653838, 0.6734617 ],\n",
       "       [0.9067952 , 0.09320489],\n",
       "       [0.01975614, 0.9802438 ],\n",
       "       [0.38544613, 0.6145538 ],\n",
       "       [0.8983807 , 0.1016193 ],\n",
       "       [0.08703808, 0.9129619 ],\n",
       "       [0.2821393 , 0.71786064],\n",
       "       [0.86861956, 0.1313805 ],\n",
       "       [0.4548779 , 0.545122  ],\n",
       "       [0.27233142, 0.7276686 ],\n",
       "       [0.59897417, 0.40102586],\n",
       "       [0.83775854, 0.16224143],\n",
       "       [0.88363445, 0.11636554],\n",
       "       [0.06225942, 0.93774056],\n",
       "       [0.06119698, 0.9388031 ],\n",
       "       [0.88563997, 0.11436   ],\n",
       "       [0.03952693, 0.960473  ],\n",
       "       [0.89727265, 0.1027274 ],\n",
       "       [0.88689196, 0.1131081 ],\n",
       "       [0.7957854 , 0.20421462],\n",
       "       [0.8378742 , 0.16212581],\n",
       "       [0.0134745 , 0.98652554],\n",
       "       [0.8817258 , 0.11827421],\n",
       "       [0.03691485, 0.9630851 ],\n",
       "       [0.4573911 , 0.5426089 ],\n",
       "       [0.93048936, 0.06951069],\n",
       "       [0.88873225, 0.11126776],\n",
       "       [0.89025885, 0.10974115],\n",
       "       [0.2218427 , 0.7781573 ],\n",
       "       [0.6565693 , 0.34343064],\n",
       "       [0.733657  , 0.266343  ],\n",
       "       [0.23093869, 0.76906127],\n",
       "       [0.6902911 , 0.3097089 ],\n",
       "       [0.01733332, 0.98266673],\n",
       "       [0.38088918, 0.6191108 ],\n",
       "       [0.85500205, 0.14499795],\n",
       "       [0.0804415 , 0.91955847],\n",
       "       [0.8933316 , 0.10666837],\n",
       "       [0.27107653, 0.72892344],\n",
       "       [0.88526917, 0.1147308 ],\n",
       "       [0.89206254, 0.10793754],\n",
       "       [0.8927442 , 0.10725583],\n",
       "       [0.40600005, 0.594     ],\n",
       "       [0.89131665, 0.10868333],\n",
       "       [0.96880674, 0.03119322],\n",
       "       [0.84876436, 0.1512356 ],\n",
       "       [0.77016956, 0.2298305 ],\n",
       "       [0.8837473 , 0.11625269],\n",
       "       [0.89826685, 0.10173317],\n",
       "       [0.43621528, 0.5637848 ],\n",
       "       [0.52599704, 0.474003  ],\n",
       "       [0.8853529 , 0.11464715],\n",
       "       [0.88873047, 0.1112695 ],\n",
       "       [0.6980446 , 0.30195537],\n",
       "       [0.8174377 , 0.18256223],\n",
       "       [0.90217704, 0.09782296],\n",
       "       [0.88526964, 0.11473037],\n",
       "       [0.4455818 , 0.5544182 ],\n",
       "       [0.8917943 , 0.10820565],\n",
       "       [0.4424102 , 0.5575898 ],\n",
       "       [0.07594312, 0.9240569 ],\n",
       "       [0.30348167, 0.69651836],\n",
       "       [0.3529789 , 0.6470211 ],\n",
       "       [0.09694133, 0.9030587 ],\n",
       "       [0.686808  , 0.31319207],\n",
       "       [0.69492406, 0.30507594],\n",
       "       [0.87263274, 0.1273673 ],\n",
       "       [0.28504393, 0.71495605],\n",
       "       [0.55554026, 0.44445977],\n",
       "       [0.2671441 , 0.7328559 ],\n",
       "       [0.9711355 , 0.02886453],\n",
       "       [0.2997019 , 0.7002981 ],\n",
       "       [0.01916517, 0.9808349 ],\n",
       "       [0.70170057, 0.2982994 ],\n",
       "       [0.54288566, 0.45711434],\n",
       "       [0.27596176, 0.72403824],\n",
       "       [0.84451914, 0.1554808 ],\n",
       "       [0.18602762, 0.81397235],\n",
       "       [0.03024008, 0.96975994],\n",
       "       [0.530547  , 0.46945307],\n",
       "       [0.78745675, 0.21254331],\n",
       "       [0.89030415, 0.10969586],\n",
       "       [0.00178161, 0.99821836],\n",
       "       [0.8837489 , 0.1162511 ],\n",
       "       [0.837797  , 0.16220306],\n",
       "       [0.93629557, 0.06370447],\n",
       "       [0.8871855 , 0.11281449],\n",
       "       [0.25606504, 0.7439349 ],\n",
       "       [0.26607212, 0.7339279 ],\n",
       "       [0.8708996 , 0.12910032],\n",
       "       [0.02418054, 0.9758195 ],\n",
       "       [0.47571874, 0.5242813 ],\n",
       "       [0.74446005, 0.25553992],\n",
       "       [0.8837473 , 0.11625269],\n",
       "       [0.62276727, 0.3772327 ],\n",
       "       [0.27948987, 0.7205101 ],\n",
       "       [0.78812945, 0.21187054],\n",
       "       [0.74662125, 0.25337878],\n",
       "       [0.8933572 , 0.10664278],\n",
       "       [0.88689196, 0.1131081 ],\n",
       "       [0.37274554, 0.6272544 ],\n",
       "       [0.44664645, 0.5533535 ],\n",
       "       [0.32869   , 0.67131   ],\n",
       "       [0.9353628 , 0.06463721],\n",
       "       [0.27936387, 0.7206361 ],\n",
       "       [0.9105285 , 0.08947152],\n",
       "       [0.03997158, 0.9600284 ],\n",
       "       [0.44203344, 0.5579666 ],\n",
       "       [0.4147874 , 0.58521265],\n",
       "       [0.00253176, 0.99746823]], dtype=float32)"
      ]
     },
     "execution_count": 109,
     "metadata": {},
     "output_type": "execute_result"
    }
   ],
   "source": [
    "pred"
   ]
  },
  {
   "cell_type": "code",
   "execution_count": 110,
   "id": "1452b795-7623-449d-a510-137b7dd06b27",
   "metadata": {},
   "outputs": [
    {
     "name": "stdout",
     "output_type": "stream",
     "text": [
      "1 1\n"
     ]
    }
   ],
   "source": [
    "print(np.argmax(y_test[0]), np.argmax(pred[0]))"
   ]
  },
  {
   "cell_type": "code",
   "execution_count": 111,
   "id": "94a3c107-68e4-4bbd-8e85-5d93deac49db",
   "metadata": {},
   "outputs": [
    {
     "name": "stdout",
     "output_type": "stream",
     "text": [
      "Shape of y_test: (215, 2)\n",
      "Shape of pred: (215, 2)\n"
     ]
    }
   ],
   "source": [
    "print(\"Shape of y_test:\", y_test.shape)\n",
    "print(\"Shape of pred:\", pred.shape)"
   ]
  },
  {
   "cell_type": "code",
   "execution_count": 112,
   "id": "94780279-7690-4f20-9533-236e7bd04d8a",
   "metadata": {},
   "outputs": [
    {
     "name": "stdout",
     "output_type": "stream",
     "text": [
      "\u001b[1m7/7\u001b[0m \u001b[32m━━━━━━━━━━━━━━━━━━━━\u001b[0m\u001b[37m\u001b[0m \u001b[1m0s\u001b[0m 1ms/step - acc: 0.8347 - loss: 0.4306 \n"
     ]
    }
   ],
   "source": [
    "loss, accuracy = model.evaluate(X_test, y_test)"
   ]
  },
  {
   "cell_type": "code",
   "execution_count": 113,
   "id": "20267587-535a-4c9e-b3b7-d135f344bf42",
   "metadata": {},
   "outputs": [
    {
     "name": "stdout",
     "output_type": "stream",
     "text": [
      "Test Loss: 0.4240446090698242\n",
      "Test Accuracy: 0.8186046481132507\n"
     ]
    }
   ],
   "source": [
    "print(\"Test Loss:\", loss)\n",
    "print(\"Test Accuracy:\", accuracy)"
   ]
  },
  {
   "cell_type": "code",
   "execution_count": null,
   "id": "36d3b272-83d9-4a48-8e9d-687979dfbe90",
   "metadata": {},
   "outputs": [],
   "source": []
  },
  {
   "cell_type": "code",
   "execution_count": null,
   "id": "f5e76f6f-baa9-4898-8a8a-b7f463efbd5b",
   "metadata": {},
   "outputs": [],
   "source": []
  },
  {
   "cell_type": "code",
   "execution_count": null,
   "id": "dd1bf69c-c562-4fa2-b5fd-2710f2cb4ee0",
   "metadata": {},
   "outputs": [],
   "source": []
  },
  {
   "cell_type": "markdown",
   "id": "fdefde16-3162-4e67-a8b8-6dc356f69737",
   "metadata": {},
   "source": [
    "MNIST 분류 모델 만들기"
   ]
  },
  {
   "cell_type": "code",
   "execution_count": 211,
   "id": "7a05523a-e730-4323-b330-6268deb2f2fa",
   "metadata": {},
   "outputs": [],
   "source": [
    "import tensorflow as tf\n",
    "(X_train, y_train), (X_test, y_test) = tf.keras.datasets.mnist.load_data()"
   ]
  },
  {
   "cell_type": "code",
   "execution_count": 212,
   "id": "77a735ae-5fd2-48e6-9077-3d0984b5cc45",
   "metadata": {},
   "outputs": [
    {
     "name": "stdout",
     "output_type": "stream",
     "text": [
      "(60000, 28, 28) (60000,)\n"
     ]
    }
   ],
   "source": [
    "print(X_train.shape, y_train.shape)"
   ]
  },
  {
   "cell_type": "code",
   "execution_count": 213,
   "id": "c37fe9b5-e882-41b2-8fc4-2e8a27b5cf9c",
   "metadata": {},
   "outputs": [
    {
     "name": "stdout",
     "output_type": "stream",
     "text": [
      "2\n"
     ]
    },
    {
     "data": {
      "image/png": "[encoded data removed]",
      "text/plain": [
       "<Figure size 640x480 with 1 Axes>"
      ]
     },
     "metadata": {},
     "output_type": "display_data"
    }
   ],
   "source": [
    "idx = 457\n",
    "print(y_train[idx])\n",
    "plt.imshow(X_train[idx,:])\n",
    "plt.show()"
   ]
  },
  {
   "cell_type": "code",
   "execution_count": 214,
   "id": "e66e110a-496c-4011-b511-a82c926b9cc0",
   "metadata": {
    "scrolled": true
   },
   "outputs": [
    {
     "data": {
      "text/plain": [
       "array([[  0,   0,   0,   0,   0,   0,   0,   0,   0,   0,   0,   0,   0,\n",
       "          0,   0,   0,   0,   0,   0,   0,   0,   0,   0,   0,   0,   0,\n",
       "          0,   0],\n",
       "       [  0,   0,   0,   0,   0,   0,   0,   0,   0,   0,   0,   0,   0,\n",
       "          0,   0,   0,   0,   0,   0,   0,   0,   0,   0,   0,   0,   0,\n",
       "          0,   0],\n",
       "       [  0,   0,   0,   0,   0,   0,   0,   0,   0,   0,   0,   0,   0,\n",
       "          0,   0,   0,   0,   0,   0,   0,   0,   0,   0,   0,   0,   0,\n",
       "          0,   0],\n",
       "       [  0,   0,   0,   0,   0,   0,   0,   0,   0,   0,   0,   0,   0,\n",
       "          0,   0,   0,   0,   0,   0,   0,   0,   0,   0,   0,   0,   0,\n",
       "          0,   0],\n",
       "       [  0,   0,   0,   0,   0,   0,   0,   0,   0,   0,   0,   0,   0,\n",
       "          0,   0,   0,   0,   0,   0,   0,   0,   0,   0,   0,   0,   0,\n",
       "          0,   0],\n",
       "       [  0,   0,   0,   0,   0,   0,   0,   0,   0,   0,   0,   0,   3,\n",
       "         18,  18,  18, 126, 136, 175,  26, 166, 255, 247, 127,   0,   0,\n",
       "          0,   0],\n",
       "       [  0,   0,   0,   0,   0,   0,   0,   0,  30,  36,  94, 154, 170,\n",
       "        253, 253, 253, 253, 253, 225, 172, 253, 242, 195,  64,   0,   0,\n",
       "          0,   0],\n",
       "       [  0,   0,   0,   0,   0,   0,   0,  49, 238, 253, 253, 253, 253,\n",
       "        253, 253, 253, 253, 251,  93,  82,  82,  56,  39,   0,   0,   0,\n",
       "          0,   0],\n",
       "       [  0,   0,   0,   0,   0,   0,   0,  18, 219, 253, 253, 253, 253,\n",
       "        253, 198, 182, 247, 241,   0,   0,   0,   0,   0,   0,   0,   0,\n",
       "          0,   0],\n",
       "       [  0,   0,   0,   0,   0,   0,   0,   0,  80, 156, 107, 253, 253,\n",
       "        205,  11,   0,  43, 154,   0,   0,   0,   0,   0,   0,   0,   0,\n",
       "          0,   0],\n",
       "       [  0,   0,   0,   0,   0,   0,   0,   0,   0,  14,   1, 154, 253,\n",
       "         90,   0,   0,   0,   0,   0,   0,   0,   0,   0,   0,   0,   0,\n",
       "          0,   0],\n",
       "       [  0,   0,   0,   0,   0,   0,   0,   0,   0,   0,   0, 139, 253,\n",
       "        190,   2,   0,   0,   0,   0,   0,   0,   0,   0,   0,   0,   0,\n",
       "          0,   0],\n",
       "       [  0,   0,   0,   0,   0,   0,   0,   0,   0,   0,   0,  11, 190,\n",
       "        253,  70,   0,   0,   0,   0,   0,   0,   0,   0,   0,   0,   0,\n",
       "          0,   0],\n",
       "       [  0,   0,   0,   0,   0,   0,   0,   0,   0,   0,   0,   0,  35,\n",
       "        241, 225, 160, 108,   1,   0,   0,   0,   0,   0,   0,   0,   0,\n",
       "          0,   0],\n",
       "       [  0,   0,   0,   0,   0,   0,   0,   0,   0,   0,   0,   0,   0,\n",
       "         81, 240, 253, 253, 119,  25,   0,   0,   0,   0,   0,   0,   0,\n",
       "          0,   0],\n",
       "       [  0,   0,   0,   0,   0,   0,   0,   0,   0,   0,   0,   0,   0,\n",
       "          0,  45, 186, 253, 253, 150,  27,   0,   0,   0,   0,   0,   0,\n",
       "          0,   0],\n",
       "       [  0,   0,   0,   0,   0,   0,   0,   0,   0,   0,   0,   0,   0,\n",
       "          0,   0,  16,  93, 252, 253, 187,   0,   0,   0,   0,   0,   0,\n",
       "          0,   0],\n",
       "       [  0,   0,   0,   0,   0,   0,   0,   0,   0,   0,   0,   0,   0,\n",
       "          0,   0,   0,   0, 249, 253, 249,  64,   0,   0,   0,   0,   0,\n",
       "          0,   0],\n",
       "       [  0,   0,   0,   0,   0,   0,   0,   0,   0,   0,   0,   0,   0,\n",
       "          0,  46, 130, 183, 253, 253, 207,   2,   0,   0,   0,   0,   0,\n",
       "          0,   0],\n",
       "       [  0,   0,   0,   0,   0,   0,   0,   0,   0,   0,   0,   0,  39,\n",
       "        148, 229, 253, 253, 253, 250, 182,   0,   0,   0,   0,   0,   0,\n",
       "          0,   0],\n",
       "       [  0,   0,   0,   0,   0,   0,   0,   0,   0,   0,  24, 114, 221,\n",
       "        253, 253, 253, 253, 201,  78,   0,   0,   0,   0,   0,   0,   0,\n",
       "          0,   0],\n",
       "       [  0,   0,   0,   0,   0,   0,   0,   0,  23,  66, 213, 253, 253,\n",
       "        253, 253, 198,  81,   2,   0,   0,   0,   0,   0,   0,   0,   0,\n",
       "          0,   0],\n",
       "       [  0,   0,   0,   0,   0,   0,  18, 171, 219, 253, 253, 253, 253,\n",
       "        195,  80,   9,   0,   0,   0,   0,   0,   0,   0,   0,   0,   0,\n",
       "          0,   0],\n",
       "       [  0,   0,   0,   0,  55, 172, 226, 253, 253, 253, 253, 244, 133,\n",
       "         11,   0,   0,   0,   0,   0,   0,   0,   0,   0,   0,   0,   0,\n",
       "          0,   0],\n",
       "       [  0,   0,   0,   0, 136, 253, 253, 253, 212, 135, 132,  16,   0,\n",
       "          0,   0,   0,   0,   0,   0,   0,   0,   0,   0,   0,   0,   0,\n",
       "          0,   0],\n",
       "       [  0,   0,   0,   0,   0,   0,   0,   0,   0,   0,   0,   0,   0,\n",
       "          0,   0,   0,   0,   0,   0,   0,   0,   0,   0,   0,   0,   0,\n",
       "          0,   0],\n",
       "       [  0,   0,   0,   0,   0,   0,   0,   0,   0,   0,   0,   0,   0,\n",
       "          0,   0,   0,   0,   0,   0,   0,   0,   0,   0,   0,   0,   0,\n",
       "          0,   0],\n",
       "       [  0,   0,   0,   0,   0,   0,   0,   0,   0,   0,   0,   0,   0,\n",
       "          0,   0,   0,   0,   0,   0,   0,   0,   0,   0,   0,   0,   0,\n",
       "          0,   0]], dtype=uint8)"
      ]
     },
     "execution_count": 214,
     "metadata": {},
     "output_type": "execute_result"
    }
   ],
   "source": [
    "X_train[0]"
   ]
  },
  {
   "cell_type": "code",
   "execution_count": 215,
   "id": "4b6dec1e-9944-4019-964a-9ec67e4a18d4",
   "metadata": {},
   "outputs": [],
   "source": [
    "## min-max scaling\n",
    "X_train = X_train / 255\n",
    "X_test = X_test / 255"
   ]
  },
  {
   "cell_type": "code",
   "execution_count": 216,
   "id": "969badc0-e025-4516-a86c-f2b8c049763b",
   "metadata": {},
   "outputs": [
    {
     "data": {
      "text/plain": [
       "array([0, 1, 2, 3, 4, 5, 6, 7, 8, 9], dtype=uint8)"
      ]
     },
     "execution_count": 216,
     "metadata": {},
     "output_type": "execute_result"
    }
   ],
   "source": [
    "np.unique(y_train)"
   ]
  },
  {
   "cell_type": "code",
   "execution_count": 217,
   "id": "6899df90-5bc2-472e-a04f-6087eca68f9f",
   "metadata": {},
   "outputs": [],
   "source": [
    "y_train = tf.keras.utils.to_categorical(y_train)\n",
    "y_test = tf.keras.utils.to_categorical(y_test)"
   ]
  },
  {
   "cell_type": "code",
   "execution_count": 218,
   "id": "b54a02f6-1cec-4451-a61f-8c0d1def6447",
   "metadata": {},
   "outputs": [],
   "source": [
    "## 모델 만들기\n",
    "from tensorflow.keras.layers import Dense\n",
    "model = tf.keras.models.Sequential()\n",
    "model.add(tf.keras.layers.Flatten(input_shape=(28,28)))\n",
    "model.add(Dense(128, input_shape=(28,28), activation='relu')) # 이미지 1장에 대한 shape 정보\n",
    "model.add(Dense(64, activation='relu'))\n",
    "model.add(Dense(32, activation='relu'))\n",
    "model.add(Dense(16, activation='relu'))\n",
    "\n",
    "# 출력층\n",
    "model.add(Dense(10, activation='softmax'))"
   ]
  },
  {
   "cell_type": "code",
   "execution_count": 219,
   "id": "ff3b3708-c515-4b3e-9561-d2288d444254",
   "metadata": {},
   "outputs": [],
   "source": [
    "model.compile(optimizer='adam',\n",
    "              loss=tf.keras.losses.categorical_crossentropy,\n",
    "              metrics=['acc'])"
   ]
  },
  {
   "cell_type": "code",
   "execution_count": 220,
   "id": "6ef0422b-702e-4f77-b114-7ef10050e52e",
   "metadata": {
    "scrolled": true
   },
   "outputs": [
    {
     "name": "stdout",
     "output_type": "stream",
     "text": [
      "Epoch 1/50\n",
      "\u001b[1m1313/1313\u001b[0m \u001b[32m━━━━━━━━━━━━━━━━━━━━\u001b[0m\u001b[37m\u001b[0m \u001b[1m3s\u001b[0m 1ms/step - acc: 0.8051 - loss: 0.6208 - val_acc: 0.9524 - val_loss: 0.1574\n",
      "Epoch 2/50\n",
      "\u001b[1m1313/1313\u001b[0m \u001b[32m━━━━━━━━━━━━━━━━━━━━\u001b[0m\u001b[37m\u001b[0m \u001b[1m2s\u001b[0m 1ms/step - acc: 0.9603 - loss: 0.1308 - val_acc: 0.9611 - val_loss: 0.1350\n",
      "Epoch 3/50\n",
      "\u001b[1m1313/1313\u001b[0m \u001b[32m━━━━━━━━━━━━━━━━━━━━\u001b[0m\u001b[37m\u001b[0m \u001b[1m2s\u001b[0m 1ms/step - acc: 0.9755 - loss: 0.0807 - val_acc: 0.9639 - val_loss: 0.1222\n",
      "Epoch 4/50\n",
      "\u001b[1m1313/1313\u001b[0m \u001b[32m━━━━━━━━━━━━━━━━━━━━\u001b[0m\u001b[37m\u001b[0m \u001b[1m2s\u001b[0m 1ms/step - acc: 0.9792 - loss: 0.0665 - val_acc: 0.9629 - val_loss: 0.1291\n",
      "Epoch 5/50\n",
      "\u001b[1m1313/1313\u001b[0m \u001b[32m━━━━━━━━━━━━━━━━━━━━\u001b[0m\u001b[37m\u001b[0m \u001b[1m2s\u001b[0m 1ms/step - acc: 0.9827 - loss: 0.0542 - val_acc: 0.9684 - val_loss: 0.1069\n",
      "Epoch 6/50\n",
      "\u001b[1m1313/1313\u001b[0m \u001b[32m━━━━━━━━━━━━━━━━━━━━\u001b[0m\u001b[37m\u001b[0m \u001b[1m2s\u001b[0m 1ms/step - acc: 0.9883 - loss: 0.0391 - val_acc: 0.9708 - val_loss: 0.1080\n",
      "Epoch 7/50\n",
      "\u001b[1m1313/1313\u001b[0m \u001b[32m━━━━━━━━━━━━━━━━━━━━\u001b[0m\u001b[37m\u001b[0m \u001b[1m2s\u001b[0m 1ms/step - acc: 0.9902 - loss: 0.0322 - val_acc: 0.9728 - val_loss: 0.1093\n",
      "Epoch 8/50\n",
      "\u001b[1m1313/1313\u001b[0m \u001b[32m━━━━━━━━━━━━━━━━━━━━\u001b[0m\u001b[37m\u001b[0m \u001b[1m2s\u001b[0m 1ms/step - acc: 0.9900 - loss: 0.0286 - val_acc: 0.9714 - val_loss: 0.1134\n",
      "Epoch 9/50\n",
      "\u001b[1m1313/1313\u001b[0m \u001b[32m━━━━━━━━━━━━━━━━━━━━\u001b[0m\u001b[37m\u001b[0m \u001b[1m2s\u001b[0m 1ms/step - acc: 0.9930 - loss: 0.0221 - val_acc: 0.9713 - val_loss: 0.1243\n",
      "Epoch 10/50\n",
      "\u001b[1m1313/1313\u001b[0m \u001b[32m━━━━━━━━━━━━━━━━━━━━\u001b[0m\u001b[37m\u001b[0m \u001b[1m2s\u001b[0m 1ms/step - acc: 0.9911 - loss: 0.0256 - val_acc: 0.9730 - val_loss: 0.1201\n",
      "Epoch 11/50\n",
      "\u001b[1m1313/1313\u001b[0m \u001b[32m━━━━━━━━━━━━━━━━━━━━\u001b[0m\u001b[37m\u001b[0m \u001b[1m2s\u001b[0m 1ms/step - acc: 0.9917 - loss: 0.0233 - val_acc: 0.9703 - val_loss: 0.1281\n",
      "Epoch 12/50\n",
      "\u001b[1m1313/1313\u001b[0m \u001b[32m━━━━━━━━━━━━━━━━━━━━\u001b[0m\u001b[37m\u001b[0m \u001b[1m2s\u001b[0m 1ms/step - acc: 0.9956 - loss: 0.0143 - val_acc: 0.9711 - val_loss: 0.1325\n",
      "Epoch 13/50\n",
      "\u001b[1m1313/1313\u001b[0m \u001b[32m━━━━━━━━━━━━━━━━━━━━\u001b[0m\u001b[37m\u001b[0m \u001b[1m2s\u001b[0m 1ms/step - acc: 0.9943 - loss: 0.0184 - val_acc: 0.9708 - val_loss: 0.1483\n",
      "Epoch 14/50\n",
      "\u001b[1m1313/1313\u001b[0m \u001b[32m━━━━━━━━━━━━━━━━━━━━\u001b[0m\u001b[37m\u001b[0m \u001b[1m2s\u001b[0m 1ms/step - acc: 0.9950 - loss: 0.0153 - val_acc: 0.9749 - val_loss: 0.1310\n",
      "Epoch 15/50\n",
      "\u001b[1m1313/1313\u001b[0m \u001b[32m━━━━━━━━━━━━━━━━━━━━\u001b[0m\u001b[37m\u001b[0m \u001b[1m2s\u001b[0m 1ms/step - acc: 0.9962 - loss: 0.0118 - val_acc: 0.9696 - val_loss: 0.1564\n",
      "Epoch 16/50\n",
      "\u001b[1m1313/1313\u001b[0m \u001b[32m━━━━━━━━━━━━━━━━━━━━\u001b[0m\u001b[37m\u001b[0m \u001b[1m2s\u001b[0m 1ms/step - acc: 0.9951 - loss: 0.0137 - val_acc: 0.9718 - val_loss: 0.1348\n",
      "Epoch 17/50\n",
      "\u001b[1m1313/1313\u001b[0m \u001b[32m━━━━━━━━━━━━━━━━━━━━\u001b[0m\u001b[37m\u001b[0m \u001b[1m2s\u001b[0m 1ms/step - acc: 0.9967 - loss: 0.0104 - val_acc: 0.9716 - val_loss: 0.1513\n",
      "Epoch 18/50\n",
      "\u001b[1m1313/1313\u001b[0m \u001b[32m━━━━━━━━━━━━━━━━━━━━\u001b[0m\u001b[37m\u001b[0m \u001b[1m2s\u001b[0m 1ms/step - acc: 0.9961 - loss: 0.0126 - val_acc: 0.9701 - val_loss: 0.1570\n",
      "Epoch 19/50\n",
      "\u001b[1m1313/1313\u001b[0m \u001b[32m━━━━━━━━━━━━━━━━━━━━\u001b[0m\u001b[37m\u001b[0m \u001b[1m2s\u001b[0m 1ms/step - acc: 0.9974 - loss: 0.0094 - val_acc: 0.9689 - val_loss: 0.1600\n",
      "Epoch 20/50\n",
      "\u001b[1m1313/1313\u001b[0m \u001b[32m━━━━━━━━━━━━━━━━━━━━\u001b[0m\u001b[37m\u001b[0m \u001b[1m2s\u001b[0m 1ms/step - acc: 0.9955 - loss: 0.0155 - val_acc: 0.9681 - val_loss: 0.1804\n",
      "Epoch 21/50\n",
      "\u001b[1m1313/1313\u001b[0m \u001b[32m━━━━━━━━━━━━━━━━━━━━\u001b[0m\u001b[37m\u001b[0m \u001b[1m2s\u001b[0m 1ms/step - acc: 0.9963 - loss: 0.0125 - val_acc: 0.9754 - val_loss: 0.1341\n",
      "Epoch 22/50\n",
      "\u001b[1m1313/1313\u001b[0m \u001b[32m━━━━━━━━━━━━━━━━━━━━\u001b[0m\u001b[37m\u001b[0m \u001b[1m2s\u001b[0m 1ms/step - acc: 0.9974 - loss: 0.0077 - val_acc: 0.9750 - val_loss: 0.1458\n",
      "Epoch 23/50\n",
      "\u001b[1m1313/1313\u001b[0m \u001b[32m━━━━━━━━━━━━━━━━━━━━\u001b[0m\u001b[37m\u001b[0m \u001b[1m2s\u001b[0m 1ms/step - acc: 0.9975 - loss: 0.0079 - val_acc: 0.9711 - val_loss: 0.1741\n",
      "Epoch 24/50\n",
      "\u001b[1m1313/1313\u001b[0m \u001b[32m━━━━━━━━━━━━━━━━━━━━\u001b[0m\u001b[37m\u001b[0m \u001b[1m2s\u001b[0m 1ms/step - acc: 0.9966 - loss: 0.0117 - val_acc: 0.9733 - val_loss: 0.1466\n",
      "Epoch 25/50\n",
      "\u001b[1m1313/1313\u001b[0m \u001b[32m━━━━━━━━━━━━━━━━━━━━\u001b[0m\u001b[37m\u001b[0m \u001b[1m2s\u001b[0m 1ms/step - acc: 0.9969 - loss: 0.0103 - val_acc: 0.9707 - val_loss: 0.1663\n",
      "Epoch 26/50\n",
      "\u001b[1m1313/1313\u001b[0m \u001b[32m━━━━━━━━━━━━━━━━━━━━\u001b[0m\u001b[37m\u001b[0m \u001b[1m2s\u001b[0m 1ms/step - acc: 0.9980 - loss: 0.0078 - val_acc: 0.9739 - val_loss: 0.1575\n",
      "Epoch 27/50\n",
      "\u001b[1m1313/1313\u001b[0m \u001b[32m━━━━━━━━━━━━━━━━━━━━\u001b[0m\u001b[37m\u001b[0m \u001b[1m2s\u001b[0m 1ms/step - acc: 0.9971 - loss: 0.0089 - val_acc: 0.9720 - val_loss: 0.1672\n",
      "Epoch 28/50\n",
      "\u001b[1m1313/1313\u001b[0m \u001b[32m━━━━━━━━━━━━━━━━━━━━\u001b[0m\u001b[37m\u001b[0m \u001b[1m2s\u001b[0m 1ms/step - acc: 0.9972 - loss: 0.0082 - val_acc: 0.9709 - val_loss: 0.1803\n",
      "Epoch 29/50\n",
      "\u001b[1m1313/1313\u001b[0m \u001b[32m━━━━━━━━━━━━━━━━━━━━\u001b[0m\u001b[37m\u001b[0m \u001b[1m2s\u001b[0m 1ms/step - acc: 0.9982 - loss: 0.0066 - val_acc: 0.9730 - val_loss: 0.1719\n",
      "Epoch 30/50\n",
      "\u001b[1m1313/1313\u001b[0m \u001b[32m━━━━━━━━━━━━━━━━━━━━\u001b[0m\u001b[37m\u001b[0m \u001b[1m2s\u001b[0m 1ms/step - acc: 0.9970 - loss: 0.0109 - val_acc: 0.9770 - val_loss: 0.1418\n",
      "Epoch 31/50\n",
      "\u001b[1m1313/1313\u001b[0m \u001b[32m━━━━━━━━━━━━━━━━━━━━\u001b[0m\u001b[37m\u001b[0m \u001b[1m2s\u001b[0m 1ms/step - acc: 0.9992 - loss: 0.0037 - val_acc: 0.9711 - val_loss: 0.1890\n",
      "Epoch 32/50\n",
      "\u001b[1m1313/1313\u001b[0m \u001b[32m━━━━━━━━━━━━━━━━━━━━\u001b[0m\u001b[37m\u001b[0m \u001b[1m2s\u001b[0m 1ms/step - acc: 0.9957 - loss: 0.0136 - val_acc: 0.9716 - val_loss: 0.1839\n",
      "Epoch 33/50\n",
      "\u001b[1m1313/1313\u001b[0m \u001b[32m━━━━━━━━━━━━━━━━━━━━\u001b[0m\u001b[37m\u001b[0m \u001b[1m2s\u001b[0m 1ms/step - acc: 0.9975 - loss: 0.0084 - val_acc: 0.9761 - val_loss: 0.1569\n",
      "Epoch 34/50\n",
      "\u001b[1m1313/1313\u001b[0m \u001b[32m━━━━━━━━━━━━━━━━━━━━\u001b[0m\u001b[37m\u001b[0m \u001b[1m2s\u001b[0m 1ms/step - acc: 0.9977 - loss: 0.0066 - val_acc: 0.9752 - val_loss: 0.1585\n",
      "Epoch 35/50\n",
      "\u001b[1m1313/1313\u001b[0m \u001b[32m━━━━━━━━━━━━━━━━━━━━\u001b[0m\u001b[37m\u001b[0m \u001b[1m2s\u001b[0m 1ms/step - acc: 0.9976 - loss: 0.0084 - val_acc: 0.9730 - val_loss: 0.1818\n",
      "Epoch 36/50\n",
      "\u001b[1m1313/1313\u001b[0m \u001b[32m━━━━━━━━━━━━━━━━━━━━\u001b[0m\u001b[37m\u001b[0m \u001b[1m2s\u001b[0m 1ms/step - acc: 0.9967 - loss: 0.0101 - val_acc: 0.9753 - val_loss: 0.1491\n",
      "Epoch 37/50\n",
      "\u001b[1m1313/1313\u001b[0m \u001b[32m━━━━━━━━━━━━━━━━━━━━\u001b[0m\u001b[37m\u001b[0m \u001b[1m2s\u001b[0m 1ms/step - acc: 0.9983 - loss: 0.0069 - val_acc: 0.9763 - val_loss: 0.1495\n",
      "Epoch 38/50\n",
      "\u001b[1m1313/1313\u001b[0m \u001b[32m━━━━━━━━━━━━━━━━━━━━\u001b[0m\u001b[37m\u001b[0m \u001b[1m2s\u001b[0m 1ms/step - acc: 0.9980 - loss: 0.0075 - val_acc: 0.9754 - val_loss: 0.1684\n",
      "Epoch 39/50\n",
      "\u001b[1m1313/1313\u001b[0m \u001b[32m━━━━━━━━━━━━━━━━━━━━\u001b[0m\u001b[37m\u001b[0m \u001b[1m2s\u001b[0m 1ms/step - acc: 0.9989 - loss: 0.0039 - val_acc: 0.9743 - val_loss: 0.1685\n",
      "Epoch 40/50\n",
      "\u001b[1m1313/1313\u001b[0m \u001b[32m━━━━━━━━━━━━━━━━━━━━\u001b[0m\u001b[37m\u001b[0m \u001b[1m2s\u001b[0m 1ms/step - acc: 0.9980 - loss: 0.0064 - val_acc: 0.9726 - val_loss: 0.1781\n",
      "Epoch 41/50\n",
      "\u001b[1m1313/1313\u001b[0m \u001b[32m━━━━━━━━━━━━━━━━━━━━\u001b[0m\u001b[37m\u001b[0m \u001b[1m2s\u001b[0m 1ms/step - acc: 0.9983 - loss: 0.0086 - val_acc: 0.9744 - val_loss: 0.1792\n",
      "Epoch 42/50\n",
      "\u001b[1m1313/1313\u001b[0m \u001b[32m━━━━━━━━━━━━━━━━━━━━\u001b[0m\u001b[37m\u001b[0m \u001b[1m2s\u001b[0m 1ms/step - acc: 0.9988 - loss: 0.0042 - val_acc: 0.9733 - val_loss: 0.1685\n",
      "Epoch 43/50\n",
      "\u001b[1m1313/1313\u001b[0m \u001b[32m━━━━━━━━━━━━━━━━━━━━\u001b[0m\u001b[37m\u001b[0m \u001b[1m2s\u001b[0m 1ms/step - acc: 0.9988 - loss: 0.0042 - val_acc: 0.9754 - val_loss: 0.1591\n",
      "Epoch 44/50\n",
      "\u001b[1m1313/1313\u001b[0m \u001b[32m━━━━━━━━━━━━━━━━━━━━\u001b[0m\u001b[37m\u001b[0m \u001b[1m2s\u001b[0m 1ms/step - acc: 0.9990 - loss: 0.0032 - val_acc: 0.9740 - val_loss: 0.1921\n",
      "Epoch 45/50\n",
      "\u001b[1m1313/1313\u001b[0m \u001b[32m━━━━━━━━━━━━━━━━━━━━\u001b[0m\u001b[37m\u001b[0m \u001b[1m2s\u001b[0m 1ms/step - acc: 0.9963 - loss: 0.0123 - val_acc: 0.9753 - val_loss: 0.1659\n",
      "Epoch 46/50\n",
      "\u001b[1m1313/1313\u001b[0m \u001b[32m━━━━━━━━━━━━━━━━━━━━\u001b[0m\u001b[37m\u001b[0m \u001b[1m2s\u001b[0m 1ms/step - acc: 0.9987 - loss: 0.0049 - val_acc: 0.9765 - val_loss: 0.1629\n",
      "Epoch 47/50\n",
      "\u001b[1m1313/1313\u001b[0m \u001b[32m━━━━━━━━━━━━━━━━━━━━\u001b[0m\u001b[37m\u001b[0m \u001b[1m2s\u001b[0m 1ms/step - acc: 0.9991 - loss: 0.0028 - val_acc: 0.9706 - val_loss: 0.2275\n",
      "Epoch 48/50\n",
      "\u001b[1m1313/1313\u001b[0m \u001b[32m━━━━━━━━━━━━━━━━━━━━\u001b[0m\u001b[37m\u001b[0m \u001b[1m2s\u001b[0m 1ms/step - acc: 0.9984 - loss: 0.0100 - val_acc: 0.9745 - val_loss: 0.1878\n",
      "Epoch 49/50\n",
      "\u001b[1m1313/1313\u001b[0m \u001b[32m━━━━━━━━━━━━━━━━━━━━\u001b[0m\u001b[37m\u001b[0m \u001b[1m2s\u001b[0m 1ms/step - acc: 0.9972 - loss: 0.0104 - val_acc: 0.9739 - val_loss: 0.1871\n",
      "Epoch 50/50\n",
      "\u001b[1m1313/1313\u001b[0m \u001b[32m━━━━━━━━━━━━━━━━━━━━\u001b[0m\u001b[37m\u001b[0m \u001b[1m2s\u001b[0m 1ms/step - acc: 0.9986 - loss: 0.0046 - val_acc: 0.9764 - val_loss: 0.1822\n"
     ]
    }
   ],
   "source": [
    "history = model.fit(X_train, y_train,\n",
    "                   validation_split=0.3,\n",
    "                   epochs=50)"
   ]
  },
  {
   "cell_type": "code",
   "execution_count": 224,
   "id": "4ca6a793-a336-428c-a002-bd6e0b67399f",
   "metadata": {},
   "outputs": [
    {
     "data": {
      "image/png": "[encoded data removed]",
      "text/plain": [
       "<Figure size 640x480 with 1 Axes>"
      ]
     },
     "metadata": {},
     "output_type": "display_data"
    }
   ],
   "source": [
    "import matplotlib.pyplot as plt\n",
    "\n",
    "plt.plot(history.history['loss'][:10], label='Train')\n",
    "plt.plot(history.history['val_loss'][:10], label='Validation')\n",
    "plt.title('Model_loss')\n",
    "plt.ylabel('loss')\n",
    "plt.xlabel('Epochs')\n",
    "plt.legend()\n",
    "plt.show()\n",
    "\n",
    "# 과적합 발생"
   ]
  },
  {
   "cell_type": "code",
   "execution_count": 225,
   "id": "a30dbd28-a52b-4bab-99a4-a10b390054a4",
   "metadata": {},
   "outputs": [
    {
     "data": {
      "image/png": "[encoded data removed]",
      "text/plain": [
       "<Figure size 640x480 with 1 Axes>"
      ]
     },
     "metadata": {},
     "output_type": "display_data"
    }
   ],
   "source": [
    "import matplotlib.pyplot as plt\n",
    "\n",
    "plt.plot(history.history['acc'], label='Train')\n",
    "plt.plot(history.history['val_acc'], label='Validation')\n",
    "plt.title('Model_acc')\n",
    "plt.ylabel('acc')\n",
    "plt.xlabel('Epochs')\n",
    "plt.legend()\n",
    "plt.show()\n",
    "\n",
    "# 과적합 발생"
   ]
  },
  {
   "cell_type": "code",
   "execution_count": 226,
   "id": "0080806c-813d-4d19-b75a-18036d1e814f",
   "metadata": {},
   "outputs": [],
   "source": [
    "# 시각화\n",
    "\n",
    "class_names = np.arange(10).astype('str')\n",
    "\n",
    "def plot_image(i, predictions_array, true_label, img):\n",
    "  true_label, img = true_label[i], img[i]\n",
    "  plt.grid(False)\n",
    "  plt.xticks([])\n",
    "  plt.yticks([])\n",
    "\n",
    "  plt.imshow(img, cmap=plt.cm.binary)\n",
    "\n",
    "  predicted_label = np.argmax(predictions_array)\n",
    "  true_label = np.argmax(true_label)\n",
    "  if predicted_label == true_label:\n",
    "    color = 'blue'\n",
    "  else:\n",
    "    color = 'red'\n",
    "\n",
    "  plt.xlabel(\"{} {:2.0f}% ({})\".format(class_names[predicted_label],\n",
    "                                100*np.max(predictions_array),\n",
    "                                class_names[true_label]),\n",
    "                                color=color)\n",
    "\n",
    "def plot_value_array(i, predictions_array, true_label):\n",
    "  true_label = np.argmax(true_label[i])\n",
    "  plt.grid(False)\n",
    "  plt.xticks(range(10))\n",
    "  plt.yticks([])\n",
    "  thisplot = plt.bar(range(10), predictions_array, color=\"#777777\")\n",
    "  plt.ylim([0, 1])\n",
    "  predicted_label = np.argmax(predictions_array)\n",
    "\n",
    "  thisplot[predicted_label].set_color('red')\n",
    "  thisplot[true_label].set_color('blue')"
   ]
  },
  {
   "cell_type": "code",
   "execution_count": 227,
   "id": "ce5c670f-1565-4ed8-9fbf-9ef912ac7e8c",
   "metadata": {},
   "outputs": [
    {
     "name": "stdout",
     "output_type": "stream",
     "text": [
      "\u001b[1m313/313\u001b[0m \u001b[32m━━━━━━━━━━━━━━━━━━━━\u001b[0m\u001b[37m\u001b[0m \u001b[1m0s\u001b[0m 880us/step\n"
     ]
    }
   ],
   "source": [
    "pro_model = tf.keras.Sequential([model,\n",
    "                                 tf.keras.layers.Softmax()])\n",
    "predictions = pro_model.predict(X_test)"
   ]
  },
  {
   "cell_type": "code",
   "execution_count": 228,
   "id": "91e85aa9-2d17-4229-9e99-2645e1d0a0f4",
   "metadata": {},
   "outputs": [
    {
     "name": "stdout",
     "output_type": "stream",
     "text": [
      "\u001b[1m313/313\u001b[0m \u001b[32m━━━━━━━━━━━━━━━━━━━━\u001b[0m\u001b[37m\u001b[0m \u001b[1m0s\u001b[0m 860us/step\n"
     ]
    }
   ],
   "source": [
    "predictions = model.predict(X_test)"
   ]
  },
  {
   "cell_type": "code",
   "execution_count": 229,
   "id": "c447f2b5-bc10-4e8b-96c5-e8fa28bdd808",
   "metadata": {},
   "outputs": [],
   "source": [
    "def show_img(i):\n",
    "    plt.figure(figsize=(6,3))\n",
    "    plt.subplot(1,2,1)\n",
    "    plot_image(i, predictions[i], y_test, X_test)\n",
    "    plt.subplot(1,2,2)\n",
    "    plot_value_array(i, predictions[i], y_test)\n",
    "    plt.show()"
   ]
  },
  {
   "cell_type": "code",
   "execution_count": 238,
   "id": "9da342c5-219e-4455-980f-46ee936f23f9",
   "metadata": {},
   "outputs": [
    {
     "data": {
      "image/png": "[encoded data removed]",
      "text/plain": [
       "<Figure size 600x300 with 2 Axes>"
      ]
     },
     "metadata": {},
     "output_type": "display_data"
    }
   ],
   "source": [
    "show_img(512)"
   ]
  },
  {
   "cell_type": "code",
   "execution_count": 239,
   "id": "237d9651-cdaf-4d84-85d2-a6b408450f1e",
   "metadata": {},
   "outputs": [
    {
     "data": {
      "image/png": "[encoded data removed]",
      "text/plain": [
       "<Figure size 1200x1000 with 30 Axes>"
      ]
     },
     "metadata": {},
     "output_type": "display_data"
    }
   ],
   "source": [
    "num_rows = 5\n",
    "num_cols = 3\n",
    "num_images = num_rows*num_cols\n",
    "plt.figure(figsize=(2*2*num_cols, 2*num_rows))\n",
    "for i in range(num_images):\n",
    "  plt.subplot(num_rows, 2*num_cols, 2*i+1)\n",
    "  plot_image(i, predictions[i], y_test, X_test)\n",
    "  plt.subplot(num_rows, 2*num_cols, 2*i+2)\n",
    "  plot_value_array(i, predictions[i], y_test)\n",
    "plt.tight_layout()\n",
    "plt.show()"
   ]
  },
  {
   "cell_type": "code",
   "execution_count": null,
   "id": "65c8f64d-fd16-4c1a-af70-038a1e26a528",
   "metadata": {},
   "outputs": [],
   "source": []
  }
 ],
 "metadata": {
  "kernelspec": {
   "display_name": "Python 3 (ipykernel)",
   "language": "python",
   "name": "python3"
  },
  "language_info": {
   "codemirror_mode": {
    "name": "ipython",
    "version": 3
   },
   "file_extension": ".py",
   "mimetype": "text/x-python",
   "name": "python",
   "nbconvert_exporter": "python",
   "pygments_lexer": "ipython3",
   "version": "3.11.5"
  }
 },
 "nbformat": 4,
 "nbformat_minor": 5
}
