{
 "cells": [
  {
   "cell_type": "code",
   "execution_count": 2,
   "id": "ed6203c5-3920-42f0-8e0e-f4f6f5a29544",
   "metadata": {
    "scrolled": true
   },
   "outputs": [
    {
     "name": "stderr",
     "output_type": "stream",
     "text": [
      "C:\\ProgramData\\anaconda3\\Lib\\site-packages\\openpyxl\\styles\\stylesheet.py:226: UserWarning: Workbook contains no default style, apply openpyxl's default\n",
      "  warn(\"Workbook contains no default style, apply openpyxl's default\")\n",
      "C:\\ProgramData\\anaconda3\\Lib\\site-packages\\openpyxl\\styles\\stylesheet.py:226: UserWarning: Workbook contains no default style, apply openpyxl's default\n",
      "  warn(\"Workbook contains no default style, apply openpyxl's default\")\n",
      "C:\\ProgramData\\anaconda3\\Lib\\site-packages\\openpyxl\\styles\\stylesheet.py:226: UserWarning: Workbook contains no default style, apply openpyxl's default\n",
      "  warn(\"Workbook contains no default style, apply openpyxl's default\")\n",
      "C:\\ProgramData\\anaconda3\\Lib\\site-packages\\openpyxl\\styles\\stylesheet.py:226: UserWarning: Workbook contains no default style, apply openpyxl's default\n",
      "  warn(\"Workbook contains no default style, apply openpyxl's default\")\n",
      "C:\\ProgramData\\anaconda3\\Lib\\site-packages\\openpyxl\\styles\\stylesheet.py:226: UserWarning: Workbook contains no default style, apply openpyxl's default\n",
      "  warn(\"Workbook contains no default style, apply openpyxl's default\")\n",
      "C:\\ProgramData\\anaconda3\\Lib\\site-packages\\openpyxl\\styles\\stylesheet.py:226: UserWarning: Workbook contains no default style, apply openpyxl's default\n",
      "  warn(\"Workbook contains no default style, apply openpyxl's default\")\n",
      "C:\\ProgramData\\anaconda3\\Lib\\site-packages\\openpyxl\\styles\\stylesheet.py:226: UserWarning: Workbook contains no default style, apply openpyxl's default\n",
      "  warn(\"Workbook contains no default style, apply openpyxl's default\")\n",
      "C:\\ProgramData\\anaconda3\\Lib\\site-packages\\openpyxl\\styles\\stylesheet.py:226: UserWarning: Workbook contains no default style, apply openpyxl's default\n",
      "  warn(\"Workbook contains no default style, apply openpyxl's default\")\n",
      "C:\\ProgramData\\anaconda3\\Lib\\site-packages\\openpyxl\\styles\\stylesheet.py:226: UserWarning: Workbook contains no default style, apply openpyxl's default\n",
      "  warn(\"Workbook contains no default style, apply openpyxl's default\")\n",
      "C:\\ProgramData\\anaconda3\\Lib\\site-packages\\openpyxl\\styles\\stylesheet.py:226: UserWarning: Workbook contains no default style, apply openpyxl's default\n",
      "  warn(\"Workbook contains no default style, apply openpyxl's default\")\n",
      "C:\\ProgramData\\anaconda3\\Lib\\site-packages\\openpyxl\\styles\\stylesheet.py:226: UserWarning: Workbook contains no default style, apply openpyxl's default\n",
      "  warn(\"Workbook contains no default style, apply openpyxl's default\")\n",
      "C:\\ProgramData\\anaconda3\\Lib\\site-packages\\openpyxl\\styles\\stylesheet.py:226: UserWarning: Workbook contains no default style, apply openpyxl's default\n",
      "  warn(\"Workbook contains no default style, apply openpyxl's default\")\n",
      "C:\\ProgramData\\anaconda3\\Lib\\site-packages\\openpyxl\\styles\\stylesheet.py:226: UserWarning: Workbook contains no default style, apply openpyxl's default\n",
      "  warn(\"Workbook contains no default style, apply openpyxl's default\")\n",
      "C:\\ProgramData\\anaconda3\\Lib\\site-packages\\openpyxl\\styles\\stylesheet.py:226: UserWarning: Workbook contains no default style, apply openpyxl's default\n",
      "  warn(\"Workbook contains no default style, apply openpyxl's default\")\n",
      "C:\\ProgramData\\anaconda3\\Lib\\site-packages\\openpyxl\\styles\\stylesheet.py:226: UserWarning: Workbook contains no default style, apply openpyxl's default\n",
      "  warn(\"Workbook contains no default style, apply openpyxl's default\")\n",
      "C:\\ProgramData\\anaconda3\\Lib\\site-packages\\openpyxl\\styles\\stylesheet.py:226: UserWarning: Workbook contains no default style, apply openpyxl's default\n",
      "  warn(\"Workbook contains no default style, apply openpyxl's default\")\n"
     ]
    }
   ],
   "source": [
    "import pandas as pd\n",
    "import numpy as np\n",
    "import matplotlib.pyplot as plt\n",
    "import seaborn as sns\n",
    "import os\n",
    "\n",
    "files = os.listdir()\n",
    "toilet_df = pd.DataFrame()\n",
    "for excel in files:\n",
    "    if excel.endswith(\".xlsx\"):\n",
    "        tmp_df = pd.read_excel(excel)\n",
    "        toilet_df = pd.concat([toilet_df, tmp_df], axis=0)"
   ]
  },
  {
   "cell_type": "code",
   "execution_count": 3,
   "id": "df881139-d30b-4192-a231-f6b85baef450",
   "metadata": {},
   "outputs": [
    {
     "data": {
      "text/html": [
       "<div>\n",
       "<style scoped>\n",
       "    .dataframe tbody tr th:only-of-type {\n",
       "        vertical-align: middle;\n",
       "    }\n",
       "\n",
       "    .dataframe tbody tr th {\n",
       "        vertical-align: top;\n",
       "    }\n",
       "\n",
       "    .dataframe thead th {\n",
       "        text-align: right;\n",
       "    }\n",
       "</style>\n",
       "<table border=\"1\" class=\"dataframe\">\n",
       "  <thead>\n",
       "    <tr style=\"text-align: right;\">\n",
       "      <th></th>\n",
       "      <th>번호</th>\n",
       "      <th>구분</th>\n",
       "      <th>근거</th>\n",
       "      <th>화장실명</th>\n",
       "      <th>소재지도로명주소</th>\n",
       "      <th>소재지지번주소</th>\n",
       "      <th>남성용-대변기수</th>\n",
       "      <th>남성용-소변기수</th>\n",
       "      <th>남성용-장애인용대변기수</th>\n",
       "      <th>남성용-장애인용소변기수</th>\n",
       "      <th>...</th>\n",
       "      <th>화장실소유구분</th>\n",
       "      <th>오물처리방식</th>\n",
       "      <th>안전관리시설설치대상여부</th>\n",
       "      <th>비상벨설치여부</th>\n",
       "      <th>비상벨설치장소</th>\n",
       "      <th>화장실입구CCTV설치유무</th>\n",
       "      <th>기저귀교환대유무</th>\n",
       "      <th>기저귀교환대장소</th>\n",
       "      <th>리모델링연월</th>\n",
       "      <th>데이터기준일자</th>\n",
       "    </tr>\n",
       "  </thead>\n",
       "  <tbody>\n",
       "    <tr>\n",
       "      <th>0</th>\n",
       "      <td>1</td>\n",
       "      <td>개방화장실</td>\n",
       "      <td>NaN</td>\n",
       "      <td>수정동우체국 1층 화장실</td>\n",
       "      <td>부산광역시 동구 수정로 9, 부산 수정동우체국 1층 (수정동)</td>\n",
       "      <td>부산광역시 동구 수정동 112-1 부산 수정동 우체국</td>\n",
       "      <td>0</td>\n",
       "      <td>1</td>\n",
       "      <td>1</td>\n",
       "      <td>0</td>\n",
       "      <td>...</td>\n",
       "      <td>공공기관-국가공공기관</td>\n",
       "      <td>수세식</td>\n",
       "      <td>NaN</td>\n",
       "      <td>N</td>\n",
       "      <td>없음</td>\n",
       "      <td>N</td>\n",
       "      <td>N</td>\n",
       "      <td>없음</td>\n",
       "      <td>NaN</td>\n",
       "      <td>2023-11-30</td>\n",
       "    </tr>\n",
       "    <tr>\n",
       "      <th>1</th>\n",
       "      <td>2</td>\n",
       "      <td>개방화장실</td>\n",
       "      <td>NaN</td>\n",
       "      <td>좌천동우체국 1층 화장실</td>\n",
       "      <td>부산광역시 동구 중앙대로 471, 부산좌천동우체국 1층 (좌천동)</td>\n",
       "      <td>부산광역시 동구 좌천동 411-1 부산좌천동우체국</td>\n",
       "      <td>1</td>\n",
       "      <td>1</td>\n",
       "      <td>0</td>\n",
       "      <td>0</td>\n",
       "      <td>...</td>\n",
       "      <td>공공기관-국가공공기관</td>\n",
       "      <td>수세식</td>\n",
       "      <td>NaN</td>\n",
       "      <td>N</td>\n",
       "      <td>없음</td>\n",
       "      <td>N</td>\n",
       "      <td>N</td>\n",
       "      <td>없음</td>\n",
       "      <td>NaN</td>\n",
       "      <td>2023-11-30</td>\n",
       "    </tr>\n",
       "    <tr>\n",
       "      <th>2</th>\n",
       "      <td>3</td>\n",
       "      <td>개방화장실</td>\n",
       "      <td>NaN</td>\n",
       "      <td>초량3동우체국2층 화장실</td>\n",
       "      <td>부산광역시 동구 중앙대로236번길 3-4, 초량3동우체국 2층 (초량동)</td>\n",
       "      <td>부산광역시 동구 초량동 1194-10</td>\n",
       "      <td>2</td>\n",
       "      <td>2</td>\n",
       "      <td>0</td>\n",
       "      <td>0</td>\n",
       "      <td>...</td>\n",
       "      <td>공공기관-국가공공기관</td>\n",
       "      <td>수세식</td>\n",
       "      <td>NaN</td>\n",
       "      <td>N</td>\n",
       "      <td>없음</td>\n",
       "      <td>N</td>\n",
       "      <td>N</td>\n",
       "      <td>없음</td>\n",
       "      <td>NaN</td>\n",
       "      <td>2023-11-30</td>\n",
       "    </tr>\n",
       "    <tr>\n",
       "      <th>3</th>\n",
       "      <td>4</td>\n",
       "      <td>개방화장실</td>\n",
       "      <td>NaN</td>\n",
       "      <td>초량우체국1층 화장실</td>\n",
       "      <td>부산광역시 동구 초량상로 71, 초량우체국 1층 (초량동)</td>\n",
       "      <td>부산광역시 동구 초량동 296-40 초량 우체국</td>\n",
       "      <td>0</td>\n",
       "      <td>1</td>\n",
       "      <td>1</td>\n",
       "      <td>0</td>\n",
       "      <td>...</td>\n",
       "      <td>공공기관-국가공공기관</td>\n",
       "      <td>수세식</td>\n",
       "      <td>NaN</td>\n",
       "      <td>N</td>\n",
       "      <td>없음</td>\n",
       "      <td>N</td>\n",
       "      <td>N</td>\n",
       "      <td>없음</td>\n",
       "      <td>NaN</td>\n",
       "      <td>2023-11-30</td>\n",
       "    </tr>\n",
       "    <tr>\n",
       "      <th>4</th>\n",
       "      <td>5</td>\n",
       "      <td>개방화장실</td>\n",
       "      <td>NaN</td>\n",
       "      <td>봉생기념병원 신관1층 화장실</td>\n",
       "      <td>부산광역시 동구 중앙대로 401, 봉생병원(신관1층) (좌천동)</td>\n",
       "      <td>부산광역시 동구 좌천동 682-1 봉생병원</td>\n",
       "      <td>2</td>\n",
       "      <td>2</td>\n",
       "      <td>1</td>\n",
       "      <td>0</td>\n",
       "      <td>...</td>\n",
       "      <td>공공기관-지방공공기관(지방공기업/지방출자출연기관)</td>\n",
       "      <td>수세식</td>\n",
       "      <td>NaN</td>\n",
       "      <td>N</td>\n",
       "      <td>없음</td>\n",
       "      <td>N</td>\n",
       "      <td>Y</td>\n",
       "      <td>여자화장실</td>\n",
       "      <td>NaN</td>\n",
       "      <td>2023-11-30</td>\n",
       "    </tr>\n",
       "  </tbody>\n",
       "</table>\n",
       "<p>5 rows × 32 columns</p>\n",
       "</div>"
      ],
      "text/plain": [
       "   번호     구분   근거             화장실명                                  소재지도로명주소  \\\n",
       "0   1  개방화장실  NaN    수정동우체국 1층 화장실        부산광역시 동구 수정로 9, 부산 수정동우체국 1층 (수정동)   \n",
       "1   2  개방화장실  NaN    좌천동우체국 1층 화장실      부산광역시 동구 중앙대로 471, 부산좌천동우체국 1층 (좌천동)   \n",
       "2   3  개방화장실  NaN    초량3동우체국2층 화장실  부산광역시 동구 중앙대로236번길 3-4, 초량3동우체국 2층 (초량동)   \n",
       "3   4  개방화장실  NaN      초량우체국1층 화장실          부산광역시 동구 초량상로 71, 초량우체국 1층 (초량동)   \n",
       "4   5  개방화장실  NaN  봉생기념병원 신관1층 화장실       부산광역시 동구 중앙대로 401, 봉생병원(신관1층) (좌천동)   \n",
       "\n",
       "                         소재지지번주소  남성용-대변기수  남성용-소변기수  남성용-장애인용대변기수  \\\n",
       "0  부산광역시 동구 수정동 112-1 부산 수정동 우체국         0         1             1   \n",
       "1    부산광역시 동구 좌천동 411-1 부산좌천동우체국         1         1             0   \n",
       "2           부산광역시 동구 초량동 1194-10         2         2             0   \n",
       "3     부산광역시 동구 초량동 296-40 초량 우체국         0         1             1   \n",
       "4        부산광역시 동구 좌천동 682-1 봉생병원         2         2             1   \n",
       "\n",
       "   남성용-장애인용소변기수  ...                      화장실소유구분  오물처리방식  안전관리시설설치대상여부  \\\n",
       "0             0  ...                  공공기관-국가공공기관     수세식           NaN   \n",
       "1             0  ...                  공공기관-국가공공기관     수세식           NaN   \n",
       "2             0  ...                  공공기관-국가공공기관     수세식           NaN   \n",
       "3             0  ...                  공공기관-국가공공기관     수세식           NaN   \n",
       "4             0  ...  공공기관-지방공공기관(지방공기업/지방출자출연기관)     수세식           NaN   \n",
       "\n",
       "   비상벨설치여부  비상벨설치장소 화장실입구CCTV설치유무 기저귀교환대유무 기저귀교환대장소 리모델링연월     데이터기준일자  \n",
       "0        N       없음             N        N       없음    NaN  2023-11-30  \n",
       "1        N       없음             N        N       없음    NaN  2023-11-30  \n",
       "2        N       없음             N        N       없음    NaN  2023-11-30  \n",
       "3        N       없음             N        N       없음    NaN  2023-11-30  \n",
       "4        N       없음             N        Y    여자화장실    NaN  2023-11-30  \n",
       "\n",
       "[5 rows x 32 columns]"
      ]
     },
     "execution_count": 3,
     "metadata": {},
     "output_type": "execute_result"
    }
   ],
   "source": [
    "toilet_df.head()"
   ]
  },
  {
   "cell_type": "code",
   "execution_count": 5,
   "id": "cd0ae204-87b2-48ff-ae3f-d1ad649357b4",
   "metadata": {},
   "outputs": [
    {
     "data": {
      "text/plain": [
       "Index(['번호', '구분', '근거', '화장실명', '소재지도로명주소', '소재지지번주소', '남성용-대변기수', '남성용-소변기수',\n",
       "       '남성용-장애인용대변기수', '남성용-장애인용소변기수', '남성용-어린이용대변기수', '남성용-어린이용소변기수',\n",
       "       '여성용-대변기수', '여성용-장애인용대변기수', '여성용-어린이용대변기수', '관리기관명', '전화번호', '개방시간',\n",
       "       '개방시간상세', '설치연월', 'WGS84위도', 'WGS84경도', '화장실소유구분', '오물처리방식',\n",
       "       '안전관리시설설치대상여부', '비상벨설치여부', '비상벨설치장소', '화장실입구CCTV설치유무', '기저귀교환대유무',\n",
       "       '기저귀교환대장소', '리모델링연월', '데이터기준일자'],\n",
       "      dtype='object')"
      ]
     },
     "execution_count": 5,
     "metadata": {},
     "output_type": "execute_result"
    }
   ],
   "source": [
    "toilet_df.columns"
   ]
  },
  {
   "cell_type": "code",
   "execution_count": 49,
   "id": "fa0da675-ff94-4381-8b08-a06ce620b24a",
   "metadata": {},
   "outputs": [],
   "source": [
    "df = toilet_df[['구분', '화장실명', '소재지도로명주소', '소재지지번주소', '남성용-대변기수', '남성용-소변기수',\n",
    "       '남성용-장애인용대변기수', '남성용-장애인용소변기수', '남성용-어린이용대변기수', '남성용-어린이용소변기수',\n",
    "       '여성용-대변기수', '여성용-장애인용대변기수', '여성용-어린이용대변기수',\n",
    "       '개방시간상세', 'WGS84위도', 'WGS84경도',\n",
    "       '안전관리시설설치대상여부', '비상벨설치여부', '화장실입구CCTV설치유무', '기저귀교환대유무']]"
   ]
  },
  {
   "cell_type": "code",
   "execution_count": 50,
   "id": "b56a08f1-31fd-49c6-8b7f-3f59710d5fdf",
   "metadata": {},
   "outputs": [
    {
     "name": "stdout",
     "output_type": "stream",
     "text": [
      "<class 'pandas.core.frame.DataFrame'>\n",
      "Index: 52157 entries, 0 to 1992\n",
      "Data columns (total 20 columns):\n",
      " #   Column         Non-Null Count  Dtype  \n",
      "---  ------         --------------  -----  \n",
      " 0   구분             52157 non-null  object \n",
      " 1   화장실명           52157 non-null  object \n",
      " 2   소재지도로명주소       46014 non-null  object \n",
      " 3   소재지지번주소        36048 non-null  object \n",
      " 4   남성용-대변기수       52157 non-null  int64  \n",
      " 5   남성용-소변기수       52157 non-null  int64  \n",
      " 6   남성용-장애인용대변기수   52157 non-null  int64  \n",
      " 7   남성용-장애인용소변기수   52157 non-null  int64  \n",
      " 8   남성용-어린이용대변기수   52157 non-null  int64  \n",
      " 9   남성용-어린이용소변기수   52157 non-null  int64  \n",
      " 10  여성용-대변기수       52157 non-null  int64  \n",
      " 11  여성용-장애인용대변기수   52157 non-null  int64  \n",
      " 12  여성용-어린이용대변기수   52157 non-null  int64  \n",
      " 13  개방시간상세         42482 non-null  object \n",
      " 14  WGS84위도        19883 non-null  float64\n",
      " 15  WGS84경도        19877 non-null  float64\n",
      " 16  안전관리시설설치대상여부   29419 non-null  object \n",
      " 17  비상벨설치여부        52157 non-null  object \n",
      " 18  화장실입구CCTV설치유무  52157 non-null  object \n",
      " 19  기저귀교환대유무       52157 non-null  object \n",
      "dtypes: float64(2), int64(9), object(9)\n",
      "memory usage: 8.4+ MB\n"
     ]
    }
   ],
   "source": [
    "df.info()"
   ]
  },
  {
   "cell_type": "code",
   "execution_count": 51,
   "id": "6a238474-fc34-4141-82a6-cbd30f025df2",
   "metadata": {},
   "outputs": [
    {
     "ename": "NameError",
     "evalue": "name 'null' is not defined",
     "output_type": "error",
     "traceback": [
      "\u001b[1;31m---------------------------------------------------------------------------\u001b[0m",
      "\u001b[1;31mNameError\u001b[0m                                 Traceback (most recent call last)",
      "Cell \u001b[1;32mIn[51], line 6\u001b[0m\n\u001b[0;32m      4\u001b[0m loc \u001b[38;5;241m=\u001b[39m []\n\u001b[0;32m      5\u001b[0m \u001b[38;5;28;01mfor\u001b[39;00m i \u001b[38;5;129;01min\u001b[39;00m \u001b[38;5;28mrange\u001b[39m(\u001b[38;5;28mlen\u001b[39m(df)):\n\u001b[1;32m----> 6\u001b[0m     \u001b[38;5;28;01mif\u001b[39;00m df\u001b[38;5;241m.\u001b[39miloc[i, \u001b[38;5;241m2\u001b[39m] \u001b[38;5;129;01mis\u001b[39;00m null:\n\u001b[0;32m      7\u001b[0m         x\u001b[38;5;241m=\u001b[39mdf\u001b[38;5;241m.\u001b[39miloc[i, \u001b[38;5;241m2\u001b[39m]\u001b[38;5;241m.\u001b[39msplit(\u001b[38;5;124m'\u001b[39m\u001b[38;5;124m'\u001b[39m)[\u001b[38;5;241m0\u001b[39m]\n",
      "\u001b[1;31mNameError\u001b[0m: name 'null' is not defined"
     ]
    }
   ],
   "source": [
    "# 주소지 뽑기\n",
    "# 시, 구\n",
    "city = []\n",
    "loc = []\n",
    "for i in range(len(df)):\n",
    "    if df.iloc[i, 2] is null:\n",
    "        x=df.iloc[i, 2].split('')[0]\n",
    "        "
   ]
  },
  {
   "cell_type": "code",
   "execution_count": 52,
   "id": "299a8a60-b222-4c62-bafc-83bc73ca500d",
   "metadata": {},
   "outputs": [
    {
     "data": {
      "text/plain": [
       "구분                   0\n",
       "화장실명                 0\n",
       "소재지도로명주소          6143\n",
       "소재지지번주소          16109\n",
       "남성용-대변기수             0\n",
       "남성용-소변기수             0\n",
       "남성용-장애인용대변기수         0\n",
       "남성용-장애인용소변기수         0\n",
       "남성용-어린이용대변기수         0\n",
       "남성용-어린이용소변기수         0\n",
       "여성용-대변기수             0\n",
       "여성용-장애인용대변기수         0\n",
       "여성용-어린이용대변기수         0\n",
       "개방시간상세            9675\n",
       "WGS84위도          32274\n",
       "WGS84경도          32280\n",
       "안전관리시설설치대상여부     22738\n",
       "비상벨설치여부              0\n",
       "화장실입구CCTV설치유무        0\n",
       "기저귀교환대유무             0\n",
       "dtype: int64"
      ]
     },
     "execution_count": 52,
     "metadata": {},
     "output_type": "execute_result"
    }
   ],
   "source": [
    "df.isnull().sum()"
   ]
  },
  {
   "cell_type": "code",
   "execution_count": 53,
   "id": "de1fd5ce-74a9-454a-9eb9-87083f62d273",
   "metadata": {},
   "outputs": [
    {
     "name": "stderr",
     "output_type": "stream",
     "text": [
      "C:\\Users\\Administrator\\AppData\\Local\\Temp\\ipykernel_11464\\3266788367.py:2: SettingWithCopyWarning: \n",
      "A value is trying to be set on a copy of a slice from a DataFrame\n",
      "\n",
      "See the caveats in the documentation: https://pandas.pydata.org/pandas-docs/stable/user_guide/indexing.html#returning-a-view-versus-a-copy\n",
      "  df['개방시간상세'].fillna('00:00 ~ 24:00', inplace=True)\n",
      "C:\\Users\\Administrator\\AppData\\Local\\Temp\\ipykernel_11464\\3266788367.py:3: SettingWithCopyWarning: \n",
      "A value is trying to be set on a copy of a slice from a DataFrame.\n",
      "Try using .loc[row_indexer,col_indexer] = value instead\n",
      "\n",
      "See the caveats in the documentation: https://pandas.pydata.org/pandas-docs/stable/user_guide/indexing.html#returning-a-view-versus-a-copy\n",
      "  df['개방시간상세'] = df['개방시간상세'].apply(lambda x : x.replace('-', '~'))\n",
      "C:\\Users\\Administrator\\AppData\\Local\\Temp\\ipykernel_11464\\3266788367.py:18: SettingWithCopyWarning: \n",
      "A value is trying to be set on a copy of a slice from a DataFrame.\n",
      "Try using .loc[row_indexer,col_indexer] = value instead\n",
      "\n",
      "See the caveats in the documentation: https://pandas.pydata.org/pandas-docs/stable/user_guide/indexing.html#returning-a-view-versus-a-copy\n",
      "  df['개방시간상세'] = df['개방시간상세'].apply(replace_time)\n"
     ]
    },
    {
     "data": {
      "text/plain": [
       "개방시간상세\n",
       "02~24                              False\n",
       "(평일)09:00~22:00 (주말)09:00~20:03    False\n",
       "(평일)09:00~22:00 (주말)09:00~20:02    False\n",
       "(평일)09:00~22:00 (주말)09:00~20:01    False\n",
       "(평일)09:00~22:00 (주말)09:00~20:00    False\n",
       "                                   ...  \n",
       "09:00~21:00                         True\n",
       "06:00~22:00                         True\n",
       "09:00~22:00                         True\n",
       "09:00~18:00                         True\n",
       "00:00~24:00                         True\n",
       "Name: count, Length: 1494, dtype: bool"
      ]
     },
     "execution_count": 53,
     "metadata": {},
     "output_type": "execute_result"
    }
   ],
   "source": [
    "# 개방 시간 상세\n",
    "df['개방시간상세'].fillna('00:00 ~ 24:00', inplace=True)\n",
    "df['개방시간상세'] = df['개방시간상세'].apply(lambda x : x.replace('-', '~'))\n",
    "\n",
    "re_24 = ['24시간', '연중무휴', '상시', '00:00~24:00', '00:00~00:00', '24', '00:00 ~ 24:00']\n",
    "re_9to6 = ['8시간', '9시간', '(평일)09:00~18:00', '영업시간', '근무시간']\n",
    "re_11 = ['11시간']\n",
    "\n",
    "def replace_time(x):\n",
    "    if x in re_24:\n",
    "        x = '00:00~24:00'\n",
    "    elif x in re_9to6:\n",
    "        x = '09:00~18:00'\n",
    "    elif x in re_11:\n",
    "        x = '09:00~22:00'\n",
    "    return x\n",
    "\n",
    "df['개방시간상세'] = df['개방시간상세'].apply(replace_time)\n",
    "df['개방시간상세'].value_counts().sort_values() > 300\n",
    "## 24시간 --> 00:00 ~ 24:00\n",
    "## null, 24시간, "
   ]
  },
  {
   "cell_type": "code",
   "execution_count": 54,
   "id": "a6f3cfc0-0542-4c73-8b99-f6f7b1d0325e",
   "metadata": {
    "scrolled": true
   },
   "outputs": [
    {
     "data": {
      "text/plain": [
       "개방시간상세\n",
       "00:00~24:00                                         24957\n",
       "09:00~18:00                                         12755\n",
       "09:00~22:00                                           838\n",
       "06:00~22:00                                           446\n",
       "09:00~21:00                                           314\n",
       "05:00~24:00                                           307\n",
       "08:00~20:00                                           276\n",
       "06:00~23:00                                           274\n",
       "06:00~24:00                                           259\n",
       "00:00~23:50                                           249\n",
       "정시(09:00∼18:00)                                       248\n",
       "~                                                     248\n",
       "09~18                                                 243\n",
       "12시간                                                  234\n",
       "9:00~18:00                                            230\n",
       "정시                                                    210\n",
       "09:00∼18:00                                           201\n",
       "24시                                                   196\n",
       "9시~18시                                                181\n",
       "00:00~23:00                                           175\n",
       "06:00~21:00                                           172\n",
       "10:00~22:00                                           161\n",
       "평일 09:00~18:00                                        159\n",
       "07:00~22:00                                           157\n",
       "09:00~24:00                                           153\n",
       "근무시간 내                                                153\n",
       "영업시간 내                                                144\n",
       "09:00~20:00                                           133\n",
       "0900~1800                                             133\n",
       "16시간                                                  131\n",
       "운영시간내                                                 128\n",
       "09~18시                                                126\n",
       "08:00~21:00                                           126\n",
       "13시간                                                  126\n",
       "08:00~22:00                                           125\n",
       "(09:00~18:00)                                         120\n",
       "00~24                                                 117\n",
       "08:00~18:00                                           116\n",
       "영업시간중                                                 114\n",
       "09:00 ~ 18:00                                         108\n",
       "(평일)09:00~18:00+(주말)09:00~18:00+(공휴일)09:00~18:00      107\n",
       "미개방                                                   107\n",
       "05~24                                                 102\n",
       ":~:                                                   101\n",
       "업무시간                                                   96\n",
       "14시간                                                   91\n",
       "09:00~19:00                                            91\n",
       "상시개방                                                   81\n",
       "9                                                      79\n",
       "06:00~20:00                                            72\n",
       "Name: count, dtype: int64"
      ]
     },
     "execution_count": 54,
     "metadata": {},
     "output_type": "execute_result"
    }
   ],
   "source": [
    "df['개방시간상세'].value_counts()[:50]"
   ]
  },
  {
   "cell_type": "code",
   "execution_count": 55,
   "id": "57854095-153d-4e2e-a5e6-6523df9b44c4",
   "metadata": {},
   "outputs": [
    {
     "name": "stderr",
     "output_type": "stream",
     "text": [
      "C:\\Users\\Administrator\\AppData\\Local\\Temp\\ipykernel_11464\\991647551.py:2: SettingWithCopyWarning: \n",
      "A value is trying to be set on a copy of a slice from a DataFrame.\n",
      "Try using .loc[row_indexer,col_indexer] = value instead\n",
      "\n",
      "See the caveats in the documentation: https://pandas.pydata.org/pandas-docs/stable/user_guide/indexing.html#returning-a-view-versus-a-copy\n",
      "  df['개방시간상세'] = df['개방시간상세'].apply(lambda x : x if x in time_list else 'etc')\n"
     ]
    }
   ],
   "source": [
    "time_list = list(df['개방시간상세'].value_counts().sort_values(ascending=False)[:10].index)\n",
    "df['개방시간상세'] = df['개방시간상세'].apply(lambda x : x if x in time_list else 'etc')"
   ]
  },
  {
   "cell_type": "code",
   "execution_count": 56,
   "id": "cfafc4a4-47b1-4c98-aede-79c25450137e",
   "metadata": {},
   "outputs": [
    {
     "data": {
      "text/plain": [
       "개방시간상세\n",
       "00:00~24:00    24957\n",
       "09:00~18:00    12755\n",
       "etc            11482\n",
       "09:00~22:00      838\n",
       "06:00~22:00      446\n",
       "09:00~21:00      314\n",
       "05:00~24:00      307\n",
       "08:00~20:00      276\n",
       "06:00~23:00      274\n",
       "06:00~24:00      259\n",
       "00:00~23:50      249\n",
       "Name: count, dtype: int64"
      ]
     },
     "execution_count": 56,
     "metadata": {},
     "output_type": "execute_result"
    }
   ],
   "source": [
    "df['개방시간상세'].value_counts()"
   ]
  },
  {
   "cell_type": "code",
   "execution_count": 61,
   "id": "3268e229-c230-462a-91c8-3e8af34dbd2b",
   "metadata": {},
   "outputs": [
    {
     "ename": "KeyError",
     "evalue": "\"['안전관리시설설치대상여부'] not found in axis\"",
     "output_type": "error",
     "traceback": [
      "\u001b[1;31m---------------------------------------------------------------------------\u001b[0m",
      "\u001b[1;31mKeyError\u001b[0m                                  Traceback (most recent call last)",
      "Cell \u001b[1;32mIn[61], line 1\u001b[0m\n\u001b[1;32m----> 1\u001b[0m df \u001b[38;5;241m=\u001b[39m df\u001b[38;5;241m.\u001b[39mdrop(\u001b[38;5;124m'\u001b[39m\u001b[38;5;124m안전관리시설설치대상여부\u001b[39m\u001b[38;5;124m'\u001b[39m, axis\u001b[38;5;241m=\u001b[39m\u001b[38;5;241m1\u001b[39m)\n",
      "File \u001b[1;32mC:\\ProgramData\\anaconda3\\Lib\\site-packages\\pandas\\core\\frame.py:5344\u001b[0m, in \u001b[0;36mDataFrame.drop\u001b[1;34m(self, labels, axis, index, columns, level, inplace, errors)\u001b[0m\n\u001b[0;32m   5196\u001b[0m \u001b[38;5;28;01mdef\u001b[39;00m \u001b[38;5;21mdrop\u001b[39m(\n\u001b[0;32m   5197\u001b[0m     \u001b[38;5;28mself\u001b[39m,\n\u001b[0;32m   5198\u001b[0m     labels: IndexLabel \u001b[38;5;241m|\u001b[39m \u001b[38;5;28;01mNone\u001b[39;00m \u001b[38;5;241m=\u001b[39m \u001b[38;5;28;01mNone\u001b[39;00m,\n\u001b[1;32m   (...)\u001b[0m\n\u001b[0;32m   5205\u001b[0m     errors: IgnoreRaise \u001b[38;5;241m=\u001b[39m \u001b[38;5;124m\"\u001b[39m\u001b[38;5;124mraise\u001b[39m\u001b[38;5;124m\"\u001b[39m,\n\u001b[0;32m   5206\u001b[0m ) \u001b[38;5;241m-\u001b[39m\u001b[38;5;241m>\u001b[39m DataFrame \u001b[38;5;241m|\u001b[39m \u001b[38;5;28;01mNone\u001b[39;00m:\n\u001b[0;32m   5207\u001b[0m \u001b[38;5;250m    \u001b[39m\u001b[38;5;124;03m\"\"\"\u001b[39;00m\n\u001b[0;32m   5208\u001b[0m \u001b[38;5;124;03m    Drop specified labels from rows or columns.\u001b[39;00m\n\u001b[0;32m   5209\u001b[0m \n\u001b[1;32m   (...)\u001b[0m\n\u001b[0;32m   5342\u001b[0m \u001b[38;5;124;03m            weight  1.0     0.8\u001b[39;00m\n\u001b[0;32m   5343\u001b[0m \u001b[38;5;124;03m    \"\"\"\u001b[39;00m\n\u001b[1;32m-> 5344\u001b[0m     \u001b[38;5;28;01mreturn\u001b[39;00m \u001b[38;5;28msuper\u001b[39m()\u001b[38;5;241m.\u001b[39mdrop(\n\u001b[0;32m   5345\u001b[0m         labels\u001b[38;5;241m=\u001b[39mlabels,\n\u001b[0;32m   5346\u001b[0m         axis\u001b[38;5;241m=\u001b[39maxis,\n\u001b[0;32m   5347\u001b[0m         index\u001b[38;5;241m=\u001b[39mindex,\n\u001b[0;32m   5348\u001b[0m         columns\u001b[38;5;241m=\u001b[39mcolumns,\n\u001b[0;32m   5349\u001b[0m         level\u001b[38;5;241m=\u001b[39mlevel,\n\u001b[0;32m   5350\u001b[0m         inplace\u001b[38;5;241m=\u001b[39minplace,\n\u001b[0;32m   5351\u001b[0m         errors\u001b[38;5;241m=\u001b[39merrors,\n\u001b[0;32m   5352\u001b[0m     )\n",
      "File \u001b[1;32mC:\\ProgramData\\anaconda3\\Lib\\site-packages\\pandas\\core\\generic.py:4711\u001b[0m, in \u001b[0;36mNDFrame.drop\u001b[1;34m(self, labels, axis, index, columns, level, inplace, errors)\u001b[0m\n\u001b[0;32m   4709\u001b[0m \u001b[38;5;28;01mfor\u001b[39;00m axis, labels \u001b[38;5;129;01min\u001b[39;00m axes\u001b[38;5;241m.\u001b[39mitems():\n\u001b[0;32m   4710\u001b[0m     \u001b[38;5;28;01mif\u001b[39;00m labels \u001b[38;5;129;01mis\u001b[39;00m \u001b[38;5;129;01mnot\u001b[39;00m \u001b[38;5;28;01mNone\u001b[39;00m:\n\u001b[1;32m-> 4711\u001b[0m         obj \u001b[38;5;241m=\u001b[39m obj\u001b[38;5;241m.\u001b[39m_drop_axis(labels, axis, level\u001b[38;5;241m=\u001b[39mlevel, errors\u001b[38;5;241m=\u001b[39merrors)\n\u001b[0;32m   4713\u001b[0m \u001b[38;5;28;01mif\u001b[39;00m inplace:\n\u001b[0;32m   4714\u001b[0m     \u001b[38;5;28mself\u001b[39m\u001b[38;5;241m.\u001b[39m_update_inplace(obj)\n",
      "File \u001b[1;32mC:\\ProgramData\\anaconda3\\Lib\\site-packages\\pandas\\core\\generic.py:4753\u001b[0m, in \u001b[0;36mNDFrame._drop_axis\u001b[1;34m(self, labels, axis, level, errors, only_slice)\u001b[0m\n\u001b[0;32m   4751\u001b[0m         new_axis \u001b[38;5;241m=\u001b[39m axis\u001b[38;5;241m.\u001b[39mdrop(labels, level\u001b[38;5;241m=\u001b[39mlevel, errors\u001b[38;5;241m=\u001b[39merrors)\n\u001b[0;32m   4752\u001b[0m     \u001b[38;5;28;01melse\u001b[39;00m:\n\u001b[1;32m-> 4753\u001b[0m         new_axis \u001b[38;5;241m=\u001b[39m axis\u001b[38;5;241m.\u001b[39mdrop(labels, errors\u001b[38;5;241m=\u001b[39merrors)\n\u001b[0;32m   4754\u001b[0m     indexer \u001b[38;5;241m=\u001b[39m axis\u001b[38;5;241m.\u001b[39mget_indexer(new_axis)\n\u001b[0;32m   4756\u001b[0m \u001b[38;5;66;03m# Case for non-unique axis\u001b[39;00m\n\u001b[0;32m   4757\u001b[0m \u001b[38;5;28;01melse\u001b[39;00m:\n",
      "File \u001b[1;32mC:\\ProgramData\\anaconda3\\Lib\\site-packages\\pandas\\core\\indexes\\base.py:7000\u001b[0m, in \u001b[0;36mIndex.drop\u001b[1;34m(self, labels, errors)\u001b[0m\n\u001b[0;32m   6998\u001b[0m \u001b[38;5;28;01mif\u001b[39;00m mask\u001b[38;5;241m.\u001b[39many():\n\u001b[0;32m   6999\u001b[0m     \u001b[38;5;28;01mif\u001b[39;00m errors \u001b[38;5;241m!=\u001b[39m \u001b[38;5;124m\"\u001b[39m\u001b[38;5;124mignore\u001b[39m\u001b[38;5;124m\"\u001b[39m:\n\u001b[1;32m-> 7000\u001b[0m         \u001b[38;5;28;01mraise\u001b[39;00m \u001b[38;5;167;01mKeyError\u001b[39;00m(\u001b[38;5;124mf\u001b[39m\u001b[38;5;124m\"\u001b[39m\u001b[38;5;132;01m{\u001b[39;00mlabels[mask]\u001b[38;5;241m.\u001b[39mtolist()\u001b[38;5;132;01m}\u001b[39;00m\u001b[38;5;124m not found in axis\u001b[39m\u001b[38;5;124m\"\u001b[39m)\n\u001b[0;32m   7001\u001b[0m     indexer \u001b[38;5;241m=\u001b[39m indexer[\u001b[38;5;241m~\u001b[39mmask]\n\u001b[0;32m   7002\u001b[0m \u001b[38;5;28;01mreturn\u001b[39;00m \u001b[38;5;28mself\u001b[39m\u001b[38;5;241m.\u001b[39mdelete(indexer)\n",
      "\u001b[1;31mKeyError\u001b[0m: \"['안전관리시설설치대상여부'] not found in axis\""
     ]
    }
   ],
   "source": [
    "df = df.drop('안전관리시설설치대상여부', axis=1)"
   ]
  },
  {
   "cell_type": "code",
   "execution_count": 62,
   "id": "3e8925e4-9b52-4a26-84c7-afdba41abacf",
   "metadata": {},
   "outputs": [
    {
     "data": {
      "text/plain": [
       "구분                   0\n",
       "화장실명                 0\n",
       "소재지도로명주소          6143\n",
       "소재지지번주소          16109\n",
       "남성용-대변기수             0\n",
       "남성용-소변기수             0\n",
       "남성용-장애인용대변기수         0\n",
       "남성용-장애인용소변기수         0\n",
       "남성용-어린이용대변기수         0\n",
       "남성용-어린이용소변기수         0\n",
       "여성용-대변기수             0\n",
       "여성용-장애인용대변기수         0\n",
       "여성용-어린이용대변기수         0\n",
       "개방시간상세               0\n",
       "WGS84위도          32274\n",
       "WGS84경도          32280\n",
       "비상벨설치여부              0\n",
       "화장실입구CCTV설치유무        0\n",
       "기저귀교환대유무             0\n",
       "dtype: int64"
      ]
     },
     "execution_count": 62,
     "metadata": {},
     "output_type": "execute_result"
    }
   ],
   "source": [
    "df.isnull().sum()"
   ]
  },
  {
   "cell_type": "code",
   "execution_count": null,
   "id": "d5d2d986-4a36-419d-ac89-25099f5b3d3a",
   "metadata": {},
   "outputs": [],
   "source": [
    "_df = pd.read_csv('101_DT_1B040M5_20240424150510.csv', encoding = 'cp-949')"
   ]
  }
 ],
 "metadata": {
  "kernelspec": {
   "display_name": "Python 3 (ipykernel)",
   "language": "python",
   "name": "python3"
  },
  "language_info": {
   "codemirror_mode": {
    "name": "ipython",
    "version": 3
   },
   "file_extension": ".py",
   "mimetype": "text/x-python",
   "name": "python",
   "nbconvert_exporter": "python",
   "pygments_lexer": "ipython3",
   "version": "3.11.5"
  }
 },
 "nbformat": 4,
 "nbformat_minor": 5
}
