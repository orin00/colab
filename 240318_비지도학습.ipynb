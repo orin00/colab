{
  "nbformat": 4,
  "nbformat_minor": 0,
  "metadata": {
    "colab": {
      "provenance": [],
      "authorship_tag": "ABX9TyMdjwUexdFChp4xaoK+2U2t",
      "include_colab_link": true
    },
    "kernelspec": {
      "name": "python3",
      "display_name": "Python 3"
    },
    "language_info": {
      "name": "python"
    }
  },
  "cells": [
    {
      "cell_type": "markdown",
      "metadata": {
        "id": "view-in-github",
        "colab_type": "text"
      },
      "source": [
        "<a href=\"https://colab.research.google.com/github/orin00/colab/blob/main/240318_%EB%B9%84%EC%A7%80%EB%8F%84%ED%95%99%EC%8A%B5.ipynb\" target=\"_parent\"><img src=\"https://colab.research.google.com/assets/colab-badge.svg\" alt=\"Open In Colab\"/></a>"
      ]
    },
    {
      "cell_type": "markdown",
      "source": [
        "DBSCAN"
      ],
      "metadata": {
        "id": "xS_ScKlVgMaR"
      }
    },
    {
      "cell_type": "code",
      "execution_count": 2,
      "metadata": {
        "id": "2C-omczNLLcV"
      },
      "outputs": [],
      "source": [
        "# DBSCAN 적용하기 – 붓꽃 데이터 셋\n",
        "\n",
        "## 데이터셋 불러오기\n",
        "from sklearn.datasets import load_iris\n",
        "import matplotlib.pyplot as plt\n",
        "import numpy as np\n",
        "import pandas as pd\n",
        "\n",
        "iris = load_iris()\n",
        "feature_names = ['sepal_length','sepal_width','petal_length','petal_width']\n",
        "\n",
        "irisDF = pd.DataFrame(data=iris.data, columns=feature_names)\n",
        "irisDF['target'] = iris.target"
      ]
    },
    {
      "cell_type": "code",
      "source": [
        "from sklearn.cluster import DBSCAN\n",
        "# eps: 최대 탐색 거리를 의미하는 epsilon 값 (얘는 크면 군집이 적어진다, 보통 소수점으로 넣는다.)\n",
        "# min_samples: 최대 탐색거리내의 최소 샘플의 갯수 (얘는 크면 군집이 많아진다.)\n",
        "dbscan = DBSCAN(eps=0.3, min_samples=4)\n",
        "# fit_predict는 지가 알아서 train데이터와 test데이터를 나눠서 쓴다.\n",
        "dbscan_labels = dbscan.fit_predict(iris.data)\n",
        "\n",
        "irisDF['dbscan_cluster'] = dbscan_labels\n",
        "irisDF['target'] = iris.target\n",
        "\n",
        "iris_result = irisDF.groupby(['target'])['dbscan_cluster'].value_counts()\n",
        "print(iris_result)\n",
        "# dbscan_cluster에서 -1은 노이즈값(아무 의미 없는 데이터)"
      ],
      "metadata": {
        "colab": {
          "base_uri": "https://localhost:8080/"
        },
        "id": "VYjedHANWRxN",
        "outputId": "cd0ef22c-e2a8-4c04-b25e-8297f4fc46d6"
      },
      "execution_count": 45,
      "outputs": [
        {
          "output_type": "stream",
          "name": "stdout",
          "text": [
            "target  dbscan_cluster\n",
            "0        0                38\n",
            "        -1                12\n",
            "1       -1                28\n",
            "         2                13\n",
            "         1                 4\n",
            "         3                 4\n",
            "         5                 1\n",
            "2       -1                41\n",
            "         5                 5\n",
            "         4                 4\n",
            "Name: dbscan_cluster, dtype: int64\n"
          ]
        }
      ]
    },
    {
      "cell_type": "code",
      "source": [
        "# 시각화를 위한 함수 생성\n",
        "def visualize_cluster_plot(clusterobj, dataframe, label_name):\n",
        "\n",
        "    unique_labels = np.unique(dataframe[label_name].values)\n",
        "    markers=['o', 's', '^', 'x', '*']\n",
        "\n",
        "    for label in unique_labels:\n",
        "        label_cluster = dataframe[dataframe[label_name]==label]\n",
        "        if label == -1:\n",
        "            cluster_legend = 'Noise'\n",
        "        else :\n",
        "            cluster_legend = 'Cluster '+str(label)\n",
        "\n",
        "        plt.scatter(x=label_cluster['ftr1'], y=label_cluster['ftr2'], s=70,\n",
        "                    edgecolor='k', marker=markers[label], label=cluster_legend)\n",
        "    plt.legend()\n",
        "    plt.show()"
      ],
      "metadata": {
        "id": "RqrQi40ZWaxd"
      },
      "execution_count": 46,
      "outputs": []
    },
    {
      "cell_type": "code",
      "source": [
        "# 시각화를 위한 차원축\n",
        "from sklearn.decomposition import PCA\n",
        "\n",
        "pca = PCA(n_components=2, random_state=0)\n",
        "pca_transformed = pca.fit_transform(iris.data)\n",
        "irisDF['ftr1'] = pca_transformed[:,0]\n",
        "irisDF['ftr2'] = pca_transformed[:,1]"
      ],
      "metadata": {
        "id": "T2BMXz7LWxQs"
      },
      "execution_count": 47,
      "outputs": []
    },
    {
      "cell_type": "code",
      "source": [
        "visualize_cluster_plot(dbscan, irisDF, 'dbscan_cluster')"
      ],
      "metadata": {
        "colab": {
          "base_uri": "https://localhost:8080/",
          "height": 750
        },
        "id": "LjVCIMHtWzRU",
        "outputId": "d3aeee29-a0bf-4e66-9a34-b2bd4be64391"
      },
      "execution_count": 48,
      "outputs": [
        {
          "output_type": "stream",
          "name": "stderr",
          "text": [
            "<ipython-input-46-f091c8e09613>:14: UserWarning: You passed a edgecolor/edgecolors ('k') for an unfilled marker ('x').  Matplotlib is ignoring the edgecolor in favor of the facecolor.  This behavior may change in the future.\n",
            "  plt.scatter(x=label_cluster['ftr1'], y=label_cluster['ftr2'], s=70,\n"
          ]
        },
        {
          "output_type": "error",
          "ename": "IndexError",
          "evalue": "list index out of range",
          "traceback": [
            "\u001b[0;31m---------------------------------------------------------------------------\u001b[0m",
            "\u001b[0;31mIndexError\u001b[0m                                Traceback (most recent call last)",
            "\u001b[0;32m<ipython-input-48-096a50f098e5>\u001b[0m in \u001b[0;36m<cell line: 1>\u001b[0;34m()\u001b[0m\n\u001b[0;32m----> 1\u001b[0;31m \u001b[0mvisualize_cluster_plot\u001b[0m\u001b[0;34m(\u001b[0m\u001b[0mdbscan\u001b[0m\u001b[0;34m,\u001b[0m \u001b[0mirisDF\u001b[0m\u001b[0;34m,\u001b[0m \u001b[0;34m'dbscan_cluster'\u001b[0m\u001b[0;34m)\u001b[0m\u001b[0;34m\u001b[0m\u001b[0;34m\u001b[0m\u001b[0m\n\u001b[0m",
            "\u001b[0;32m<ipython-input-46-f091c8e09613>\u001b[0m in \u001b[0;36mvisualize_cluster_plot\u001b[0;34m(clusterobj, dataframe, label_name)\u001b[0m\n\u001b[1;32m     13\u001b[0m \u001b[0;34m\u001b[0m\u001b[0m\n\u001b[1;32m     14\u001b[0m         plt.scatter(x=label_cluster['ftr1'], y=label_cluster['ftr2'], s=70,\n\u001b[0;32m---> 15\u001b[0;31m                     edgecolor='k', marker=markers[label], label=cluster_legend)\n\u001b[0m\u001b[1;32m     16\u001b[0m     \u001b[0mplt\u001b[0m\u001b[0;34m.\u001b[0m\u001b[0mlegend\u001b[0m\u001b[0;34m(\u001b[0m\u001b[0;34m)\u001b[0m\u001b[0;34m\u001b[0m\u001b[0;34m\u001b[0m\u001b[0m\n\u001b[1;32m     17\u001b[0m     \u001b[0mplt\u001b[0m\u001b[0;34m.\u001b[0m\u001b[0mshow\u001b[0m\u001b[0;34m(\u001b[0m\u001b[0;34m)\u001b[0m\u001b[0;34m\u001b[0m\u001b[0;34m\u001b[0m\u001b[0m\n",
            "\u001b[0;31mIndexError\u001b[0m: list index out of range"
          ]
        },
        {
          "output_type": "display_data",
          "data": {
            "text/plain": [
              "<Figure size 640x480 with 1 Axes>"
            ],
            "image/png": "[encoded data removed]"
          },
          "metadata": {}
        }
      ]
    },
    {
      "cell_type": "markdown",
      "source": [
        "K-Means"
      ],
      "metadata": {
        "id": "FDSOHmNngH4p"
      }
    },
    {
      "cell_type": "code",
      "source": [
        "from sklearn.cluster import KMeans\n",
        "\n",
        "kmeans = KMeans(n_clusters=3,\n",
        "                init='k-means++',\n",
        "                max_iter=300,\n",
        "                random_state=0).fit(irisDF)"
      ],
      "metadata": {
        "colab": {
          "base_uri": "https://localhost:8080/"
        },
        "id": "vYmXQbLSeAma",
        "outputId": "617629d0-c40f-4eab-b3eb-78be2b63620e"
      },
      "execution_count": 49,
      "outputs": [
        {
          "output_type": "stream",
          "name": "stderr",
          "text": [
            "/usr/local/lib/python3.10/dist-packages/sklearn/cluster/_kmeans.py:870: FutureWarning: The default value of `n_init` will change from 10 to 'auto' in 1.4. Set the value of `n_init` explicitly to suppress the warning\n",
            "  warnings.warn(\n"
          ]
        }
      ]
    },
    {
      "cell_type": "code",
      "source": [
        "irisDF['target'] = iris.target\n",
        "irisDF['cluster']= kmeans.labels_\n",
        "iris_result = irisDF.groupby(['target','cluster'])['sepal_length'].count()\n",
        "print(iris_result)"
      ],
      "metadata": {
        "colab": {
          "base_uri": "https://localhost:8080/"
        },
        "id": "2mKizSB-eAeb",
        "outputId": "32155f84-b511-4c01-eadc-3528d5313d37"
      },
      "execution_count": 50,
      "outputs": [
        {
          "output_type": "stream",
          "name": "stdout",
          "text": [
            "target  cluster\n",
            "0       0          50\n",
            "1       0           3\n",
            "        1          25\n",
            "        2          22\n",
            "2       1          41\n",
            "        2           9\n",
            "Name: sepal_length, dtype: int64\n"
          ]
        }
      ]
    },
    {
      "cell_type": "code",
      "source": [
        "from sklearn.decomposition import PCA\n",
        "\n",
        "pca = PCA(n_components=2)\n",
        "pca_transformed = pca.fit_transform(iris.data)\n",
        "\n",
        "irisDF['pca_x'] = pca_transformed[:,0]\n",
        "irisDF['pca_y'] = pca_transformed[:,1]\n",
        "\n",
        "# PCA는 칼럼 갯수가 많은 다차원 데이터는 시각화가 불가능해서 차원을 축소해주는 코드"
      ],
      "metadata": {
        "id": "hJP23sKgeAXx"
      },
      "execution_count": 51,
      "outputs": []
    },
    {
      "cell_type": "code",
      "source": [
        "# cluster 값이 0, 1, 2 인 경우마다 별도의 Index로 추출\n",
        "marker0_ind = irisDF[irisDF['cluster']==0].index\n",
        "marker1_ind = irisDF[irisDF['cluster']==1].index\n",
        "marker2_ind = irisDF[irisDF['cluster']==2].index\n",
        "\n",
        "# cluster값 0, 1, 2에 해당하는 Index로 각 cluster 레벨의 pca_x, pca_y 값 추출. o, s, ^ 로 marker 표시\n",
        "plt.scatter(x=irisDF.loc[marker0_ind,'pca_x'], y=irisDF.loc[marker0_ind,'pca_y'], marker='o')\n",
        "plt.scatter(x=irisDF.loc[marker1_ind,'pca_x'], y=irisDF.loc[marker1_ind,'pca_y'], marker='s')\n",
        "plt.scatter(x=irisDF.loc[marker2_ind,'pca_x'], y=irisDF.loc[marker2_ind,'pca_y'], marker='^')\n",
        "\n",
        "plt.xlabel('PCA 1')\n",
        "plt.ylabel('PCA 2')\n",
        "plt.title('3 Clusters Visualization by 2 PCA Components')\n",
        "plt.show()"
      ],
      "metadata": {
        "colab": {
          "base_uri": "https://localhost:8080/",
          "height": 472
        },
        "id": "fjvKMqoSW1vM",
        "outputId": "5f5de27f-8ab9-4c19-d6fd-9ec1eea12588"
      },
      "execution_count": 52,
      "outputs": [
        {
          "output_type": "display_data",
          "data": {
            "text/plain": [
              "<Figure size 640x480 with 1 Axes>"
            ],
            "image/png": "[encoded data removed]"
          },
          "metadata": {}
        }
      ]
    },
    {
      "cell_type": "markdown",
      "source": [
        "팽귄"
      ],
      "metadata": {
        "id": "3awwzgmnh3VI"
      }
    },
    {
      "cell_type": "code",
      "source": [
        "import seaborn as sns\n",
        "\n",
        "df = sns.load_dataset('penguins')"
      ],
      "metadata": {
        "id": "0qSkwJPmgwD4"
      },
      "execution_count": 53,
      "outputs": []
    },
    {
      "cell_type": "code",
      "source": [
        "df.dropna(inplace=True)"
      ],
      "metadata": {
        "id": "BTSDn7DeiBOi"
      },
      "execution_count": 55,
      "outputs": []
    },
    {
      "cell_type": "code",
      "source": [
        "df.columns"
      ],
      "metadata": {
        "colab": {
          "base_uri": "https://localhost:8080/"
        },
        "id": "ZiK4ocV0iCPf",
        "outputId": "06fe9e87-661e-486e-d65f-e55ead028e06"
      },
      "execution_count": 56,
      "outputs": [
        {
          "output_type": "execute_result",
          "data": {
            "text/plain": [
              "Index(['species', 'island', 'bill_length_mm', 'bill_depth_mm',\n",
              "       'flipper_length_mm', 'body_mass_g', 'sex'],\n",
              "      dtype='object')"
            ]
          },
          "metadata": {},
          "execution_count": 56
        }
      ]
    },
    {
      "cell_type": "code",
      "source": [
        "from sklearn.cluster import KMeans\n",
        "\n",
        "kmeans = KMeans(n_clusters=3,\n",
        "                init='k-means++',\n",
        "                max_iter=300,\n",
        "                random_state=0).fit(df[['bill_length_mm', 'bill_depth_mm',\n",
        "       'flipper_length_mm', 'body_mass_g']])"
      ],
      "metadata": {
        "colab": {
          "base_uri": "https://localhost:8080/"
        },
        "id": "TGGdcatwiIkv",
        "outputId": "3ede2e45-b1eb-490a-d1eb-a5f85f768821"
      },
      "execution_count": 58,
      "outputs": [
        {
          "output_type": "stream",
          "name": "stderr",
          "text": [
            "/usr/local/lib/python3.10/dist-packages/sklearn/cluster/_kmeans.py:870: FutureWarning: The default value of `n_init` will change from 10 to 'auto' in 1.4. Set the value of `n_init` explicitly to suppress the warning\n",
            "  warnings.warn(\n"
          ]
        }
      ]
    },
    {
      "cell_type": "code",
      "source": [
        "df['target'] = df['species']\n",
        "df['cluster']= kmeans.labels_\n",
        "penguin_result = df.groupby(['target','cluster'])['island'].count()\n",
        "print(penguin_result)"
      ],
      "metadata": {
        "colab": {
          "base_uri": "https://localhost:8080/"
        },
        "id": "vVjMNgvYiT9f",
        "outputId": "3f9543c7-848e-4247-fb48-01b86cae0431"
      },
      "execution_count": 59,
      "outputs": [
        {
          "output_type": "stream",
          "name": "stdout",
          "text": [
            "target     cluster\n",
            "Adelie     0           34\n",
            "           1          112\n",
            "Chinstrap  0           15\n",
            "           1           53\n",
            "Gentoo     0           50\n",
            "           1            1\n",
            "           2           68\n",
            "Name: island, dtype: int64\n"
          ]
        }
      ]
    },
    {
      "cell_type": "code",
      "source": [],
      "metadata": {
        "id": "lQoTo3wqiyNr"
      },
      "execution_count": 63,
      "outputs": []
    },
    {
      "cell_type": "code",
      "source": [],
      "metadata": {
        "id": "RCsG_Bc0jZJB"
      },
      "execution_count": null,
      "outputs": []
    }
  ]
}