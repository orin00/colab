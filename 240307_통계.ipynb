{
  "nbformat": 4,
  "nbformat_minor": 0,
  "metadata": {
    "colab": {
      "provenance": [],
      "authorship_tag": "ABX9TyPx2VBPDmsyIMILC3tat7gc",
      "include_colab_link": true
    },
    "kernelspec": {
      "name": "python3",
      "display_name": "Python 3"
    },
    "language_info": {
      "name": "python"
    }
  },
  "cells": [
    {
      "cell_type": "markdown",
      "metadata": {
        "id": "view-in-github",
        "colab_type": "text"
      },
      "source": [
        "<a href=\"https://colab.research.google.com/github/orin00/colab/blob/main/240307_%ED%86%B5%EA%B3%84.ipynb\" target=\"_parent\"><img src=\"https://colab.research.google.com/assets/colab-badge.svg\" alt=\"Open In Colab\"/></a>"
      ]
    },
    {
      "cell_type": "code",
      "execution_count": 13,
      "metadata": {
        "colab": {
          "base_uri": "https://localhost:8080/"
        },
        "id": "jgaJDhdcqiNC",
        "outputId": "258164be-616a-4f52-ac57-0fdce6aeec22"
      },
      "outputs": [
        {
          "output_type": "execute_result",
          "data": {
            "text/plain": [
              "(array(['A', 'AB', 'B', 'O'], dtype='<U2'), array([3, 1, 2, 1]))"
            ]
          },
          "metadata": {},
          "execution_count": 13
        }
      ],
      "source": [
        "blood = ['A', 'A', 'A', 'B', 'B', 'AB', 'O']\n",
        "\n",
        "import numpy as np\n",
        "np.unique(blood, return_counts=True)"
      ]
    },
    {
      "cell_type": "markdown",
      "source": [
        "np.unique 안 쓰고 중복 제거"
      ],
      "metadata": {
        "id": "7ol0ENestKOX"
      }
    },
    {
      "cell_type": "code",
      "source": [
        "bloods = list(set(blood))\n",
        "bloods"
      ],
      "metadata": {
        "colab": {
          "base_uri": "https://localhost:8080/"
        },
        "id": "1Du6NA0nq3qA",
        "outputId": "5f313756-5893-4e91-8eca-95778ff477d0"
      },
      "execution_count": 15,
      "outputs": [
        {
          "output_type": "execute_result",
          "data": {
            "text/plain": [
              "['AB', 'O', 'A', 'B']"
            ]
          },
          "metadata": {},
          "execution_count": 15
        }
      ]
    },
    {
      "cell_type": "code",
      "source": [
        "bloods = list(dict.fromkeys(blood))\n",
        "bloods"
      ],
      "metadata": {
        "colab": {
          "base_uri": "https://localhost:8080/"
        },
        "id": "XBr5G29CrUAX",
        "outputId": "21610716-e369-4d93-e100-36f81cd5dac3"
      },
      "execution_count": 16,
      "outputs": [
        {
          "output_type": "execute_result",
          "data": {
            "text/plain": [
              "['A', 'B', 'AB', 'O']"
            ]
          },
          "metadata": {},
          "execution_count": 16
        }
      ]
    },
    {
      "cell_type": "code",
      "source": [
        "for i in bloods:  ## ['A', 'B', 'AB', 'O']\n",
        "  cnt = 0\n",
        "  for j in blood:  ## ['A', 'A', 'A', 'B', 'B', 'AB', 'O']\n",
        "    if i == j:\n",
        "      cnt += 1\n",
        "  print(cnt)"
      ],
      "metadata": {
        "colab": {
          "base_uri": "https://localhost:8080/"
        },
        "id": "1SvPoKlJr6o_",
        "outputId": "b3ecc2bc-1639-4687-b253-6b8d3b90f31e"
      },
      "execution_count": 22,
      "outputs": [
        {
          "output_type": "stream",
          "name": "stdout",
          "text": [
            "3\n",
            "2\n",
            "1\n",
            "1\n"
          ]
        }
      ]
    },
    {
      "cell_type": "code",
      "source": [
        "##  산술평균\n",
        "x1 = [100, 100, 200, 400, 500]\n",
        "x2 = [1, 1, 1, 2, 3, 5, 5, 7, 8, 9]\n",
        "\n",
        "def avg_data(x):\n",
        "  total = 0\n",
        "  cnt = 0\n",
        "  for i in x:\n",
        "    total += i\n",
        "    cnt += 1\n",
        "  return total / cnt\n",
        "\n",
        "x3 = x2 + x1\n",
        "\n",
        "print(avg_data(x1))\n",
        "print(avg_data(x2))\n",
        "print(avg_data(x3))"
      ],
      "metadata": {
        "colab": {
          "base_uri": "https://localhost:8080/"
        },
        "id": "cmDHg_nPwGp-",
        "outputId": "b9c1e13d-cd5b-483c-a1c4-66ef50c6a98f"
      },
      "execution_count": 24,
      "outputs": [
        {
          "output_type": "stream",
          "name": "stdout",
          "text": [
            "260.0\n",
            "4.2\n",
            "89.46666666666667\n"
          ]
        }
      ]
    },
    {
      "cell_type": "code",
      "source": [
        "x1 = [100, 100, 200, 400, 500]\n",
        "x2 = [1, 1, 1, 2, 3, 5, 5, 7, 8, 9]\n",
        "\n",
        "x3 = x1+x2\n",
        "print(sum(x1)/len(x1))\n",
        "print(sum(x2)/len(x2))\n",
        "print(sum(x3)/len(x3))"
      ],
      "metadata": {
        "colab": {
          "base_uri": "https://localhost:8080/"
        },
        "id": "CuGGoCfuxeE1",
        "outputId": "ebf8efb6-5621-47d0-e389-d3fbce114543"
      },
      "execution_count": 27,
      "outputs": [
        {
          "output_type": "stream",
          "name": "stdout",
          "text": [
            "260.0\n",
            "4.2\n",
            "89.46666666666667\n"
          ]
        }
      ]
    },
    {
      "cell_type": "code",
      "source": [
        "import numpy as np\n",
        "\n",
        "print(np.mean(x1))\n",
        "print(np.mean(x2))\n",
        "print(np.mean(x3))"
      ],
      "metadata": {
        "colab": {
          "base_uri": "https://localhost:8080/"
        },
        "id": "qUuwo44uxzsN",
        "outputId": "7f2ae83f-f772-40ea-92f3-9ed894c271e4"
      },
      "execution_count": 29,
      "outputs": [
        {
          "output_type": "stream",
          "name": "stdout",
          "text": [
            "260.0\n",
            "4.2\n",
            "89.46666666666667\n"
          ]
        }
      ]
    },
    {
      "cell_type": "code",
      "source": [
        "import statistics as st\n",
        "\n",
        "print(st.mean(x1))\n",
        "print(st.mean(x2))\n",
        "print(st.mean(x3))"
      ],
      "metadata": {
        "colab": {
          "base_uri": "https://localhost:8080/"
        },
        "id": "qGVYS6hFyeAN",
        "outputId": "c7158219-6dc3-4d7e-9d6c-4ccfb5324a1c"
      },
      "execution_count": 32,
      "outputs": [
        {
          "output_type": "stream",
          "name": "stdout",
          "text": [
            "260\n",
            "4.2\n",
            "89.46666666666667\n"
          ]
        }
      ]
    },
    {
      "cell_type": "code",
      "source": [
        "avg = lambda x: sum(x) / len(x)\n",
        "\n",
        "print(avg(x1))\n",
        "print(avg(x2))\n",
        "print(avg(x3))"
      ],
      "metadata": {
        "colab": {
          "base_uri": "https://localhost:8080/"
        },
        "id": "oIOGMRpXy5ZE",
        "outputId": "5f1a3f7d-05cb-4c2a-ba6d-d604b77323c9"
      },
      "execution_count": 34,
      "outputs": [
        {
          "output_type": "stream",
          "name": "stdout",
          "text": [
            "260.0\n",
            "4.2\n",
            "89.46666666666667\n"
          ]
        }
      ]
    },
    {
      "cell_type": "code",
      "source": [
        "x4 = x2 + [x1[-1]]\n",
        "x4"
      ],
      "metadata": {
        "colab": {
          "base_uri": "https://localhost:8080/"
        },
        "id": "KVHtVCd50iSb",
        "outputId": "bb639728-4861-4f10-8a32-eb403879cd72"
      },
      "execution_count": 36,
      "outputs": [
        {
          "output_type": "execute_result",
          "data": {
            "text/plain": [
              "[1, 1, 1, 2, 3, 5, 5, 7, 8, 9, 500]"
            ]
          },
          "metadata": {},
          "execution_count": 36
        }
      ]
    },
    {
      "cell_type": "code",
      "source": [
        "avg(x4)"
      ],
      "metadata": {
        "colab": {
          "base_uri": "https://localhost:8080/"
        },
        "id": "BdyQrmYY1KWE",
        "outputId": "05023651-63e8-4d89-80bd-f090f9119d3d"
      },
      "execution_count": 37,
      "outputs": [
        {
          "output_type": "execute_result",
          "data": {
            "text/plain": [
              "49.27272727272727"
            ]
          },
          "metadata": {},
          "execution_count": 37
        }
      ]
    },
    {
      "cell_type": "code",
      "source": [
        "import time\n",
        "\n",
        "x = [1, 9, 1, 3, 5, 1, 2, 7, 8, 5]\n",
        "\n",
        "# 오름차순 정렬\n",
        "for num in range(len(x)-1, 0, -1):  # 10, 9, 8, 7, 6, ...\n",
        "  for n in range(num): # 0~10, 0~9,\n",
        "    if x[n] > x[n+1]:\n",
        "      x[n], x[n+1] = x[n+1], x[n]\n",
        "    # print(x, x[n])\n",
        "    # time.sleep(1)\n",
        "\n",
        "x"
      ],
      "metadata": {
        "colab": {
          "base_uri": "https://localhost:8080/"
        },
        "id": "XUFbeiTI4E1m",
        "outputId": "49976cc7-daed-424f-829a-f47a23872a3a"
      },
      "execution_count": 56,
      "outputs": [
        {
          "output_type": "execute_result",
          "data": {
            "text/plain": [
              "[1, 1, 1, 2, 3, 5, 5, 7, 8, 9]"
            ]
          },
          "metadata": {},
          "execution_count": 56
        }
      ]
    },
    {
      "cell_type": "code",
      "source": [
        "def center(x):\n",
        "  if len(x) % 2 == 0:\n",
        "    idx = int(len(x)/2)\n",
        "    mda = (x[idx-1] + x[idx]) / 2\n",
        "    return mda\n",
        "  else:\n",
        "    idx = int((len(x)+1)/2)\n",
        "    mda = x[idx]\n",
        "    return mda\n",
        "\n",
        "center(x[:-1])"
      ],
      "metadata": {
        "colab": {
          "base_uri": "https://localhost:8080/"
        },
        "id": "sH0CbVpW5qcW",
        "outputId": "41d4d873-5ff2-4c88-fc84-a045628fbb85"
      },
      "execution_count": 66,
      "outputs": [
        {
          "output_type": "execute_result",
          "data": {
            "text/plain": [
              "5"
            ]
          },
          "metadata": {},
          "execution_count": 66
        }
      ]
    },
    {
      "cell_type": "code",
      "source": [
        "x = [1, 1, 1, 2, 3, 3, 3, 3, 5, 5, 7, 8, 9]\n",
        "\n",
        "def mode(data):\n",
        "    x = np.unique(data)\n",
        "    dic = dict()\n",
        "    for i in x:\n",
        "        cnt = 0\n",
        "        for j in data:\n",
        "            if i == j:\n",
        "                cnt += 1\n",
        "        dic[i] = cnt\n",
        "    return dic\n",
        "\n"
      ],
      "metadata": {
        "id": "hZimzqDx9Xtx"
      },
      "execution_count": 86,
      "outputs": []
    },
    {
      "cell_type": "code",
      "source": [
        "dic = mode(x)"
      ],
      "metadata": {
        "id": "mG0r8N5T-o3E"
      },
      "execution_count": 87,
      "outputs": []
    },
    {
      "cell_type": "code",
      "source": [
        "max = ''\n",
        "count = 0\n",
        "\n",
        "for k, v in dic.items():\n",
        "  if v > count:\n",
        "    count = v\n",
        "    max = k\n",
        "print('최빈값 :', max, '/ 최빈횟수 :', count)"
      ],
      "metadata": {
        "colab": {
          "base_uri": "https://localhost:8080/"
        },
        "id": "K11aQNt5-p-o",
        "outputId": "249098e9-0258-4700-812b-325797bec9d9"
      },
      "execution_count": 88,
      "outputs": [
        {
          "output_type": "stream",
          "name": "stdout",
          "text": [
            "최빈값 : 3 / 최빈횟수 : 4\n"
          ]
        }
      ]
    },
    {
      "cell_type": "code",
      "source": [],
      "metadata": {
        "id": "jTChlko8AqVo"
      },
      "execution_count": null,
      "outputs": []
    }
  ]
}